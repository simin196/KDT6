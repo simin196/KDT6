{
 "cells": [
  {
   "cell_type": "markdown",
   "metadata": {},
   "source": [
    "#### Tensor 변환\n",
    "- torch.as_tensor()\n",
    "    * 동일 타입과 디바이스를 가진 데이터 존재 ==> view 즉, 데이터 공유\n",
    "    * 다른 타입 똔느 다른 디바이스를 가진 데이터 존재 ==> copy 즉, 생성\n",
    "    * view tensor 또는 copy tensor 변환"
   ]
  },
  {
   "cell_type": "code",
   "execution_count": 1,
   "metadata": {},
   "outputs": [
    {
     "name": "stdout",
     "output_type": "stream",
     "text": [
      "torch v. 2.4.1\n"
     ]
    }
   ],
   "source": [
    "# 모듈 로딩\n",
    "import torch\n",
    "\n",
    "# 이제 할때는 모듈의 버전을 밑에 체크해놓기\n",
    "print(f'torch v. {torch.__version__}')"
   ]
  },
  {
   "cell_type": "markdown",
   "metadata": {},
   "source": [
    "- Python 객체 ==> Tensor 변환"
   ]
  },
  {
   "cell_type": "code",
   "execution_count": 2,
   "metadata": {},
   "outputs": [],
   "source": [
    "### list ==> Tensor\n",
    "data = list(range(1,10))"
   ]
  },
  {
   "cell_type": "code",
   "execution_count": 3,
   "metadata": {},
   "outputs": [
    {
     "data": {
      "text/plain": [
       "(tensor([1, 2, 3, 4, 5, 6, 7, 8, 9], dtype=torch.int8),\n",
       " torch.Size([9]),\n",
       " 1,\n",
       " torch.int8)"
      ]
     },
     "execution_count": 3,
     "metadata": {},
     "output_type": "execute_result"
    }
   ],
   "source": [
    "## torch.as_tensor()\n",
    "dataTS = torch.as_tensor(data, dtype=torch.int8)\n",
    "dataTS, dataTS.shape, dataTS.ndim, dataTS.dtype # 데이터 형태를 지정하면 그 지정한 형태로 지정된다. 지정 안하면 그냥 그 쪽에서 가장 큰 값을 저장한다. 데이터 손실을 막기위해 "
   ]
  },
  {
   "cell_type": "code",
   "execution_count": 4,
   "metadata": {},
   "outputs": [],
   "source": [
    "data[0] = 100"
   ]
  },
  {
   "cell_type": "code",
   "execution_count": 5,
   "metadata": {},
   "outputs": [
    {
     "data": {
      "text/plain": [
       "([100, 2, 3, 4, 5, 6, 7, 8, 9],\n",
       " tensor([1, 2, 3, 4, 5, 6, 7, 8, 9], dtype=torch.int8))"
      ]
     },
     "execution_count": 5,
     "metadata": {},
     "output_type": "execute_result"
    }
   ],
   "source": [
    "data, dataTS"
   ]
  },
  {
   "cell_type": "markdown",
   "metadata": {},
   "source": [
    "- Numpy ndarray 객체 ==> Tensor 변환"
   ]
  },
  {
   "cell_type": "code",
   "execution_count": 6,
   "metadata": {},
   "outputs": [],
   "source": [
    "import numpy as np"
   ]
  },
  {
   "cell_type": "code",
   "execution_count": 7,
   "metadata": {},
   "outputs": [
    {
     "data": {
      "text/plain": [
       "(array([1, 2, 3]), 1, dtype('int32'))"
      ]
     },
     "execution_count": 7,
     "metadata": {},
     "output_type": "execute_result"
    }
   ],
   "source": [
    "arr1 = np.array([1,2,3])\n",
    "arr1, arr1.ndim, arr1.dtype "
   ]
  },
  {
   "cell_type": "code",
   "execution_count": 8,
   "metadata": {},
   "outputs": [
    {
     "data": {
      "text/plain": [
       "tensor([1, 2, 3], dtype=torch.int32)"
      ]
     },
     "execution_count": 8,
     "metadata": {},
     "output_type": "execute_result"
    }
   ],
   "source": [
    "arrTS = torch.as_tensor(arr1)\n",
    "arrTS"
   ]
  },
  {
   "cell_type": "code",
   "execution_count": 9,
   "metadata": {},
   "outputs": [],
   "source": [
    "arr1[0] = 77"
   ]
  },
  {
   "cell_type": "code",
   "execution_count": 10,
   "metadata": {},
   "outputs": [
    {
     "data": {
      "text/plain": [
       "(array([77,  2,  3]), tensor([77,  2,  3], dtype=torch.int32))"
      ]
     },
     "execution_count": 10,
     "metadata": {},
     "output_type": "execute_result"
    }
   ],
   "source": [
    "arr1, arrTS  # >> 이건 view 방식 >> sharing되어서 값이 변경된다. \n",
    "## 텐서로 새로만들면 sharing되지않고 copy되어 변경된다."
   ]
  },
  {
   "cell_type": "markdown",
   "metadata": {},
   "source": [
    "- Numpy ndarray => Tensor 변환 : from_numpy()"
   ]
  },
  {
   "cell_type": "code",
   "execution_count": 19,
   "metadata": {},
   "outputs": [
    {
     "name": "stdout",
     "output_type": "stream",
     "text": [
      "[[5. 7. 9.]\n",
      " [1. 2. 3.]]\n",
      "데이터 저장 메모리 : <memory at 0x000001F2E884CC70> \n",
      "원소/요소 개수     : 6\n",
      "원소/요소 1개 크기 : 4\n",
      "타입              : float32\n",
      "방향              : (12, 4)\n"
     ]
    }
   ],
   "source": [
    "arr1 = np.array([[5,7,9],[1,2,3]], dtype=np.float32)  #>>> np하냐 안하냐 차이 있나?\n",
    "print(arr1)\n",
    "print(f'데이터 저장 메모리 : {arr1.data} ')\n",
    "print(f'원소/요소 개수     : {arr1.size}')\n",
    "print(f'원소/요소 1개 크기 : {arr1.itemsize}')\n",
    "print(f'타입              : {arr1.dtype}')\n",
    "print(f'방향              : {arr1.strides}')"
   ]
  },
  {
   "cell_type": "code",
   "execution_count": 22,
   "metadata": {},
   "outputs": [
    {
     "name": "stdout",
     "output_type": "stream",
     "text": [
      "[[5. 7. 9.]\n",
      " [1. 2. 3.]]\n",
      "데이터 저장 메모리 : <memory at 0x000001F2E884CC70>\n",
      "원소/요소 개수     : 6\n",
      "원소/요소 1개 크기 : 2\n",
      "타입              : float16\n",
      "방향              : (6, 2)\n"
     ]
    }
   ],
   "source": [
    "arr1 = np.array([[5,7,9],[1,2,3]], dtype=np.float16)  # 저장 바이트에 따라서 달라지는 것이 있다 \n",
    "print(arr1)\n",
    "print(f'데이터 저장 메모리 : {arr1.data}')\n",
    "print(f'원소/요소 개수     : {arr1.size}')\n",
    "print(f'원소/요소 1개 크기 : {arr1.itemsize}')\n",
    "print(f'타입              : {arr1.dtype}')\n",
    "print(f'방향              : {arr1.strides}')"
   ]
  },
  {
   "cell_type": "code",
   "execution_count": 17,
   "metadata": {},
   "outputs": [
    {
     "data": {
      "text/plain": [
       "tensor([[5., 7., 9.],\n",
       "        [1., 2., 3.]], dtype=torch.float16)"
      ]
     },
     "execution_count": 17,
     "metadata": {},
     "output_type": "execute_result"
    }
   ],
   "source": [
    "arrTS = torch.from_numpy(arr1)\n",
    "arrTS"
   ]
  },
  {
   "cell_type": "code",
   "execution_count": null,
   "metadata": {},
   "outputs": [],
   "source": []
  }
 ],
 "metadata": {
  "kernelspec": {
   "display_name": "TORCH_38",
   "language": "python",
   "name": "python3"
  },
  "language_info": {
   "codemirror_mode": {
    "name": "ipython",
    "version": 3
   },
   "file_extension": ".py",
   "mimetype": "text/x-python",
   "name": "python",
   "nbconvert_exporter": "python",
   "pygments_lexer": "ipython3",
   "version": "3.8.19"
  }
 },
 "nbformat": 4,
 "nbformat_minor": 2
}
