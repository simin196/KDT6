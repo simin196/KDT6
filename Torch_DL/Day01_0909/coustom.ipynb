{
 "cells": [
  {
   "cell_type": "markdown",
   "metadata": {},
   "source": [
    "### 사용자 정의 클래스와 상속\n",
    " - 사용자 정의 클래스 : 개발자 필요에 의해서 생성한 클래스  "
   ]
  },
  {
   "cell_type": "code",
   "execution_count": 1,
   "metadata": {},
   "outputs": [],
   "source": [
    "# ----------------------------------------------\n",
    "# 저장데이터 : 사람 정보 저장 클래스\n",
    "# 클래스 이름 : Person\n",
    "# 클래스 속성 : name, age, gender\n",
    "# 클래스 기능 : eat() , sleep()\n",
    "# -------------------------------------------------\n",
    "class Person:\n",
    "    ## def __new__(cls) -> Self:  >>> 메모리 할당 Self에 메모리 주소\n",
    "    ##     pass\n",
    "\n",
    "\n",
    "    # 클래스 변수/속성 : 객체/인스턴스 생성 없이 사용 가능 함\n",
    "    born = '대한민국' # 만약 모든 사람이 대한민국 사람이라면?? 이렇게 클래스 변수로 올라온다.\n",
    "    \n",
    "    \n",
    "    # 인스턴스 생성해주는 메서드\n",
    "    # 인스턴스 생성시 자동 호출 즉, 콜백메서드 \n",
    "    def __init__(self, name, age, gender): #>>> 인스턴스 속성  # 매직코드 또는 메서드, self는 신경안써도됨\n",
    "        print('__init__()')\n",
    "        self.name = name\n",
    "        self.age = age\n",
    "        self.gender = gender\n",
    "        # self.born = born > if 만약에 대한민국 사람들만 모여있다. 그럼 메모리 중복이 되기에 위에 클래스의 속성을 등록해준다.\n",
    "\n",
    "    # 인스턴스 메서드\n",
    "    def eat(self, food): ## self가 징검다리 같은거\n",
    "        print(f'{self.name}가 {food} 먹는다.')\n",
    "\n",
    "    def sleep(self, where): # 사람의 속성(인스턴스의 속성)을 제외한 나머지 매개변수를 받는다\n",
    "        print(f'{where}에서 잔다')\n",
    "\n",
    "\n",
    "    # 정적 메서드 >>> self없는 메서드\n",
    "    @staticmethod #>>> 데코레이트 함수?? 메서드??\n",
    "    def test(msg):\n",
    "        print(msg)"
   ]
  },
  {
   "cell_type": "code",
   "execution_count": 2,
   "metadata": {},
   "outputs": [
    {
     "name": "stdout",
     "output_type": "stream",
     "text": [
      "__init__()\n"
     ]
    }
   ],
   "source": [
    "# 인스턴스/객체 생성\n",
    "kim = Person('마징가', 10, '남자')"
   ]
  },
  {
   "cell_type": "code",
   "execution_count": 3,
   "metadata": {},
   "outputs": [
    {
     "data": {
      "text/plain": [
       "('대한민국',)"
      ]
     },
     "execution_count": 3,
     "metadata": {},
     "output_type": "execute_result"
    }
   ],
   "source": [
    "# 클래스 속성 : 객체/인스턴스 생성없이 바로 사용 가능\n",
    "Person.born, # Person.name >>> 이건 인스턴스가 있어야지 사용가능"
   ]
  },
  {
   "cell_type": "code",
   "execution_count": 4,
   "metadata": {},
   "outputs": [],
   "source": [
    "# 인스턴스 속성 : 객체/인스턴스 생성 없이 사용 불가능!! ERROR 발생\n",
    "# Person.name"
   ]
  },
  {
   "cell_type": "code",
   "execution_count": 18,
   "metadata": {},
   "outputs": [],
   "source": [
    "class Mother():\n",
    "    pass"
   ]
  },
  {
   "cell_type": "markdown",
   "metadata": {},
   "source": [
    "- 상속(Inheritance) \n",
    "    * 기존 클래스의 속성과 메서드를 재사용\n",
    "    * 추가 속성 및 메서드로 확장"
   ]
  },
  {
   "cell_type": "code",
   "execution_count": 24,
   "metadata": {},
   "outputs": [],
   "source": [
    "# ----------------------------------------------\n",
    "# 저장데이터 : 소방관 정보 저장 클래스\n",
    "# 클래스 이름 : Fireman <= 자신 클래스, sub class\n",
    "# 클래스 속성 : name, age, gender, group, position\n",
    "# 클래스 기능 : eat(), sleep(), extinguish()\n",
    "# 부모 클래스 : Person <= Super class 라고도 한다.\n",
    "# -------------------------------------------------\n",
    "## >> 지금 Person과 겹치는 부분이있다\n",
    "\n",
    "class Fireman(Person, Mother): # 다중 상속을 허용한다. >>> 중복된부분이 있다면 적혀져있는 순서대로 따라간다.\n",
    "    \n",
    "    # 인스턴스 생성 메서드 \n",
    "    def __init__(self, name, age, gender, group, position):\n",
    "        # 부모 / Super 클래스 생성\n",
    "        super().__init__(name, age, gender)\n",
    "        # 자식 / Sub 클래스 생성\n",
    "        self.group = group\n",
    "        self.position = position\n",
    "\n",
    "    # 인스턴스 메서드 추가\n",
    "    def extinguish(self, where):\n",
    "        print(f'{self.name}은 {where}에서 불을 끄고 있다.')\n",
    "\n",
    "\n",
    "    # 오버라이딩(Overriding)\n",
    "    # 부모클래스로 부터 상속받은 메서드 중에서 변경하고 싶은 메서드\n",
    "    # 구현부만 변경, 속성은 변경 불가 \n",
    "    def eat(self, food): ## self가 징검다리 같은거\n",
    "        print(f'{self.name}가 {food}을 데워서 먹는다.')"
   ]
  },
  {
   "cell_type": "code",
   "execution_count": 25,
   "metadata": {},
   "outputs": [
    {
     "name": "stdout",
     "output_type": "stream",
     "text": [
      "__init__()\n"
     ]
    }
   ],
   "source": [
    "park = Fireman('홍길동', 30, '남', '남구', '소방관')"
   ]
  },
  {
   "cell_type": "code",
   "execution_count": 26,
   "metadata": {},
   "outputs": [
    {
     "name": "stdout",
     "output_type": "stream",
     "text": [
      "방에서 잔다\n"
     ]
    }
   ],
   "source": [
    "park.sleep('방')"
   ]
  },
  {
   "cell_type": "code",
   "execution_count": 27,
   "metadata": {},
   "outputs": [
    {
     "name": "stdout",
     "output_type": "stream",
     "text": [
      "홍길동가 빵을 데워서 먹는다.\n"
     ]
    }
   ],
   "source": [
    "park.eat('빵')"
   ]
  },
  {
   "cell_type": "code",
   "execution_count": 28,
   "metadata": {},
   "outputs": [
    {
     "name": "stdout",
     "output_type": "stream",
     "text": [
      "홍길동은 대한민국에서 불을 끄고 있다.\n"
     ]
    }
   ],
   "source": [
    "park.extinguish('대한민국')"
   ]
  },
  {
   "cell_type": "code",
   "execution_count": null,
   "metadata": {},
   "outputs": [],
   "source": []
  }
 ],
 "metadata": {
  "kernelspec": {
   "display_name": "TORCH_38",
   "language": "python",
   "name": "python3"
  },
  "language_info": {
   "codemirror_mode": {
    "name": "ipython",
    "version": 3
   },
   "file_extension": ".py",
   "mimetype": "text/x-python",
   "name": "python",
   "nbconvert_exporter": "python",
   "pygments_lexer": "ipython3",
   "version": "3.8.19"
  }
 },
 "nbformat": 4,
 "nbformat_minor": 2
}
