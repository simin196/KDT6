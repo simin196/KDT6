{
 "cells": [
  {
   "cell_type": "markdown",
   "metadata": {},
   "source": [
    "#### OpenCV 기본 사용법\n"
   ]
  },
  {
   "cell_type": "code",
   "execution_count": 1,
   "metadata": {},
   "outputs": [],
   "source": [
    "# 모듈로딩\n",
    "from urllib.request import urlretrieve\n",
    "import os\n",
    "import struct\n",
    "import cv2\n",
    "\n",
    "### 파이토치의 내장 이미지 데이터셋\n",
    "from torchvision import datasets"
   ]
  },
  {
   "cell_type": "code",
   "execution_count": 2,
   "metadata": {},
   "outputs": [],
   "source": [
    "# 이미지 관련 공통 변수\n",
    "IMG_DIR = '../image/'"
   ]
  },
  {
   "cell_type": "markdown",
   "metadata": {},
   "source": [
    "[1] 이미지 읽기 ==> ndarray"
   ]
  },
  {
   "cell_type": "code",
   "execution_count": 3,
   "metadata": {},
   "outputs": [],
   "source": [
    "# 이미지 파일 경로 + 파일명\n",
    "IMG_FILE = IMG_DIR + 'logo.png'\n",
    "\n",
    "# 이미지 데이터\n",
    "im_data= cv2.imread(IMG_FILE)\n",
    "gray_data= cv2.imread(IMG_FILE, flags = cv2.IMREAD_GRAYSCALE) \n"
   ]
  },
  {
   "cell_type": "code",
   "execution_count": 4,
   "metadata": {},
   "outputs": [
    {
     "name": "stdout",
     "output_type": "stream",
     "text": [
      "[im_data]\n",
      "shape (184, 544, 3)\n",
      "ndim 3D\n",
      "[gray_data]\n",
      "shape (184, 544)\n",
      "ndim 2D\n"
     ]
    }
   ],
   "source": [
    "# 이미지 데이터 속성\n",
    "print('[im_data]')\n",
    "print(f'shape {im_data.shape}') # 3 인이유는 색때문\n",
    "print(f'ndim {im_data.ndim}D')\n",
    "\n",
    "print('[gray_data]')\n",
    "print(f'shape {gray_data.shape}')\n",
    "print(f'ndim {gray_data.ndim}D')"
   ]
  },
  {
   "cell_type": "markdown",
   "metadata": {},
   "source": [
    "[2] 이미지 화면 출력 => imshow()"
   ]
  },
  {
   "cell_type": "code",
   "execution_count": 5,
   "metadata": {},
   "outputs": [],
   "source": [
    "import time\n",
    "\n",
    "# # 이미지 창 출력(띄우기)\n",
    "# cv2.imshow(\"[IM_DATA]\", im_data)\n",
    "# cv2.imshow(\"[GRAY_DATA]\", gray_data)\n",
    "\n",
    "# # 이미지 창 위에 이벤트 대기\n",
    "# cv2.waitKey()\n",
    "\n",
    "# # 이미지 창 닫기\n",
    "# # cv2.destroyAllWindows()\n",
    "# cv2.destroyWindow(\"[IM_DATA]\")\n",
    "\n",
    "# # 1초 일시정지\n",
    "# time.sleep(1)\n",
    "# cv2.destroyWindow(\"[GRAY_DATA]\")"
   ]
  },
  {
   "cell_type": "code",
   "execution_count": 8,
   "metadata": {},
   "outputs": [
    {
     "name": "stdout",
     "output_type": "stream",
     "text": [
      "key_code => 97 , a\n",
      "key_code => 113 , q\n",
      "key_code => 115 , s\n"
     ]
    }
   ],
   "source": [
    "# 'x', 'X' 입력 시 모든 이미지 창 닫기\n",
    "# 이미지 창 출력(띄우기)\n",
    "cv2.imshow(\"[IM_DATA]\", im_data)\n",
    "cv2.imshow(\"[GRAY_DATA]\", gray_data)\n",
    "\n",
    "while True:\n",
    "        \n",
    "    # 키보드 이벤트 대기함수\n",
    "    key_code = cv2.waitKey()\n",
    "    print(f'key_code => {key_code} , {chr(key_code)}')\n",
    "\n",
    "    if chr(key_code) in ['x', 'X']:\n",
    "        # 모든창 닫기\n",
    "        cv2.destroyAllWindows()\n",
    "        break\n",
    "\n",
    "    elif chr(key_code) in ['s', 'S']:\n",
    "        # 이미지 저장\n",
    "        cv2.imwrite('copy.jpg', gray_data)\n",
    "        cv2.destroyAllWindows()\n",
    "        break"
   ]
  },
  {
   "cell_type": "code",
   "execution_count": null,
   "metadata": {},
   "outputs": [],
   "source": []
  },
  {
   "cell_type": "code",
   "execution_count": null,
   "metadata": {},
   "outputs": [],
   "source": []
  }
 ],
 "metadata": {
  "kernelspec": {
   "display_name": "Torch_CV_38",
   "language": "python",
   "name": "python3"
  },
  "language_info": {
   "codemirror_mode": {
    "name": "ipython",
    "version": 3
   },
   "file_extension": ".py",
   "mimetype": "text/x-python",
   "name": "python",
   "nbconvert_exporter": "python",
   "pygments_lexer": "ipython3",
   "version": "3.8.19"
  }
 },
 "nbformat": 4,
 "nbformat_minor": 2
}
