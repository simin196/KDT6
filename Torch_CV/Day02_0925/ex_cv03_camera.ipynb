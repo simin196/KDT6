{
 "cells": [
  {
   "cell_type": "markdown",
   "metadata": {},
   "source": [
    "#### Video 처리\n",
    "- VideoCapture(동영상 또는 카메라 번호)함수"
   ]
  },
  {
   "cell_type": "code",
   "execution_count": 14,
   "metadata": {},
   "outputs": [],
   "source": [
    "# 모듈로딩\n",
    "import numpy as np\n",
    "import cv2"
   ]
  },
  {
   "cell_type": "code",
   "execution_count": 15,
   "metadata": {},
   "outputs": [],
   "source": [
    "# 데이터 및 디바이스 설정\n",
    "DIR_PATH = '../image/'\n",
    "CAM_DEVICE = 0\n",
    "CAM_FILE = 'MP4'"
   ]
  },
  {
   "cell_type": "code",
   "execution_count": 16,
   "metadata": {},
   "outputs": [
    {
     "name": "stdout",
     "output_type": "stream",
     "text": [
      "Wed Sep 25 10:23:35 2024 1727227415.273184 23_09/25/24_35\n",
      "capture_Wed Sep 25 10_23_35 2024.jpg\n",
      "time.struct_time(tm_year=2024, tm_mon=9, tm_mday=25, tm_hour=1, tm_min=23, tm_sec=35, tm_wday=2, tm_yday=269, tm_isdst=0)\n",
      "time.struct_time(tm_year=2024, tm_mon=9, tm_mday=25, tm_hour=10, tm_min=23, tm_sec=35, tm_wday=2, tm_yday=269, tm_isdst=0)\n"
     ]
    }
   ],
   "source": [
    "import time\n",
    "\n",
    "SAVE_TIME= f'capture_{time.ctime()}.jpg'.replace(':',\"_\") # .jpg 확장자 이름 확인, 틀리면 저장 안됨됨\n",
    "\n",
    "print(time.ctime() ,time.time(), time.strftime('%M_%D_%S'))\n",
    "print(SAVE_TIME)\n",
    "print(time.gmtime()) # UTC 기준 \n",
    "print(time.localtime()) # 내가 현재 있는 타임존으로 출력"
   ]
  },
  {
   "cell_type": "code",
   "execution_count": 17,
   "metadata": {},
   "outputs": [
    {
     "name": "stdout",
     "output_type": "stream",
     "text": [
      "2024 9 25 10 23 35 2 269\n"
     ]
    }
   ],
   "source": [
    "# 현재날짜시간 정보 저장 인스턴스\n",
    "cur_time = time.localtime()\n",
    "print(cur_time.tm_year, cur_time.tm_mon, cur_time.tm_mday, cur_time.tm_hour, cur_time.tm_min, cur_time.tm_sec, cur_time.tm_wday, cur_time.tm_yday)"
   ]
  },
  {
   "cell_type": "code",
   "execution_count": 18,
   "metadata": {},
   "outputs": [
    {
     "data": {
      "text/plain": [
       "'24_09_25_10_23_35'"
      ]
     },
     "execution_count": 18,
     "metadata": {},
     "output_type": "execute_result"
    }
   ],
   "source": [
    "time.strftime('%y_%m_%d_%H_%M_%S', cur_time) # >> 사용하는 목적에 따라서 저장, 만들 것 \n",
    "                                            # >> if 파일을 새로 만들겠다 하면 윈도우 운영체제에서 사용 못하는 문자 포함시 저장 안됨"
   ]
  },
  {
   "cell_type": "markdown",
   "metadata": {},
   "source": [
    "[카메라 관련 영상 처리]"
   ]
  },
  {
   "cell_type": "code",
   "execution_count": 19,
   "metadata": {},
   "outputs": [
    {
     "name": "stdout",
     "output_type": "stream",
     "text": [
      "영상 재생 정지\n"
     ]
    }
   ],
   "source": [
    "# 카메라와 연결 여부 체크\n",
    "camera = cv2.VideoCapture(CAM_DEVICE)\n",
    "\n",
    "if camera.isOpened():\n",
    "    while True:\n",
    "        ret, img = camera.read() # ret[데이터가 있냐없냐], img\n",
    "        if ret:\n",
    "            cv2.imshow('VIDEO', img)\n",
    "            if cv2.waitKey(10) != -1:\n",
    "                print('영상 재생 정지')\n",
    "                SAVE_FILE = DIR_PATH + f'capture {time.strftime('%y_%m_%d_%H_%M_%S', cur_time)}.jpg'  # .jpg 확장자 이름 확인\n",
    "                cv2.imwrite(SAVE_FILE, img)\n",
    "                cv2.destroyAllWindows()\n",
    "                break\n",
    "        else:\n",
    "            print('영상 읽기 실패')\n",
    "            break\n",
    "else:\n",
    "    print('카메라 연결 여부 체크 바랍니다.')"
   ]
  },
  {
   "cell_type": "code",
   "execution_count": 20,
   "metadata": {},
   "outputs": [],
   "source": [
    "# 고양이 폰케이스 이미지\n",
    "cat_img = r'C:\\Users\\KDP-23\\Desktop\\KDT6\\Torch_CV\\image\\cat.png'"
   ]
  }
 ],
 "metadata": {
  "kernelspec": {
   "display_name": "Torch_CV_38",
   "language": "python",
   "name": "python3"
  },
  "language_info": {
   "codemirror_mode": {
    "name": "ipython",
    "version": 3
   },
   "file_extension": ".py",
   "mimetype": "text/x-python",
   "name": "python",
   "nbconvert_exporter": "python",
   "pygments_lexer": "ipython3",
   "version": "3.8.19"
  }
 },
 "nbformat": 4,
 "nbformat_minor": 2
}
