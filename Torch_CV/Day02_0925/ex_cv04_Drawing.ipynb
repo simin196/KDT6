{
 "cells": [
  {
   "cell_type": "markdown",
   "metadata": {},
   "source": [
    "#### 이미지 Drawing"
   ]
  },
  {
   "cell_type": "markdown",
   "metadata": {},
   "source": [
    "- 객체 ndarray 준비 필요"
   ]
  },
  {
   "cell_type": "code",
   "execution_count": 1,
   "metadata": {},
   "outputs": [],
   "source": [
    "# 모듈로딩\n",
    "import numpy as np\n",
    "import cv2"
   ]
  },
  {
   "cell_type": "code",
   "execution_count": 2,
   "metadata": {},
   "outputs": [],
   "source": [
    "# 데이터 관련 변수 설정\n",
    "DIR_PATH = '../image/'"
   ]
  },
  {
   "cell_type": "code",
   "execution_count": 3,
   "metadata": {},
   "outputs": [
    {
     "data": {
      "text/plain": [
       "True"
      ]
     },
     "execution_count": 3,
     "metadata": {},
     "output_type": "execute_result"
    }
   ],
   "source": [
    "# 이미지 객체\n",
    "bg_data = np.full((500,500,3),255) # >> 도화지 데이터 만들기\n",
    "\n",
    "# 이미지 파일 생성\n",
    "BG_FILE = DIR_PATH+'white_bg.jpg' # 흰색으로 설정\n",
    "cv2.imwrite(BG_FILE, bg_data)"
   ]
  },
  {
   "cell_type": "code",
   "execution_count": 4,
   "metadata": {},
   "outputs": [
    {
     "data": {
      "text/plain": [
       "((500, 500, 3), 3)"
      ]
     },
     "execution_count": 4,
     "metadata": {},
     "output_type": "execute_result"
    }
   ],
   "source": [
    "# 도화지 이미지 가져오기\n",
    "white_bg = cv2.imread(BG_FILE)\n",
    "white_bg.shape, white_bg.ndim"
   ]
  },
  {
   "cell_type": "code",
   "execution_count": 5,
   "metadata": {},
   "outputs": [],
   "source": [
    "# 선그리기\n",
    "cv2.line(white_bg, (50,50), (250,250),(255,0,0), 5) #(행 열 색 굵기)\n",
    "cv2.line(white_bg, (100,50), (0,50),(0,255,0), 10)\n",
    "cv2.line(white_bg, (230,50), (200,100),(255,0,255), 20)\n",
    "cv2.imshow('DRAWING', white_bg)\n",
    "cv2.waitKey()\n",
    "cv2.destroyAllWindows()"
   ]
  },
  {
   "cell_type": "code",
   "execution_count": 7,
   "metadata": {},
   "outputs": [],
   "source": [
    "# 사각형 그리기\n",
    "cv2.rectangle(white_bg, (50,50),(300,300),0,-1) #(0,0,0)이면 그냥 0 넣어줘도 ok, 굵기 자리에 -1를 넣으면 채우기 가능\n",
    "cv2.imshow('DRAWING', white_bg)\n",
    "cv2.waitKey()\n",
    "cv2.destroyAllWindows()"
   ]
  },
  {
   "cell_type": "code",
   "execution_count": null,
   "metadata": {},
   "outputs": [],
   "source": [
    "# 다각형 그리기"
   ]
  }
 ],
 "metadata": {
  "kernelspec": {
   "display_name": "Torch_CV_38",
   "language": "python",
   "name": "python3"
  },
  "language_info": {
   "codemirror_mode": {
    "name": "ipython",
    "version": 3
   },
   "file_extension": ".py",
   "mimetype": "text/x-python",
   "name": "python",
   "nbconvert_exporter": "python",
   "pygments_lexer": "ipython3",
   "version": "3.8.19"
  }
 },
 "nbformat": 4,
 "nbformat_minor": 2
}
