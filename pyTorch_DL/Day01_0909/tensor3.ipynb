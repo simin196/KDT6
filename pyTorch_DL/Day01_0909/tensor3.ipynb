{
 "cells": [
  {
   "cell_type": "markdown",
   "metadata": {},
   "source": [
    "#### Tensor 이해"
   ]
  },
  {
   "cell_type": "code",
   "execution_count": 1,
   "metadata": {},
   "outputs": [
    {
     "name": "stdout",
     "output_type": "stream",
     "text": [
      "torch v. 2.4.1\n"
     ]
    }
   ],
   "source": [
    "# 모듈 로딩\n",
    "import torch\n",
    "\n",
    "# 이제 할때는 모듈의 버전을 밑에 체크해놓기\n",
    "print(f'torch v. {torch.__version__}')"
   ]
  },
  {
   "cell_type": "markdown",
   "metadata": {},
   "source": [
    "- 타입 지정 Tensor 클래스 활용\n",
    "    * 데이터 타이비을 설정 후 생성\n",
    "    * 언제 쓰냐? \n",
    "    >> 데이터 사이즈 설정한 텐서 생성 시 사용     \n",
    "        데이터의 자료형 변환한 텐서 생성 시 사용"
   ]
  },
  {
   "cell_type": "code",
   "execution_count": 2,
   "metadata": {},
   "outputs": [],
   "source": [
    "### 정수형 텐서 생성\n",
    "data = [1.4, 2.8, 3.1]"
   ]
  },
  {
   "cell_type": "code",
   "execution_count": 7,
   "metadata": {},
   "outputs": [
    {
     "name": "stdout",
     "output_type": "stream",
     "text": [
      "tensor([1, 2, 3], dtype=torch.int8)\n",
      "tensor([1, 2, 3], dtype=torch.int8)\n"
     ]
    },
    {
     "name": "stderr",
     "output_type": "stream",
     "text": [
      "C:\\Users\\KDP-23\\AppData\\Local\\Temp\\ipykernel_19928\\698855462.py:2: DeprecationWarning: an integer is required (got type float).  Implicit conversion to integers using __int__ is deprecated, and may be removed in a future version of Python.\n",
      "  dataTS1 = torch.CharTensor(data)\n",
      "C:\\Users\\KDP-23\\AppData\\Local\\Temp\\ipykernel_19928\\698855462.py:3: DeprecationWarning: an integer is required (got type float).  Implicit conversion to integers using __int__ is deprecated, and may be removed in a future version of Python.\n",
      "  dataTS11 =  torch.tensor(data, dtype=torch.int8)\n"
     ]
    }
   ],
   "source": [
    "### 1바이트 정수형 텐서 생성\n",
    "dataTS1 = torch.CharTensor(data)\n",
    "dataTS11 =  torch.tensor(data, dtype=torch.int8)\n",
    "print(dataTS1, dataTS11, sep='\\n')"
   ]
  },
  {
   "cell_type": "code",
   "execution_count": 6,
   "metadata": {},
   "outputs": [
    {
     "name": "stdout",
     "output_type": "stream",
     "text": [
      "tensor([1, 2, 3], dtype=torch.int16)\n",
      "tensor([1, 2, 3], dtype=torch.int16)\n"
     ]
    },
    {
     "name": "stderr",
     "output_type": "stream",
     "text": [
      "C:\\Users\\KDP-23\\AppData\\Local\\Temp\\ipykernel_19928\\3984467967.py:1: DeprecationWarning: an integer is required (got type float).  Implicit conversion to integers using __int__ is deprecated, and may be removed in a future version of Python.\n",
      "  dataTS1 = torch.ShortTensor(data)\n",
      "C:\\Users\\KDP-23\\AppData\\Local\\Temp\\ipykernel_19928\\3984467967.py:2: DeprecationWarning: an integer is required (got type float).  Implicit conversion to integers using __int__ is deprecated, and may be removed in a future version of Python.\n",
      "  dataTS11 =  torch.tensor(data, dtype=torch.int16)\n"
     ]
    }
   ],
   "source": [
    "dataTS1 = torch.ShortTensor(data)\n",
    "dataTS11 =  torch.tensor(data, dtype=torch.int16)\n",
    "print(dataTS1, dataTS11, sep='\\n')"
   ]
  },
  {
   "cell_type": "code",
   "execution_count": 9,
   "metadata": {},
   "outputs": [
    {
     "name": "stdout",
     "output_type": "stream",
     "text": [
      "tensor([True, True, True])\n",
      "tensor([True, True, True])\n"
     ]
    }
   ],
   "source": [
    "### 논리형 Tensor 생성\n",
    "dataTS1 = torch.BoolTensor(data) # 클래스 사용\n",
    "dataTS11 =  torch.tensor(data, dtype=torch.bool) # 메서드를사용해서 형태 선언\n",
    "print(dataTS1, dataTS11, sep='\\n') # 0 제외하고 True"
   ]
  },
  {
   "cell_type": "code",
   "execution_count": 11,
   "metadata": {},
   "outputs": [
    {
     "name": "stdout",
     "output_type": "stream",
     "text": [
      "tensor([1.4000, 2.8000, 3.1000], dtype=torch.float64)\n",
      "tensor([1.4000, 2.8000, 3.1000], dtype=torch.float64)\n"
     ]
    }
   ],
   "source": [
    "### 실수형 Tensor 생성\n",
    "dataTS1 = torch.DoubleTensor(data) # 클래스 사용\n",
    "dataTS11 =  torch.tensor(data, dtype=torch.float64)\n",
    "print(dataTS1, dataTS11, sep='\\n') "
   ]
  },
  {
   "cell_type": "markdown",
   "metadata": {},
   "source": [
    "- Tensor 저장 및 실행 위치 설정 ==>  속성 device 설정"
   ]
  },
  {
   "cell_type": "code",
   "execution_count": 15,
   "metadata": {},
   "outputs": [
    {
     "data": {
      "text/plain": [
       "'cpu'"
      ]
     },
     "execution_count": 15,
     "metadata": {},
     "output_type": "execute_result"
    }
   ],
   "source": [
    "### 저장 및 실행 위치 >> CPU / GPU\n",
    "\n",
    "DEVICE = 'cuda' if torch.cuda.is_available() else 'cpu'\n",
    "DEVICE ## 모든 이름이 대문자다 다른언어에서는 >> 지역번호, 국가 코드 변할수없는 값(바꿀 수 없는 값) >>> 상수\n"
   ]
  },
  {
   "cell_type": "code",
   "execution_count": 16,
   "metadata": {},
   "outputs": [
    {
     "name": "stdout",
     "output_type": "stream",
     "text": [
      "tensor([1.4000, 2.8000, 3.1000], dtype=torch.float64)\n",
      "tensor([1.4000, 2.8000, 3.1000], dtype=torch.float64)\n"
     ]
    }
   ],
   "source": [
    "### 실수형 Tensor 생성\n",
    "dataTS1 = torch.DoubleTensor(data) # 클래스 사용\n",
    "dataTS11 =  torch.tensor(data, dtype=torch.float64, device=DEVICE) # 세팅된 디바이스 따라간다.\n",
    "print(dataTS1, dataTS11, sep='\\n') \n",
    "### 왜 이렇게 하냐 >> 많은 일을해야 하기 때문"
   ]
  },
  {
   "cell_type": "code",
   "execution_count": null,
   "metadata": {},
   "outputs": [],
   "source": []
  }
 ],
 "metadata": {
  "kernelspec": {
   "display_name": "TORCH_38",
   "language": "python",
   "name": "python3"
  },
  "language_info": {
   "codemirror_mode": {
    "name": "ipython",
    "version": 3
   },
   "file_extension": ".py",
   "mimetype": "text/x-python",
   "name": "python",
   "nbconvert_exporter": "python",
   "pygments_lexer": "ipython3",
   "version": "3.8.19"
  }
 },
 "nbformat": 4,
 "nbformat_minor": 2
}
