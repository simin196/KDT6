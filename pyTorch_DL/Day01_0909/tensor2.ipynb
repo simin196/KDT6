{
 "cells": [
  {
   "cell_type": "markdown",
   "metadata": {},
   "source": [
    "#### 턴더 생성 여러 메서드"
   ]
  },
  {
   "cell_type": "code",
   "execution_count": 44,
   "metadata": {},
   "outputs": [
    {
     "name": "stdout",
     "output_type": "stream",
     "text": [
      "torch v. 2.4.1\n"
     ]
    }
   ],
   "source": [
    "# 모듈 로딩\n",
    "import torch\n",
    "\n",
    "# 이제 할때는 모듈의 버전을 밑에 체크해놓기\n",
    "print(f'torch v. {torch.__version__}')"
   ]
  },
  {
   "cell_type": "markdown",
   "metadata": {},
   "source": [
    "- Tensor생성 [2] torch.rand() >>> 랜덤 값으로 채운 텐서 생성"
   ]
  },
  {
   "cell_type": "code",
   "execution_count": 45,
   "metadata": {},
   "outputs": [],
   "source": [
    "# 0<= ~ <1 범위의 임의의 숫자 1개 추출 >> rand (*size)\n",
    "# rand(*size) : 가변인자 ==> 몇 차원일지 알 수 없음!\n",
    "# '*' >> 가변인자(튜플형태) , '**' >> 키워드 파라미터(dict형태) , '*'들어올 인자가 몇개인지 모를때 확실히 정할수없을때\n",
    "\n",
    "torch.manual_seed(1)\n",
    "\n",
    "dataTS1 = torch.rand(3)             # 1차원 Vector\n",
    "dataTS2 = torch.rand(2,3)           # 2차원 Maxtrix\n",
    "dataTS3 = torch.rand(2,1,3)         # 3차원 3D Tensor"
   ]
  },
  {
   "cell_type": "code",
   "execution_count": 46,
   "metadata": {},
   "outputs": [
    {
     "name": "stdout",
     "output_type": "stream",
     "text": [
      "tensor([0.7576, 0.2793, 0.4031])\n",
      "\n",
      "tensor([[0.7347, 0.0293, 0.7999],\n",
      "        [0.3971, 0.7544, 0.5695]])\n",
      "\n",
      "tensor([[[0.4388, 0.6387, 0.5247]],\n",
      "\n",
      "        [[0.6826, 0.3051, 0.4635]]])\n"
     ]
    }
   ],
   "source": [
    "print(dataTS1, dataTS2, dataTS3, sep='\\n\\n')"
   ]
  },
  {
   "cell_type": "markdown",
   "metadata": {},
   "source": [
    "- Tensor생성 [3] torch.randn()"
   ]
  },
  {
   "cell_type": "code",
   "execution_count": 47,
   "metadata": {},
   "outputs": [
    {
     "name": "stdout",
     "output_type": "stream",
     "text": [
      "tensor([-1.8349, -2.2149,  0.0436])\n",
      "\n",
      "tensor([[ 1.3240, -0.1005,  0.6443],\n",
      "        [ 0.5244,  1.0157,  0.2571]])\n",
      "\n",
      "tensor([[[-0.9013,  0.8138,  0.3871]],\n",
      "\n",
      "        [[ 0.5417,  0.6646,  0.3248]]])\n"
     ]
    }
   ],
   "source": [
    "dataTS1 = torch.randn(3)             # 1차원 Vector\n",
    "dataTS2 = torch.randn(2,3)           # 2차원 Maxtrix\n",
    "dataTS3 = torch.randn(2,1,3)         # 3차원 3D Tensor\n",
    "\n",
    "print(dataTS1, dataTS2, dataTS3, sep='\\n\\n')"
   ]
  },
  {
   "cell_type": "markdown",
   "metadata": {},
   "source": [
    "- 차이 :  "
   ]
  },
  {
   "cell_type": "markdown",
   "metadata": {},
   "source": [
    "- Tensor생성 [4] torch.randint()"
   ]
  },
  {
   "cell_type": "code",
   "execution_count": 48,
   "metadata": {},
   "outputs": [
    {
     "data": {
      "text/plain": [
       "tensor([[2, 2, 1, 1, 2],\n",
       "        [1, 1, 2, 4, 4],\n",
       "        [3, 2, 1, 3, 4]])"
      ]
     },
     "execution_count": 48,
     "metadata": {},
     "output_type": "execute_result"
    }
   ],
   "source": [
    "torch.randint(1, 5, (3,5)) # 뒤에있는 값이 미만이다 > 포함이 안된다 "
   ]
  },
  {
   "cell_type": "code",
   "execution_count": 51,
   "metadata": {},
   "outputs": [
    {
     "data": {
      "text/plain": [
       "tensor([38, 44,  5, 39, 21, 18])"
      ]
     },
     "execution_count": 51,
     "metadata": {},
     "output_type": "execute_result"
    }
   ],
   "source": [
    "dataTS1 = torch.randint(1, 46,(6,))\n",
    "dataTS1"
   ]
  },
  {
   "cell_type": "code",
   "execution_count": 52,
   "metadata": {},
   "outputs": [
    {
     "data": {
      "text/plain": [
       "tensor([[ 8,  4, 21, 40, 45, 26],\n",
       "        [22, 28, 18,  1, 11, 16],\n",
       "        [35, 32, 17, 25,  6, 14],\n",
       "        [38, 43, 19, 28, 28,  3]])"
      ]
     },
     "execution_count": 52,
     "metadata": {},
     "output_type": "execute_result"
    }
   ],
   "source": [
    "# 2D Vector\n",
    "dataTS1 = torch.randint(1, 46,(4,6))\n",
    "dataTS1"
   ]
  },
  {
   "cell_type": "code",
   "execution_count": null,
   "metadata": {},
   "outputs": [],
   "source": [
    " "
   ]
  }
 ],
 "metadata": {
  "kernelspec": {
   "display_name": "TORCH_38",
   "language": "python",
   "name": "python3"
  },
  "language_info": {
   "codemirror_mode": {
    "name": "ipython",
    "version": 3
   },
   "file_extension": ".py",
   "mimetype": "text/x-python",
   "name": "python",
   "nbconvert_exporter": "python",
   "pygments_lexer": "ipython3",
   "version": "3.8.19"
  }
 },
 "nbformat": 4,
 "nbformat_minor": 2
}
