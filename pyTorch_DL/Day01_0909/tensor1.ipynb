{
 "cells": [
  {
   "cell_type": "markdown",
   "metadata": {},
   "source": [
    "#### Tensor 이해 - 생성\n",
    " - Tensor란? \n",
    "    * pytorch에서 데이터를 저장하는 객체\n",
    "    * 모델에 입력/출력 데이터 형태\n",
    " - 개발 버전 : torch v 2.4.1"
   ]
  },
  {
   "cell_type": "markdown",
   "metadata": {},
   "source": [
    "- 이제부터 들어가는 차원이 3차원 4차원 이런식으로 들가기에 차원 맞추는걸 주의할 것!"
   ]
  },
  {
   "cell_type": "code",
   "execution_count": 6,
   "metadata": {},
   "outputs": [
    {
     "name": "stdout",
     "output_type": "stream",
     "text": [
      "torch v. 2.4.1\n"
     ]
    }
   ],
   "source": [
    "# 모듈 로딩\n",
    "import torch\n",
    "\n",
    "# 이제 할때는 모듈의 버전을 밑에 체크해놓기\n",
    "print(f'torch v. {torch.__version__}')"
   ]
  },
  {
   "cell_type": "code",
   "execution_count": 7,
   "metadata": {},
   "outputs": [],
   "source": [
    "# 함수기능: 텐서 속성 정보 출력 함수\n",
    "def printInfo(obj, obj_name):\n",
    "    print(f'\\n[{obj_name}]')\n",
    "    print(f'shape : {obj.shape}')\n",
    "    print(f'ndim : {obj.ndim}차원')\n",
    "    print(f'dtype : {obj.dtype}')\n",
    "    print(f'device : {obj.device}')\n",
    "    print(f'data :\\n{obj.data}') "
   ]
  },
  {
   "cell_type": "markdown",
   "metadata": {},
   "source": [
    "- 텐서 생성 [1] : torch.tensor() > 메서드"
   ]
  },
  {
   "cell_type": "code",
   "execution_count": 9,
   "metadata": {},
   "outputs": [
    {
     "name": "stdout",
     "output_type": "stream",
     "text": [
      "\n",
      "[ten1]\n",
      "shape : torch.Size([])\n",
      "ndim : 0차원\n",
      "dtype : torch.int64\n",
      "device : cpu\n",
      "data :\n",
      "10\n",
      "\n",
      "[ten1_1]\n",
      "shape : torch.Size([])\n",
      "ndim : 0차원\n",
      "dtype : torch.uint8\n",
      "device : cpu\n",
      "data :\n",
      "10\n",
      "\n",
      "[ten2]\n",
      "shape : torch.Size([3])\n",
      "ndim : 1차원\n",
      "dtype : torch.int64\n",
      "device : cpu\n",
      "data :\n",
      "tensor([22, 33, 44])\n",
      "\n",
      "[ten3]\n",
      "shape : torch.Size([3, 2])\n",
      "ndim : 2차원\n",
      "dtype : torch.int64\n",
      "device : cpu\n",
      "data :\n",
      "tensor([[90, 91],\n",
      "        [80, 81],\n",
      "        [70, 71]])\n"
     ]
    }
   ],
   "source": [
    "## 데이터 1개 즉, 스칼라\n",
    "ten1 = torch.tensor(10)  # >> 메모리 8칸 사용\n",
    "ten2 = torch.tensor([22,33,44])\n",
    "ten3 = torch.tensor([[90,91],[80,81], [70,71]])\n",
    "\n",
    "ten1_1 = torch.tensor(10, dtype=torch.uint8) # >> 메모리 한칸 사용\n",
    "\n",
    "# 텐서 정보 출력\n",
    "printInfo(ten1, 'ten1')\n",
    "printInfo(ten1_1, 'ten1_1')\n",
    "printInfo(ten2, 'ten2')\n",
    "printInfo(ten3, 'ten3')"
   ]
  },
  {
   "cell_type": "code",
   "execution_count": 10,
   "metadata": {},
   "outputs": [
    {
     "name": "stdout",
     "output_type": "stream",
     "text": [
      "\n",
      "[ten1]\n",
      "shape : torch.Size([1])\n",
      "ndim : 1차원\n",
      "dtype : torch.int64\n",
      "device : cpu\n",
      "data :\n",
      "tensor([10])\n"
     ]
    }
   ],
   "source": [
    "## 데이터 1개 즉, 벡터 1D\n",
    "ten1 = torch.tensor([10]) # 괄호로 1차원 가능\n",
    "printInfo(ten1, 'ten1')"
   ]
  },
  {
   "cell_type": "code",
   "execution_count": 11,
   "metadata": {},
   "outputs": [
    {
     "name": "stdout",
     "output_type": "stream",
     "text": [
      "\n",
      "[ten1]\n",
      "shape : torch.Size([0])\n",
      "ndim : 1차원\n",
      "dtype : torch.float32\n",
      "device : cpu\n",
      "data :\n",
      "tensor([])\n"
     ]
    }
   ],
   "source": [
    "ten1 = torch.tensor([]) # > 차원이 될수있다 원소가 없을뿐\n",
    "printInfo(ten1, 'ten1')"
   ]
  },
  {
   "cell_type": "code",
   "execution_count": 12,
   "metadata": {},
   "outputs": [
    {
     "name": "stdout",
     "output_type": "stream",
     "text": [
      "\n",
      "[ten1]\n",
      "shape : torch.Size([1, 1])\n",
      "ndim : 2차원\n",
      "dtype : torch.int64\n",
      "device : cpu\n",
      "data :\n",
      "tensor([[10]])\n",
      "\n",
      "[ten2]\n",
      "shape : torch.Size([2, 1])\n",
      "ndim : 2차원\n",
      "dtype : torch.int64\n",
      "device : cpu\n",
      "data :\n",
      "tensor([[10],\n",
      "        [20]])\n",
      "\n",
      "[ten3]\n",
      "shape : torch.Size([1, 2])\n",
      "ndim : 2차원\n",
      "dtype : torch.int64\n",
      "device : cpu\n",
      "data :\n",
      "tensor([[10, 20]])\n"
     ]
    }
   ],
   "source": [
    "## 데이터 1개 즉, 벡터 2D\n",
    "ten1 = torch.tensor([[10]]) \n",
    "printInfo(ten1, 'ten1')\n",
    "\n",
    "ten2 = torch.tensor([[10], [20]]) \n",
    "printInfo(ten2, 'ten2')\n",
    "\n",
    "ten3 = torch.tensor([[10, 20]]) \n",
    "printInfo(ten3, 'ten3')"
   ]
  },
  {
   "cell_type": "code",
   "execution_count": 16,
   "metadata": {},
   "outputs": [
    {
     "name": "stdout",
     "output_type": "stream",
     "text": [
      "\n",
      "[ten1]\n",
      "shape : torch.Size([1, 1, 1, 1])\n",
      "ndim : 4차원\n",
      "dtype : torch.int64\n",
      "device : cpu\n",
      "data :\n",
      "tensor([[[[10]]]])\n",
      "\n",
      "[ten1]\n",
      "shape : torch.Size([1, 1, 1])\n",
      "ndim : 3차원\n",
      "dtype : torch.uint8\n",
      "device : cpu\n",
      "data :\n",
      "tensor([[[10]]], dtype=torch.uint8)\n",
      "\n",
      "[ten1]\n",
      "shape : torch.Size([3, 1, 1])\n",
      "ndim : 3차원\n",
      "dtype : torch.uint8\n",
      "device : cpu\n",
      "data :\n",
      "tensor([[[10]],\n",
      "\n",
      "        [[10]],\n",
      "\n",
      "        [[10]]], dtype=torch.uint8)\n"
     ]
    }
   ],
   "source": [
    "## 데이터 1개 즉, 벡터 ND >> 차원을 읽을때 뒤에서 앞으로 읽어야 한다. [4D(3D가 몇개냐), 3D(2차원이 장), 행, 열] 요래  >>> []을 보는게 차원수를 세기에 좋다\n",
    "ten1 = torch.tensor([[[[10]]]])  \n",
    "printInfo(ten1, 'ten1')\n",
    "\n",
    "ten1 = torch.tensor([[[10]]],dtype=torch.uint8) \n",
    "printInfo(ten1, 'ten1')\n",
    "\n",
    "ten1 = torch.tensor([[[10]],[[10]],[[10]]],dtype=torch.uint8) \n",
    "printInfo(ten1, 'ten1')"
   ]
  },
  {
   "cell_type": "code",
   "execution_count": null,
   "metadata": {},
   "outputs": [],
   "source": [
    "# 텐서 특정값으로 채워야 할 경우\n"
   ]
  }
 ],
 "metadata": {
  "kernelspec": {
   "display_name": "TORCH_38",
   "language": "python",
   "name": "python3"
  },
  "language_info": {
   "codemirror_mode": {
    "name": "ipython",
    "version": 3
   },
   "file_extension": ".py",
   "mimetype": "text/x-python",
   "name": "python",
   "nbconvert_exporter": "python",
   "pygments_lexer": "ipython3",
   "version": "3.8.19"
  }
 },
 "nbformat": 4,
 "nbformat_minor": 2
}
