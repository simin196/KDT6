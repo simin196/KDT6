{
 "cells": [
  {
   "cell_type": "markdown",
   "metadata": {},
   "source": [
    "#### DNN 기반 회귀 모델 구현 + 학습 진행 모니터링\n",
    "- 데이터셋 : iris.csv\n",
    "- 피쳐/라벨 : 3개 sepal.length, sepal.width, petal.length\n",
    "- 타겟/라벨 : 1개 petal.width\n",
    "- 학습 방법 : 지도 학습 > 회귀\n",
    "- 학습 알고리즘 : 인공신경망 (ANN) -> MLP(Multi Layer Percetron),  심층신경망(DNN)(은닉층 多)\n",
    "- 프레임 워크 : Pytorch\n",
    "------------------------------------\n",
    "- 모니터링 \n",
    "    * 기준 : 검정데이터셋의 loss 와 score\n",
    "    * 평가 : 학습데이터셋의 loss 와 score 와 비교해서 학습 중단여부 결정\n",
    "    * 저장 : 현재까지 진행된 모델의 파라미터(가중치, 절편) 저장 여부 또는 모델 전체 저장"
   ]
  },
  {
   "cell_type": "markdown",
   "metadata": {},
   "source": [
    "[1] 모듈 로딩 및 데이터 준비 <hr>"
   ]
  },
  {
   "cell_type": "code",
   "execution_count": 1,
   "metadata": {},
   "outputs": [],
   "source": [
    "# 모듈 로딩\n",
    "# 1. 모델관련\n",
    "import torch                                    # 텐서 및 수치 계산 함수 관련 모듈\n",
    "import torch.nn as nn                           # 인공신경망 관련 모듈\n",
    "import torch.nn.functional as F                 # 손실, 거리 등 함수 관련 모듈\n",
    "\n",
    "# 2. 데이터 셋 관련                    \n",
    "from torch.utils.data import DataLoader, Dataset\n",
    "\n",
    "# 3. 최적화에 관련\n",
    "import torch.optim as optim    # 최적화 기법 관련 모듈\n",
    "\n",
    "# 4. 모델 평\n",
    "from torchmetrics.regression import R2Score, MeanSquaredError\n",
    "\n",
    "# 4. 모델의 구조를 보는 모듈\n",
    "from torchinfo import summary                   # 모델 정보 관련 모듈\n",
    "\n",
    "# 5. Data 관련\n",
    "import pandas as pd                 # 데이터 파일 분석 관련 모듈\n",
    "import matplotlib.pyplot as plt\n",
    "from sklearn.preprocessing import *\n",
    "from sklearn.model_selection import train_test_split"
   ]
  },
  {
   "cell_type": "code",
   "execution_count": 2,
   "metadata": {},
   "outputs": [
    {
     "name": "stdout",
     "output_type": "stream",
     "text": [
      "Pytroch v.2.4.1\n",
      "Pandas v.2.0.3\n"
     ]
    }
   ],
   "source": [
    "# 활용 패키지 버전 체크 ==> 사용자 정의 함수로 구현하세요~~\n",
    "print(f'Pytroch v.{torch.__version__}')\n",
    "print(f'Pandas v.{pd.__version__}')"
   ]
  },
  {
   "cell_type": "code",
   "execution_count": 3,
   "metadata": {},
   "outputs": [
    {
     "data": {
      "text/html": [
       "<div>\n",
       "<style scoped>\n",
       "    .dataframe tbody tr th:only-of-type {\n",
       "        vertical-align: middle;\n",
       "    }\n",
       "\n",
       "    .dataframe tbody tr th {\n",
       "        vertical-align: top;\n",
       "    }\n",
       "\n",
       "    .dataframe thead th {\n",
       "        text-align: right;\n",
       "    }\n",
       "</style>\n",
       "<table border=\"1\" class=\"dataframe\">\n",
       "  <thead>\n",
       "    <tr style=\"text-align: right;\">\n",
       "      <th></th>\n",
       "      <th>sepal.length</th>\n",
       "      <th>sepal.width</th>\n",
       "      <th>petal.length</th>\n",
       "      <th>petal.width</th>\n",
       "    </tr>\n",
       "  </thead>\n",
       "  <tbody>\n",
       "    <tr>\n",
       "      <th>0</th>\n",
       "      <td>5.1</td>\n",
       "      <td>3.5</td>\n",
       "      <td>1.4</td>\n",
       "      <td>0.2</td>\n",
       "    </tr>\n",
       "  </tbody>\n",
       "</table>\n",
       "</div>"
      ],
      "text/plain": [
       "   sepal.length  sepal.width  petal.length  petal.width\n",
       "0           5.1          3.5           1.4          0.2"
      ]
     },
     "execution_count": 3,
     "metadata": {},
     "output_type": "execute_result"
    }
   ],
   "source": [
    "# 데이터 로딩\n",
    "DATA_file ='../data/iris.csv'\n",
    "\n",
    "# CSV >> DF\n",
    "irisDF = pd.read_csv(DATA_file, usecols=[0,1,2,3])\n",
    "\n",
    "# 확인\n",
    "irisDF.head(1)"
   ]
  },
  {
   "cell_type": "markdown",
   "metadata": {},
   "source": [
    "[2] 모델 클래스 설계 및 정의 <hr>\n",
    "- 클래스 목적 : iris 데이터를 학습 및 추론 목적\n",
    "- 클래스 이름 : IrisRegModel\n",
    "- 부모 클래스 : nn.Module\n",
    "- 매개 변수 : 층별 입출력 개수 고정하기 때문에 필요 없음\n",
    "- 속성 필드 : \n",
    "- 기능 역할(필수 메서드)     \n",
    "    * _ _init_ _() - 모델 구조 설정    \n",
    "    * forward() - 순방향 학습 <== 오버라이딩(overriding) >> 상속받을 때만 가능\n",
    "- 클래스 구조\n",
    "    * 입력층 - 입력  3개 (피쳐 개수)  >  출력 10개 (퍼셉트론 / 뉴런 10개 존재)\n",
    "    * 은닉층 - 입력 10개             >  출력 30개 (퍼셉트론 / 뉴런 30개 존재)\n",
    "    * 출력층 - 입력 30개             >  출력  1개 (타겟, [너비값])\n",
    "\n",
    "- 활성화함수\n",
    "    * 클래스 형태 ==> nn.MESLose, nn.ReLU ==> _ _init_ _() 메서드\n",
    "    * 함수 형태 ==> torch.nn.functional 아래에 ==> forward() 메서드"
   ]
  },
  {
   "cell_type": "code",
   "execution_count": 4,
   "metadata": {},
   "outputs": [],
   "source": [
    "class IrisRegModel(nn.Module):\n",
    "\n",
    "    # 모델 구조 구성 및 인스턴스 생성 메서드\n",
    "    def __init__(self):\n",
    "        super().__init__()\n",
    "\n",
    "        self.in_layer = nn.Linear(3,10)\n",
    "        self.hd_layer = nn.Linear(10,30)\n",
    "        self.out_layer = nn.Linear(30,1)\n",
    "\n",
    "    # 순방향 학습 진행 메서드\n",
    "    def forward(self, input_data):\n",
    "\n",
    "        # 입력층 \n",
    "        y = self.in_layer(input_data)   \n",
    "        y = F.relu(y)                  # f1_1w1_1+f1_2w1_2+f1_3w1_3+b << *10개\n",
    "        # relu => y값의 범위 : 0 <= y\n",
    "\n",
    "        # 은닉층 : 10개의 숫자 값(y >= 0)\n",
    "        y=self.hd_layer(y)             # f2_1w2_1+f2_2w2_2+....f2_10w2_10 +b << *30개\n",
    "        y = F.relu(y)\n",
    "\n",
    "        # 출력층 : 30개의 숫자 값(y >= 0) >> 회귀이므로 바로 반환(return)\n",
    "        return self.out_layer(y)       # f3_1w3_1+.....f3_30w3_30+b << *1개"
   ]
  },
  {
   "cell_type": "code",
   "execution_count": 5,
   "metadata": {},
   "outputs": [
    {
     "name": "stdout",
     "output_type": "stream",
     "text": [
      "IrisRegModel(\n",
      "  (in_layer): Linear(in_features=3, out_features=10, bias=True)\n",
      "  (hd_layer): Linear(in_features=10, out_features=30, bias=True)\n",
      "  (out_layer): Linear(in_features=30, out_features=1, bias=True)\n",
      ")\n"
     ]
    }
   ],
   "source": [
    "# 모델 인스턴스 생성\n",
    "model = IrisRegModel() # >>> 지금 이거 본건 모델이 잘나왔냐 확인차\n",
    "print(model)"
   ]
  },
  {
   "cell_type": "code",
   "execution_count": 6,
   "metadata": {},
   "outputs": [
    {
     "data": {
      "text/plain": [
       "==========================================================================================\n",
       "Layer (type:depth-idx)                   Output Shape              Param #\n",
       "==========================================================================================\n",
       "IrisRegModel                             [100000, 1]               --\n",
       "├─Linear: 1-1                            [100000, 10]              40\n",
       "├─Linear: 1-2                            [100000, 30]              330\n",
       "├─Linear: 1-3                            [100000, 1]               31\n",
       "==========================================================================================\n",
       "Total params: 401\n",
       "Trainable params: 401\n",
       "Non-trainable params: 0\n",
       "Total mult-adds (M): 40.10\n",
       "==========================================================================================\n",
       "Input size (MB): 1.20\n",
       "Forward/backward pass size (MB): 32.80\n",
       "Params size (MB): 0.00\n",
       "Estimated Total Size (MB): 34.00\n",
       "=========================================================================================="
      ]
     },
     "execution_count": 6,
     "metadata": {},
     "output_type": "execute_result"
    }
   ],
   "source": [
    "# 모델 사용 메로리 정보 확인\n",
    "summary(model, input_size=(100000,3)) # 데이터양, 피쳐개수"
   ]
  },
  {
   "cell_type": "markdown",
   "metadata": {},
   "source": [
    "[3] 데이터셋 클래스 설계 및 정의 <hr>\n",
    "- 데이터셋 : iris.csv\n",
    "- 피쳐 개수 : 3개\n",
    "- 타겟 개수 : 1개\n",
    "- 클래스 이름 : IrisDataset\n",
    "- 부모클래스 : utils.data.Dataset\n",
    "- 속성_필드 : featuresDF, targetDF, n_rows, n_features\n",
    "- 필수메서드\n",
    "    * __init__(self) : 데이터셋 저장 및 전처리, 개발자가 필요한 속성 설정\n",
    "    * __len__(self) : 데이터의 개수 반환\n",
    "    * __getitme__(self, index) : 특정 인덱스의 피쳐와 타겟 반환"
   ]
  },
  {
   "cell_type": "code",
   "execution_count": 7,
   "metadata": {},
   "outputs": [],
   "source": [
    "class IrisDataset(Dataset):\n",
    "    def __init__(self, featureDF, targetDF):\n",
    "        self.featureDF = featureDF\n",
    "        self.targetDF = targetDF\n",
    "        self.n_rows = featureDF.shape[0]\n",
    "        self.n_features = featureDF.shape[1]\n",
    "    \n",
    "    def __len__(self):\n",
    "        return self.n_rows\n",
    "    \n",
    "    def __getitem__(self, index):\n",
    "    \n",
    "        # 텐서화\n",
    "        featureTS = torch.FloatTensor(self.featureDF.iloc[index].values) # values하는 이유 >> array를 하기위해\n",
    "        targetTS = torch.FloatTensor(self.targetDF.iloc[index].values)\n",
    "\n",
    "        # 피쳐와 타겟 반환\n",
    "        return featureTS, targetTS\n",
    "\n"
   ]
  },
  {
   "cell_type": "code",
   "execution_count": 8,
   "metadata": {},
   "outputs": [],
   "source": [
    "# 데이터셋 인스턴스 생성 \n",
    "\n",
    "# DF에서 피쳐와 타겟 추출\n",
    "featureDF = irisDF[irisDF.columns[:-1]] # 2D (150,3)\n",
    "targetDF = irisDF[irisDF.columns[-1:]]  # 2D (150,1)\n",
    "\n",
    "# 커스텀데이터셋 인스턴스 생성\n",
    "irisDS = IrisDataset(featureDF, targetDF)"
   ]
  },
  {
   "cell_type": "markdown",
   "metadata": {},
   "source": [
    "[4] 학습 준비 <hr>\n",
    "- 학습 횟수 : EPOCH     << 처음 ~ 끝까지 공부하는 단위\n",
    "- 배치 크기 : BATCH_SIZE    << 한번에 학급할 데이터셋 양\n",
    "- 위치 지정 : DEVICE    << 텐서 저장 및 실행 위치(GPU/CPU)\n",
    "- 학습률 : LR   << 가중치와 절편 업데이트 시 경사하강법으로 업데이트 간격 설정, 0.001 ~ 0.1 사이를 많이 줌(값이 작을수록 촘촘하게 이동) >> 하이퍼 파라미터"
   ]
  },
  {
   "cell_type": "code",
   "execution_count": 9,
   "metadata": {},
   "outputs": [
    {
     "data": {
      "text/plain": [
       "15.0"
      ]
     },
     "execution_count": 9,
     "metadata": {},
     "output_type": "execute_result"
    }
   ],
   "source": [
    "## 학습 진행 관련 설정\n",
    "EPOCH = 1\n",
    "BATCH_SIZE = 10\n",
    "BATCH_CNT = irisDF.shape[0]/BATCH_SIZE\n",
    "DEVICE = 'cuda' if torch.cuda.is_available() else 'cpu'\n",
    "LR = 0.001\n",
    "\n",
    "BATCH_CNT"
   ]
  },
  {
   "cell_type": "markdown",
   "metadata": {},
   "source": [
    "- 인스턴스/객체 : 모델, 데이터셋, 최적화 (, 손실함수 , 성능 지표)"
   ]
  },
  {
   "cell_type": "code",
   "execution_count": 10,
   "metadata": {},
   "outputs": [
    {
     "name": "stdout",
     "output_type": "stream",
     "text": [
      "(84, 3) (38, 3) (28, 3)\n",
      "<class 'pandas.core.frame.DataFrame'> <class 'pandas.core.frame.DataFrame'> <class 'pandas.core.frame.DataFrame'>\n",
      "(84, 1) (38, 1) (28, 1)\n",
      "<class 'pandas.core.frame.DataFrame'> <class 'pandas.core.frame.DataFrame'> <class 'pandas.core.frame.DataFrame'>\n"
     ]
    }
   ],
   "source": [
    "# 모델 인스턴스\n",
    "model = IrisRegModel()\n",
    "\n",
    "# 데이터셋 인스턴스\n",
    "X_train, X_test, y_train, y_test = train_test_split(featureDF,targetDF, random_state=1)\n",
    "X_train, X_val, y_train, y_val = train_test_split(X_train, y_train, random_state=1)\n",
    "print(f'{X_train.shape} {X_test.shape} {X_val.shape}')\n",
    "print(f'{type(X_train)} {type(X_test)} {type(X_val)}')\n",
    "print(f'{y_train.shape} {y_test.shape} {y_val.shape}')\n",
    "print(f'{type(y_train)} {type(y_test)} {type(y_val)}')\n",
    "\n",
    "trainDS = IrisDataset(X_train, y_train)\n",
    "testDS = IrisDataset(X_test, y_test)\n",
    "valDS = IrisDataset(X_val, y_val)\n",
    "\n",
    "# 데이터로더 인스턴스\n",
    "trainDL = DataLoader(trainDS, batch_size=BATCH_SIZE)"
   ]
  },
  {
   "cell_type": "code",
   "execution_count": 11,
   "metadata": {},
   "outputs": [
    {
     "name": "stdout",
     "output_type": "stream",
     "text": [
      "torch.Size([10, 3]) torch.Size([10, 1])\n",
      "torch.Size([10, 3]) torch.Size([10, 1])\n",
      "torch.Size([10, 3]) torch.Size([10, 1])\n",
      "torch.Size([10, 3]) torch.Size([10, 1])\n",
      "torch.Size([10, 3]) torch.Size([10, 1])\n",
      "torch.Size([10, 3]) torch.Size([10, 1])\n",
      "torch.Size([10, 3]) torch.Size([10, 1])\n",
      "torch.Size([10, 3]) torch.Size([10, 1])\n",
      "torch.Size([4, 3]) torch.Size([4, 1])\n"
     ]
    }
   ],
   "source": [
    "## [테스트] 데이터로더와 데이터셋 체크\n",
    "for feature, target in trainDL:\n",
    "    print(feature.shape, target.shape)"
   ]
  },
  {
   "cell_type": "code",
   "execution_count": 12,
   "metadata": {},
   "outputs": [],
   "source": [
    "# 최적화 인스턴스 => W,b텐서 즉, model.parameters() 전달 >> W,b 업데이트 시키는이유 >>> 오차를 줄여 최적의 모델을 찾기위해  \n",
    "optimizer = optim.Adam(model.parameters(), lr=LR)\n",
    "\n",
    "# 소실함수 인스턴스 => 회귀, MSE, MAE, RMSE ....\n",
    "reqLoss = nn.MSELoss()"
   ]
  },
  {
   "cell_type": "markdown",
   "metadata": {},
   "source": [
    "[5] 학습진행 <hr>"
   ]
  },
  {
   "cell_type": "markdown",
   "metadata": {},
   "source": [
    "- >>> 모델 저장 준비"
   ]
  },
  {
   "cell_type": "code",
   "execution_count": 13,
   "metadata": {},
   "outputs": [],
   "source": [
    "### models 폴더 아래 프로젝트 폴더 아래 모델 파일 저장\n",
    "import os\n",
    "\n",
    "# 저장 경로\n",
    "SAVE_PATH = '../models/iris/'\n",
    "\n",
    "# 저장 파일명\n",
    "SAVE_FILE = 'model_train_wbs.pth'\n",
    "\n",
    "# 모델 구조 및 파라미터 모두 저장 파일명\n",
    "SAVE_MODEL ='model_all.pth'"
   ]
  },
  {
   "cell_type": "code",
   "execution_count": 14,
   "metadata": {},
   "outputs": [],
   "source": [
    "# 경로상 폴더 존재 여부 체크\n",
    "if not os.path.exists(SAVE_PATH):\n",
    "    os.makedirs(SAVE_PATH) # 폴더/폴더/... 하위 폴더까지 생성"
   ]
  },
  {
   "cell_type": "markdown",
   "metadata": {},
   "source": [
    "- >>> 학습진행"
   ]
  },
  {
   "cell_type": "code",
   "execution_count": 15,
   "metadata": {},
   "outputs": [
    {
     "name": "stdout",
     "output_type": "stream",
     "text": [
      "[1/1]\n"
     ]
    }
   ],
   "source": [
    "## 학습의 효과 확인, 손실값과 성능평가값 저장 필요 , 검증기능을 \n",
    "LOSS_HISTORY, SCORE_HISTORY = [[], []], [[], []]\n",
    " \n",
    "## 학습 모니터링/ 스케줄링 설정 => LOSS_HISTORY, SCORE_HISTORY 활용\n",
    "# 임계기준(얼마나 봐줄것인가?) : 10번(사용자 마음) but 카운팅은 해야함\n",
    "BREAK_CNT=0\n",
    "LIMIT_VALUE= 10\n",
    "\n",
    "\n",
    "for epoch in range(EPOCH):\n",
    "    ## 학습 모드로 모델 설정\n",
    "    model.train()\n",
    "    \n",
    "    # 배치 크기 만큼 데이터 로딩해서 학습 진행\n",
    "    loss_total, score_total = 0, 0\n",
    "    for featureTS, targetTS in trainDL:\n",
    "\n",
    "        # 학습 진행\n",
    "        pre_y = model(featureTS)\n",
    "\n",
    "        # 손실 계산\n",
    "        loss = reqLoss(pre_y, targetTS)\n",
    "        loss_total += loss.item()\n",
    "\n",
    "        # 성능 평가 계산\n",
    "        score = R2Score()(pre_y, targetTS) \n",
    "        score_total += score.item() \n",
    "\n",
    "        # 최적화 진행\n",
    "        optimizer.zero_grad()\n",
    "        loss.backward()\n",
    "        optimizer.step()\n",
    "\n",
    "    ## 한 에포크가 끝나고 검증 기능\n",
    "    ## 모델 검증 모드 설정 >> 검증이기에 업데이트 불필요\n",
    "    model.eval() \n",
    "    with torch.no_grad():\n",
    "        \n",
    "        # 검증 데이터셋\n",
    "        val_featrueTS = torch.FloatTensor(valDS.featureDF.values)\n",
    "        val_targetTS = torch.FloatTensor(valDS.targetDF.values)\n",
    "\n",
    "        # 추론 / 평가 \n",
    "        pre_val = model(val_featrueTS)\n",
    "        \n",
    "        # 손실\n",
    "        loss_val = reqLoss(pre_val, val_targetTS)\n",
    "        \n",
    "        # 성능평가\n",
    "        score_val = R2Score()(pre_val, val_targetTS)\n",
    "\n",
    "    \n",
    "    # 에포크 당 손실값과 성능평가값 저장\n",
    "    LOSS_HISTORY[0].append(loss_total/BATCH_CNT)\n",
    "    SCORE_HISTORY[0].append(score_total/BATCH_CNT)\n",
    "\n",
    "    LOSS_HISTORY[1].append(loss_val)\n",
    "    SCORE_HISTORY[1].append(score_val)\n",
    "    print(f'[{epoch+1}/{EPOCH}]')\n",
    "    \n",
    "    ## 학습 진행 모니터링/ 스케줄링 - 검증 DS 기준\n",
    "\n",
    "    # loss 기준\n",
    "    if len(LOSS_HISTORY[1]) > 1:\n",
    "        if LOSS_HISTORY[1][-1] >= LOSS_HISTORY[1][-2]: BREAK_CNT+=1 \n",
    "            # 현재의 loss값         이전의 loss값\n",
    "            # >> 비교했을땐 작아야 좋은거지만, loss값이 커지거나 같은경우 멈출려고한다.\n",
    "            # 데이터에 따라서 그런 경우가 생길수도 있으니 횟수를 제한을 둬서 값이 반복되거나 커지면 딥러닝 스톱 \n",
    "\n",
    "    ## 저장방법으로는 2가지\n",
    "    # 1. 매EPOCH당 저장할것이냐 ?\n",
    "    # 2. 최종적으로 제일좋은 epoch[모델, 가중치]를 저장할것이냐?\n",
    "    \n",
    "    # 지금은? 2번 >> 성능이 좋은 학습 가중치 저장\n",
    "\n",
    "    # 저장 파일명\n",
    "    # SAVE_FILE = f'model_train_wbs_{epoch}_{score_val}.pth'\n",
    "\n",
    "    if len(SCORE_HISTORY[1]) == 1:\n",
    "        # 첫번째라서 무조건 모델 파라미터 저장\n",
    "        torch.save(model.state_dict(), SAVE_PATH+SAVE_FILE)\n",
    "        # 모델 전체 저장\n",
    "        torch.save(model,SAVE_PATH+SAVE_MODEL)\n",
    "  \n",
    "    else: # 현재값이 저장되있는 값보다\n",
    "        if SCORE_HISTORY[1][-1] > max(SCORE_HISTORY[1]):\n",
    "            # 파일하나에 덮어쓰기\n",
    "            torch.save(model.state_dict(),SAVE_PATH+SAVE_FILE)\n",
    "            # 계속 파일 새로 만들기\n",
    "            #torch.save(model.state_dict(),SAVE_PATH+SAVE_FILE+epoch)\n",
    "            # 모델 저장\n",
    "            torch.save(model,SAVE_PATH+SAVE_MODEL)\n",
    "\n",
    "\n",
    "    # 학습 중단 여부 설정\n",
    "    if BREAK_CNT> LIMIT_VALUE:\n",
    "        print(f'성능 및 손실 개선이 없어서 {epoch} EPOCJ에 학습 중단')\n",
    "        break\n"
   ]
  },
  {
   "cell_type": "code",
   "execution_count": 16,
   "metadata": {},
   "outputs": [
    {
     "data": {
      "text/plain": [
       "[[0.22804422974586486], [tensor(0.3806)]]"
      ]
     },
     "execution_count": 16,
     "metadata": {},
     "output_type": "execute_result"
    }
   ],
   "source": [
    "LOSS_HISTORY"
   ]
  },
  {
   "cell_type": "markdown",
   "metadata": {},
   "source": [
    "- 모델 저장 방법 <hr>\n",
    " + 방법 1 : 모델 파라미터만 저장\n",
    " + 방법 2 : 모델 설계 구조 및 파라미터까지 모두 저장"
   ]
  },
  {
   "cell_type": "code",
   "execution_count": 17,
   "metadata": {},
   "outputs": [
    {
     "data": {
      "text/plain": [
       "OrderedDict([('in_layer.weight',\n",
       "              tensor([[ 0.4180, -0.1121, -0.5126],\n",
       "                      [ 0.4441, -0.5622,  0.2041],\n",
       "                      [ 0.4681,  0.0999, -0.3822],\n",
       "                      [-0.3982, -0.2651,  0.3091],\n",
       "                      [-0.3357, -0.2602, -0.0557],\n",
       "                      [ 0.5402, -0.1725,  0.2611],\n",
       "                      [ 0.4167,  0.0707,  0.1549],\n",
       "                      [-0.3862,  0.0548,  0.0958],\n",
       "                      [-0.3935, -0.1988, -0.3448],\n",
       "                      [-0.4394,  0.2009,  0.0945]])),\n",
       "             ('in_layer.bias',\n",
       "              tensor([ 0.5411, -0.0879,  0.3192, -0.2044,  0.4001,  0.4519, -0.2204,  0.3223,\n",
       "                      -0.4145, -0.0810])),\n",
       "             ('hd_layer.weight',\n",
       "              tensor([[ 5.7419e-02,  3.1797e-01,  3.0123e-01, -1.2602e-01,  3.4183e-02,\n",
       "                        7.1362e-03,  2.0240e-01, -2.3076e-01, -2.5085e-01,  1.2487e-02],\n",
       "                      [ 7.6511e-02,  4.5329e-02, -2.5191e-01,  1.8476e-03,  1.8244e-01,\n",
       "                       -8.8488e-03, -2.6541e-02,  1.5289e-01, -3.8413e-02, -2.5399e-01],\n",
       "                      [ 2.7510e-01,  7.7190e-02,  1.1963e-01, -2.0960e-01, -2.1722e-01,\n",
       "                       -1.3992e-01, -2.1651e-01, -1.9213e-01, -4.3424e-02,  1.5207e-01],\n",
       "                      [-1.7185e-01, -9.0925e-02,  1.5808e-01,  8.8710e-02,  2.0249e-01,\n",
       "                       -5.5514e-02,  5.7584e-02, -1.8724e-01, -1.4968e-01, -1.7151e-01],\n",
       "                      [-1.8484e-01,  7.8695e-02, -6.0897e-03,  3.0473e-02, -2.8759e-01,\n",
       "                        2.4786e-01, -2.0374e-01,  2.1810e-01, -2.0637e-01, -2.9587e-01],\n",
       "                      [ 6.5294e-02, -1.9556e-01,  3.0726e-01,  2.0341e-01,  1.8879e-01,\n",
       "                        1.3976e-02, -1.6640e-01, -1.0565e-01,  3.0440e-01, -2.4624e-01],\n",
       "                      [-2.4324e-01, -1.6306e-01, -1.4861e-01, -7.8919e-02,  2.7580e-01,\n",
       "                       -4.1866e-02, -2.2440e-01,  2.4315e-01, -1.7243e-01,  1.6698e-01],\n",
       "                      [-6.3276e-02,  1.4305e-01,  1.1379e-01,  1.1192e-02,  2.9446e-01,\n",
       "                       -3.1192e-01,  7.5099e-02, -1.3603e-01, -1.3676e-01,  5.7137e-04],\n",
       "                      [-1.1576e-01,  1.3325e-01, -1.5037e-01,  2.5699e-01, -1.7485e-01,\n",
       "                       -1.4419e-02,  3.1082e-01,  1.5210e-01, -6.0434e-02, -1.2042e-01],\n",
       "                      [ 1.2760e-01,  3.3002e-02,  1.3478e-01,  1.1785e-01, -3.1176e-01,\n",
       "                       -1.4497e-01,  1.7556e-02, -1.4783e-01, -1.8811e-01,  7.9748e-02],\n",
       "                      [ 1.2050e-01,  1.3293e-01,  1.5235e-01, -1.5562e-01, -3.0596e-01,\n",
       "                        3.0162e-01, -4.7214e-03, -7.4667e-02,  1.9614e-01,  2.5907e-01],\n",
       "                      [ 1.9983e-01,  1.5888e-01,  3.0833e-01,  2.2624e-01, -1.4915e-01,\n",
       "                       -2.2773e-01,  9.8914e-02,  1.3703e-01,  9.8166e-02,  2.7810e-01],\n",
       "                      [ 7.8162e-02, -3.1746e-01, -1.2250e-01,  4.7209e-03, -2.6493e-01,\n",
       "                       -9.4334e-02,  1.3866e-01, -4.8123e-02, -1.1481e-01, -1.5995e-04],\n",
       "                      [ 1.9916e-01,  1.4226e-01, -2.8003e-01,  1.6846e-02, -1.1973e-01,\n",
       "                       -2.5083e-01,  1.5474e-01,  2.0125e-01,  2.3134e-01, -3.0470e-01],\n",
       "                      [-6.9872e-03,  1.6510e-02,  9.2505e-02, -2.5523e-01,  1.5520e-01,\n",
       "                       -1.5597e-01,  6.8569e-02, -1.5595e-01, -1.7022e-01, -1.1867e-01],\n",
       "                      [-2.6581e-02,  1.0721e-01,  1.1113e-02,  2.3279e-01,  1.8833e-01,\n",
       "                       -2.5367e-01,  9.6713e-02,  1.3076e-01,  3.0406e-01, -6.1328e-02],\n",
       "                      [ 1.9260e-01, -2.6697e-01,  1.4149e-01,  1.2469e-01,  2.2302e-01,\n",
       "                       -2.8981e-02,  1.6571e-01, -5.0782e-02,  3.1561e-01,  2.6736e-03],\n",
       "                      [ 3.1423e-01,  2.3816e-01,  1.6506e-01,  1.0575e-01,  8.4581e-03,\n",
       "                        2.0346e-01, -8.3058e-02,  1.4158e-01, -1.7223e-01, -1.7798e-01],\n",
       "                      [ 1.0983e-01,  8.7938e-03,  2.2400e-01, -2.5884e-01,  1.3082e-01,\n",
       "                       -2.7905e-01, -1.0201e-01,  3.1469e-01, -1.7034e-01, -9.9487e-02],\n",
       "                      [-8.8356e-02,  3.6490e-02,  1.6560e-01, -5.1397e-02,  3.0872e-01,\n",
       "                        8.1070e-03,  1.0463e-01, -8.5762e-02, -1.6567e-01,  2.5641e-01],\n",
       "                      [ 2.0078e-01,  1.0092e-01, -2.1479e-01,  1.0114e-01, -5.5255e-02,\n",
       "                        6.9041e-02,  1.5504e-01,  2.9457e-01,  1.9228e-01, -1.5390e-01],\n",
       "                      [-5.6452e-02,  8.5477e-02,  8.4754e-02,  1.2697e-01,  1.1389e-01,\n",
       "                       -2.3375e-01,  1.6859e-01,  1.6182e-01,  1.5703e-01,  1.8703e-01],\n",
       "                      [ 5.7111e-02,  1.0118e-01,  1.1294e-01,  2.5044e-01, -1.4034e-01,\n",
       "                       -1.9173e-01,  2.0253e-01,  8.7230e-02, -2.7155e-01, -3.0500e-01],\n",
       "                      [-6.4916e-02, -2.7889e-01,  2.3472e-01, -2.2670e-01,  8.4095e-02,\n",
       "                        3.0314e-01, -2.4923e-01, -3.1449e-01, -2.8087e-01, -2.3381e-01],\n",
       "                      [-2.6843e-01, -3.1151e-01,  1.8422e-01, -9.4440e-02,  1.5940e-01,\n",
       "                        1.1301e-01, -2.8878e-01, -2.0394e-01, -2.3635e-01,  4.4346e-02],\n",
       "                      [-2.9228e-01,  1.2725e-01, -2.4653e-01,  4.6181e-02, -2.4307e-01,\n",
       "                       -3.0425e-01, -9.2175e-02,  1.9020e-02, -2.5440e-01, -2.1752e-01],\n",
       "                      [-4.0818e-02,  1.6878e-01, -2.2016e-01, -5.5403e-02, -7.0487e-02,\n",
       "                        2.6094e-01,  2.9769e-01, -8.9536e-02, -1.7430e-01,  1.5944e-01],\n",
       "                      [ 2.8227e-01,  1.7922e-01, -1.6548e-01, -1.4577e-01,  2.2686e-01,\n",
       "                        2.7031e-01,  3.1505e-01,  6.4812e-03,  2.4508e-01, -1.4192e-01],\n",
       "                      [ 2.3886e-01, -8.7936e-02, -1.9908e-01,  1.8637e-01, -2.9595e-02,\n",
       "                       -3.0660e-01,  1.8382e-01, -9.8541e-02, -1.2943e-01,  7.2547e-02],\n",
       "                      [ 1.1031e-01,  1.4461e-01,  2.9209e-01,  1.1441e-01, -3.1017e-01,\n",
       "                       -1.3768e-01, -4.6903e-02, -2.2569e-01, -8.6005e-02, -2.8559e-01]])),\n",
       "             ('hd_layer.bias',\n",
       "              tensor([ 0.1633,  0.2364, -0.3000,  0.1092,  0.1422, -0.0215,  0.1868, -0.1452,\n",
       "                      -0.2865, -0.1979,  0.2382,  0.2335,  0.2197,  0.1455,  0.0407,  0.0473,\n",
       "                       0.0906,  0.0777,  0.1381, -0.1473,  0.0668,  0.0644, -0.1815,  0.2999,\n",
       "                       0.1624,  0.2813,  0.2665, -0.0292, -0.1091,  0.1592])),\n",
       "             ('out_layer.weight',\n",
       "              tensor([[ 0.1196, -0.0871,  0.0593, -0.0643,  0.0990,  0.1620, -0.0322,  0.0877,\n",
       "                        0.0433,  0.0604,  0.0935,  0.0349,  0.1264,  0.0346,  0.0426, -0.1318,\n",
       "                        0.0805, -0.0455,  0.0608,  0.1323,  0.0395, -0.1518, -0.0785, -0.0893,\n",
       "                       -0.1753,  0.1802,  0.1635,  0.1227,  0.0885,  0.1090]])),\n",
       "             ('out_layer.bias', tensor([0.1144]))])"
      ]
     },
     "execution_count": 17,
     "metadata": {},
     "output_type": "execute_result"
    }
   ],
   "source": [
    "### 학습된 모델 파라미터 값 확인\n",
    "model.state_dict()"
   ]
  },
  {
   "cell_type": "markdown",
   "metadata": {},
   "source": [
    "- [방법 1] 모델 파라미터 즉, 층별 가중치와 절편들"
   ]
  },
  {
   "cell_type": "code",
   "execution_count": 18,
   "metadata": {},
   "outputs": [],
   "source": [
    "# 모델 저장                                                                                                  \n",
    "torch.save(model.state_dict(), SAVE_PATH+SAVE_FILE)"
   ]
  },
  {
   "cell_type": "code",
   "execution_count": 19,
   "metadata": {},
   "outputs": [],
   "source": [
    "# 모델 저장                                                                                           \n",
    "torch.save(model, SAVE_PATH+SAVE_MODEL)"
   ]
  },
  {
   "cell_type": "markdown",
   "metadata": {},
   "source": [
    "모델 즉, 가중치와 절편 로딩\n",
    "- [1] 가중치와 절편 객체로 로딩\n",
    "- [2] 모델의  state_dict 속성에 저장"
   ]
  },
  {
   "cell_type": "code",
   "execution_count": 20,
   "metadata": {},
   "outputs": [
    {
     "data": {
      "text/plain": [
       "OrderedDict([('in_layer.weight',\n",
       "              tensor([[ 0.4180, -0.1121, -0.5126],\n",
       "                      [ 0.4441, -0.5622,  0.2041],\n",
       "                      [ 0.4681,  0.0999, -0.3822],\n",
       "                      [-0.3982, -0.2651,  0.3091],\n",
       "                      [-0.3357, -0.2602, -0.0557],\n",
       "                      [ 0.5402, -0.1725,  0.2611],\n",
       "                      [ 0.4167,  0.0707,  0.1549],\n",
       "                      [-0.3862,  0.0548,  0.0958],\n",
       "                      [-0.3935, -0.1988, -0.3448],\n",
       "                      [-0.4394,  0.2009,  0.0945]])),\n",
       "             ('in_layer.bias',\n",
       "              tensor([ 0.5411, -0.0879,  0.3192, -0.2044,  0.4001,  0.4519, -0.2204,  0.3223,\n",
       "                      -0.4145, -0.0810])),\n",
       "             ('hd_layer.weight',\n",
       "              tensor([[ 5.7419e-02,  3.1797e-01,  3.0123e-01, -1.2602e-01,  3.4183e-02,\n",
       "                        7.1362e-03,  2.0240e-01, -2.3076e-01, -2.5085e-01,  1.2487e-02],\n",
       "                      [ 7.6511e-02,  4.5329e-02, -2.5191e-01,  1.8476e-03,  1.8244e-01,\n",
       "                       -8.8488e-03, -2.6541e-02,  1.5289e-01, -3.8413e-02, -2.5399e-01],\n",
       "                      [ 2.7510e-01,  7.7190e-02,  1.1963e-01, -2.0960e-01, -2.1722e-01,\n",
       "                       -1.3992e-01, -2.1651e-01, -1.9213e-01, -4.3424e-02,  1.5207e-01],\n",
       "                      [-1.7185e-01, -9.0925e-02,  1.5808e-01,  8.8710e-02,  2.0249e-01,\n",
       "                       -5.5514e-02,  5.7584e-02, -1.8724e-01, -1.4968e-01, -1.7151e-01],\n",
       "                      [-1.8484e-01,  7.8695e-02, -6.0897e-03,  3.0473e-02, -2.8759e-01,\n",
       "                        2.4786e-01, -2.0374e-01,  2.1810e-01, -2.0637e-01, -2.9587e-01],\n",
       "                      [ 6.5294e-02, -1.9556e-01,  3.0726e-01,  2.0341e-01,  1.8879e-01,\n",
       "                        1.3976e-02, -1.6640e-01, -1.0565e-01,  3.0440e-01, -2.4624e-01],\n",
       "                      [-2.4324e-01, -1.6306e-01, -1.4861e-01, -7.8919e-02,  2.7580e-01,\n",
       "                       -4.1866e-02, -2.2440e-01,  2.4315e-01, -1.7243e-01,  1.6698e-01],\n",
       "                      [-6.3276e-02,  1.4305e-01,  1.1379e-01,  1.1192e-02,  2.9446e-01,\n",
       "                       -3.1192e-01,  7.5099e-02, -1.3603e-01, -1.3676e-01,  5.7137e-04],\n",
       "                      [-1.1576e-01,  1.3325e-01, -1.5037e-01,  2.5699e-01, -1.7485e-01,\n",
       "                       -1.4419e-02,  3.1082e-01,  1.5210e-01, -6.0434e-02, -1.2042e-01],\n",
       "                      [ 1.2760e-01,  3.3002e-02,  1.3478e-01,  1.1785e-01, -3.1176e-01,\n",
       "                       -1.4497e-01,  1.7556e-02, -1.4783e-01, -1.8811e-01,  7.9748e-02],\n",
       "                      [ 1.2050e-01,  1.3293e-01,  1.5235e-01, -1.5562e-01, -3.0596e-01,\n",
       "                        3.0162e-01, -4.7214e-03, -7.4667e-02,  1.9614e-01,  2.5907e-01],\n",
       "                      [ 1.9983e-01,  1.5888e-01,  3.0833e-01,  2.2624e-01, -1.4915e-01,\n",
       "                       -2.2773e-01,  9.8914e-02,  1.3703e-01,  9.8166e-02,  2.7810e-01],\n",
       "                      [ 7.8162e-02, -3.1746e-01, -1.2250e-01,  4.7209e-03, -2.6493e-01,\n",
       "                       -9.4334e-02,  1.3866e-01, -4.8123e-02, -1.1481e-01, -1.5995e-04],\n",
       "                      [ 1.9916e-01,  1.4226e-01, -2.8003e-01,  1.6846e-02, -1.1973e-01,\n",
       "                       -2.5083e-01,  1.5474e-01,  2.0125e-01,  2.3134e-01, -3.0470e-01],\n",
       "                      [-6.9872e-03,  1.6510e-02,  9.2505e-02, -2.5523e-01,  1.5520e-01,\n",
       "                       -1.5597e-01,  6.8569e-02, -1.5595e-01, -1.7022e-01, -1.1867e-01],\n",
       "                      [-2.6581e-02,  1.0721e-01,  1.1113e-02,  2.3279e-01,  1.8833e-01,\n",
       "                       -2.5367e-01,  9.6713e-02,  1.3076e-01,  3.0406e-01, -6.1328e-02],\n",
       "                      [ 1.9260e-01, -2.6697e-01,  1.4149e-01,  1.2469e-01,  2.2302e-01,\n",
       "                       -2.8981e-02,  1.6571e-01, -5.0782e-02,  3.1561e-01,  2.6736e-03],\n",
       "                      [ 3.1423e-01,  2.3816e-01,  1.6506e-01,  1.0575e-01,  8.4581e-03,\n",
       "                        2.0346e-01, -8.3058e-02,  1.4158e-01, -1.7223e-01, -1.7798e-01],\n",
       "                      [ 1.0983e-01,  8.7938e-03,  2.2400e-01, -2.5884e-01,  1.3082e-01,\n",
       "                       -2.7905e-01, -1.0201e-01,  3.1469e-01, -1.7034e-01, -9.9487e-02],\n",
       "                      [-8.8356e-02,  3.6490e-02,  1.6560e-01, -5.1397e-02,  3.0872e-01,\n",
       "                        8.1070e-03,  1.0463e-01, -8.5762e-02, -1.6567e-01,  2.5641e-01],\n",
       "                      [ 2.0078e-01,  1.0092e-01, -2.1479e-01,  1.0114e-01, -5.5255e-02,\n",
       "                        6.9041e-02,  1.5504e-01,  2.9457e-01,  1.9228e-01, -1.5390e-01],\n",
       "                      [-5.6452e-02,  8.5477e-02,  8.4754e-02,  1.2697e-01,  1.1389e-01,\n",
       "                       -2.3375e-01,  1.6859e-01,  1.6182e-01,  1.5703e-01,  1.8703e-01],\n",
       "                      [ 5.7111e-02,  1.0118e-01,  1.1294e-01,  2.5044e-01, -1.4034e-01,\n",
       "                       -1.9173e-01,  2.0253e-01,  8.7230e-02, -2.7155e-01, -3.0500e-01],\n",
       "                      [-6.4916e-02, -2.7889e-01,  2.3472e-01, -2.2670e-01,  8.4095e-02,\n",
       "                        3.0314e-01, -2.4923e-01, -3.1449e-01, -2.8087e-01, -2.3381e-01],\n",
       "                      [-2.6843e-01, -3.1151e-01,  1.8422e-01, -9.4440e-02,  1.5940e-01,\n",
       "                        1.1301e-01, -2.8878e-01, -2.0394e-01, -2.3635e-01,  4.4346e-02],\n",
       "                      [-2.9228e-01,  1.2725e-01, -2.4653e-01,  4.6181e-02, -2.4307e-01,\n",
       "                       -3.0425e-01, -9.2175e-02,  1.9020e-02, -2.5440e-01, -2.1752e-01],\n",
       "                      [-4.0818e-02,  1.6878e-01, -2.2016e-01, -5.5403e-02, -7.0487e-02,\n",
       "                        2.6094e-01,  2.9769e-01, -8.9536e-02, -1.7430e-01,  1.5944e-01],\n",
       "                      [ 2.8227e-01,  1.7922e-01, -1.6548e-01, -1.4577e-01,  2.2686e-01,\n",
       "                        2.7031e-01,  3.1505e-01,  6.4812e-03,  2.4508e-01, -1.4192e-01],\n",
       "                      [ 2.3886e-01, -8.7936e-02, -1.9908e-01,  1.8637e-01, -2.9595e-02,\n",
       "                       -3.0660e-01,  1.8382e-01, -9.8541e-02, -1.2943e-01,  7.2547e-02],\n",
       "                      [ 1.1031e-01,  1.4461e-01,  2.9209e-01,  1.1441e-01, -3.1017e-01,\n",
       "                       -1.3768e-01, -4.6903e-02, -2.2569e-01, -8.6005e-02, -2.8559e-01]])),\n",
       "             ('hd_layer.bias',\n",
       "              tensor([ 0.1633,  0.2364, -0.3000,  0.1092,  0.1422, -0.0215,  0.1868, -0.1452,\n",
       "                      -0.2865, -0.1979,  0.2382,  0.2335,  0.2197,  0.1455,  0.0407,  0.0473,\n",
       "                       0.0906,  0.0777,  0.1381, -0.1473,  0.0668,  0.0644, -0.1815,  0.2999,\n",
       "                       0.1624,  0.2813,  0.2665, -0.0292, -0.1091,  0.1592])),\n",
       "             ('out_layer.weight',\n",
       "              tensor([[ 0.1196, -0.0871,  0.0593, -0.0643,  0.0990,  0.1620, -0.0322,  0.0877,\n",
       "                        0.0433,  0.0604,  0.0935,  0.0349,  0.1264,  0.0346,  0.0426, -0.1318,\n",
       "                        0.0805, -0.0455,  0.0608,  0.1323,  0.0395, -0.1518, -0.0785, -0.0893,\n",
       "                       -0.1753,  0.1802,  0.1635,  0.1227,  0.0885,  0.1090]])),\n",
       "             ('out_layer.bias', tensor([0.1144]))])"
      ]
     },
     "execution_count": 20,
     "metadata": {},
     "output_type": "execute_result"
    }
   ],
   "source": [
    "# 읽기\n",
    "wbTS = torch.load(SAVE_PATH+SAVE_FILE, weights_only = True)\n",
    "wbTS "
   ]
  },
  {
   "cell_type": "code",
   "execution_count": 21,
   "metadata": {},
   "outputs": [
    {
     "data": {
      "text/plain": [
       "<All keys matched successfully>"
      ]
     },
     "execution_count": 21,
     "metadata": {},
     "output_type": "execute_result"
    }
   ],
   "source": [
    "# 모델 인트턴스에 저장\n",
    "model2 = IrisRegModel() # 층마다 W,b 초기화\n",
    "model2.load_state_dict(wbTS)"
   ]
  }
 ],
 "metadata": {
  "kernelspec": {
   "display_name": "TORCH_38",
   "language": "python",
   "name": "python3"
  },
  "language_info": {
   "codemirror_mode": {
    "name": "ipython",
    "version": 3
   },
   "file_extension": ".py",
   "mimetype": "text/x-python",
   "name": "python",
   "nbconvert_exporter": "python",
   "pygments_lexer": "ipython3",
   "version": "3.8.19"
  }
 },
 "nbformat": 4,
 "nbformat_minor": 2
}
