{
 "cells": [
  {
   "cell_type": "markdown",
   "metadata": {},
   "source": [
    "#### DNN 기반 회귀 모델 구현 + 학습 진행 모니터링\n",
    "- 데이터셋 : iris.csv\n",
    "- 피쳐/라벨 : 3개 sepal.length, sepal.width, petal.length\n",
    "- 타겟/라벨 : 1개 petal.width\n",
    "- 학습 방법 : 지도 학습 > 회귀\n",
    "- 학습 알고리즘 : 인공신경망 (ANN) -> MLP(Multi Layer Percetron), 심층신경망(DNN)(은닉층 多)\n",
    "- 프레임 워크 : Pytorch\n",
    "---\n",
    "- 모니터링 \n",
    "    * 기준 : 검정데이터셋의 loss 와 score\n",
    "    * 평가 : 학습데이터셋의 loss 와 score 와 비교해서 학습 중단여부 결정\n",
    "    * 선택 : 현재까지 진행된 모델의 파라미터(가중치, 절편) 저장 여부 또는 모델 전체 저장\n",
    "---"
   ]
  },
  {
   "cell_type": "markdown",
   "metadata": {},
   "source": [
    "[1] 모듈 로딩 및 데이터 준비 <hr>"
   ]
  },
  {
   "cell_type": "code",
   "execution_count": 1,
   "metadata": {},
   "outputs": [],
   "source": [
    "# 모듈 로딩\n",
    "# 1. 모델관련\n",
    "import torch                        # 텐서 및 수치 계산 함수 관련 모듈\n",
    "import torch.nn as nn               # 인공신경망 관련 모듈\n",
    "import torch.nn.functional as F     # 손실, 거리 등 함수 관련 모듈\n",
    "\n",
    "# 2. 데이터 셋 관련                    \n",
    "from torch.utils.data import DataLoader, Dataset\n",
    "\n",
    "# 3. 최적화에 관련\n",
    "import torch.optim as optim        # 최적화 기법 관련 모듈\n",
    "\n",
    "# 4. 모델 평\n",
    "from torchmetrics.regression import R2Score, MeanSquaredError\n",
    "\n",
    "# 4. 모델의 구조를 보는 모듈\n",
    "from torchinfo import summary       # 모델 정보 관련 모듈\n",
    "\n",
    "# 5. Data 관련\n",
    "import pandas as pd                 # 데이터 파일 분석 관련 모듈\n",
    "import matplotlib.pyplot as plt\n",
    "from sklearn.preprocessing import *\n",
    "from sklearn.model_selection import train_test_split"
   ]
  },
  {
   "cell_type": "code",
   "execution_count": 2,
   "metadata": {},
   "outputs": [
    {
     "name": "stdout",
     "output_type": "stream",
     "text": [
      "Pytroch v.2.4.1\n",
      "Pandas v.2.0.3\n"
     ]
    }
   ],
   "source": [
    "# 활용 패키지 버전 체크 ==> 사용자 정의 함수로 구현하세요~~\n",
    "print(f'Pytroch v.{torch.__version__}')\n",
    "print(f'Pandas v.{pd.__version__}')"
   ]
  },
  {
   "cell_type": "code",
   "execution_count": 3,
   "metadata": {},
   "outputs": [
    {
     "data": {
      "text/html": [
       "<div>\n",
       "<style scoped>\n",
       "    .dataframe tbody tr th:only-of-type {\n",
       "        vertical-align: middle;\n",
       "    }\n",
       "\n",
       "    .dataframe tbody tr th {\n",
       "        vertical-align: top;\n",
       "    }\n",
       "\n",
       "    .dataframe thead th {\n",
       "        text-align: right;\n",
       "    }\n",
       "</style>\n",
       "<table border=\"1\" class=\"dataframe\">\n",
       "  <thead>\n",
       "    <tr style=\"text-align: right;\">\n",
       "      <th></th>\n",
       "      <th>sepal.length</th>\n",
       "      <th>sepal.width</th>\n",
       "      <th>petal.length</th>\n",
       "      <th>petal.width</th>\n",
       "    </tr>\n",
       "  </thead>\n",
       "  <tbody>\n",
       "    <tr>\n",
       "      <th>0</th>\n",
       "      <td>5.1</td>\n",
       "      <td>3.5</td>\n",
       "      <td>1.4</td>\n",
       "      <td>0.2</td>\n",
       "    </tr>\n",
       "  </tbody>\n",
       "</table>\n",
       "</div>"
      ],
      "text/plain": [
       "   sepal.length  sepal.width  petal.length  petal.width\n",
       "0           5.1          3.5           1.4          0.2"
      ]
     },
     "execution_count": 3,
     "metadata": {},
     "output_type": "execute_result"
    }
   ],
   "source": [
    "# 데이터 로딩\n",
    "DATA_file ='../data/iris.csv'\n",
    "\n",
    "# CSV >> DF\n",
    "irisDF = pd.read_csv(DATA_file, usecols=[0,1,2,3])\n",
    "\n",
    "# 확인\n",
    "irisDF.head(1)"
   ]
  },
  {
   "cell_type": "markdown",
   "metadata": {},
   "source": [
    "[2] 모델 클래스 설계 및 정의 <hr>\n",
    "- 클래스 목적 : iris 데이터를 학습 및 추론 목적\n",
    "- 클래스 이름 : IrisRegModel\n",
    "- 부모 클래스 : nn.Module\n",
    "- 매개 변수 : 층별 입출력 개수 고정하기 때문에 필요 없음\n",
    "- 속성 필드 : \n",
    "- 기능 역할(필수 메서드) \n",
    "    * _ _init_ _() - 모델 구조 설정\n",
    "    * forward() - 순방향 학습 <== 오버라이딩(overriding) >> 상속받을 때만 가능\n",
    "- 클래스 구조\n",
    "    * 입력층 - 입력  3개 (피쳐 개수)  >  출력 10개 (퍼셉트론 / 뉴런 10개 존재)\n",
    "    * 은닉층 - 입력 10개             >  출력 30개 (퍼셉트론 / 뉴런 30개 존재)\n",
    "    * 출력층 - 입력 30개             >  출력  1개 (타겟, [너비값])\n",
    "\n",
    "- 활성화함수\n",
    "    * 클래스 형태 ==> nn.MESLose, nn.ReLU ==> _ _init_ _() 메서드\n",
    "    * 함수 형태 ==> torch.nn.functional 아래에 ==> forward() 메서드"
   ]
  },
  {
   "cell_type": "code",
   "execution_count": 4,
   "metadata": {},
   "outputs": [],
   "source": [
    "class IrisRegModel(nn.Module):\n",
    "\n",
    "    # 모델 구조 구성 및 인스턴스 생성 메서드\n",
    "    def __init__(self):\n",
    "        super().__init__()\n",
    "\n",
    "        self.in_layer = nn.Linear(3,10)\n",
    "        self.hd_layer = nn.Linear(10,30)\n",
    "        self.out_layer = nn.Linear(30,1)\n",
    "\n",
    "    # 순방향 학습 진행 메서드\n",
    "    def forward(self, input_data):\n",
    "\n",
    "        # 입력층 \n",
    "        y = self.in_layer(input_data)   \n",
    "        y = F.relu(y)               # f1_1w1_1+f1_2w1_2+f1_3w1_3+b << *10개\n",
    "        # relu => y값의 범위 : 0 <= y\n",
    "\n",
    "        # 은닉층 : 10개의 숫자 값(y >= 0)\n",
    "        y = self.hd_layer(y)       # f2_1w2_1+f2_2w2_2+....f2_10w2_10 +b << *30개\n",
    "        y = F.relu(y)\n",
    "\n",
    "        # 출력층 : 30개의 숫자 값(y >= 0) >> 회귀이므로 바로 반환(return)\n",
    "        return self.out_layer(y)    # f3_1w3_1+.....f3_30w3_30+b << *1개"
   ]
  },
  {
   "cell_type": "code",
   "execution_count": 5,
   "metadata": {},
   "outputs": [
    {
     "name": "stdout",
     "output_type": "stream",
     "text": [
      "IrisRegModel(\n",
      "  (in_layer): Linear(in_features=3, out_features=10, bias=True)\n",
      "  (hd_layer): Linear(in_features=10, out_features=30, bias=True)\n",
      "  (out_layer): Linear(in_features=30, out_features=1, bias=True)\n",
      ")\n"
     ]
    }
   ],
   "source": [
    "### [테스트] 모델 인스턴스 생성\n",
    "model = IrisRegModel() # >>> 지금 이거 본건 모델이 잘나왔냐 확인차\n",
    "print(model)"
   ]
  },
  {
   "cell_type": "code",
   "execution_count": 6,
   "metadata": {},
   "outputs": [
    {
     "data": {
      "text/plain": [
       "==========================================================================================\n",
       "Layer (type:depth-idx)                   Output Shape              Param #\n",
       "==========================================================================================\n",
       "IrisRegModel                             [100000, 1]               --\n",
       "├─Linear: 1-1                            [100000, 10]              40\n",
       "├─Linear: 1-2                            [100000, 30]              330\n",
       "├─Linear: 1-3                            [100000, 1]               31\n",
       "==========================================================================================\n",
       "Total params: 401\n",
       "Trainable params: 401\n",
       "Non-trainable params: 0\n",
       "Total mult-adds (M): 40.10\n",
       "==========================================================================================\n",
       "Input size (MB): 1.20\n",
       "Forward/backward pass size (MB): 32.80\n",
       "Params size (MB): 0.00\n",
       "Estimated Total Size (MB): 34.00\n",
       "=========================================================================================="
      ]
     },
     "execution_count": 6,
     "metadata": {},
     "output_type": "execute_result"
    }
   ],
   "source": [
    "# 모델 사용 메로리 정보 확인\n",
    "summary(model, input_size=(100000,3)) # 데이터양, 피쳐개수"
   ]
  },
  {
   "cell_type": "markdown",
   "metadata": {},
   "source": [
    "[3] 데이터셋 클래스 설계 및 정의 <hr>\n",
    "- 데이터셋 : iris.csv\n",
    "- 피쳐 개수 : 3개\n",
    "- 타겟 개수 : 1개\n",
    "- 클래스 이름 : IrisDataset\n",
    "- 부모클래스 : utils.data.Dataset\n",
    "- 속성_필드 : featuresDF, targetDF, n_rows, n_features\n",
    "- 필수메서드\n",
    "    * __init__(self) : 데이터셋 저장 및 전처리, 개발자가 필요한 속성 설정\n",
    "    * __len__(self) : 데이터의 개수 반환\n",
    "    * __getitme__(self, index) : 특정 인덱스의 피쳐와 타겟 반환"
   ]
  },
  {
   "cell_type": "code",
   "execution_count": 7,
   "metadata": {},
   "outputs": [],
   "source": [
    "class IrisDataset(Dataset):\n",
    "    \n",
    "    def __init__(self, featureDF, targetDF):\n",
    "        self.featureDF = featureDF\n",
    "        self.targetDF = targetDF\n",
    "        self.n_rows = featureDF.shape[0]\n",
    "        self.n_features = featureDF.shape[1]\n",
    "    \n",
    "    def __len__(self):\n",
    "        return self.n_rows\n",
    "    \n",
    "    def __getitem__(self, index):\n",
    "    \n",
    "        # 텐서화\n",
    "        featureTS = torch.FloatTensor(self.featureDF.iloc[index].values) # values하는 이유 >> array를 하기위해\n",
    "        targetTS = torch.FloatTensor(self.targetDF.iloc[index].values)\n",
    "\n",
    "        # 피쳐와 타겟 반환\n",
    "        return featureTS, targetTS\n",
    "\n"
   ]
  },
  {
   "cell_type": "code",
   "execution_count": 8,
   "metadata": {},
   "outputs": [],
   "source": [
    "# 데이터셋 인스턴스 생성 \n",
    "\n",
    "# DF에서 피쳐와 타겟 추출\n",
    "featureDF = irisDF[irisDF.columns[:-1]] # 2D (150,3)\n",
    "targetDF = irisDF[irisDF.columns[-1:]]  # 2D (150,1)\n",
    "\n",
    "# 커스텀데이터셋 인스턴스 생성\n",
    "irisDS = IrisDataset(featureDF, targetDF)"
   ]
  },
  {
   "cell_type": "markdown",
   "metadata": {},
   "source": [
    "[4] 학습 준비 <hr>\n",
    "- 학습 횟수 : EPOCH     << 처음 ~ 끝까지 공부하는 단위\n",
    "- 배치 크기 : BATCH_SIZE    << 한번에 학급할 데이터셋 양\n",
    "- 위치 지정 : DEVICE    << 텐서 저장 및 실행 위치(GPU/CPU)\n",
    "- 학습률 : LR   << 가중치와 절편 업데이트 시 경사하강법으로 업데이트 간격 설정, 0.001 ~ 0.1 사이를 많이 줌(값이 작을수록 촘촘하게 이동) >> 하이퍼 파라미터"
   ]
  },
  {
   "cell_type": "code",
   "execution_count": 9,
   "metadata": {},
   "outputs": [
    {
     "data": {
      "text/plain": [
       "15.0"
      ]
     },
     "execution_count": 9,
     "metadata": {},
     "output_type": "execute_result"
    }
   ],
   "source": [
    "## 학습 진행 관련 설정\n",
    "EPOCH = 1\n",
    "BATCH_SIZE = 10\n",
    "BATCH_CNT = irisDF.shape[0]/BATCH_SIZE\n",
    "DEVICE = 'cuda' if torch.cuda.is_available() else 'cpu'\n",
    "LR = 0.001\n",
    "\n",
    "BATCH_CNT"
   ]
  },
  {
   "cell_type": "markdown",
   "metadata": {},
   "source": [
    "- 인스턴스/객체 : 모델, 데이터셋, 최적화 (, 손실함수 , 성능 지표)"
   ]
  },
  {
   "cell_type": "code",
   "execution_count": 10,
   "metadata": {},
   "outputs": [
    {
     "name": "stdout",
     "output_type": "stream",
     "text": [
      "(84, 3) (38, 3) (28, 3)\n",
      "<class 'pandas.core.frame.DataFrame'> <class 'pandas.core.frame.DataFrame'> <class 'pandas.core.frame.DataFrame'>\n",
      "(84, 1) (38, 1) (28, 1)\n",
      "<class 'pandas.core.frame.DataFrame'> <class 'pandas.core.frame.DataFrame'> <class 'pandas.core.frame.DataFrame'>\n"
     ]
    }
   ],
   "source": [
    "# 모델 인스턴스\n",
    "model = IrisRegModel()\n",
    "\n",
    "# 데이터셋 인스턴스\n",
    "X_train, X_test, y_train, y_test = train_test_split(featureDF,targetDF, random_state=1)\n",
    "X_train, X_val, y_train, y_val = train_test_split(X_train, y_train, random_state=1)\n",
    "print(f'{X_train.shape} {X_test.shape} {X_val.shape}')\n",
    "print(f'{type(X_train)} {type(X_test)} {type(X_val)}')\n",
    "print(f'{y_train.shape} {y_test.shape} {y_val.shape}')\n",
    "print(f'{type(y_train)} {type(y_test)} {type(y_val)}')\n",
    "\n",
    "trainDS = IrisDataset(X_train, y_train)\n",
    "testDS = IrisDataset(X_test, y_test)\n",
    "valDS = IrisDataset(X_val, y_val)\n",
    "\n",
    "# 데이터로더 인스턴스\n",
    "trainDL = DataLoader(trainDS, batch_size=BATCH_SIZE)"
   ]
  },
  {
   "cell_type": "code",
   "execution_count": 11,
   "metadata": {},
   "outputs": [
    {
     "name": "stdout",
     "output_type": "stream",
     "text": [
      "torch.Size([10, 3]) torch.Size([10, 1])\n",
      "torch.Size([10, 3]) torch.Size([10, 1])\n",
      "torch.Size([10, 3]) torch.Size([10, 1])\n",
      "torch.Size([10, 3]) torch.Size([10, 1])\n",
      "torch.Size([10, 3]) torch.Size([10, 1])\n",
      "torch.Size([10, 3]) torch.Size([10, 1])\n",
      "torch.Size([10, 3]) torch.Size([10, 1])\n",
      "torch.Size([10, 3]) torch.Size([10, 1])\n",
      "torch.Size([4, 3]) torch.Size([4, 1])\n"
     ]
    }
   ],
   "source": [
    "## [테스트] 데이터로더와 데이터셋 체크\n",
    "for feature, target in trainDL:\n",
    "    print(feature.shape, target.shape)"
   ]
  },
  {
   "cell_type": "code",
   "execution_count": 12,
   "metadata": {},
   "outputs": [],
   "source": [
    "# 최적화 인스턴스 => W,b텐서 즉, model.parameters() 전달 >> W,b 업데이트 시키는이유 >>> 오차를 줄여 최적의 모델을 찾기위해  \n",
    "optimizer = optim.Adam(model.parameters(), lr=LR)\n",
    "\n",
    "# 소실함수 인스턴스 => 회귀, MSE, MAE, RMSE ....\n",
    "reqLoss = nn.MSELoss()"
   ]
  },
  {
   "cell_type": "markdown",
   "metadata": {},
   "source": [
    "[5] 학습진행 <hr>"
   ]
  },
  {
   "cell_type": "code",
   "execution_count": 13,
   "metadata": {},
   "outputs": [
    {
     "name": "stdout",
     "output_type": "stream",
     "text": [
      "[1/1]\n"
     ]
    }
   ],
   "source": [
    "## 학습의 효과 확인, 손실값과 성능평가값 저장 필요 , 검증기능을 \n",
    "LOSS_HISTORY, SCORE_HISTORY = [[], []], [[], []]\n",
    " \n",
    "## 학습 모니터링/ 스케줄링 설정 => LOSS_HISTORY, SCORE_HISTORY 활용\n",
    "# 임계기준(얼마나 봐줄것인가?) : 10번(개발자 재량)제한, 카운팅 해야함\n",
    "BREAK_CNT=0\n",
    "LIMIT_VALUE= 10\n",
    "\n",
    "for epoch in range(EPOCH):\n",
    "    # 학습 모드로 모델 설정\n",
    "    model.train()\n",
    "    \n",
    "    # 배치 크기 만큼 데이터 로딩해서 학습 진행\n",
    "    loss_total, score_total = 0, 0\n",
    "    for featureTS, targetTS in trainDL:\n",
    "\n",
    "        # 학습 진행\n",
    "        pre_y = model(featureTS)\n",
    "\n",
    "        # 손실 계산\n",
    "        loss = reqLoss(pre_y, targetTS)\n",
    "        loss_total += loss.item()\n",
    "\n",
    "        # 성능 평가 계산\n",
    "        score = R2Score()(pre_y, targetTS) \n",
    "        score_total += score.item()\n",
    "\n",
    "        # 최적화 진행\n",
    "        optimizer.zero_grad()\n",
    "        loss.backward()\n",
    "        optimizer.step()\n",
    "\n",
    "    # 에포크 당 검증 기능\n",
    "    # 모델 검증 모드 설정 >> 검증이기에 업데이트 불필요\n",
    "    model.eval() \n",
    "    with torch.no_grad():\n",
    "        \n",
    "        # 검증 데이터셋\n",
    "        val_featrueTS = torch.FloatTensor(valDS.featureDF.values)\n",
    "        val_targetTS = torch.FloatTensor(valDS.targetDF.values)\n",
    "\n",
    "        # 추론 / 평가 \n",
    "        pre_val = model(val_featrueTS)\n",
    "        \n",
    "        # 손실\n",
    "        loss_val = reqLoss(pre_val, val_targetTS)\n",
    "        \n",
    "        # 성능평가\n",
    "        score_val = R2Score()(pre_val, val_targetTS)\n",
    "\n",
    "\n",
    "    # 에포크 당 손실값과 성능평가값 저장\n",
    "    LOSS_HISTORY[0].append(loss_total/BATCH_CNT)\n",
    "    SCORE_HISTORY[0].append(score_total/BATCH_CNT)\n",
    "\n",
    "    LOSS_HISTORY[1].append(loss/BATCH_CNT)\n",
    "    SCORE_HISTORY[1].append(score/BATCH_CNT)\n",
    "    print(f'[{epoch+1}/{EPOCH}]')\n",
    "\n",
    "\n",
    "    ## 학습 진행 모니터링/ 스케줄링 - 검증 DS 기준\n",
    "\n",
    "    # loss 기준\n",
    "    if len(LOSS_HISTORY[1]) > 1:\n",
    "        if LOSS_HISTORY[1][-1] >= LOSS_HISTORY[1][-2]: BREAK_CNT+=1 #\n",
    "            # 현재의 loss값         이전의 loss값\n",
    "            # >> 비교했을땐 작아야 좋은거지만, loss값이 커지거나 같은경우 멈출려고한다.\n",
    "            # 데이터에 따라서 그런 경우가 생길수도 있으니 횟수를 제한을 둬서 값이 반복되거나 커지면 딥러닝 스톱 \n",
    "\n",
    "    # score 기준(검증 기준)\n",
    "    #if len(SCORE_HISTORY[1]) > 1:\n",
    "    #   if SCORE_HISTORY[1][-1] >= SCORE_HISTORY[1][-2]: \n",
    "    #       BREAK_CNT+=1\n",
    "     \n",
    "               \n",
    "    # 학습 중단 여부 설정\n",
    "    if BREAK_CNT> LIMIT_VALUE:\n",
    "        print('성능 및 손실 개선이 없어서 학습 중단')\n",
    "        break\n"
   ]
  },
  {
   "cell_type": "code",
   "execution_count": 14,
   "metadata": {},
   "outputs": [
    {
     "data": {
      "text/plain": [
       "[[1.073683778444926], [tensor(0.0986, grad_fn=<DivBackward0>)]]"
      ]
     },
     "execution_count": 14,
     "metadata": {},
     "output_type": "execute_result"
    }
   ],
   "source": [
    "LOSS_HISTORY"
   ]
  },
  {
   "cell_type": "markdown",
   "metadata": {},
   "source": [
    "- 모델 저장 방법 <hr>\n",
    " + 방법 1 : 모델 파라미터만 저장\n",
    " + 방법 2 : 모델 설계 구조 및 파라미터까지 모두 저장"
   ]
  },
  {
   "cell_type": "code",
   "execution_count": 15,
   "metadata": {},
   "outputs": [
    {
     "data": {
      "text/plain": [
       "OrderedDict([('in_layer.weight',\n",
       "              tensor([[-0.1769,  0.2935, -0.2842],\n",
       "                      [-0.4461, -0.0313, -0.4481],\n",
       "                      [-0.4486, -0.4711,  0.4221],\n",
       "                      [ 0.3777,  0.0891, -0.2682],\n",
       "                      [ 0.5756, -0.1613, -0.1094],\n",
       "                      [-0.1554,  0.3050,  0.4954],\n",
       "                      [ 0.1119, -0.2989, -0.1417],\n",
       "                      [-0.1939,  0.2977, -0.1182],\n",
       "                      [ 0.1002, -0.0446,  0.4901],\n",
       "                      [-0.0419, -0.4556,  0.0954]])),\n",
       "             ('in_layer.bias',\n",
       "              tensor([ 0.5268,  0.3208, -0.2364, -0.5479, -0.0245, -0.1670,  0.2001,  0.5430,\n",
       "                      -0.4214,  0.4659])),\n",
       "             ('hd_layer.weight',\n",
       "              tensor([[ 0.2737,  0.1767,  0.0609,  0.2824,  0.1673, -0.3067,  0.1399,  0.2276,\n",
       "                        0.0176,  0.1808],\n",
       "                      [ 0.1850, -0.2508, -0.2145,  0.0970, -0.0230,  0.0420,  0.0003,  0.1636,\n",
       "                       -0.2193,  0.0666],\n",
       "                      [ 0.2407, -0.0852, -0.2939, -0.2242,  0.1115,  0.0710, -0.2815, -0.0806,\n",
       "                        0.2017,  0.2859],\n",
       "                      [ 0.1514,  0.1955, -0.3039,  0.2409, -0.2280,  0.1379,  0.2739,  0.2968,\n",
       "                       -0.1721,  0.2975],\n",
       "                      [-0.2690, -0.2494, -0.0352,  0.2380,  0.1461, -0.1787,  0.0428, -0.1540,\n",
       "                        0.1319,  0.1556],\n",
       "                      [-0.3058, -0.2534, -0.1349, -0.1884, -0.0546,  0.0747,  0.0290,  0.0814,\n",
       "                       -0.0196,  0.3087],\n",
       "                      [-0.0320, -0.1826,  0.2698, -0.1194,  0.0431,  0.1428,  0.1037,  0.2500,\n",
       "                        0.1400,  0.1328],\n",
       "                      [-0.2306,  0.2349, -0.2782, -0.2532, -0.1102,  0.3050,  0.2747, -0.1527,\n",
       "                        0.1632, -0.2630],\n",
       "                      [ 0.1161,  0.2235, -0.0372, -0.2927, -0.0056, -0.3125,  0.2442,  0.1424,\n",
       "                        0.2880, -0.0019],\n",
       "                      [ 0.1501, -0.1297,  0.2025, -0.1753, -0.1378, -0.1926,  0.2465,  0.3056,\n",
       "                        0.1406,  0.1253],\n",
       "                      [-0.2044,  0.1097, -0.3144,  0.2129,  0.2548,  0.1873, -0.1029, -0.2531,\n",
       "                       -0.0310, -0.1438],\n",
       "                      [ 0.2193, -0.1347,  0.1320, -0.2898,  0.1468,  0.0374, -0.1734,  0.0330,\n",
       "                        0.1901,  0.0388],\n",
       "                      [ 0.1156, -0.3047,  0.2375, -0.3099, -0.2984,  0.1402,  0.0232, -0.0011,\n",
       "                       -0.0197, -0.0978],\n",
       "                      [-0.0011,  0.2474,  0.0622,  0.2349,  0.0863, -0.3146,  0.1751, -0.1799,\n",
       "                        0.1116,  0.1483],\n",
       "                      [ 0.1721, -0.1744,  0.2272,  0.2451,  0.1292,  0.2853,  0.1696, -0.0985,\n",
       "                        0.0816, -0.2265],\n",
       "                      [-0.0152, -0.1323,  0.3066,  0.2444,  0.2650, -0.2183, -0.0625, -0.0928,\n",
       "                       -0.2760, -0.1029],\n",
       "                      [-0.0508, -0.2981,  0.1223,  0.2817,  0.0985, -0.2609, -0.1709,  0.1802,\n",
       "                        0.1955,  0.0857],\n",
       "                      [-0.1137,  0.2398,  0.1358, -0.0587,  0.1980, -0.1126,  0.0724,  0.1999,\n",
       "                       -0.2205, -0.2273],\n",
       "                      [ 0.0879, -0.1942,  0.1019, -0.2555,  0.1063, -0.0318,  0.1661,  0.1631,\n",
       "                        0.2661,  0.0873],\n",
       "                      [-0.1042,  0.1371, -0.1433,  0.2060,  0.1624,  0.0449,  0.0141, -0.1148,\n",
       "                       -0.1298,  0.2365],\n",
       "                      [-0.1956, -0.1132, -0.1459, -0.0852,  0.2694,  0.2592, -0.0522,  0.0173,\n",
       "                       -0.1379, -0.1080],\n",
       "                      [ 0.0434, -0.0680,  0.1696, -0.1287,  0.0350,  0.0999, -0.1453,  0.3106,\n",
       "                        0.0642,  0.2503],\n",
       "                      [ 0.2809,  0.2138, -0.0597,  0.1679, -0.1445, -0.3089,  0.1464, -0.3098,\n",
       "                        0.2807, -0.3071],\n",
       "                      [ 0.0555,  0.0601, -0.2009,  0.0764,  0.1282,  0.0185,  0.0114,  0.1194,\n",
       "                       -0.0568, -0.2333],\n",
       "                      [ 0.0866,  0.2785, -0.1138, -0.2375,  0.1981,  0.1462,  0.3082,  0.2230,\n",
       "                       -0.1537,  0.2751],\n",
       "                      [-0.2572, -0.0493,  0.1015,  0.0270, -0.2331, -0.0810,  0.1010, -0.1766,\n",
       "                       -0.0667, -0.0339],\n",
       "                      [-0.0604, -0.1074,  0.2895, -0.0246, -0.1896,  0.0068, -0.2552,  0.0950,\n",
       "                        0.2768, -0.2519],\n",
       "                      [ 0.2427,  0.1381,  0.3139,  0.2612,  0.2835, -0.1458,  0.1803, -0.0302,\n",
       "                       -0.0238,  0.2025],\n",
       "                      [ 0.3126, -0.0671, -0.0824, -0.1998,  0.2436, -0.0568, -0.1400,  0.1152,\n",
       "                        0.1482, -0.1295],\n",
       "                      [-0.0545,  0.2942,  0.1658, -0.2826, -0.1861,  0.0876,  0.2384, -0.2631,\n",
       "                        0.1530, -0.2357]])),\n",
       "             ('hd_layer.bias',\n",
       "              tensor([ 0.0800,  0.2870, -0.0476, -0.1128, -0.0945, -0.0983, -0.2919,  0.0819,\n",
       "                      -0.2760, -0.2723, -0.0596,  0.1820, -0.0453, -0.2218, -0.1358, -0.1297,\n",
       "                      -0.1463,  0.1164, -0.2653,  0.1585, -0.2452,  0.0087,  0.2508,  0.1242,\n",
       "                       0.0735, -0.2939,  0.0440, -0.1203, -0.0154, -0.3117])),\n",
       "             ('out_layer.weight',\n",
       "              tensor([[ 0.0579,  0.1739,  0.1114, -0.1264,  0.0991, -0.0374, -0.0535, -0.1142,\n",
       "                        0.0197,  0.1330, -0.0014,  0.1073, -0.1609,  0.1799,  0.1600,  0.1659,\n",
       "                        0.0389,  0.0552,  0.0541, -0.1116, -0.0100,  0.0265,  0.0039,  0.0498,\n",
       "                       -0.1280, -0.0839,  0.0707,  0.1265,  0.1188,  0.1676]])),\n",
       "             ('out_layer.bias', tensor([-0.1492]))])"
      ]
     },
     "execution_count": 15,
     "metadata": {},
     "output_type": "execute_result"
    }
   ],
   "source": [
    "### 학습된 모델 파라미터 값 확인\n",
    "model.state_dict()"
   ]
  },
  {
   "cell_type": "markdown",
   "metadata": {},
   "source": [
    "- [방법 1] 모델 파라미터 즉, 층별 가중치와 절편들"
   ]
  },
  {
   "cell_type": "code",
   "execution_count": 16,
   "metadata": {},
   "outputs": [],
   "source": [
    "### models 폴더 아래 프로젝트 폴더 아래 모델 파일 저장\n",
    "import os\n",
    "\n",
    "# 저장 경로\n",
    "SAVE_PATH = '../models/iris/'\n",
    "\n",
    "# 저장 파일명\n",
    "SAVE_FILE = 'model_train_wbs.pth'\n"
   ]
  },
  {
   "cell_type": "code",
   "execution_count": 17,
   "metadata": {},
   "outputs": [],
   "source": [
    "# 경로상 폴더 존재 여부 체크\n",
    "if not os.path.exists(SAVE_PATH):\n",
    "    os.makedirs(SAVE_PATH) # 폴더/폴더/... 하위 폴더까지 생성"
   ]
  },
  {
   "cell_type": "code",
   "execution_count": 18,
   "metadata": {},
   "outputs": [],
   "source": [
    "# 모델 저장                                                                                                  \n",
    "torch.save(model.state_dict(), SAVE_PATH+SAVE_FILE)"
   ]
  },
  {
   "cell_type": "markdown",
   "metadata": {},
   "source": [
    "모델 즉, 가중치와 절편 로딩\n",
    "- [1] 가중치와 절편 객체로 로딩\n",
    "- [2] 모델의  state_dict 속성에 저장"
   ]
  },
  {
   "cell_type": "code",
   "execution_count": 19,
   "metadata": {},
   "outputs": [
    {
     "data": {
      "text/plain": [
       "OrderedDict([('in_layer.weight',\n",
       "              tensor([[-0.1769,  0.2935, -0.2842],\n",
       "                      [-0.4461, -0.0313, -0.4481],\n",
       "                      [-0.4486, -0.4711,  0.4221],\n",
       "                      [ 0.3777,  0.0891, -0.2682],\n",
       "                      [ 0.5756, -0.1613, -0.1094],\n",
       "                      [-0.1554,  0.3050,  0.4954],\n",
       "                      [ 0.1119, -0.2989, -0.1417],\n",
       "                      [-0.1939,  0.2977, -0.1182],\n",
       "                      [ 0.1002, -0.0446,  0.4901],\n",
       "                      [-0.0419, -0.4556,  0.0954]])),\n",
       "             ('in_layer.bias',\n",
       "              tensor([ 0.5268,  0.3208, -0.2364, -0.5479, -0.0245, -0.1670,  0.2001,  0.5430,\n",
       "                      -0.4214,  0.4659])),\n",
       "             ('hd_layer.weight',\n",
       "              tensor([[ 0.2737,  0.1767,  0.0609,  0.2824,  0.1673, -0.3067,  0.1399,  0.2276,\n",
       "                        0.0176,  0.1808],\n",
       "                      [ 0.1850, -0.2508, -0.2145,  0.0970, -0.0230,  0.0420,  0.0003,  0.1636,\n",
       "                       -0.2193,  0.0666],\n",
       "                      [ 0.2407, -0.0852, -0.2939, -0.2242,  0.1115,  0.0710, -0.2815, -0.0806,\n",
       "                        0.2017,  0.2859],\n",
       "                      [ 0.1514,  0.1955, -0.3039,  0.2409, -0.2280,  0.1379,  0.2739,  0.2968,\n",
       "                       -0.1721,  0.2975],\n",
       "                      [-0.2690, -0.2494, -0.0352,  0.2380,  0.1461, -0.1787,  0.0428, -0.1540,\n",
       "                        0.1319,  0.1556],\n",
       "                      [-0.3058, -0.2534, -0.1349, -0.1884, -0.0546,  0.0747,  0.0290,  0.0814,\n",
       "                       -0.0196,  0.3087],\n",
       "                      [-0.0320, -0.1826,  0.2698, -0.1194,  0.0431,  0.1428,  0.1037,  0.2500,\n",
       "                        0.1400,  0.1328],\n",
       "                      [-0.2306,  0.2349, -0.2782, -0.2532, -0.1102,  0.3050,  0.2747, -0.1527,\n",
       "                        0.1632, -0.2630],\n",
       "                      [ 0.1161,  0.2235, -0.0372, -0.2927, -0.0056, -0.3125,  0.2442,  0.1424,\n",
       "                        0.2880, -0.0019],\n",
       "                      [ 0.1501, -0.1297,  0.2025, -0.1753, -0.1378, -0.1926,  0.2465,  0.3056,\n",
       "                        0.1406,  0.1253],\n",
       "                      [-0.2044,  0.1097, -0.3144,  0.2129,  0.2548,  0.1873, -0.1029, -0.2531,\n",
       "                       -0.0310, -0.1438],\n",
       "                      [ 0.2193, -0.1347,  0.1320, -0.2898,  0.1468,  0.0374, -0.1734,  0.0330,\n",
       "                        0.1901,  0.0388],\n",
       "                      [ 0.1156, -0.3047,  0.2375, -0.3099, -0.2984,  0.1402,  0.0232, -0.0011,\n",
       "                       -0.0197, -0.0978],\n",
       "                      [-0.0011,  0.2474,  0.0622,  0.2349,  0.0863, -0.3146,  0.1751, -0.1799,\n",
       "                        0.1116,  0.1483],\n",
       "                      [ 0.1721, -0.1744,  0.2272,  0.2451,  0.1292,  0.2853,  0.1696, -0.0985,\n",
       "                        0.0816, -0.2265],\n",
       "                      [-0.0152, -0.1323,  0.3066,  0.2444,  0.2650, -0.2183, -0.0625, -0.0928,\n",
       "                       -0.2760, -0.1029],\n",
       "                      [-0.0508, -0.2981,  0.1223,  0.2817,  0.0985, -0.2609, -0.1709,  0.1802,\n",
       "                        0.1955,  0.0857],\n",
       "                      [-0.1137,  0.2398,  0.1358, -0.0587,  0.1980, -0.1126,  0.0724,  0.1999,\n",
       "                       -0.2205, -0.2273],\n",
       "                      [ 0.0879, -0.1942,  0.1019, -0.2555,  0.1063, -0.0318,  0.1661,  0.1631,\n",
       "                        0.2661,  0.0873],\n",
       "                      [-0.1042,  0.1371, -0.1433,  0.2060,  0.1624,  0.0449,  0.0141, -0.1148,\n",
       "                       -0.1298,  0.2365],\n",
       "                      [-0.1956, -0.1132, -0.1459, -0.0852,  0.2694,  0.2592, -0.0522,  0.0173,\n",
       "                       -0.1379, -0.1080],\n",
       "                      [ 0.0434, -0.0680,  0.1696, -0.1287,  0.0350,  0.0999, -0.1453,  0.3106,\n",
       "                        0.0642,  0.2503],\n",
       "                      [ 0.2809,  0.2138, -0.0597,  0.1679, -0.1445, -0.3089,  0.1464, -0.3098,\n",
       "                        0.2807, -0.3071],\n",
       "                      [ 0.0555,  0.0601, -0.2009,  0.0764,  0.1282,  0.0185,  0.0114,  0.1194,\n",
       "                       -0.0568, -0.2333],\n",
       "                      [ 0.0866,  0.2785, -0.1138, -0.2375,  0.1981,  0.1462,  0.3082,  0.2230,\n",
       "                       -0.1537,  0.2751],\n",
       "                      [-0.2572, -0.0493,  0.1015,  0.0270, -0.2331, -0.0810,  0.1010, -0.1766,\n",
       "                       -0.0667, -0.0339],\n",
       "                      [-0.0604, -0.1074,  0.2895, -0.0246, -0.1896,  0.0068, -0.2552,  0.0950,\n",
       "                        0.2768, -0.2519],\n",
       "                      [ 0.2427,  0.1381,  0.3139,  0.2612,  0.2835, -0.1458,  0.1803, -0.0302,\n",
       "                       -0.0238,  0.2025],\n",
       "                      [ 0.3126, -0.0671, -0.0824, -0.1998,  0.2436, -0.0568, -0.1400,  0.1152,\n",
       "                        0.1482, -0.1295],\n",
       "                      [-0.0545,  0.2942,  0.1658, -0.2826, -0.1861,  0.0876,  0.2384, -0.2631,\n",
       "                        0.1530, -0.2357]])),\n",
       "             ('hd_layer.bias',\n",
       "              tensor([ 0.0800,  0.2870, -0.0476, -0.1128, -0.0945, -0.0983, -0.2919,  0.0819,\n",
       "                      -0.2760, -0.2723, -0.0596,  0.1820, -0.0453, -0.2218, -0.1358, -0.1297,\n",
       "                      -0.1463,  0.1164, -0.2653,  0.1585, -0.2452,  0.0087,  0.2508,  0.1242,\n",
       "                       0.0735, -0.2939,  0.0440, -0.1203, -0.0154, -0.3117])),\n",
       "             ('out_layer.weight',\n",
       "              tensor([[ 0.0579,  0.1739,  0.1114, -0.1264,  0.0991, -0.0374, -0.0535, -0.1142,\n",
       "                        0.0197,  0.1330, -0.0014,  0.1073, -0.1609,  0.1799,  0.1600,  0.1659,\n",
       "                        0.0389,  0.0552,  0.0541, -0.1116, -0.0100,  0.0265,  0.0039,  0.0498,\n",
       "                       -0.1280, -0.0839,  0.0707,  0.1265,  0.1188,  0.1676]])),\n",
       "             ('out_layer.bias', tensor([-0.1492]))])"
      ]
     },
     "execution_count": 19,
     "metadata": {},
     "output_type": "execute_result"
    }
   ],
   "source": [
    "# 읽기\n",
    "wbTS = torch.load(SAVE_PATH+SAVE_FILE, weights_only = True)\n",
    "wbTS "
   ]
  },
  {
   "cell_type": "code",
   "execution_count": 20,
   "metadata": {},
   "outputs": [
    {
     "data": {
      "text/plain": [
       "<All keys matched successfully>"
      ]
     },
     "execution_count": 20,
     "metadata": {},
     "output_type": "execute_result"
    }
   ],
   "source": [
    "# 모델 인트턴스에 저장\n",
    "model2 = IrisRegModel() # 층마다 W,b 초기화\n",
    "model2.load_state_dict(wbTS)"
   ]
  },
  {
   "cell_type": "code",
   "execution_count": 21,
   "metadata": {},
   "outputs": [
    {
     "name": "stdout",
     "output_type": "stream",
     "text": [
      "IrisRegModel(\n",
      "  (in_layer): Linear(in_features=3, out_features=10, bias=True)\n",
      "  (hd_layer): Linear(in_features=10, out_features=30, bias=True)\n",
      "  (out_layer): Linear(in_features=30, out_features=1, bias=True)\n",
      ")\n"
     ]
    }
   ],
   "source": [
    "print(model2)"
   ]
  },
  {
   "cell_type": "code",
   "execution_count": null,
   "metadata": {},
   "outputs": [],
   "source": []
  }
 ],
 "metadata": {
  "kernelspec": {
   "display_name": "TORCH_38",
   "language": "python",
   "name": "python3"
  },
  "language_info": {
   "codemirror_mode": {
    "name": "ipython",
    "version": 3
   },
   "file_extension": ".py",
   "mimetype": "text/x-python",
   "name": "python",
   "nbconvert_exporter": "python",
   "pygments_lexer": "ipython3",
   "version": "3.8.19"
  }
 },
 "nbformat": 4,
 "nbformat_minor": 2
}
