{
 "cells": [
  {
   "cell_type": "markdown",
   "metadata": {},
   "source": [
    "1. 퍼셉트론(Perceptron) 개념에 대해 설명하세요\n",
    "    - 인공신경망에서 사용되는 사람의 뉴런형태를 본받아 만들어진 전달체 "
   ]
  },
  {
   "cell_type": "markdown",
   "metadata": {},
   "source": [
    "2. 퍼셉트론(Perceptron) 기본 동작 원리 및 수식을 도식화와 함께 작성해주세요\n",
    "    -  조건 피쳐 4 개 퍼셉트론 1 개\n",
    "\n",
    "*  주어진 자극의 개수만큼 [y = W1X1+ W2X2+ W3X3+ W4X4+ b] 퍼셉트론에 대입됨, 그 후에 AF로 출력\n",
    "\n",
    "+ 피쳐1 --┐\n",
    "+ 피쳐2 --┐ ____>> 퍼셉트론 >> [AF] \n",
    "+ 피쳐3 --」 \n",
    "+ 피쳐4 --」"
   ]
  },
  {
   "cell_type": "markdown",
   "metadata": {},
   "source": [
    "3. 활성화함수(Activation Function)의 역할을 설명하세요\n",
    "    - 퍼셉트론에 수식이 들어오게 되면 들어온 수식을 대입하여 해당 퍼셉트론의 y값을 도출                                            _                                                                                          "
   ]
  },
  {
   "cell_type": "markdown",
   "metadata": {},
   "source": [
    "4. 대표적인 활성화함수(Activation Function) 에 대해 설명하세요\n",
    " \n",
    " - ReLU, y>=0\n",
    " - ReLU보완해주기 위해 Leaky RelU   \n",
    " - sigmoid, 0<= y <1\n",
    " -"
   ]
  },
  {
   "cell_type": "markdown",
   "metadata": {},
   "source": [
    "5. 경사하강법의 개념 및 대표적인 경사하강법 알고리즘에 대해 간략히 설명하세요\n",
    "- 입력 데이터에 대한 예측과 실제 데이터의 오차를 구하기위한 그래프 \n",
    "- optimizer - W,b값을 모델에 업데이트 >>> 오차를 줄여 최적의 모델을 찾기위해"
   ]
  },
  {
   "cell_type": "code",
   "execution_count": 1,
   "metadata": {},
   "outputs": [],
   "source": [
    "import torch                                    \n",
    "import torch.nn as nn                          \n",
    "import torch.nn.functional as F                "
   ]
  },
  {
   "cell_type": "markdown",
   "metadata": {},
   "source": [
    "6. 회귀 모델 구현을 간략하게 코드 작성하세요\n",
    " - 피쳐 3개"
   ]
  },
  {
   "cell_type": "code",
   "execution_count": 2,
   "metadata": {},
   "outputs": [],
   "source": [
    "class RegModel(nn.Module):\n",
    "    def __init__(self):\n",
    "        super().__init__()\n",
    "\n",
    "        self.in_layer = nn.Linear(3,10)\n",
    "        self.hd_layer = nn.Linear(10,5)\n",
    "        self.out_layer = nn.Linear(5,1)\n",
    "\n",
    "    def forward(self, input_data):\n",
    "        y = F.relu(self.in_layer(input_data))                 \n",
    "        y = F.relu(self.hd_layer(y))\n",
    "        return self.out_layer(y)          "
   ]
  },
  {
   "cell_type": "markdown",
   "metadata": {},
   "source": [
    "7. 이진분류 모델 구현을 간략하게 코드 작성하세요\n",
    " - 피쳐: 5개, 클래스: 2개, 층: 4개 "
   ]
  },
  {
   "cell_type": "code",
   "execution_count": 3,
   "metadata": {},
   "outputs": [],
   "source": [
    "class BinModel(nn.Module):\n",
    "    def __init__(self):\n",
    "        super().__init__()\n",
    "\n",
    "        self.in_layer = nn.Linear(5,10)\n",
    "        self.hd1_layer = nn.Linear(10,7)\n",
    "        self.hd2_layer = nn.Linear(7,5)\n",
    "        self.out_layer = nn.Linear(5,1)\n",
    "\n",
    "    def forward(self, input_data):\n",
    "        y = F.relu(self.in_layer(input_data)) # 입력층           \n",
    "        y = F.relu(self.hd1_layer(y)) # 은닉층 1\n",
    "        y = F.relu(self.hd2_layer(y)) # 은닉층 2\n",
    "        return self.out_layer(y) # 출력층 "
   ]
  },
  {
   "cell_type": "markdown",
   "metadata": {},
   "source": [
    "8. 다중분류 모델 구현을 간략하게 코드 작성하세요\n",
    " - 피쳐: 5개, 클래스: 8개, 층: 3 ~ 5개  퍼셉트론: 동적"
   ]
  },
  {
   "cell_type": "code",
   "execution_count": 4,
   "metadata": {},
   "outputs": [],
   "source": [
    "class MultiModel(nn.Module):\n",
    "    def __init__(self):\n",
    "        super().__init__()\n",
    "\n",
    "        self.in_layer = nn.Linear(5,20)\n",
    "        self.hd1_layer = nn.Linear(20,13)\n",
    "        self.hd2_layer = nn.Linear(13,30)\n",
    "        self.hd3_layer = nn.Linear(30,15)\n",
    "        self.out_layer = nn.Linear(15,8)\n",
    "\n",
    "    def forward(self, input_data):\n",
    "        y = F.relu(self.in_layer(input_data)) # 입력층           \n",
    "        y = F.relu(self.hd1_layer(y)) # 은닉층 1\n",
    "        y = F.relu(self.hd2_layer(y)) # 은닉층 2\n",
    "        y = F.relu(self.hd3_layer(y)) # 은닉층 3\n",
    "        return self.out_layer(y) # 출력층 "
   ]
  },
  {
   "cell_type": "markdown",
   "metadata": {},
   "source": [
    "9. 기울기 소실 개념 및 해결 방법을 설명하세요    \n",
    "????????? "
   ]
  },
  {
   "cell_type": "markdown",
   "metadata": {},
   "source": [
    "10. 파이토치의 모델 동작 모드에 대해 관련 함수도 함께 설명하세요     \n",
    "\n",
    "model.train() - 학습 모드     \n",
    "model.eval() - 검증 모드     \n",
    "\n",
    "train에서는 최적화를 적용하여 최적의 모델을 학습하는 단계     \n",
    "val에서는 최적화를 끄고 진행, train에서 진행 되었던 모델이 맞게 학습되었는지 검증하는 단계      "
   ]
  }
 ],
 "metadata": {
  "kernelspec": {
   "display_name": "TORCH_38",
   "language": "python",
   "name": "python3"
  },
  "language_info": {
   "codemirror_mode": {
    "name": "ipython",
    "version": 3
   },
   "file_extension": ".py",
   "mimetype": "text/x-python",
   "name": "python",
   "nbconvert_exporter": "python",
   "pygments_lexer": "ipython3",
   "version": "3.8.19"
  }
 },
 "nbformat": 4,
 "nbformat_minor": 2
}
