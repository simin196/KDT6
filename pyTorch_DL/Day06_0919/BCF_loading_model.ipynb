{
 "cells": [
  {
   "cell_type": "markdown",
   "metadata": {},
   "source": [
    "##### 저장 된 모델 활용\n",
    "- 모델 파일 종류\n",
    "    * 가중치 및 절편 저장 파일 => 동일한 구조 모델 인스턴스 생성 후 사용 가능\n",
    "    * 모델 전체 저장 파일 => 바로 로딩 후 사용 가능"
   ]
  },
  {
   "cell_type": "markdown",
   "metadata": {},
   "source": [
    "[1] 모듈 로딩 <hr>"
   ]
  },
  {
   "cell_type": "code",
   "execution_count": 5,
   "metadata": {},
   "outputs": [],
   "source": [
    "# 모듈로딩\n",
    "# Model 관련\n",
    "import torch\n",
    "import torch.nn as nn\n",
    "import torch.nn.functional as F\n",
    "from torchmetrics.classification import F1Score, BinaryF1Score, BinaryConfusionMatrix\n",
    "from torchinfo import summary"
   ]
  },
  {
   "cell_type": "code",
   "execution_count": 6,
   "metadata": {},
   "outputs": [],
   "source": [
    "### models 폴더 아래 프로젝트 폴더 아래 모델 파일 저장\n",
    "import os\n",
    "\n",
    "# 저장 경로\n",
    "SAVE_PATH = '../models/iris/'\n",
    "\n",
    "# 저장 파일명\n",
    "SAVE_FILE = SAVE_PATH + 'model_train_BCF.pth'\n",
    "\n",
    "# 모델 구조 및 파라미터 모두 저장 파일명\n",
    "SAVE_MODEL = SAVE_PATH + 'model_all_bcf.pth'"
   ]
  },
  {
   "cell_type": "code",
   "execution_count": 7,
   "metadata": {},
   "outputs": [],
   "source": [
    "class IrisBCMModel(nn.Module):\n",
    "\n",
    "    # 모델 구조 구성 및 인스턴스 생성 메서드\n",
    "    def __init__(self):\n",
    "        super().__init__()\n",
    "\n",
    "        self.in_layer = nn.Linear(4,10)\n",
    "        self.hd_layer = nn.Linear(10,5)\n",
    "        self.out_layer = nn.Linear(5,1)\n",
    "\n",
    "    # 순방향 학습 진행 메서드\n",
    "    def forward(self, input_data):\n",
    "\n",
    "        # 입력층 \n",
    "        y = self.in_layer(input_data)   \n",
    "        y = F.relu(y)                   # f1_1w1_1+f1_2w1_2+f1_3w1_3+b << *10개\n",
    "        # relu => y값의 범위 : 0 <= y\n",
    "\n",
    "        # 은닉층 : 10개의 숫자 값(y >= 0)\n",
    "        y=self.hd_layer(y)              # f2_1w2_1+f2_2w2_2+....f2_10w2_10 +b << *5개\n",
    "        y = F.relu(y)\n",
    "\n",
    "        # 출력층 : 5개의 숫자 값(y >= 0) >> 2진분류\n",
    "        return F.sigmoid(self.out_layer(y)) # f3_1w3_1+.....f3_5w3_5+b << *1개"
   ]
  },
  {
   "cell_type": "markdown",
   "metadata": {},
   "source": [
    "[2] 모듈 로딩- 모델 전체 파일 사용"
   ]
  },
  {
   "cell_type": "code",
   "execution_count": 8,
   "metadata": {},
   "outputs": [],
   "source": [
    "irisModel = torch.load(SAVE_MODEL, weights_only=False)\n",
    "# weights_only= ''>> 모델을 저장하거나 로드할 때 사용하는 파라미터\n",
    "# True로 설정하면 모델의 가중치만 저장되고\n",
    "# False로 설정하면 모델의 전체 상태 (구조, 옵티마이저 상태 등)가 함께 저장"
   ]
  },
  {
   "cell_type": "code",
   "execution_count": 9,
   "metadata": {},
   "outputs": [
    {
     "data": {
      "text/plain": [
       "=================================================================\n",
       "Layer (type:depth-idx)                   Param #\n",
       "=================================================================\n",
       "IrisBCMModel                             --\n",
       "├─Linear: 1-1                            50\n",
       "├─Linear: 1-2                            55\n",
       "├─Linear: 1-3                            6\n",
       "=================================================================\n",
       "Total params: 111\n",
       "Trainable params: 111\n",
       "Non-trainable params: 0\n",
       "================================================================="
      ]
     },
     "execution_count": 9,
     "metadata": {},
     "output_type": "execute_result"
    }
   ],
   "source": [
    "summary(irisModel)"
   ]
  },
  {
   "cell_type": "markdown",
   "metadata": {},
   "source": [
    "[3] 예측 <hr>"
   ]
  },
  {
   "cell_type": "code",
   "execution_count": 10,
   "metadata": {},
   "outputs": [
    {
     "data": {
      "text/plain": [
       "[5.0, 5.0, 5.0, 5.0]"
      ]
     },
     "execution_count": 10,
     "metadata": {},
     "output_type": "execute_result"
    }
   ],
   "source": [
    "iris=[float(x) for x in input('SL, SW, PL, PW:').split(',')] # 데이터 대입 \n",
    "iris"
   ]
  },
  {
   "cell_type": "code",
   "execution_count": 11,
   "metadata": {},
   "outputs": [
    {
     "data": {
      "text/plain": [
       "(torch.Size([1, 4]), tensor([[5., 5., 5., 5.]]))"
      ]
     },
     "execution_count": 11,
     "metadata": {},
     "output_type": "execute_result"
    }
   ],
   "source": [
    "dataTS=torch.FloatTensor(iris).reshape(1,-1)\n",
    "dataTS.shape, dataTS"
   ]
  },
  {
   "cell_type": "code",
   "execution_count": 12,
   "metadata": {},
   "outputs": [
    {
     "name": "stdout",
     "output_type": "stream",
     "text": [
      "tensor([[0.3657]])\n"
     ]
    }
   ],
   "source": [
    "# 새로운 데이터에 대한 예측 즉, predict\n",
    "irisModel.eval() # 검증모드 켜기!\n",
    "with torch.no_grad():\n",
    "    # 추론/평가\n",
    "    pre_val=irisModel(dataTS)\n",
    "\n",
    "print(pre_val)"
   ]
  },
  {
   "cell_type": "code",
   "execution_count": null,
   "metadata": {},
   "outputs": [],
   "source": [
    "def pridict():\n",
    "    pass"
   ]
  },
  {
   "cell_type": "markdown",
   "metadata": {},
   "source": []
  },
  {
   "cell_type": "markdown",
   "metadata": {},
   "source": []
  },
  {
   "cell_type": "markdown",
   "metadata": {},
   "source": [
    "* * *"
   ]
  },
  {
   "cell_type": "code",
   "execution_count": 13,
   "metadata": {},
   "outputs": [],
   "source": [
    "def test(name, phone):\n",
    "    \"\"\"_summary_\n",
    "        테스트용 함수\n",
    "    Args:\n",
    "        name (string): new member name\n",
    "        phone (string): new member phone '010-1111-1111' , '010.1111.1111'\n",
    "    \"\"\"\n",
    "    print(f'New Member : {name}, {phone}')"
   ]
  },
  {
   "cell_type": "code",
   "execution_count": null,
   "metadata": {},
   "outputs": [],
   "source": []
  },
  {
   "cell_type": "code",
   "execution_count": null,
   "metadata": {},
   "outputs": [],
   "source": []
  }
 ],
 "metadata": {
  "kernelspec": {
   "display_name": "TORCH_38",
   "language": "python",
   "name": "python3"
  },
  "language_info": {
   "codemirror_mode": {
    "name": "ipython",
    "version": 3
   },
   "file_extension": ".py",
   "mimetype": "text/x-python",
   "name": "python",
   "nbconvert_exporter": "python",
   "pygments_lexer": "ipython3",
   "version": "3.8.19"
  }
 },
 "nbformat": 4,
 "nbformat_minor": 2
}
