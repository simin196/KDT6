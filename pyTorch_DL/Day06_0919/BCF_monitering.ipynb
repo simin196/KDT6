{
 "cells": [
  {
   "cell_type": "markdown",
   "metadata": {},
   "source": [
    "#### DNN 기반 이진분류 모델 구현\n",
    "- 데이터셋 : iris.csv\n",
    "- 피쳐/라벨 : 4개 sepal.length, sepal.width, petal.length, petal.width\n",
    "- 타겟/라벨 : 1개 Setosa와 나머지 (이진 분류이기에 클래스는 2개)\n",
    "- 학습 방법 : 지도 학습 > 분류 > 이진분류\n",
    "- 학습 알고리즘 : 인공신경망 (ANN) -> MLP(Multi Layer Percetron), 심층신경망(DNN)(은닉층 多)\n",
    "- 프레임 워크 : Pytorch\n",
    "---\n",
    "- 모니터링 \n",
    "    * 기준 : 검정데이터셋의 loss 와 score\n",
    "    * 평가 : 학습데이터셋의 loss 와 score 와 비교해서 학습 중단여부 결정\n",
    "    * 선택 : 현재까지 진행된 모델의 파라미터(가중치, 절편) 저장 여부 또는 모델 전체 저장\n"
   ]
  },
  {
   "cell_type": "markdown",
   "metadata": {},
   "source": [
    "[1] 모듈 로딩 및 데이터 준비 <hr>"
   ]
  },
  {
   "cell_type": "code",
   "execution_count": 1,
   "metadata": {},
   "outputs": [],
   "source": [
    "# 모듈 로딩\n",
    "# 1. 모델관련\n",
    "import torch                     # 텐서 및 수치 계산 함수 관련 모듈\n",
    "import torch.nn as nn            # 인공신경망 관련 모듈\n",
    "import torch.nn.functional as F  # 손실, 거리 등 함수 관련 모듈\n",
    "\n",
    "# 2. 데이터 셋 관련                    \n",
    "from torch.utils.data import DataLoader, Dataset\n",
    "\n",
    "# 3. 최적화에 관련\n",
    "import torch.optim as optim      # 최적화 기법 관련 모듈\n",
    "\n",
    "# 4. 모델 평가\n",
    "from torchmetrics.classification import F1Score, BinaryF1Score, BinaryConfusionMatrix\n",
    "\n",
    "# 5. 모델의 구조를 보는 모듈\n",
    "from torchinfo import summary    # 모델 정보 관련 모듈\n",
    "\n",
    "# 6. Data 관련\n",
    "import pandas as pd                 # 데이터 파일 분석 관련 모듈\n",
    "import matplotlib.pyplot as plt\n",
    "from sklearn.preprocessing import *\n",
    "from sklearn.model_selection import train_test_split"
   ]
  },
  {
   "cell_type": "code",
   "execution_count": 2,
   "metadata": {},
   "outputs": [
    {
     "name": "stdout",
     "output_type": "stream",
     "text": [
      "Pytroch v.2.4.1\n",
      "Pandas v.2.0.3\n"
     ]
    }
   ],
   "source": [
    "# 활용 패키지 버전 체크 ==> 사용자 정의 함수로 구현하세요~~\n",
    "print(f'Pytroch v.{torch.__version__}')\n",
    "print(f'Pandas v.{pd.__version__}')"
   ]
  },
  {
   "cell_type": "code",
   "execution_count": 3,
   "metadata": {},
   "outputs": [
    {
     "data": {
      "text/html": [
       "<div>\n",
       "<style scoped>\n",
       "    .dataframe tbody tr th:only-of-type {\n",
       "        vertical-align: middle;\n",
       "    }\n",
       "\n",
       "    .dataframe tbody tr th {\n",
       "        vertical-align: top;\n",
       "    }\n",
       "\n",
       "    .dataframe thead th {\n",
       "        text-align: right;\n",
       "    }\n",
       "</style>\n",
       "<table border=\"1\" class=\"dataframe\">\n",
       "  <thead>\n",
       "    <tr style=\"text-align: right;\">\n",
       "      <th></th>\n",
       "      <th>sepal.length</th>\n",
       "      <th>sepal.width</th>\n",
       "      <th>petal.length</th>\n",
       "      <th>petal.width</th>\n",
       "      <th>variety</th>\n",
       "    </tr>\n",
       "  </thead>\n",
       "  <tbody>\n",
       "    <tr>\n",
       "      <th>0</th>\n",
       "      <td>5.1</td>\n",
       "      <td>3.5</td>\n",
       "      <td>1.4</td>\n",
       "      <td>0.2</td>\n",
       "      <td>Setosa</td>\n",
       "    </tr>\n",
       "  </tbody>\n",
       "</table>\n",
       "</div>"
      ],
      "text/plain": [
       "   sepal.length  sepal.width  petal.length  petal.width variety\n",
       "0           5.1          3.5           1.4          0.2  Setosa"
      ]
     },
     "execution_count": 3,
     "metadata": {},
     "output_type": "execute_result"
    }
   ],
   "source": [
    "# 데이터 로딩\n",
    "DATA_file ='../data/iris.csv'\n",
    "\n",
    "# CSV >> DF\n",
    "irisDF = pd.read_csv(DATA_file)\n",
    "\n",
    "# 확인\n",
    "irisDF.head(1)"
   ]
  },
  {
   "cell_type": "code",
   "execution_count": 4,
   "metadata": {},
   "outputs": [
    {
     "data": {
      "text/plain": [
       "array(['Setosa', 'Versicolor', 'Virginica'], dtype=object)"
      ]
     },
     "execution_count": 4,
     "metadata": {},
     "output_type": "execute_result"
    }
   ],
   "source": [
    "### 타겟 변경 >> 정수화, 클래스 3개 >> 2개로 변경\n",
    "irisDF['variety'].unique()"
   ]
  },
  {
   "cell_type": "code",
   "execution_count": 5,
   "metadata": {},
   "outputs": [
    {
     "data": {
      "text/plain": [
       "(array([1, 0]),\n",
       "    sepal.length  sepal.width  petal.length  petal.width  variety\n",
       " 0           5.1          3.5           1.4          0.2        1)"
      ]
     },
     "execution_count": 5,
     "metadata": {},
     "output_type": "execute_result"
    }
   ],
   "source": [
    "# 클래스 3개 >> 2개로 변경\n",
    "irisDF['variety'] = (irisDF['variety'] == 'Setosa')\n",
    "irisDF['variety'] = irisDF['variety'].astype('int')\n",
    "irisDF['variety'].unique() , irisDF.head(1)"
   ]
  },
  {
   "cell_type": "code",
   "execution_count": 6,
   "metadata": {},
   "outputs": [],
   "source": [
    "### 타겟 정수화 >> Multi 참고\n",
    "# label = dict(zip(irisDF['variety'].unique().tolist(), range(3)))\n",
    "# print(f'label => {label}')\n",
    "# irisDF['variety'] = irisDF['variety'].replace(label)"
   ]
  },
  {
   "cell_type": "markdown",
   "metadata": {},
   "source": [
    "[2] 모델 클래스 설계 및 정의 <hr>\n",
    "- 클래스 목적 : iris 데이터를 학습 및 추론 목적\n",
    "- 클래스 이름 : IrisBCFModel\n",
    "- 부모 클래스 : nn.Module\n",
    "- 매개 변수 : 층별 입출력 개수 고정하기 때문에 필요 없음\n",
    "- 속성 필드 : \n",
    "- 기능 역할(필수 메서드) : _ _init_ _() - 모델 구조 설정, forward() - 순방향 학습 <== 오버라이딩(overriding) >> 상속받을 때만 가능\n",
    "- 클래스 구조\n",
    "    * 입력층 - 입력  4개 (피쳐 개수) >  출력 10개 (퍼셉트론 / 뉴런 10개 존재)\n",
    "    * 은닉층 - 입력 10개            >  출력  5개 (퍼셉트론 / 뉴런 5개 존재)\n",
    "    * 출력층 - 입력 5개             >  출력  1개 (퍼셉트론 / 뉴런 1개 존재, 2진분류)\n",
    "\n",
    "- 활성화함수\n",
    "    * 클래스 형태 ==> nn.MESLose, nn.ReLU ==> _ _init_ _() 메서드\n",
    "    * 함수 형태 ==> torch.nn.functional 아래에 ==> forward() 메서드"
   ]
  },
  {
   "cell_type": "code",
   "execution_count": 7,
   "metadata": {},
   "outputs": [],
   "source": [
    "class IrisBCMModel(nn.Module):\n",
    "\n",
    "    # 모델 구조 구성 및 인스턴스 생성 메서드\n",
    "    def __init__(self):\n",
    "        super().__init__()\n",
    "\n",
    "        self.in_layer = nn.Linear(4,10)\n",
    "        self.hd_layer = nn.Linear(10,5)\n",
    "        self.out_layer = nn.Linear(5,1)\n",
    "\n",
    "    # 순방향 학습 진행 메서드\n",
    "    def forward(self, input_data):\n",
    "\n",
    "        # 입력층 \n",
    "        y = self.in_layer(input_data)   \n",
    "        y = F.relu(y)                   # relu => y값의 범위 : 0 <= y\n",
    "\n",
    "        # 은닉층 : 10개의 숫자 값(y >= 0)\n",
    "        y=self.hd_layer(y)\n",
    "        y = F.relu(y)\n",
    "\n",
    "        # 출력층 : 5개의 숫자 값(y >= 0) >> 2진분류\n",
    "        return F.sigmoid(self.out_layer(y))"
   ]
  },
  {
   "cell_type": "code",
   "execution_count": 8,
   "metadata": {},
   "outputs": [
    {
     "name": "stdout",
     "output_type": "stream",
     "text": [
      "IrisBCMModel(\n",
      "  (in_layer): Linear(in_features=4, out_features=10, bias=True)\n",
      "  (hd_layer): Linear(in_features=10, out_features=5, bias=True)\n",
      "  (out_layer): Linear(in_features=5, out_features=1, bias=True)\n",
      ")\n"
     ]
    }
   ],
   "source": [
    "# 모델 인스턴스 생성[확인 용도]\n",
    "model = IrisBCMModel()\n",
    "print(model)"
   ]
  },
  {
   "cell_type": "code",
   "execution_count": 9,
   "metadata": {},
   "outputs": [
    {
     "data": {
      "text/plain": [
       "==========================================================================================\n",
       "Layer (type:depth-idx)                   Output Shape              Param #\n",
       "==========================================================================================\n",
       "IrisBCMModel                             [17, 1]                   --\n",
       "├─Linear: 1-1                            [17, 10]                  50\n",
       "├─Linear: 1-2                            [17, 5]                   55\n",
       "├─Linear: 1-3                            [17, 1]                   6\n",
       "==========================================================================================\n",
       "Total params: 111\n",
       "Trainable params: 111\n",
       "Non-trainable params: 0\n",
       "Total mult-adds (M): 0.00\n",
       "==========================================================================================\n",
       "Input size (MB): 0.00\n",
       "Forward/backward pass size (MB): 0.00\n",
       "Params size (MB): 0.00\n",
       "Estimated Total Size (MB): 0.00\n",
       "=========================================================================================="
      ]
     },
     "execution_count": 9,
     "metadata": {},
     "output_type": "execute_result"
    }
   ],
   "source": [
    "### 모델 사용 메로리 정보 확인\n",
    "summary(model, input_size=(17,4)) # 데이터양, 피쳐개수"
   ]
  },
  {
   "cell_type": "markdown",
   "metadata": {},
   "source": [
    "[3] 데이터셋 클래스 설계 및 정의 <hr>\n",
    "- 데이터셋 : iris.csv\n",
    "- 피쳐 개수 : 4개\n",
    "- 타겟 개수 : 1개 [0과 1]\n",
    "- 클래스 이름 : IrisDataset\n",
    "- 부모클래스 : utils.data.Dataset\n",
    "- 속성_필드 : featuresDF, targetDF, n_rows, n_features\n",
    "- 필수메서드\n",
    "    * __init__(self) : 데이터셋 저장 및 전처리, 개발자가 필요한 속성 설정\n",
    "    * __len__(self) : 데이터의 개수 반환\n",
    "    * __getitme__(self, index) : 특정 인덱스의 피쳐와 타겟 반환"
   ]
  },
  {
   "cell_type": "code",
   "execution_count": 10,
   "metadata": {},
   "outputs": [],
   "source": [
    "class IrisDataset(Dataset):\n",
    "    def __init__(self, featureDF, targetDF):\n",
    "        self.featureDF = featureDF\n",
    "        self.targetDF = targetDF\n",
    "        self.n_rows = featureDF.shape[0] # >> 새로 속성 추가, 데이터 수 확인\n",
    "        self.n_features = featureDF.shape[1] # >> 새로 속성 추가, 피쳐 개수 확인\n",
    "    \n",
    "    def __len__(self):\n",
    "        return self.n_rows\n",
    "    \n",
    "    def __getitem__(self, index):\n",
    "    \n",
    "        # 텐서화\n",
    "        featureTS = torch.FloatTensor(self.featureDF.iloc[index].values) # values하는 이유 >> array를 하기위해\n",
    "        targetTS = torch.FloatTensor(self.targetDF.iloc[index].values)\n",
    "\n",
    "        # 피쳐와 타겟 반환\n",
    "        return featureTS, targetTS"
   ]
  },
  {
   "cell_type": "code",
   "execution_count": 11,
   "metadata": {},
   "outputs": [
    {
     "name": "stdout",
     "output_type": "stream",
     "text": [
      "torch.Size([1, 4]) torch.Size([1, 1]) tensor([[5.1000, 3.5000, 1.4000, 0.2000]]) tensor([[1.]])\n"
     ]
    }
   ],
   "source": [
    "## [테스트] 데이터셋 인스턴스 생성 \n",
    "\n",
    "# DF에서 피쳐와 타겟 추출\n",
    "featureDF = irisDF[irisDF.columns[:-1]] # 2D (150,4)\n",
    "targetDF = irisDF[irisDF.columns[-1:]]  # 2D (150,1)\n",
    "\n",
    "# 커스텀데이터셋 인스턴스 생성\n",
    "irisDS = IrisDataset(featureDF, targetDF)\n",
    "\n",
    "# 데이터 로더 인스턴스 생성\n",
    "irisDL = DataLoader(irisDS)\n",
    "for feature, label in irisDL:\n",
    "    print(feature.shape, label.shape, feature, label)\n",
    "    break"
   ]
  },
  {
   "cell_type": "markdown",
   "metadata": {},
   "source": [
    "[4] 학습 준비 <hr>\n",
    "- 학습 횟수 : EPOCH     << 처음 ~ 끝까지 공부하는 단위\n",
    "- 배치 크기 : BATCH_SIZE    << 한번에 학습할 데이터셋 양\n",
    "- 위치 지정 : DEVICE    << 텐서 저장 및 실행 위치(GPU/CPU)\n",
    "- 학습률 : LR   << 가중치와 절편 업데이트 시 경사하강법으로 업데이트 간격 설정, 0.001 ~ 0.1 사이를 많이 줌(값이 작을수록 촘촘하게 이동) >> 하이퍼 파라미터"
   ]
  },
  {
   "cell_type": "code",
   "execution_count": 12,
   "metadata": {},
   "outputs": [],
   "source": [
    "## 학습 진행 관련 설정\n",
    "EPOCH = 1000\n",
    "BATCH_SIZE = 10\n",
    "DEVICE = 'cuda' if torch.cuda.is_available() else 'cpu'\n",
    "LR = 0.001"
   ]
  },
  {
   "cell_type": "markdown",
   "metadata": {},
   "source": [
    "- 인스턴스/객체 : 모델, 데이터셋, 최적화 (, 손실함수 , 성능 지표)"
   ]
  },
  {
   "cell_type": "code",
   "execution_count": 13,
   "metadata": {},
   "outputs": [],
   "source": [
    "# 모델 인스턴스\n",
    "model = IrisBCMModel().to(DEVICE)"
   ]
  },
  {
   "cell_type": "code",
   "execution_count": 14,
   "metadata": {},
   "outputs": [
    {
     "name": "stdout",
     "output_type": "stream",
     "text": [
      "(84, 4) (38, 4) (28, 4)\n",
      "<class 'pandas.core.frame.DataFrame'> <class 'pandas.core.frame.DataFrame'> <class 'pandas.core.frame.DataFrame'>\n",
      "(84, 1) (38, 1) (28, 1)\n",
      "variety\n",
      "0          56\n",
      "1          28\n",
      "Name: count, dtype: int64 variety\n",
      "0          25\n",
      "1          13\n",
      "Name: count, dtype: int64 variety\n",
      "0          19\n",
      "1           9\n",
      "Name: count, dtype: int64\n",
      "<class 'pandas.core.frame.DataFrame'> <class 'pandas.core.frame.DataFrame'> <class 'pandas.core.frame.DataFrame'>\n"
     ]
    }
   ],
   "source": [
    "## DS와 DL 인스턴스\n",
    "# 학습용, 검증용, 테스트용 데이터 분리\n",
    "X_train, X_test, y_train, y_test = train_test_split(featureDF, targetDF, random_state=1, stratify=targetDF)\n",
    "X_train, X_val, y_train, y_val = train_test_split(X_train, y_train, random_state=1, stratify=y_train)\n",
    "\n",
    "print(f'{X_train.shape} {X_test.shape} {X_val.shape}')\n",
    "print(f'{type(X_train)} {type(X_test)} {type(X_val)}')\n",
    "print(f'{y_train.shape} {y_test.shape} {y_val.shape}')\n",
    "print(f'{y_train.value_counts()} {y_test.value_counts()} {y_val.value_counts()}')\n",
    "print(f'{type(y_train)} {type(y_test)} {type(y_val)}')\n",
    "\n",
    "# 테이터 확인\n",
    "trainDS = IrisDataset(X_train, y_train)\n",
    "testDS = IrisDataset(X_test, y_test)\n",
    "valDS = IrisDataset(X_val, y_val)\n",
    "\n",
    "# 학습용 데이터로더 인스턴스\n",
    "trainDL = DataLoader(trainDS, batch_size=BATCH_SIZE) ## >> 'drop_last = True' 하면 나머지는 버림, 기본값은 False\n",
    "                                                      # >> 기본값은 나머지가 생기면 앞에 나열되있던 데이터를 필요한만큼 끌고와 대입입"
   ]
  },
  {
   "cell_type": "markdown",
   "metadata": {},
   "source": [
    "- 최적화, 손실함수 인스턴스 생성"
   ]
  },
  {
   "cell_type": "code",
   "execution_count": 15,
   "metadata": {},
   "outputs": [],
   "source": [
    "# 최적화 인스턴스 => W,b텐서 즉, model.parameters() 전달 >> W,b 업데이트 시키는이유 >>> 오차를 줄여 최적의 모델을 찾기위해  \n",
    "optimizer = optim.Adam(model.parameters(), lr=LR)\n",
    "\n",
    "# 소실함수 인스턴스 => 분류 >> 이진 분류 BinaryCrossEntropyLoss => BCELoss\n",
    "#                             예측값은 확률값으로 전달 ==> sigmoid() AF처리 후 전달\n",
    "crossLoss = nn.BCELoss()"
   ]
  },
  {
   "cell_type": "markdown",
   "metadata": {},
   "source": [
    "[5] 학습 진행 <hr>"
   ]
  },
  {
   "cell_type": "code",
   "execution_count": 16,
   "metadata": {},
   "outputs": [
    {
     "data": {
      "text/plain": [
       "(9, 9)"
      ]
     },
     "execution_count": 16,
     "metadata": {},
     "output_type": "execute_result"
    }
   ],
   "source": [
    "# DataLoader로 8.4에서 9로 바꾼다. > 나머지가 남으면 부족한 만큼 앞에 있는 데이터를 가져다가 쓴다\n",
    "len(trainDL), trainDL.__len__()"
   ]
  },
  {
   "cell_type": "code",
   "execution_count": 17,
   "metadata": {},
   "outputs": [
    {
     "name": "stdout",
     "output_type": "stream",
     "text": [
      "성능 및 손실 개선이 없어서 학습 중단\n"
     ]
    }
   ],
   "source": [
    "## 학습의 효과 확인, 손실값과 성능평가값 저장 필요 , 검증기능을 \n",
    "LOSS_HISTORY, SCORE_HISTORY = [[], []], [[], []]\n",
    "CNT = len(trainDL)\n",
    "\n",
    "## 학습 모니터링/ 스케줄링 설정 => LOSS_HISTORY, SCORE_HISTORY 활용\n",
    "# 임계기준(얼마나 봐줄것인가?) : 10번(개발자 재량)제한, 카운팅 해야함\n",
    "BREAK_CNT=0\n",
    "LIMIT_VALUE= 10\n",
    "\n",
    "\n",
    "for epoch in range(EPOCH):\n",
    "\n",
    "    # 학습 모드로 모델 설정\n",
    "    model.train()\n",
    "    \n",
    "    # 배치 크기 만큼 데이터 로딩해서 학습 진행\n",
    "    loss_total, score_total = 0, 0\n",
    "    for featureTS, targetTS in trainDL:\n",
    "\n",
    "        # 학습 진행\n",
    "        pre_y = model(featureTS)\n",
    "\n",
    "        # 손실 계산\n",
    "        loss = crossLoss(pre_y, targetTS)\n",
    "        loss_total += loss.item()\n",
    "\n",
    "        # 성능 평가 계산\n",
    "        score = BinaryF1Score()(pre_y, targetTS) \n",
    "        score_total += score.item()\n",
    "\n",
    "        # 최적화 진행\n",
    "        optimizer.zero_grad()\n",
    "        loss.backward()\n",
    "        optimizer.step()\n",
    "\n",
    "    # 에포크 당 검증 기능\n",
    "    # 모델 검증 모드 설정 >> 검증이기에 업데이트 불필요\n",
    "    model.eval() \n",
    "    with torch.no_grad():\n",
    "        \n",
    "        # 검증 데이터셋\n",
    "        val_featrueTS = torch.FloatTensor(valDS.featureDF.values)\n",
    "        val_targetTS = torch.FloatTensor(valDS.targetDF.values)\n",
    "\n",
    "        # 추론 / 평가 \n",
    "        pre_val = model(val_featrueTS)\n",
    "        \n",
    "        # 손실\n",
    "        loss_val = crossLoss(pre_val, val_targetTS)\n",
    "        \n",
    "        # 성능평가\n",
    "        score_val = BinaryF1Score()(pre_y, targetTS)\n",
    "\n",
    "    \n",
    "    # 에포크 당 손실값과 성능평가값 저장\n",
    "    LOSS_HISTORY[0].append(loss_total/CNT)\n",
    "    SCORE_HISTORY[0].append(score_total/CNT)\n",
    "\n",
    "    LOSS_HISTORY[1].append(loss_val)\n",
    "    SCORE_HISTORY[1].append(score_val)\n",
    "\n",
    "    # score 기준(검증 기준)\n",
    "    \n",
    "    if len(SCORE_HISTORY[1]) > 1:\n",
    "        if SCORE_HISTORY[1][-1] <= SCORE_HISTORY[1][-2]: BREAK_CNT+=1\n",
    "            # 현재의 loss값         이전의 loss값\n",
    "            # 현재 비교하는것은 score이기에 비교했을 때 큰것이 좋다. 이전의 값과 작거나 같은경우 멈출려고한다.\n",
    "            # 데이터에 따라서 그런 경우가 생길수도 있으니 횟수를 제한을 둬서 값이 반복되거나 커지면 딥러닝 스톱 \n",
    "\n",
    "               \n",
    "    # 학습 중단 여부 설정\n",
    "    if BREAK_CNT> LIMIT_VALUE:\n",
    "        print('성능 및 손실 개선이 없어서 학습 중단')\n",
    "        break\n",
    "\n"
   ]
  },
  {
   "cell_type": "markdown",
   "metadata": {},
   "source": [
    "[6] 테스트"
   ]
  },
  {
   "cell_type": "code",
   "execution_count": 18,
   "metadata": {},
   "outputs": [
    {
     "name": "stdout",
     "output_type": "stream",
     "text": [
      "- [TEST] LOSS : 0.691983699798584 SCORE : 0.0\n"
     ]
    }
   ],
   "source": [
    "# 모델 검증 모드 설정\n",
    "model.eval()\n",
    "with torch.no_grad():\n",
    "    # 검증 데이터셋\n",
    "    test_featrueTS=torch.FloatTensor(testDS.featureDF.values).to(DEVICE)\n",
    "    test_targetTS=torch.FloatTensor(testDS.targetDF.values).to(DEVICE)\n",
    "    \n",
    "    # 추론/평가\n",
    "    pre_test=model(test_featrueTS)\n",
    "\n",
    "    # 손실\n",
    "    loss_test=crossLoss(pre_test, test_targetTS)\n",
    "    \n",
    "    # 성능평가\n",
    "    # score_val=F1Score(task='binary')(pre_test, val_targetTS)\n",
    "    score_Test=BinaryF1Score()(pre_test, test_targetTS)\n",
    "    \n",
    "print(f'- [TEST] LOSS : {loss_test.item()} SCORE : {score_Test.item()}')"
   ]
  },
  {
   "cell_type": "markdown",
   "metadata": {},
   "source": [
    "- 모델 저장 방법 <hr>\n",
    " + 방법 1 : 모델 파라미터만 저장\n",
    " + 방법 2 : 모델 설계 구조 및 파라미터까지 모두 저장"
   ]
  },
  {
   "cell_type": "code",
   "execution_count": 19,
   "metadata": {},
   "outputs": [
    {
     "data": {
      "text/plain": [
       "OrderedDict([('in_layer.weight',\n",
       "              tensor([[-0.4787, -0.0906,  0.1323,  0.4248],\n",
       "                      [-0.3444, -0.2395, -0.4416, -0.3974],\n",
       "                      [ 0.0709,  0.0625, -0.4098, -0.2615],\n",
       "                      [ 0.3611, -0.4355, -0.0697, -0.3652],\n",
       "                      [-0.4723, -0.3114, -0.2050, -0.0777],\n",
       "                      [-0.0463,  0.4790,  0.2156, -0.3652],\n",
       "                      [-0.0872, -0.0620, -0.2730,  0.0887],\n",
       "                      [-0.0062, -0.2623,  0.2467, -0.4629],\n",
       "                      [ 0.3654,  0.2787, -0.2056,  0.3527],\n",
       "                      [-0.4681,  0.0066, -0.0727,  0.2808]])),\n",
       "             ('in_layer.bias',\n",
       "              tensor([ 0.0715,  0.4921, -0.2246,  0.3694,  0.2403,  0.3322, -0.1847, -0.1566,\n",
       "                      -0.3504, -0.3988])),\n",
       "             ('hd_layer.weight',\n",
       "              tensor([[ 0.0837, -0.0199,  0.0041,  0.1195, -0.1288, -0.1549, -0.1426,  0.0050,\n",
       "                       -0.2724, -0.1009],\n",
       "                      [ 0.2174,  0.1887,  0.2947, -0.2452,  0.2740, -0.0681, -0.2818, -0.2472,\n",
       "                       -0.1772,  0.0099],\n",
       "                      [-0.1897, -0.0761,  0.1601, -0.3104,  0.2971, -0.1748, -0.1620,  0.2956,\n",
       "                       -0.2412,  0.0204],\n",
       "                      [ 0.0829, -0.2508,  0.2607,  0.1174,  0.0470, -0.0867, -0.0933,  0.0176,\n",
       "                       -0.0731,  0.2894],\n",
       "                      [-0.1882, -0.1940, -0.1332, -0.2011, -0.0897, -0.2825, -0.0454, -0.0147,\n",
       "                        0.1186, -0.1822]])),\n",
       "             ('hd_layer.bias',\n",
       "              tensor([-0.0937,  0.0064, -0.2063,  0.1800,  0.1843])),\n",
       "             ('out_layer.weight',\n",
       "              tensor([[ 0.1451, -0.3369, -0.3511,  0.3434,  0.0400]])),\n",
       "             ('out_layer.bias', tensor([-0.0076]))])"
      ]
     },
     "execution_count": 19,
     "metadata": {},
     "output_type": "execute_result"
    }
   ],
   "source": [
    "### 학습된 모델 파라미터 값 확인\n",
    "model.state_dict()"
   ]
  },
  {
   "cell_type": "markdown",
   "metadata": {},
   "source": [
    "- [방법 1] 모델 파라미터 즉, 층별 가중치와 절편들"
   ]
  },
  {
   "cell_type": "code",
   "execution_count": 20,
   "metadata": {},
   "outputs": [],
   "source": [
    "### models 폴더 아래 프로젝트 폴더 아래 모델 파일 저장\n",
    "import os\n",
    "\n",
    "# 저장 경로\n",
    "SAVE_PATH = '../models/iris/'\n",
    "\n",
    "# 저장 파일명\n",
    "SAVE_FILE = 'model_train_BCF.pth'\n",
    "\n",
    "# 경로상 폴더 존재 여부 체크\n",
    "if not os.path.exists(SAVE_PATH):\n",
    "    os.makedirs(SAVE_PATH) # 폴더/폴더/... 하위 폴더까지 생성"
   ]
  },
  {
   "cell_type": "code",
   "execution_count": 21,
   "metadata": {},
   "outputs": [],
   "source": [
    "# 모델 저장                                                                                                  \n",
    "torch.save(model.state_dict(), SAVE_PATH+SAVE_FILE)"
   ]
  },
  {
   "cell_type": "markdown",
   "metadata": {},
   "source": [
    "모델 즉, 가중치와 절편 로딩\n",
    "- [1] 가중치와 절편 객체로 로딩\n",
    "- [2] 모델의  state_dict 속성에 저장"
   ]
  },
  {
   "cell_type": "code",
   "execution_count": 22,
   "metadata": {},
   "outputs": [
    {
     "data": {
      "text/plain": [
       "OrderedDict([('in_layer.weight',\n",
       "              tensor([[-0.4787, -0.0906,  0.1323,  0.4248],\n",
       "                      [-0.3444, -0.2395, -0.4416, -0.3974],\n",
       "                      [ 0.0709,  0.0625, -0.4098, -0.2615],\n",
       "                      [ 0.3611, -0.4355, -0.0697, -0.3652],\n",
       "                      [-0.4723, -0.3114, -0.2050, -0.0777],\n",
       "                      [-0.0463,  0.4790,  0.2156, -0.3652],\n",
       "                      [-0.0872, -0.0620, -0.2730,  0.0887],\n",
       "                      [-0.0062, -0.2623,  0.2467, -0.4629],\n",
       "                      [ 0.3654,  0.2787, -0.2056,  0.3527],\n",
       "                      [-0.4681,  0.0066, -0.0727,  0.2808]])),\n",
       "             ('in_layer.bias',\n",
       "              tensor([ 0.0715,  0.4921, -0.2246,  0.3694,  0.2403,  0.3322, -0.1847, -0.1566,\n",
       "                      -0.3504, -0.3988])),\n",
       "             ('hd_layer.weight',\n",
       "              tensor([[ 0.0837, -0.0199,  0.0041,  0.1195, -0.1288, -0.1549, -0.1426,  0.0050,\n",
       "                       -0.2724, -0.1009],\n",
       "                      [ 0.2174,  0.1887,  0.2947, -0.2452,  0.2740, -0.0681, -0.2818, -0.2472,\n",
       "                       -0.1772,  0.0099],\n",
       "                      [-0.1897, -0.0761,  0.1601, -0.3104,  0.2971, -0.1748, -0.1620,  0.2956,\n",
       "                       -0.2412,  0.0204],\n",
       "                      [ 0.0829, -0.2508,  0.2607,  0.1174,  0.0470, -0.0867, -0.0933,  0.0176,\n",
       "                       -0.0731,  0.2894],\n",
       "                      [-0.1882, -0.1940, -0.1332, -0.2011, -0.0897, -0.2825, -0.0454, -0.0147,\n",
       "                        0.1186, -0.1822]])),\n",
       "             ('hd_layer.bias',\n",
       "              tensor([-0.0937,  0.0064, -0.2063,  0.1800,  0.1843])),\n",
       "             ('out_layer.weight',\n",
       "              tensor([[ 0.1451, -0.3369, -0.3511,  0.3434,  0.0400]])),\n",
       "             ('out_layer.bias', tensor([-0.0076]))])"
      ]
     },
     "execution_count": 22,
     "metadata": {},
     "output_type": "execute_result"
    }
   ],
   "source": [
    "# 읽기\n",
    "wbTS = torch.load(SAVE_PATH+SAVE_FILE, weights_only = True)\n",
    "wbTS "
   ]
  },
  {
   "cell_type": "code",
   "execution_count": 23,
   "metadata": {},
   "outputs": [
    {
     "data": {
      "text/plain": [
       "<All keys matched successfully>"
      ]
     },
     "execution_count": 23,
     "metadata": {},
     "output_type": "execute_result"
    }
   ],
   "source": [
    "# 모델 인트턴스에 저장\n",
    "model2 = IrisBCMModel() # 층마다 W,b 초기화\n",
    "model2.load_state_dict(wbTS)"
   ]
  }
 ],
 "metadata": {
  "kernelspec": {
   "display_name": "TORCH_38",
   "language": "python",
   "name": "python3"
  },
  "language_info": {
   "codemirror_mode": {
    "name": "ipython",
    "version": 3
   },
   "file_extension": ".py",
   "mimetype": "text/x-python",
   "name": "python",
   "nbconvert_exporter": "python",
   "pygments_lexer": "ipython3",
   "version": "3.8.19"
  }
 },
 "nbformat": 4,
 "nbformat_minor": 2
}
