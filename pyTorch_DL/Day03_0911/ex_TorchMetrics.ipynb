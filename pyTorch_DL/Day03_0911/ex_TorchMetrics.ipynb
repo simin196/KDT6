{
 "cells": [
  {
   "cell_type": "markdown",
   "metadata": {},
   "source": [
    "#### Torchmetrics 패키지\n",
    "- pytorch에서 모델 성능평가 기능 제공 패키지\n",
    "- 추가 설치 필요\n",
    "    * pip : pip install torchmetrics\n",
    "    * conda : conda install -n torchmetrics\n",
    "- 사용법\n",
    "    * 클래스 방식 : 인스턴스 생성 후 사용\n",
    "    * 함수 방식 : 바로 사용"
   ]
  },
  {
   "cell_type": "markdown",
   "metadata": {},
   "source": [
    "* [1] 회귀(Regression) 성능 지표"
   ]
  },
  {
   "cell_type": "code",
   "execution_count": 1,
   "metadata": {},
   "outputs": [],
   "source": [
    "# 모듈 로딩\n",
    "from torchmetrics.functional.regression import r2_score\n",
    "from torchmetrics.regression import R2Score\n",
    "import torch"
   ]
  },
  {
   "cell_type": "code",
   "execution_count": 2,
   "metadata": {},
   "outputs": [
    {
     "data": {
      "text/plain": [
       "tensor(0.9486)"
      ]
     },
     "execution_count": 2,
     "metadata": {},
     "output_type": "execute_result"
    }
   ],
   "source": [
    "## 클래스 방식\n",
    "# 데이터\n",
    "target = torch.tensor([3, -0.5, 2, 7]) # 1D (4,)\n",
    "preds = torch.tensor([2.5, 0.0, 2, 8]) # 1D (4,)\n",
    "\n",
    "# 성능평가 => R2Score : 0~1(좋음) 정답에 얼마나 근사하게 표현했는가\n",
    "r2score = R2Score()\n",
    "r2score(preds, target)  # >> 야는 재사용 가능   \n",
    "\n",
    "# # 이렇게도 쓸수있지만 따로 저장 안하고 바로 사용하니깐\n",
    "# R2Score()(preds, target)          >>> 재사용 불가"
   ]
  },
  {
   "cell_type": "code",
   "execution_count": 3,
   "metadata": {},
   "outputs": [],
   "source": [
    "def add(a,b) : return a+b "
   ]
  },
  {
   "cell_type": "code",
   "execution_count": 4,
   "metadata": {},
   "outputs": [],
   "source": [
    "my_func = add"
   ]
  },
  {
   "cell_type": "code",
   "execution_count": 6,
   "metadata": {},
   "outputs": [
    {
     "data": {
      "text/plain": [
       "(30, 30)"
      ]
     },
     "execution_count": 6,
     "metadata": {},
     "output_type": "execute_result"
    }
   ],
   "source": [
    "my_func(10,20), add(10,20)"
   ]
  },
  {
   "cell_type": "code",
   "execution_count": 7,
   "metadata": {},
   "outputs": [
    {
     "data": {
      "text/plain": [
       "tensor(0.9486)"
      ]
     },
     "execution_count": 7,
     "metadata": {},
     "output_type": "execute_result"
    }
   ],
   "source": [
    "R2Score()(preds, target) # >>> 재사용 불가"
   ]
  },
  {
   "cell_type": "code",
   "execution_count": 8,
   "metadata": {},
   "outputs": [],
   "source": [
    "class MyR2(R2Score):\n",
    "    pass"
   ]
  },
  {
   "cell_type": "code",
   "execution_count": 10,
   "metadata": {},
   "outputs": [
    {
     "data": {
      "text/plain": [
       "tensor(0.9486)"
      ]
     },
     "execution_count": 10,
     "metadata": {},
     "output_type": "execute_result"
    }
   ],
   "source": [
    "gg=MyR2()\n",
    "gg(preds, target)"
   ]
  },
  {
   "cell_type": "code",
   "execution_count": 11,
   "metadata": {},
   "outputs": [],
   "source": [
    "# 모듈 로딩\n",
    "from torchmetrics.functional.regression import mean_squared_error, mean_absolute_error # 이건 함수를 불러오는거\n",
    "from torchmetrics.regression import MeanSquaredError, MeanAbsoluteError # 클래스를 불러오는거\n",
    "import torch"
   ]
  },
  {
   "cell_type": "code",
   "execution_count": 14,
   "metadata": {},
   "outputs": [
    {
     "name": "stdout",
     "output_type": "stream",
     "text": [
      "tensor(0.8750)\n",
      "tensor(0.8750)\n"
     ]
    }
   ],
   "source": [
    "# 데이터\n",
    "target = torch.tensor([2.5, 5.0, 4.0, 8.0])\n",
    "preds = torch.tensor([3.0, 5.0, 2.5, 7.0])\n",
    "\n",
    "# 성능평가 => 오차계산 : 0에 가까울 수록 좋은 것 \n",
    "mean_squared_error = MeanSquaredError()\n",
    "print(mean_squared_error(preds, target))\n",
    "print(MeanSquaredError()(preds, target))"
   ]
  },
  {
   "cell_type": "code",
   "execution_count": 16,
   "metadata": {},
   "outputs": [
    {
     "name": "stdout",
     "output_type": "stream",
     "text": [
      "tensor(0.7500)\n",
      "tensor(0.7500)\n"
     ]
    }
   ],
   "source": [
    "# mean_absolute_error\n",
    "mean_absolute_error = MeanAbsoluteError()\n",
    "print(mean_absolute_error(preds, target))\n",
    "print(MeanAbsoluteError()(preds, target))"
   ]
  },
  {
   "cell_type": "markdown",
   "metadata": {},
   "source": [
    "- 분류(Classification) 성능평가지표  >>> 머신러닝 3장\n",
    "    * Accuracy(정확도) : 양성을 양성이라 한거, 음성을 음성이라한거 >>> 불균형 데이터에서는 사용할 수 없다.\n",
    "    * Precision(정밀도) : 예측 양성으로 했고 정답도 양성인 것                       ] 어느의 관점이냐에 따라서 >>> 이걸 보완하기위해 F1-Score가 나옴\n",
    "    * Recall(임계값????)[ex) 의료] : 정답 양성인데 예측을 진짜 양성으로 했느냐        ]\n",
    "    * F1-Score : Precision Recall 조화평균, F1도 그렇고 다른 지표도 그렇고 사용하는 데이터에 따라 다르다\n",
    "    * ConfusionMatrix : \n",
    "    * ROC-AUC => 의료분야 / 2진분류"
   ]
  },
  {
   "cell_type": "code",
   "execution_count": 17,
   "metadata": {},
   "outputs": [],
   "source": [
    "# 모듈 로딩\n",
    "from torchmetrics.classification import F1Score, Accuracy, Precision, Recall\n",
    "from torchmetrics.functional.classification import f1_score, accuracy, precision, recall"
   ]
  },
  {
   "cell_type": "code",
   "execution_count": 20,
   "metadata": {},
   "outputs": [
    {
     "name": "stdout",
     "output_type": "stream",
     "text": [
      "tensor(0.6667)\n",
      "tensor(0.6667)\n"
     ]
    }
   ],
   "source": [
    "# 2진 분류 = > task = 'binary'\n",
    "from torchmetrics.classification import BinaryF1Score\n",
    "\n",
    "target = torch.tensor([0, 1, 1, 0, 1, 0]) # >> 2진 분류\n",
    "preds = torch.tensor([0, 1, 1, 0, 0, 1])\n",
    "\n",
    "f1 = F1Score(task=\"binary\")\n",
    "print(f1(preds, target))\n",
    "\n",
    "print(BinaryF1Score()(preds, target))"
   ]
  },
  {
   "cell_type": "code",
   "execution_count": 23,
   "metadata": {},
   "outputs": [
    {
     "name": "stdout",
     "output_type": "stream",
     "text": [
      "tensor(0.4333)\n",
      "tensor(0.4333)\n"
     ]
    }
   ],
   "source": [
    "# 다중 분류 => task = 'Multiclass' \n",
    "from torchmetrics.classification import MulticlassF1Score\n",
    "\n",
    "target = torch.tensor([0, 1, 2, 0, 2, 0]) # >> 다중 분류\n",
    "preds = torch.tensor([0, 2, 1, 0, 2, 1])\n",
    "\n",
    "# F1Score => average='micro'[기본값]\n",
    "f1 = F1Score(task=\"multiclass\", num_classes=3, average='macro') # 평균내는 방식이 다름 그래서 매개변수를 변경해주면 같아짐\n",
    "print(f1(preds, target))\n",
    "\n",
    "# MulticlassF1Score => average='macro'[기본값]\n",
    "print(MulticlassF1Score(num_classes=3)(preds, target)) \n",
    "\n",
    "\n",
    "''' >>>ppt(ML)에 있음 >> 영어로 되있으니 어지럽다 ppt를 보자\n",
    "\n",
    "* average =\n",
    "    - micro: Sum statistics over all labels\n",
    "    - macro: Calculate statistics for each label and average them\n",
    "    - weighted: calculates statistics for each label and computes weighted average using their support\n",
    "    - \"none\" or None: calculates statistic for each label and applies no reduction\n",
    "'''"
   ]
  },
  {
   "cell_type": "code",
   "execution_count": 27,
   "metadata": {},
   "outputs": [
    {
     "name": "stdout",
     "output_type": "stream",
     "text": [
      "tensor(0.6667)\n",
      "tensor(0.6667)\n"
     ]
    }
   ],
   "source": [
    "# 2진 분류 = > task = 'binary'\n",
    "from torchmetrics.classification import BinaryPrecision\n",
    "\n",
    "target = torch.tensor([0, 1, 1, 0, 1, 0]) # >> 2진 분류\n",
    "preds = torch.tensor([0, 1, 1, 0, 0, 1])\n",
    "\n",
    "pb = Precision(task=\"binary\", threshold=0.7) # 클래스\n",
    "print(pb(preds, target))\n",
    "\n",
    "print(BinaryPrecision(threshold=0.7)(preds, target)) # 바인더리"
   ]
  },
  {
   "cell_type": "code",
   "execution_count": 28,
   "metadata": {},
   "outputs": [
    {
     "name": "stdout",
     "output_type": "stream",
     "text": [
      "tensor(0.5000)\n",
      "tensor(0.5000)\n"
     ]
    }
   ],
   "source": [
    "# 다중 분류 => task = 'Multiclass' \n",
    "from torchmetrics.classification import MulticlassPrecision\n",
    "\n",
    "target = torch.tensor([0, 1, 2, 0, 2, 0]) # >> 다중 분류\n",
    "preds = torch.tensor([0, 2, 1, 0, 2, 1])\n",
    "\n",
    "# Precision => average='micro'[기본값], 다중은 num_classes=  요걸로 몇으로 나누는지 값을 주면된다 \n",
    "pb = Precision(task=\"multiclass\", num_classes=3, average='macro') \n",
    "print(pb(preds, target))\n",
    "\n",
    "# MulticlassF1Score => average='macro'[기본값]\n",
    "print(MulticlassPrecision(num_classes=3)(preds, target)) "
   ]
  },
  {
   "cell_type": "code",
   "execution_count": null,
   "metadata": {},
   "outputs": [],
   "source": []
  }
 ],
 "metadata": {
  "kernelspec": {
   "display_name": "TORCH_38",
   "language": "python",
   "name": "python3"
  },
  "language_info": {
   "codemirror_mode": {
    "name": "ipython",
    "version": 3
   },
   "file_extension": ".py",
   "mimetype": "text/x-python",
   "name": "python",
   "nbconvert_exporter": "python",
   "pygments_lexer": "ipython3",
   "version": "3.8.19"
  }
 },
 "nbformat": 4,
 "nbformat_minor": 2
}
