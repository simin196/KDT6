{
 "cells": [
  {
   "cell_type": "code",
   "execution_count": 2,
   "metadata": {},
   "outputs": [],
   "source": [
    "# 모듈 \n",
    "import torch                        # 텐서 및 수치 계산 함수 관련 모듈\n",
    "import torch.nn as nn               # 인공신경망 관련 모듈\n",
    "import torch.nn.functional as F     # 손실, 거리 등 함수 관련 모듈\n",
    "import torch.optim as optimizer     # 최적화 기법 관련 모듈\n",
    "\n",
    "import pandas as pd                 # 데이터 파일 분석 관련 모듈\n",
    "from sklearn.model_selection import train_test_split\n",
    "\n",
    "#####\n",
    "\n"
   ]
  },
  {
   "cell_type": "code",
   "execution_count": 3,
   "metadata": {},
   "outputs": [],
   "source": [
    "## 테스트/검증 함수 \n",
    "# ==> 가중치, 절편 업데이트X, 최적화 미진행\n",
    "# ==> 현재 가중치와 절편값으로 테스트 진행\n",
    "\n",
    "# 모델 검증 및 테스트 \n",
    "def testing(testTS,targetTS, kind=\"Val\"):\n",
    "\n",
    "    with torch.no_grad(): # 가중치 및 절편 업데이트 진행X\n",
    "\n",
    "        # 1. 학습진행 - forward\n",
    "        pre_y = model(testTS) # >>> 밖에서 model을 받아서 사용되는지 확인\n",
    "        print(f'{pre_y.shape}')\n",
    "\n",
    "        # 2. 오차계산 - 손실함수\n",
    "        loss = F.mse_loss(pre_y, targetTS) \n",
    "\n",
    "        # 4. 학습결과 출력 및 저장\n",
    "        print(f'[ {kind} ] LOSS : {loss}')\n",
    "\n",
    "    return loss"
   ]
  },
  {
   "cell_type": "code",
   "execution_count": 4,
   "metadata": {},
   "outputs": [],
   "source": [
    "# 모델 학습 함수\n",
    "def training(featureTS, targetTS, valTS, valTargetTS):\n",
    "\n",
    "    loss_history= [[],[]]\n",
    "\n",
    "    for epoch in range(EPOCH): # >>> 밖에서 model을 받아서 사용되는지 확인\n",
    "\n",
    "        # 1. 학습진행 - forward\n",
    "        pre_y = model(featureTS)\n",
    "        print(f'{pre_y.shape}')\n",
    "\n",
    "        # 2. 오차계산 - 손실함수\n",
    "        loss = F.mse_loss(pre_y, targetTS)  # loss >> tensor\n",
    "        loss_history[0].append(loss.item())\n",
    "\n",
    "        # 3. 최적화 - 가중치, 절편 업데이트 backward\n",
    "        adam_optim.zero_grad() # 지금 이것들도 다 tensor\n",
    "        loss.backward()\n",
    "        adam_optim.step() # adam_optim >> 모델의 가중치와 절편을 최적화\n",
    "\n",
    "        # 3-1 검증 - 모델이 제대로 만들어지는지 검사용\n",
    "        val_loss = testing(valTS, valTargetTS)\n",
    "        loss_history[1].append(val_loss.item())\n",
    "\n",
    "        # 4. 학습결과 출력 및 저장\n",
    "        print(f'[{epoch}/{EPOCH}] LOSS : {loss}')\n",
    "\n",
    "    return loss_history"
   ]
  },
  {
   "cell_type": "code",
   "execution_count": null,
   "metadata": {},
   "outputs": [],
   "source": []
  }
 ],
 "metadata": {
  "kernelspec": {
   "display_name": "TORCH_38",
   "language": "python",
   "name": "python3"
  },
  "language_info": {
   "codemirror_mode": {
    "name": "ipython",
    "version": 3
   },
   "file_extension": ".py",
   "mimetype": "text/x-python",
   "name": "python",
   "nbconvert_exporter": "python",
   "pygments_lexer": "ipython3",
   "version": "3.8.19"
  }
 },
 "nbformat": 4,
 "nbformat_minor": 2
}
