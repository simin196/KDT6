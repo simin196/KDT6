{
 "cells": [
  {
   "cell_type": "code",
   "execution_count": 1,
   "metadata": {},
   "outputs": [],
   "source": [
    "# 모듈 로딩 \n",
    "import torch                        # 텐서 및 수치 계산 함수 관련 모듈\n",
    "import torch.nn as nn               # 인공신경망 관련 모듈\n",
    "import torch.nn.functional as F     # 손실, 거리 등 함수 관련 모듈\n",
    "import torch.optim as optimizer     # 최적화 기법 관련 모듈\n",
    "\n",
    "import pandas as pd                 # 데이터 파일 분석 관련 모듈\n",
    "from sklearn.model_selection import train_test_split\n",
    "\n",
    "## 스케일도 해야함\n",
    "from sklearn import minm"
   ]
  },
  {
   "cell_type": "code",
   "execution_count": 2,
   "metadata": {},
   "outputs": [
    {
     "data": {
      "text/plain": [
       "<torch._C.Generator at 0x1b536eb6c30>"
      ]
     },
     "execution_count": 2,
     "metadata": {},
     "output_type": "execute_result"
    }
   ],
   "source": [
    "torch.manual_seed(1)"
   ]
  },
  {
   "cell_type": "code",
   "execution_count": 3,
   "metadata": {},
   "outputs": [
    {
     "data": {
      "text/html": [
       "<div>\n",
       "<style scoped>\n",
       "    .dataframe tbody tr th:only-of-type {\n",
       "        vertical-align: middle;\n",
       "    }\n",
       "\n",
       "    .dataframe tbody tr th {\n",
       "        vertical-align: top;\n",
       "    }\n",
       "\n",
       "    .dataframe thead th {\n",
       "        text-align: right;\n",
       "    }\n",
       "</style>\n",
       "<table border=\"1\" class=\"dataframe\">\n",
       "  <thead>\n",
       "    <tr style=\"text-align: right;\">\n",
       "      <th></th>\n",
       "      <th>CRIM</th>\n",
       "      <th>ZN</th>\n",
       "      <th>INDUS</th>\n",
       "      <th>CHAS</th>\n",
       "      <th>NOX</th>\n",
       "      <th>RM</th>\n",
       "      <th>AGE</th>\n",
       "      <th>DIS</th>\n",
       "      <th>RAD</th>\n",
       "      <th>TAX</th>\n",
       "      <th>PTRATIO</th>\n",
       "      <th>B</th>\n",
       "      <th>LSTAT</th>\n",
       "      <th>MEDV</th>\n",
       "    </tr>\n",
       "  </thead>\n",
       "  <tbody>\n",
       "    <tr>\n",
       "      <th>0</th>\n",
       "      <td>0.00632</td>\n",
       "      <td>18.0</td>\n",
       "      <td>2.31</td>\n",
       "      <td>0</td>\n",
       "      <td>0.538</td>\n",
       "      <td>6.575</td>\n",
       "      <td>65.2</td>\n",
       "      <td>4.0900</td>\n",
       "      <td>1</td>\n",
       "      <td>296.0</td>\n",
       "      <td>15.3</td>\n",
       "      <td>396.9</td>\n",
       "      <td>4.98</td>\n",
       "      <td>24.0</td>\n",
       "    </tr>\n",
       "    <tr>\n",
       "      <th>1</th>\n",
       "      <td>0.02731</td>\n",
       "      <td>0.0</td>\n",
       "      <td>7.07</td>\n",
       "      <td>0</td>\n",
       "      <td>0.469</td>\n",
       "      <td>6.421</td>\n",
       "      <td>78.9</td>\n",
       "      <td>4.9671</td>\n",
       "      <td>2</td>\n",
       "      <td>242.0</td>\n",
       "      <td>17.8</td>\n",
       "      <td>396.9</td>\n",
       "      <td>9.14</td>\n",
       "      <td>21.6</td>\n",
       "    </tr>\n",
       "  </tbody>\n",
       "</table>\n",
       "</div>"
      ],
      "text/plain": [
       "      CRIM    ZN  INDUS  CHAS    NOX     RM   AGE     DIS  RAD    TAX  \\\n",
       "0  0.00632  18.0   2.31     0  0.538  6.575  65.2  4.0900    1  296.0   \n",
       "1  0.02731   0.0   7.07     0  0.469  6.421  78.9  4.9671    2  242.0   \n",
       "\n",
       "   PTRATIO      B  LSTAT  MEDV  \n",
       "0     15.3  396.9   4.98  24.0  \n",
       "1     17.8  396.9   9.14  21.6  "
      ]
     },
     "execution_count": 3,
     "metadata": {},
     "output_type": "execute_result"
    }
   ],
   "source": [
    "# 데이터 로딩 : CSV ==> DataFrame\n",
    "DATA_FILE = '../data/boston.csv'\n",
    "\n",
    "DF = pd. read_csv(DATA_FILE)\n",
    "DF.head(2)"
   ]
  },
  {
   "cell_type": "code",
   "execution_count": 4,
   "metadata": {},
   "outputs": [],
   "source": [
    "# 모델 준비\n",
    "model = nn.Linear(13,1)"
   ]
  },
  {
   "cell_type": "code",
   "execution_count": 5,
   "metadata": {},
   "outputs": [
    {
     "name": "stdout",
     "output_type": "stream",
     "text": [
      "[weight, Parameter containing:\n",
      "tensor([[ 0.1429, -0.1224, -0.0538,  0.1302, -0.2611,  0.1663, -0.0571,  0.1411,\n",
      "          0.0386, -0.0340,  0.0769,  0.0137,  0.1013]], requires_grad=True)]\n",
      "\n",
      "[bias, Parameter containing:\n",
      "tensor([-0.1081], requires_grad=True)]\n",
      "\n"
     ]
    }
   ],
   "source": [
    "for name, param in model.named_parameters():\n",
    "    print(f'[{name}, {param}]\\n')"
   ]
  },
  {
   "cell_type": "code",
   "execution_count": 6,
   "metadata": {},
   "outputs": [],
   "source": [
    "# 모델의 가중치와 절편을 최적화 \n",
    "adam_optim = optimizer.Adam(model.parameters(), lr=0.1)"
   ]
  },
  {
   "cell_type": "code",
   "execution_count": 7,
   "metadata": {},
   "outputs": [
    {
     "data": {
      "text/plain": [
       "(torch.Size([506, 13]), 2)"
      ]
     },
     "execution_count": 7,
     "metadata": {},
     "output_type": "execute_result"
    }
   ],
   "source": [
    "featureTS = torch.from_numpy(DF[DF.columns[:-1]].values).float()\n",
    "featureTS.shape, featureTS.ndim"
   ]
  },
  {
   "cell_type": "code",
   "execution_count": 8,
   "metadata": {},
   "outputs": [
    {
     "data": {
      "text/plain": [
       "(torch.Size([506, 1]), 2)"
      ]
     },
     "execution_count": 8,
     "metadata": {},
     "output_type": "execute_result"
    }
   ],
   "source": [
    "targetTS = torch.from_numpy(DF[['MEDV']].values).float()\n",
    "targetTS.shape, targetTS.ndim # 차원 맞춰서"
   ]
  },
  {
   "cell_type": "code",
   "execution_count": 9,
   "metadata": {},
   "outputs": [
    {
     "name": "stdout",
     "output_type": "stream",
     "text": [
      "[feature] Traintorch.Size([323, 13]), Testtorch.Size([102, 13]), Caltorch.Size([81, 13])\n",
      "[target] Traintorch.Size([323, 1]), Testtorch.Size([102, 1]), Caltorch.Size([81, 1])\n"
     ]
    }
   ],
   "source": [
    "# Train & test\n",
    "X_train, X_test, y_train, y_test = train_test_split(featureTS,\n",
    "                                                    targetTS,\n",
    "                                                    test_size=0.2)\n",
    "\n",
    "# Train & val\n",
    "X_train, X_val, y_train, y_val = train_test_split(X_train,\n",
    "                                                    y_train,\n",
    "                                                    test_size=0.2)\n",
    "\n",
    "print(f'[feature] Train{X_train.shape}, Test{X_test.shape}, Cal{X_val.shape}')\n",
    "print(f'[target] Train{y_train.shape}, Test{y_test.shape}, Cal{y_val.shape}')"
   ]
  },
  {
   "cell_type": "code",
   "execution_count": 10,
   "metadata": {},
   "outputs": [],
   "source": [
    "EPOCH = 10"
   ]
  },
  {
   "cell_type": "code",
   "execution_count": 11,
   "metadata": {},
   "outputs": [],
   "source": [
    "# 모델 검증 및 테스트 \n",
    "def testing(testTS,targetTS, kind=\"Val\"):\n",
    "\n",
    "    with torch.no_grad():\n",
    "\n",
    "        # 1. 학습진행 \n",
    "        pre_y = model(testTS)\n",
    "        print(f'{pre_y.shape}')\n",
    "\n",
    "        # 2. 오차계산 \n",
    "        loss = F.mse_loss(pre_y, targetTS) \n",
    "\n",
    "        # 3. 학습결과 출력 및 저장\n",
    "        print(f'[ {kind} ] LOSS : {loss}')\n",
    "\n",
    "    return loss"
   ]
  },
  {
   "cell_type": "code",
   "execution_count": 12,
   "metadata": {},
   "outputs": [],
   "source": [
    "# 모델 학습 함수\n",
    "def training(featureTS, targetTS, valTS, valTargetTS):\n",
    "\n",
    "    loss_history= [[],[]]\n",
    "\n",
    "    for epoch in range(EPOCH):\n",
    "\n",
    "        # 1. 학습진행 - forward\n",
    "        pre_y = model(featureTS)\n",
    "        print(f'{pre_y.shape}')\n",
    "\n",
    "        # 2. 오차계산 - 손실함수 \n",
    "        loss = F.mse_loss(pre_y, targetTS)  \n",
    "        loss_history[0].append(loss.item())\n",
    "\n",
    "        # 3. 최적화 \n",
    "        adam_optim.zero_grad() \n",
    "        loss.backward()\n",
    "        adam_optim.step()\n",
    "\n",
    "        # 3-1 검증\n",
    "        val_loss = testing(valTS, valTargetTS)\n",
    "        loss_history[1].append(val_loss.item())\n",
    "\n",
    "        # 4. 학습결과 출력 및 저장\n",
    "        print(f'[{epoch}/{EPOCH}] LOSS : {loss}')\n",
    "\n",
    "    return loss_history"
   ]
  },
  {
   "cell_type": "code",
   "execution_count": 13,
   "metadata": {},
   "outputs": [
    {
     "name": "stdout",
     "output_type": "stream",
     "text": [
      "torch.Size([323, 1])\n",
      "torch.Size([81, 1])\n",
      "[ Val ] LOSS : 3823.623779296875\n",
      "[0/10] LOSS : 1168.4527587890625\n",
      "torch.Size([323, 1])\n",
      "torch.Size([81, 1])\n",
      "[ Val ] LOSS : 981.0526733398438\n",
      "[1/10] LOSS : 3811.234619140625\n",
      "torch.Size([323, 1])\n",
      "torch.Size([81, 1])\n",
      "[ Val ] LOSS : 365.2235412597656\n",
      "[2/10] LOSS : 946.9560546875\n",
      "torch.Size([323, 1])\n",
      "torch.Size([81, 1])\n",
      "[ Val ] LOSS : 1740.89990234375\n",
      "[3/10] LOSS : 370.4118957519531\n",
      "torch.Size([323, 1])\n",
      "torch.Size([81, 1])\n",
      "[ Val ] LOSS : 1305.152099609375\n",
      "[4/10] LOSS : 1804.42919921875\n",
      "torch.Size([323, 1])\n",
      "torch.Size([81, 1])\n",
      "[ Val ] LOSS : 231.66311645507812\n",
      "[5/10] LOSS : 1353.7889404296875\n",
      "torch.Size([323, 1])\n",
      "torch.Size([81, 1])\n",
      "[ Val ] LOSS : 275.475830078125\n",
      "[6/10] LOSS : 237.00503540039062\n",
      "torch.Size([323, 1])\n",
      "torch.Size([81, 1])\n",
      "[ Val ] LOSS : 978.9070434570312\n",
      "[7/10] LOSS : 263.50115966796875\n",
      "torch.Size([323, 1])\n",
      "torch.Size([81, 1])\n",
      "[ Val ] LOSS : 987.4929809570312\n",
      "[8/10] LOSS : 974.5071411132812\n",
      "torch.Size([323, 1])\n",
      "torch.Size([81, 1])\n",
      "[ Val ] LOSS : 380.9993591308594\n",
      "[9/10] LOSS : 986.3627319335938\n"
     ]
    }
   ],
   "source": [
    "# 모델 학습\n",
    "loss = training(X_train, y_train, X_val, y_val)"
   ]
  },
  {
   "cell_type": "code",
   "execution_count": 14,
   "metadata": {},
   "outputs": [
    {
     "data": {
      "image/png": "[encoded data removed]",
      "text/plain": [
       "<Figure size 640x480 with 1 Axes>"
      ]
     },
     "metadata": {},
     "output_type": "display_data"
    }
   ],
   "source": [
    "# 시각화화\n",
    "import matplotlib.pyplot as plt\n",
    "\n",
    "plt.plot(range(1,11), loss[0], label='Train')\n",
    "plt.plot(range(1,11), loss[1], label='Valid')\n",
    "plt.title('Train & Valid')\n",
    "plt.xlabel('EPOCH')\n",
    "plt.ylabel('Loss')\n",
    "plt.grid()\n",
    "plt.legend()\n",
    "plt.show()"
   ]
  },
  {
   "cell_type": "code",
   "execution_count": null,
   "metadata": {},
   "outputs": [],
   "source": []
  }
 ],
 "metadata": {
  "kernelspec": {
   "display_name": "TORCH_38",
   "language": "python",
   "name": "python3"
  },
  "language_info": {
   "codemirror_mode": {
    "name": "ipython",
    "version": 3
   },
   "file_extension": ".py",
   "mimetype": "text/x-python",
   "name": "python",
   "nbconvert_exporter": "python",
   "pygments_lexer": "ipython3",
   "version": "3.8.19"
  }
 },
 "nbformat": 4,
 "nbformat_minor": 2
}
