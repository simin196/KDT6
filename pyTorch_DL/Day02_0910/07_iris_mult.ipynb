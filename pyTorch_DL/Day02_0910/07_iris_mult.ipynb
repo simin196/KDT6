{
 "cells": [
  {
   "cell_type": "markdown",
   "id": "7412801f",
   "metadata": {},
   "source": [
    "#### iris 데이터셋 활용 꽃잎 너비 예측 모델  --- 선형회귀, 신경망 아님\n",
    "- 데이터셋 : iris.csv에서 3개 Feature  사용\n",
    "- 구현 프레임워크 : Pytorch"
   ]
  },
  {
   "cell_type": "markdown",
   "id": "15b8df13",
   "metadata": {},
   "source": [
    "[1] 모듈 로딩 및 데이터 준비"
   ]
  },
  {
   "cell_type": "code",
   "execution_count": 1,
   "id": "8149113c",
   "metadata": {},
   "outputs": [],
   "source": [
    "# 모듈 로딩 \n",
    "import torch                        # 텐서 및 수치 계산 함수 관련 모듈\n",
    "import torch.nn as nn               # 인공신경망 관련 모듈\n",
    "import torch.nn.functional as F     # 손실, 거리 등 함수 관련 모듈\n",
    "import torch.optim as optimizer     # 최적화 기법 관련 모듈\n",
    "\n",
    "import pandas as pd                 # 데이터 파일 분석 관련 모듈\n",
    "from sklearn.model_selection import train_test_split"
   ]
  },
  {
   "cell_type": "code",
   "execution_count": 2,
   "id": "7ff523fb",
   "metadata": {},
   "outputs": [
    {
     "data": {
      "text/plain": [
       "<torch._C.Generator at 0x1cbccb84c30>"
      ]
     },
     "execution_count": 2,
     "metadata": {},
     "output_type": "execute_result"
    }
   ],
   "source": [
    "torch.manual_seed(1)"
   ]
  },
  {
   "cell_type": "code",
   "execution_count": 3,
   "id": "ba4e6b15",
   "metadata": {},
   "outputs": [
    {
     "data": {
      "text/html": [
       "<div>\n",
       "<style scoped>\n",
       "    .dataframe tbody tr th:only-of-type {\n",
       "        vertical-align: middle;\n",
       "    }\n",
       "\n",
       "    .dataframe tbody tr th {\n",
       "        vertical-align: top;\n",
       "    }\n",
       "\n",
       "    .dataframe thead th {\n",
       "        text-align: right;\n",
       "    }\n",
       "</style>\n",
       "<table border=\"1\" class=\"dataframe\">\n",
       "  <thead>\n",
       "    <tr style=\"text-align: right;\">\n",
       "      <th></th>\n",
       "      <th>sepal.length</th>\n",
       "      <th>sepal.width</th>\n",
       "      <th>petal.length</th>\n",
       "      <th>petal.width</th>\n",
       "    </tr>\n",
       "  </thead>\n",
       "  <tbody>\n",
       "    <tr>\n",
       "      <th>0</th>\n",
       "      <td>5.1</td>\n",
       "      <td>3.5</td>\n",
       "      <td>1.4</td>\n",
       "      <td>0.2</td>\n",
       "    </tr>\n",
       "    <tr>\n",
       "      <th>1</th>\n",
       "      <td>4.9</td>\n",
       "      <td>3.0</td>\n",
       "      <td>1.4</td>\n",
       "      <td>0.2</td>\n",
       "    </tr>\n",
       "  </tbody>\n",
       "</table>\n",
       "</div>"
      ],
      "text/plain": [
       "   sepal.length  sepal.width  petal.length  petal.width\n",
       "0           5.1          3.5           1.4          0.2\n",
       "1           4.9          3.0           1.4          0.2"
      ]
     },
     "execution_count": 3,
     "metadata": {},
     "output_type": "execute_result"
    }
   ],
   "source": [
    "# 데이터 로딩 : CSV ==> DataFrame\n",
    "DATA_FILE = '../data/iris.csv'\n",
    "\n",
    "irisDF = pd. read_csv(DATA_FILE, usecols=[0,1,2,3])\n",
    "irisDF.head(2)"
   ]
  },
  {
   "cell_type": "markdown",
   "id": "6a40e6cc",
   "metadata": {},
   "source": [
    "[2] 모델 준비\n",
    "- 학습방법 : 지도학습 > 회귀\n",
    "- 알고리즘 : 선형관계 >> 선형모델 ==> nn.Linear"
   ]
  },
  {
   "cell_type": "code",
   "execution_count": 17,
   "id": "bd021ad5",
   "metadata": {},
   "outputs": [],
   "source": [
    "# in_features : sepal.length sepal.width petal.length 3개\n",
    "# out_features : petal.width 1개\n",
    "model = nn.Linear(3,1)\n",
    "\n",
    "nn_model = nn.Sequential(nn.Linear(3,10),\n",
    "                         nn.ReLU(),\n",
    "                         nn.Linear(10,50),\n",
    "                         nn.ReLU(),\n",
    "                         nn.Linear(50,1))"
   ]
  },
  {
   "cell_type": "code",
   "execution_count": 5,
   "id": "9f2dc54a",
   "metadata": {},
   "outputs": [
    {
     "name": "stdout",
     "output_type": "stream",
     "text": [
      "[weight, Parameter containing:\n",
      "tensor([[ 0.2975, -0.2548, -0.1119]], requires_grad=True)]\n",
      "\n",
      "[bias, Parameter containing:\n",
      "tensor([0.2710], requires_grad=True)]\n",
      "\n"
     ]
    }
   ],
   "source": [
    "# 가중치와 절편 확인\n",
    "for name, param in model.named_parameters():\n",
    "    print(f'[{name}, {param}]\\n')"
   ]
  },
  {
   "cell_type": "markdown",
   "id": "edc67a97",
   "metadata": {},
   "source": [
    "[3] 최적화 인스턴스 준비"
   ]
  },
  {
   "cell_type": "code",
   "execution_count": 6,
   "id": "76fd9c7c",
   "metadata": {},
   "outputs": [],
   "source": [
    "# 모델의 가중치와 절편을 최적화 ==> 인스턴스에 전달\n",
    "adam_optim = optimizer.Adam(model.parameters(), lr=0.1)"
   ]
  },
  {
   "cell_type": "markdown",
   "id": "7e97ba72",
   "metadata": {},
   "source": [
    "[4] 학습 ==> 개발자가 구현"
   ]
  },
  {
   "cell_type": "markdown",
   "id": "5e89111c",
   "metadata": {},
   "source": [
    "-[4-1] 데이터셋 Tensor화 진행 : 데이터준비 시 진행 하거나 또는 학습 전 진행"
   ]
  },
  {
   "cell_type": "code",
   "execution_count": 7,
   "id": "4b716ad5",
   "metadata": {},
   "outputs": [
    {
     "data": {
      "text/plain": [
       "(torch.Size([150, 3]), 2)"
      ]
     },
     "execution_count": 7,
     "metadata": {},
     "output_type": "execute_result"
    }
   ],
   "source": [
    "featureTS = torch.from_numpy(irisDF[irisDF.columns[:-1]].values).float()\n",
    "featureTS.shape, featureTS.ndim"
   ]
  },
  {
   "cell_type": "code",
   "execution_count": 8,
   "id": "f5500fc9",
   "metadata": {},
   "outputs": [
    {
     "data": {
      "text/plain": [
       "(torch.Size([150, 1]), 2)"
      ]
     },
     "execution_count": 8,
     "metadata": {},
     "output_type": "execute_result"
    }
   ],
   "source": [
    "targetTS = torch.from_numpy(irisDF[['petal.width']].values).float()\n",
    "targetTS.shape, targetTS.ndim # 차원 맞춰서"
   ]
  },
  {
   "cell_type": "code",
   "execution_count": 9,
   "id": "a9ce1ff5",
   "metadata": {},
   "outputs": [
    {
     "name": "stdout",
     "output_type": "stream",
     "text": [
      "[feature] Traintorch.Size([96, 3]), Testtorch.Size([30, 3]), Caltorch.Size([24, 3])\n",
      "[target] Traintorch.Size([96, 1]), Testtorch.Size([30, 1]), Caltorch.Size([24, 1])\n"
     ]
    }
   ],
   "source": [
    "# Train & test\n",
    "X_train, X_test, y_train, y_test = train_test_split(featureTS,\n",
    "                                                    targetTS,\n",
    "                                                    test_size=0.2)\n",
    "\n",
    "# Train & val\n",
    "X_train, X_val, y_train, y_val = train_test_split(X_train,\n",
    "                                                    y_train,\n",
    "                                                    test_size=0.2)\n",
    "\n",
    "print(f'[feature] Train{X_train.shape}, Test{X_test.shape}, Cal{X_val.shape}')\n",
    "print(f'[target] Train{y_train.shape}, Test{y_test.shape}, Cal{y_val.shape}')"
   ]
  },
  {
   "cell_type": "markdown",
   "id": "258de7e6",
   "metadata": {},
   "source": [
    "[4-2] 학습진행 : 진행전    \n",
    "    - 학습횟수 결정 => 에포크 설정   \n",
    "    - 학습결과 저장 => 손실저장 변수"
   ]
  },
  {
   "cell_type": "code",
   "execution_count": 10,
   "id": "b560e1f4",
   "metadata": {},
   "outputs": [],
   "source": [
    "EPOCH = 10 # 처음부터 끝까지"
   ]
  },
  {
   "cell_type": "code",
   "execution_count": 11,
   "id": "8f9f1404",
   "metadata": {},
   "outputs": [],
   "source": [
    "## 테스트/검증 함수 \n",
    "# ==> 가중치, 절편 업데이트X, 최적화 미진행\n",
    "# ==> 현재 가중치와 절편값으로 테스트 진행\n",
    "\n",
    "# 모델 검증 및 테스트 \n",
    "def testing(testTS,targetTS, kind=\"Val\"):\n",
    "\n",
    "    with torch.no_grad(): # 가중치 및 절편 업데이트 진행X\n",
    "\n",
    "        # 1. 학습진행 - forward\n",
    "        pre_y = model(testTS)\n",
    "        print(f'{pre_y.shape}')\n",
    "\n",
    "        # 2. 오차계산 - 손실함수\n",
    "        loss = F.mse_loss(pre_y, targetTS) \n",
    "\n",
    "        # 4. 학습결과 출력 및 저장\n",
    "        print(f'[ {kind} ] LOSS : {loss}')\n",
    "\n",
    "    return loss"
   ]
  },
  {
   "cell_type": "code",
   "execution_count": 12,
   "id": "e3c0ada8",
   "metadata": {},
   "outputs": [],
   "source": [
    "# 모델 학습 함수\n",
    "def training(featureTS, targetTS, valTS, valTargetTS):\n",
    "\n",
    "    loss_history= [[],[]]\n",
    "\n",
    "    for epoch in range(EPOCH):\n",
    "\n",
    "        # 1. 학습진행 - forward\n",
    "        pre_y = model(featureTS)\n",
    "        print(f'{pre_y.shape}')\n",
    "\n",
    "        # 2. 오차계산 - 손실함수 >>>> 평균이요???\n",
    "        loss = F.mse_loss(pre_y, targetTS)  # loss >> tensor\n",
    "        loss_history[0].append(loss.item())\n",
    "\n",
    "        # 3. 최적화 - 가중치, 절편 업데이트 backward\n",
    "        adam_optim.zero_grad() # 지금 이것들도 다 tensor\n",
    "        loss.backward()\n",
    "        adam_optim.step()\n",
    "\n",
    "        # 3-1 검증 - 모델이 제대로 만들어지는지 검사용\n",
    "        val_loss = testing(valTS, valTargetTS)\n",
    "        loss_history[1].append(val_loss.item())\n",
    "\n",
    "        # 4. 학습결과 출력 및 저장\n",
    "        print(f'[{epoch}/{EPOCH}] LOSS : {loss}')\n",
    "\n",
    "    return loss_history"
   ]
  },
  {
   "cell_type": "code",
   "execution_count": 13,
   "id": "85ca952a",
   "metadata": {},
   "outputs": [
    {
     "name": "stdout",
     "output_type": "stream",
     "text": [
      "torch.Size([96, 1])\n",
      "torch.Size([24, 1])\n",
      "[ Val ] LOSS : 0.9332978129386902\n",
      "[0/10] LOSS : 0.6525238156318665\n",
      "torch.Size([96, 1])\n",
      "torch.Size([24, 1])\n",
      "[ Val ] LOSS : 0.3742549419403076\n",
      "[1/10] LOSS : 1.3216451406478882\n",
      "torch.Size([96, 1])\n",
      "torch.Size([24, 1])\n",
      "[ Val ] LOSS : 0.5057819485664368\n",
      "[2/10] LOSS : 0.5838128328323364\n",
      "torch.Size([96, 1])\n",
      "torch.Size([24, 1])\n",
      "[ Val ] LOSS : 0.9447771906852722\n",
      "[3/10] LOSS : 0.43377330899238586\n",
      "torch.Size([96, 1])\n",
      "torch.Size([24, 1])\n",
      "[ Val ] LOSS : 0.7701179385185242\n",
      "[4/10] LOSS : 0.7026843428611755\n",
      "torch.Size([96, 1])\n",
      "torch.Size([24, 1])\n",
      "[ Val ] LOSS : 0.33962157368659973\n",
      "[5/10] LOSS : 0.5675002336502075\n",
      "torch.Size([96, 1])\n",
      "torch.Size([24, 1])\n",
      "[ Val ] LOSS : 0.15530741214752197\n",
      "[6/10] LOSS : 0.27823635935783386\n",
      "torch.Size([96, 1])\n",
      "torch.Size([24, 1])\n",
      "[ Val ] LOSS : 0.21541394293308258\n",
      "[7/10] LOSS : 0.22642630338668823\n",
      "torch.Size([96, 1])\n",
      "torch.Size([24, 1])\n",
      "[ Val ] LOSS : 0.22375917434692383\n",
      "[8/10] LOSS : 0.35234615206718445\n",
      "torch.Size([96, 1])\n",
      "torch.Size([24, 1])\n",
      "[ Val ] LOSS : 0.12846402823925018\n",
      "[9/10] LOSS : 0.3594088852405548\n"
     ]
    }
   ],
   "source": [
    "# 모델 학습 진행\n",
    "loss = training(X_train, y_train, X_val, y_val)"
   ]
  },
  {
   "cell_type": "code",
   "execution_count": 14,
   "id": "12f821e2",
   "metadata": {},
   "outputs": [
    {
     "data": {
      "text/plain": [
       "[[0.6525238156318665,\n",
       "  1.3216451406478882,\n",
       "  0.5838128328323364,\n",
       "  0.43377330899238586,\n",
       "  0.7026843428611755,\n",
       "  0.5675002336502075,\n",
       "  0.27823635935783386,\n",
       "  0.22642630338668823,\n",
       "  0.35234615206718445,\n",
       "  0.3594088852405548],\n",
       " [0.9332978129386902,\n",
       "  0.3742549419403076,\n",
       "  0.5057819485664368,\n",
       "  0.9447771906852722,\n",
       "  0.7701179385185242,\n",
       "  0.33962157368659973,\n",
       "  0.15530741214752197,\n",
       "  0.21541394293308258,\n",
       "  0.22375917434692383,\n",
       "  0.12846402823925018]]"
      ]
     },
     "execution_count": 14,
     "metadata": {},
     "output_type": "execute_result"
    }
   ],
   "source": [
    "loss"
   ]
  },
  {
   "cell_type": "code",
   "execution_count": 15,
   "id": "07bbcda4",
   "metadata": {},
   "outputs": [
    {
     "data": {
      "image/png": "[encoded data removed]",
      "text/plain": [
       "<Figure size 640x480 with 1 Axes>"
      ]
     },
     "metadata": {},
     "output_type": "display_data"
    }
   ],
   "source": [
    "# 학습 후 loss 시각화\n",
    "import matplotlib.pyplot as plt\n",
    "\n",
    "\n",
    "plt.plot(range(1,11), loss[0], label='Train')\n",
    "plt.plot(range(1,11), loss[1], label='Valid')\n",
    "plt.title('Train & Valid')\n",
    "plt.xlabel('EPOCH')\n",
    "plt.ylabel('Loss')\n",
    "plt.grid()\n",
    "plt.legend()\n",
    "plt.show()"
   ]
  },
  {
   "cell_type": "code",
   "execution_count": null,
   "id": "107b8e4f",
   "metadata": {},
   "outputs": [],
   "source": []
  }
 ],
 "metadata": {
  "kernelspec": {
   "display_name": "Python 3 (ipykernel)",
   "language": "python",
   "name": "python3"
  },
  "language_info": {
   "codemirror_mode": {
    "name": "ipython",
    "version": 3
   },
   "file_extension": ".py",
   "mimetype": "text/x-python",
   "name": "python",
   "nbconvert_exporter": "python",
   "pygments_lexer": "ipython3",
   "version": "3.8.19"
  }
 },
 "nbformat": 4,
 "nbformat_minor": 5
}
