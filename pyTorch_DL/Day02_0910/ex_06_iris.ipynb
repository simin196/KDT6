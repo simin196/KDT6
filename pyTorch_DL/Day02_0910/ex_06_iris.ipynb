{
 "cells": [
  {
   "cell_type": "markdown",
   "id": "7412801f",
   "metadata": {},
   "source": [
    "#### iris 데이터셋 활용 꽃잎 너비 예측 모델\n",
    "- 데이터셋 : iris.csv에서 2개 Feature  사용\n",
    "- 구현 프레임워크 : Pytorch"
   ]
  },
  {
   "cell_type": "markdown",
   "id": "15b8df13",
   "metadata": {},
   "source": [
    "[1] 모듈 로딩 및 데이터 준비"
   ]
  },
  {
   "cell_type": "code",
   "execution_count": 80,
   "id": "8149113c",
   "metadata": {},
   "outputs": [],
   "source": [
    "# 모듈 로딩 \n",
    "import torch                        # 텐서 및 수치 계산 함수 관련 모듈\n",
    "import torch.nn as nn               # 인공신경망 관련 모듈\n",
    "import torch.nn.functional as F     # 손실, 거리 등 함수 관련 모듈\n",
    "import torch.optim as optimizer     # 최적화 기법 관련 모듈\n",
    "\n",
    "import pandas as pd                 # 데이터 파일 분석 관련 모듈"
   ]
  },
  {
   "cell_type": "code",
   "execution_count": 81,
   "id": "7ff523fb",
   "metadata": {},
   "outputs": [
    {
     "data": {
      "text/plain": [
       "<torch._C.Generator at 0x19f6f68fc30>"
      ]
     },
     "execution_count": 81,
     "metadata": {},
     "output_type": "execute_result"
    }
   ],
   "source": [
    "torch.manual_seed(1)"
   ]
  },
  {
   "cell_type": "code",
   "execution_count": 82,
   "id": "ba4e6b15",
   "metadata": {},
   "outputs": [
    {
     "data": {
      "text/html": [
       "<div>\n",
       "<style scoped>\n",
       "    .dataframe tbody tr th:only-of-type {\n",
       "        vertical-align: middle;\n",
       "    }\n",
       "\n",
       "    .dataframe tbody tr th {\n",
       "        vertical-align: top;\n",
       "    }\n",
       "\n",
       "    .dataframe thead th {\n",
       "        text-align: right;\n",
       "    }\n",
       "</style>\n",
       "<table border=\"1\" class=\"dataframe\">\n",
       "  <thead>\n",
       "    <tr style=\"text-align: right;\">\n",
       "      <th></th>\n",
       "      <th>petal.length</th>\n",
       "      <th>petal.width</th>\n",
       "    </tr>\n",
       "  </thead>\n",
       "  <tbody>\n",
       "    <tr>\n",
       "      <th>0</th>\n",
       "      <td>1.4</td>\n",
       "      <td>0.2</td>\n",
       "    </tr>\n",
       "    <tr>\n",
       "      <th>1</th>\n",
       "      <td>1.4</td>\n",
       "      <td>0.2</td>\n",
       "    </tr>\n",
       "  </tbody>\n",
       "</table>\n",
       "</div>"
      ],
      "text/plain": [
       "   petal.length  petal.width\n",
       "0           1.4          0.2\n",
       "1           1.4          0.2"
      ]
     },
     "execution_count": 82,
     "metadata": {},
     "output_type": "execute_result"
    }
   ],
   "source": [
    "# 데이터 로딩 : CSV ==> DataFrame\n",
    "DATA_FILE = '../data/iris.csv'\n",
    "\n",
    "irisDF = pd. read_csv(DATA_FILE, usecols=[2,3])\n",
    "irisDF.head(2)"
   ]
  },
  {
   "cell_type": "markdown",
   "id": "6a40e6cc",
   "metadata": {},
   "source": [
    "[2] 모델 준비\n",
    "- 학습방법 : 지도학습 > 회귀\n",
    "- 알고리즘 : 선형관계 >> 선형모델 ==> nn.Linear"
   ]
  },
  {
   "cell_type": "code",
   "execution_count": 83,
   "id": "bd021ad5",
   "metadata": {},
   "outputs": [],
   "source": [
    "# in_features : petal.length 1개\n",
    "# out_features : petal.width 1개\n",
    "model = nn.Linear(1,1)"
   ]
  },
  {
   "cell_type": "code",
   "execution_count": 84,
   "id": "9f2dc54a",
   "metadata": {},
   "outputs": [
    {
     "name": "stdout",
     "output_type": "stream",
     "text": [
      "[weight, Parameter containing:\n",
      "tensor([[0.5153]], requires_grad=True)]\n",
      "\n",
      "[bias, Parameter containing:\n",
      "tensor([-0.4414], requires_grad=True)]\n",
      "\n"
     ]
    }
   ],
   "source": [
    "# 가중치와 절편 확인\n",
    "for name, param in model.named_parameters():\n",
    "    print(f'[{name}, {param}]\\n')"
   ]
  },
  {
   "cell_type": "markdown",
   "id": "edc67a97",
   "metadata": {},
   "source": [
    "[3] 최적화 인스턴스 준비"
   ]
  },
  {
   "cell_type": "code",
   "execution_count": 85,
   "id": "76fd9c7c",
   "metadata": {},
   "outputs": [],
   "source": [
    "# 모델의 가중치와 절편을 최적화 ==> 인스턴스에 전달\n",
    "adam_optim = optimizer.Adam(model.parameters(), lr=0.1)"
   ]
  },
  {
   "cell_type": "markdown",
   "id": "7e97ba72",
   "metadata": {},
   "source": [
    "[4] 학습 ==> 개발자가 구현"
   ]
  },
  {
   "cell_type": "markdown",
   "id": "5e89111c",
   "metadata": {},
   "source": [
    "-[4-1] 데이터셋 Tensor화 진행 : 데이터준비 시 진행 하거나 또는 학습 전 진행"
   ]
  },
  {
   "cell_type": "code",
   "execution_count": 86,
   "id": "4b716ad5",
   "metadata": {},
   "outputs": [
    {
     "data": {
      "text/plain": [
       "torch.Size([150, 1])"
      ]
     },
     "execution_count": 86,
     "metadata": {},
     "output_type": "execute_result"
    }
   ],
   "source": [
    "featureTS = torch.from_numpy(irisDF[['petal.length']].values).float()\n",
    "featureTS.shape"
   ]
  },
  {
   "cell_type": "code",
   "execution_count": 87,
   "id": "f5500fc9",
   "metadata": {},
   "outputs": [
    {
     "data": {
      "text/plain": [
       "torch.Size([150, 1])"
      ]
     },
     "execution_count": 87,
     "metadata": {},
     "output_type": "execute_result"
    }
   ],
   "source": [
    "targetTS = torch.from_numpy(irisDF[['petal.width']].values).float()\n",
    "targetTS.shape"
   ]
  },
  {
   "cell_type": "markdown",
   "id": "258de7e6",
   "metadata": {},
   "source": [
    "[4-2] 학습진행 : 진행전    \n",
    "    - 학습횟수 결정 => 에포크 설정   \n",
    "    - 학습결과 저장 => 손실저장 변수"
   ]
  },
  {
   "cell_type": "code",
   "execution_count": 88,
   "id": "b560e1f4",
   "metadata": {},
   "outputs": [],
   "source": [
    "EPOCH = 10 # 처음부터 끝까지"
   ]
  },
  {
   "cell_type": "code",
   "execution_count": 89,
   "id": "e3c0ada8",
   "metadata": {},
   "outputs": [],
   "source": [
    "# 모델 학습 함수\n",
    "def training():\n",
    "\n",
    "    loss_history= []\n",
    "\n",
    "    for epoch in range(EPOCH):\n",
    "\n",
    "        # 1. 학습진행 - forward\n",
    "        pre_y = model(featureTS)\n",
    "\n",
    "        # 2. 오차계산 - 손실함수\n",
    "        loss = F.mse_loss(pre_y, targetTS)  # loss >> tensor\n",
    "        loss_history.append(loss.item())\n",
    "\n",
    "        # 3. 최적화 - 가중치, 절편 업데이트 backward\n",
    "        adam_optim.zero_grad() # 지금 이것들도 다 tensor\n",
    "        loss.backward()\n",
    "        adam_optim.step()\n",
    "\n",
    "        # 4. 학습결과 출력 및 저장\n",
    "        print(f'[{epoch}/{EPOCH}] LOSS : {loss}')\n",
    "\n",
    "    return loss_history"
   ]
  },
  {
   "cell_type": "code",
   "execution_count": 90,
   "id": "85ca952a",
   "metadata": {},
   "outputs": [
    {
     "name": "stdout",
     "output_type": "stream",
     "text": [
      "[0/10] LOSS : 0.16012583673000336\n",
      "[1/10] LOSS : 0.074522964656353\n",
      "[2/10] LOSS : 0.13772442936897278\n",
      "[3/10] LOSS : 0.07824525237083435\n",
      "[4/10] LOSS : 0.04498450458049774\n",
      "[5/10] LOSS : 0.07436980307102203\n",
      "[6/10] LOSS : 0.09182848036289215\n",
      "[7/10] LOSS : 0.06934763491153717\n",
      "[8/10] LOSS : 0.04540804773569107\n",
      "[9/10] LOSS : 0.04900302737951279\n"
     ]
    }
   ],
   "source": [
    "# 모델 학습 진행\n",
    "loss = training()"
   ]
  },
  {
   "cell_type": "code",
   "execution_count": 91,
   "id": "12f821e2",
   "metadata": {},
   "outputs": [
    {
     "data": {
      "text/plain": [
       "[0.16012583673000336,\n",
       " 0.074522964656353,\n",
       " 0.13772442936897278,\n",
       " 0.07824525237083435,\n",
       " 0.04498450458049774,\n",
       " 0.07436980307102203,\n",
       " 0.09182848036289215,\n",
       " 0.06934763491153717,\n",
       " 0.04540804773569107,\n",
       " 0.04900302737951279]"
      ]
     },
     "execution_count": 91,
     "metadata": {},
     "output_type": "execute_result"
    }
   ],
   "source": [
    "loss"
   ]
  },
  {
   "cell_type": "code",
   "execution_count": 92,
   "id": "07bbcda4",
   "metadata": {},
   "outputs": [
    {
     "data": {
      "image/png": "[encoded data removed]",
      "text/plain": [
       "<Figure size 640x480 with 1 Axes>"
      ]
     },
     "metadata": {},
     "output_type": "display_data"
    }
   ],
   "source": [
    "# 학습 후 loss 시각화\n",
    "import matplotlib.pyplot as plt\n",
    "\n",
    "plt.plot(range(1,11), loss)\n",
    "plt.xlabel('EPOCH')\n",
    "plt.ylabel('Loss')\n",
    "plt.grid()\n",
    "plt.show()"
   ]
  }
 ],
 "metadata": {
  "kernelspec": {
   "display_name": "Python 3 (ipykernel)",
   "language": "python",
   "name": "python3"
  },
  "language_info": {
   "codemirror_mode": {
    "name": "ipython",
    "version": 3
   },
   "file_extension": ".py",
   "mimetype": "text/x-python",
   "name": "python",
   "nbconvert_exporter": "python",
   "pygments_lexer": "ipython3",
   "version": "3.8.19"
  }
 },
 "nbformat": 4,
 "nbformat_minor": 5
}
