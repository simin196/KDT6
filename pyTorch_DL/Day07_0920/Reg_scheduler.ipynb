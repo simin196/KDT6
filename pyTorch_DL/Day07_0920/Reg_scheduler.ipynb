{
 "cells": [
  {
   "cell_type": "markdown",
   "metadata": {},
   "source": [
    "#### DNN 기반 회귀 모델 구현 + 학습 스케줄링\n",
    "- 데이터셋 : iris.csv\n",
    "- 피쳐/라벨 : 3개 sepal.length, sepal.width, petal.length\n",
    "- 타겟/라벨 : 1개 petal.width\n",
    "- 학습 방법 : 지도 학습 > 회귀\n",
    "- 학습 알고리즘 : 인공신경망(ANN) =>> 심층신경막(입력층, 은닉층, 출력층 있는거) MLP , DNN : 은닉층이 많은 구성\n",
    "- 프레임 워크 : Pytorch\n",
    "* * *\n",
    "- 학습 스케줄링\n",
    "    * 학습 시 동적으로 lr 값을 조정해주는 모듈"
   ]
  },
  {
   "cell_type": "markdown",
   "metadata": {},
   "source": [
    "[1] 모듈 로딩 및 데이터 준비 <hr>"
   ]
  },
  {
   "cell_type": "code",
   "execution_count": 40,
   "metadata": {},
   "outputs": [],
   "source": [
    "# 모듈 로딩\n",
    "# 1. 모델관련\n",
    "import torch                          # 텐서 및 수치 계산 함수 관련 모듈\n",
    "import torch.nn as nn                 # 인공신경망 관련 모듈\n",
    "import torch.nn.functional as F       # 손실, 거리 등 함수 관련 모듈\n",
    "\n",
    "# 2. 데이터 셋 관련                    \n",
    "from torch.utils.data import DataLoader, Dataset\n",
    "\n",
    "# 3. 최적화에 관련\n",
    "import torch.optim as optim           # 최적화 기법 관련 모듈\n",
    "import torch.optim.lr_scheduler as lr_scheduler # 최적화 스케줄링\n",
    "\n",
    "# 4. 모델 평가\n",
    "from torchmetrics.regression import R2Score, MeanSquaredError\n",
    "\n",
    "# 5. 모델의 구조를 보는 모듈\n",
    "from torchinfo import summary         # 모델 정보 관련 모듈\n",
    "\n",
    "# 6. Data 관련\n",
    "import pandas as pd                 # 데이터 파일 분석 관련 모듈\n",
    "import matplotlib.pyplot as plt\n",
    "from sklearn.preprocessing import *\n",
    "from sklearn.model_selection import train_test_split"
   ]
  },
  {
   "cell_type": "code",
   "execution_count": 41,
   "metadata": {},
   "outputs": [
    {
     "name": "stdout",
     "output_type": "stream",
     "text": [
      "Pytroch v.2.4.1\n",
      "Pandas v.2.0.3\n"
     ]
    }
   ],
   "source": [
    "# 활용 패키지 버전 체크 ==> 사용자 정의 함수로 구현하세요~~\n",
    "print(f'Pytroch v.{torch.__version__}')\n",
    "print(f'Pandas v.{pd.__version__}')"
   ]
  },
  {
   "cell_type": "code",
   "execution_count": 42,
   "metadata": {},
   "outputs": [
    {
     "data": {
      "text/html": [
       "<div>\n",
       "<style scoped>\n",
       "    .dataframe tbody tr th:only-of-type {\n",
       "        vertical-align: middle;\n",
       "    }\n",
       "\n",
       "    .dataframe tbody tr th {\n",
       "        vertical-align: top;\n",
       "    }\n",
       "\n",
       "    .dataframe thead th {\n",
       "        text-align: right;\n",
       "    }\n",
       "</style>\n",
       "<table border=\"1\" class=\"dataframe\">\n",
       "  <thead>\n",
       "    <tr style=\"text-align: right;\">\n",
       "      <th></th>\n",
       "      <th>sepal.length</th>\n",
       "      <th>sepal.width</th>\n",
       "      <th>petal.length</th>\n",
       "      <th>petal.width</th>\n",
       "    </tr>\n",
       "  </thead>\n",
       "  <tbody>\n",
       "    <tr>\n",
       "      <th>0</th>\n",
       "      <td>5.1</td>\n",
       "      <td>3.5</td>\n",
       "      <td>1.4</td>\n",
       "      <td>0.2</td>\n",
       "    </tr>\n",
       "  </tbody>\n",
       "</table>\n",
       "</div>"
      ],
      "text/plain": [
       "   sepal.length  sepal.width  petal.length  petal.width\n",
       "0           5.1          3.5           1.4          0.2"
      ]
     },
     "execution_count": 42,
     "metadata": {},
     "output_type": "execute_result"
    }
   ],
   "source": [
    "# 데이터 로딩\n",
    "DATA_file ='../data/iris.csv'\n",
    "\n",
    "# CSV >> DF\n",
    "irisDF = pd.read_csv(DATA_file, usecols=[0,1,2,3])\n",
    "\n",
    "# 확인\n",
    "irisDF.head(1)"
   ]
  },
  {
   "cell_type": "markdown",
   "metadata": {},
   "source": [
    "[2] 모델 클래스 설계 및 정의 <hr>\n",
    "- 클래스 목적 : iris 데이터를 학습 및 추론 목적\n",
    "- 클래스 이름 : IrisRegModel\n",
    "- 부모 클래스 : nn.Module\n",
    "- 매개 변수 : 층별 입출력 개수 고정하기 때문에 필요 없음\n",
    "- 속성 필드 : \n",
    "- 기능 역할(필수 메서드)     \n",
    "    + _ _init_ _() - 모델 구조 설정     \n",
    "    + forward() - 순방향 학습 <== 오버라이딩(overriding) >> 상속받을 때만 가능\n",
    "- 클래스 구조\n",
    "    * 입력층 - 입력  3개 (피쳐 개수)  >  출력 10개 (퍼셉트론 / 뉴런 10개 존재)\n",
    "    * 은닉층 - 입력 10개             >  출력 30개 (퍼셉트론 / 뉴런 30개 존재)\n",
    "    * 출력층 - 입력 30개             >  출력  1개 (타겟, [너비값(petal.width)])\n",
    "- 활성화함수\n",
    "    * 클래스 형태 ==> nn.MESLose, nn.ReLU ==> _ _init_ _() 메서드\n",
    "    * 함수 형태 ==> torch.nn.functional 아래에 ==> forward() 메서드"
   ]
  },
  {
   "cell_type": "code",
   "execution_count": 43,
   "metadata": {},
   "outputs": [],
   "source": [
    "class IrisRegModel(nn.Module):\n",
    "\n",
    "    # 모델 구조 구성 및 인스턴스 생성 메서드\n",
    "    def __init__(self):\n",
    "        super().__init__()\n",
    "\n",
    "        self.in_layer = nn.Linear(3,10)\n",
    "        self.hd_layer = nn.Linear(10,30)\n",
    "        self.out_layer = nn.Linear(30,1)\n",
    "\n",
    "    # 순방향 학습 진행 메서드\n",
    "    def forward(self, input_data):\n",
    "\n",
    "        # 입력층 \n",
    "        y = self.in_layer(input_data)   # fi1W11+f12W12+f13W13+b, ... , fi101W101+f102W102+fi103W103+b\n",
    "        y = F.relu(y)                   # relu => y값의 범위 : 0 <= y\n",
    "\n",
    "        # 은닉층 : 10개의 숫자 값(y >= 0)\n",
    "        y=self.hd_layer(y)              # f21W11+f22W12...+f210W210+b, ... , f230W201+...+f230W210+b\n",
    "        y = F.relu(y)                   # relu => y 값의 범위 : 0 <= y\n",
    "\n",
    "        # 출력층 : 30개의 숫자 값(y >= 0) >> 회귀이므로 바로 반환(return)\n",
    "        return self.out_layer(y)        # f31w31+......+f330w330 + b"
   ]
  },
  {
   "cell_type": "code",
   "execution_count": 44,
   "metadata": {},
   "outputs": [
    {
     "name": "stdout",
     "output_type": "stream",
     "text": [
      "IrisRegModel(\n",
      "  (in_layer): Linear(in_features=3, out_features=10, bias=True)\n",
      "  (hd_layer): Linear(in_features=10, out_features=30, bias=True)\n",
      "  (out_layer): Linear(in_features=30, out_features=1, bias=True)\n",
      ")\n"
     ]
    }
   ],
   "source": [
    "# 모델 인스턴스 생성\n",
    "model = IrisRegModel() # >>> 지금 이거 본건 모델이 잘나왔냐 확인차\n",
    "print(model)"
   ]
  },
  {
   "cell_type": "code",
   "execution_count": 45,
   "metadata": {},
   "outputs": [
    {
     "data": {
      "text/plain": [
       "==========================================================================================\n",
       "Layer (type:depth-idx)                   Output Shape              Param #\n",
       "==========================================================================================\n",
       "IrisRegModel                             [100000, 1]               --\n",
       "├─Linear: 1-1                            [100000, 10]              40\n",
       "├─Linear: 1-2                            [100000, 30]              330\n",
       "├─Linear: 1-3                            [100000, 1]               31\n",
       "==========================================================================================\n",
       "Total params: 401\n",
       "Trainable params: 401\n",
       "Non-trainable params: 0\n",
       "Total mult-adds (M): 40.10\n",
       "==========================================================================================\n",
       "Input size (MB): 1.20\n",
       "Forward/backward pass size (MB): 32.80\n",
       "Params size (MB): 0.00\n",
       "Estimated Total Size (MB): 34.00\n",
       "=========================================================================================="
      ]
     },
     "execution_count": 45,
     "metadata": {},
     "output_type": "execute_result"
    }
   ],
   "source": [
    "# 모델 사용 메로리 정보 확인\n",
    "summary(model, input_size=(100000,3)) # 데이터양, 피쳐개수"
   ]
  },
  {
   "cell_type": "markdown",
   "metadata": {},
   "source": [
    "[3] 데이터셋 클래스 설계 및 정의 <hr>\n",
    "- 데이터셋 : iris.csv\n",
    "- 피쳐 개수 : 3개\n",
    "- 타겟 개수 : 1개\n",
    "- 클래스 이름 : IrisDataset\n",
    "- 부모클래스 : utils.data.Dataset\n",
    "- 속성_필드 : featuresDF, targetDF, n_rows, n_features\n",
    "- 필수메서드\n",
    "    * __init__(self) : 데이터셋 저장 및 전처리, 개발자가 필요한 속성 설정\n",
    "    * __len__(self) : 데이터의 개수 반환\n",
    "    * __getitme__(self, index) : 특정 인덱스의 피쳐와 타겟 반환"
   ]
  },
  {
   "cell_type": "code",
   "execution_count": 46,
   "metadata": {},
   "outputs": [],
   "source": [
    "class IrisDataset(Dataset):\n",
    "    def __init__(self, featureDF, targetDF):\n",
    "        self.featureDF = featureDF\n",
    "        self.targetDF = targetDF\n",
    "        self.n_rows = featureDF.shape[0]\n",
    "        self.n_features = featureDF.shape[1]\n",
    "    \n",
    "    def __len__(self):\n",
    "        return self.n_rows\n",
    "    \n",
    "    def __getitem__(self, index):\n",
    "    \n",
    "        # 텐서화\n",
    "        featureTS = torch.FloatTensor(self.featureDF.iloc[index].values) # values하는 이유 >> array를 하기위해\n",
    "        targetTS = torch.FloatTensor(self.targetDF.iloc[index].values)\n",
    "\n",
    "        # 피쳐와 타겟 반환\n",
    "        return featureTS, targetTS"
   ]
  },
  {
   "cell_type": "code",
   "execution_count": 47,
   "metadata": {},
   "outputs": [],
   "source": [
    "# 데이터셋 인스턴스 생성 \n",
    "\n",
    "# DF에서 피쳐와 타겟 추출\n",
    "featureDF = irisDF[irisDF.columns[:-1]] # 2D (150,3)\n",
    "targetDF = irisDF[irisDF.columns[-1:]]  # 2D (150,1)\n",
    "\n",
    "# 커스텀데이터셋 인스턴스 생성\n",
    "irisDS = IrisDataset(featureDF, targetDF)"
   ]
  },
  {
   "cell_type": "markdown",
   "metadata": {},
   "source": [
    "[4] 학습 준비 <hr>\n",
    "- 학습 횟수 : EPOCH     <<< 처음 ~ 끝까지 공부하는 단위\n",
    "- 배치 크기 : BATCH_SIZE    <<< 한번에 학급할 데이터셋 양\n",
    "- 위치 지정 : DEVICE    <<< 텐서 저장 및 실행 위치(GPU/CPU)\n",
    "- 학습률 : LR   <<< 가중치와 절편 업데이트 시 경사하강법으로 업데이트 간격 설정, 0.001 ~ 0.1 사이를 많이 줌(값이 작을수록 촘촘하게 이동) >> 하이퍼 파라미터"
   ]
  },
  {
   "cell_type": "code",
   "execution_count": 48,
   "metadata": {},
   "outputs": [
    {
     "name": "stdout",
     "output_type": "stream",
     "text": [
      "BATCH_CNT : 15\n"
     ]
    }
   ],
   "source": [
    "## 학습 진행 관련 설정\n",
    "EPOCH = 1000\n",
    "BATCH_SIZE = 10\n",
    "BATCH_CNT = irisDF.shape[0]//BATCH_SIZE\n",
    "DEVICE = 'cuda' if torch.cuda.is_available() else 'cpu'\n",
    "LR = 0.001\n",
    "\n",
    "print(f'BATCH_CNT : {BATCH_CNT}')"
   ]
  },
  {
   "cell_type": "markdown",
   "metadata": {},
   "source": [
    "- 인스턴스/객체 : 모델, 데이터셋, 최적화 (, 손실함수 , 성능 지표)"
   ]
  },
  {
   "cell_type": "code",
   "execution_count": 49,
   "metadata": {},
   "outputs": [
    {
     "name": "stdout",
     "output_type": "stream",
     "text": [
      "(84, 3) (38, 3) (28, 3)\n",
      "<class 'pandas.core.frame.DataFrame'> <class 'pandas.core.frame.DataFrame'> <class 'pandas.core.frame.DataFrame'>\n",
      "(84, 1) (38, 1) (28, 1)\n",
      "<class 'pandas.core.frame.DataFrame'> <class 'pandas.core.frame.DataFrame'> <class 'pandas.core.frame.DataFrame'>\n"
     ]
    }
   ],
   "source": [
    "# 모델 인스턴스\n",
    "model = IrisRegModel()\n",
    "\n",
    "# 데이터셋 인스턴스\n",
    "X_train, X_test, y_train, y_test = train_test_split(featureDF,targetDF, random_state=1)\n",
    "X_train, X_val, y_train, y_val = train_test_split(X_train, y_train, random_state=1)\n",
    "print(f'{X_train.shape} {X_test.shape} {X_val.shape}')\n",
    "print(f'{type(X_train)} {type(X_test)} {type(X_val)}')\n",
    "print(f'{y_train.shape} {y_test.shape} {y_val.shape}')\n",
    "print(f'{type(y_train)} {type(y_test)} {type(y_val)}')\n",
    "\n",
    "trainDS = IrisDataset(X_train, y_train)\n",
    "testDS = IrisDataset(X_test, y_test)\n",
    "valDS = IrisDataset(X_val, y_val)\n",
    "\n",
    "# 데이터로더 인스턴스\n",
    "trainDL = DataLoader(trainDS, batch_size=BATCH_SIZE)"
   ]
  },
  {
   "cell_type": "code",
   "execution_count": 50,
   "metadata": {},
   "outputs": [
    {
     "name": "stdout",
     "output_type": "stream",
     "text": [
      "torch.Size([10, 3]) torch.Size([10, 1])\n",
      "torch.Size([10, 3]) torch.Size([10, 1])\n",
      "torch.Size([10, 3]) torch.Size([10, 1])\n",
      "torch.Size([10, 3]) torch.Size([10, 1])\n",
      "torch.Size([10, 3]) torch.Size([10, 1])\n",
      "torch.Size([10, 3]) torch.Size([10, 1])\n",
      "torch.Size([10, 3]) torch.Size([10, 1])\n",
      "torch.Size([10, 3]) torch.Size([10, 1])\n",
      "torch.Size([4, 3]) torch.Size([4, 1])\n"
     ]
    }
   ],
   "source": [
    "## [테스트] 데이터로더와 데이터셋 체크\n",
    "for feature, target in trainDL:\n",
    "    print(feature.shape, target.shape)"
   ]
  },
  {
   "cell_type": "code",
   "execution_count": 51,
   "metadata": {},
   "outputs": [
    {
     "name": "stderr",
     "output_type": "stream",
     "text": [
      "c:\\Users\\KDP-23\\anaconda3\\envs\\TORCH_38\\lib\\site-packages\\torch\\optim\\lr_scheduler.py:60: UserWarning: The verbose parameter is deprecated. Please use get_last_lr() to access the learning rate.\n",
      "  warnings.warn(\n"
     ]
    }
   ],
   "source": [
    "# 최적화 인스턴스 => W,b텐서 즉, model.parameters() 전달\n",
    "#                >> W,b 업데이트 시키는이유 >>> 오차를 줄여 최적의 모델을 찾기위해  \n",
    "optimizer = optim.Adam(model.parameters(), lr=LR)\n",
    "\n",
    "# 최적화 스케줄링 인스턴스 생성 ==> lr조절 및 성능 개선 여부 체크\n",
    "scheduler = lr_scheduler.ReduceLROnPlateau(optimizer, mode='max', patience=5, verbose=True)\n",
    "\n",
    "# 소실함수 인스턴스 => 회귀, MSE, MAE, RMSE ....\n",
    "reqLoss = nn.MSELoss()"
   ]
  },
  {
   "cell_type": "markdown",
   "metadata": {},
   "source": [
    "[5] 학습진행 <hr>"
   ]
  },
  {
   "cell_type": "code",
   "execution_count": 56,
   "metadata": {},
   "outputs": [
    {
     "name": "stdout",
     "output_type": "stream",
     "text": [
      "scheduler.num_bad_epochs => 0 scheduler.patience => 5\n",
      "scheduler.num_bad_epochs => 1 scheduler.patience => 5\n",
      "scheduler.num_bad_epochs => 2 scheduler.patience => 5\n",
      "scheduler.num_bad_epochs => 3 scheduler.patience => 5\n",
      "scheduler.num_bad_epochs => 0 scheduler.patience => 5\n",
      "scheduler.num_bad_epochs => 1 scheduler.patience => 5\n",
      "scheduler.num_bad_epochs => 2 scheduler.patience => 5\n",
      "scheduler.num_bad_epochs => 3 scheduler.patience => 5\n",
      "scheduler.num_bad_epochs => 0 scheduler.patience => 5\n",
      "scheduler.num_bad_epochs => 1 scheduler.patience => 5\n",
      "scheduler.num_bad_epochs => 2 scheduler.patience => 5\n",
      "scheduler.num_bad_epochs => 3 scheduler.patience => 5\n",
      "scheduler.num_bad_epochs => 4 scheduler.patience => 5\n",
      "scheduler.num_bad_epochs => 0 scheduler.patience => 5\n",
      "scheduler.num_bad_epochs => 1 scheduler.patience => 5\n",
      "scheduler.num_bad_epochs => 0 scheduler.patience => 5\n",
      "scheduler.num_bad_epochs => 1 scheduler.patience => 5\n",
      "scheduler.num_bad_epochs => 2 scheduler.patience => 5\n",
      "scheduler.num_bad_epochs => 3 scheduler.patience => 5\n",
      "scheduler.num_bad_epochs => 0 scheduler.patience => 5\n",
      "scheduler.num_bad_epochs => 1 scheduler.patience => 5\n",
      "scheduler.num_bad_epochs => 2 scheduler.patience => 5\n",
      "scheduler.num_bad_epochs => 3 scheduler.patience => 5\n",
      "scheduler.num_bad_epochs => 4 scheduler.patience => 5\n",
      "scheduler.num_bad_epochs => 0 scheduler.patience => 5\n",
      "scheduler.num_bad_epochs => 1 scheduler.patience => 5\n",
      "scheduler.num_bad_epochs => 2 scheduler.patience => 5\n",
      "scheduler.num_bad_epochs => 3 scheduler.patience => 5\n",
      "scheduler.num_bad_epochs => 0 scheduler.patience => 5\n",
      "scheduler.num_bad_epochs => 1 scheduler.patience => 5\n",
      "scheduler.num_bad_epochs => 2 scheduler.patience => 5\n",
      "scheduler.num_bad_epochs => 3 scheduler.patience => 5\n",
      "scheduler.num_bad_epochs => 0 scheduler.patience => 5\n",
      "scheduler.num_bad_epochs => 1 scheduler.patience => 5\n",
      "scheduler.num_bad_epochs => 2 scheduler.patience => 5\n",
      "scheduler.num_bad_epochs => 3 scheduler.patience => 5\n",
      "scheduler.num_bad_epochs => 0 scheduler.patience => 5\n",
      "scheduler.num_bad_epochs => 1 scheduler.patience => 5\n",
      "scheduler.num_bad_epochs => 2 scheduler.patience => 5\n",
      "scheduler.num_bad_epochs => 3 scheduler.patience => 5\n",
      "scheduler.num_bad_epochs => 4 scheduler.patience => 5\n",
      "scheduler.num_bad_epochs => 5 scheduler.patience => 5\n",
      "41/1000 : 5 EPOCH 성능 개선이 없어서 조기종료함\n"
     ]
    }
   ],
   "source": [
    "## 학습의 효과 확인, 손실값과 성능평가값 저장 필요 , 검증기능을 \n",
    "LOSS_HISTORY, SCORE_HISTORY = [[], []], [[], []]\n",
    "CNT=irisDS.n_rows/BATCH_SIZE\n",
    "\n",
    "for epoch in range(EPOCH):\n",
    "    # 학습 모드로 모델 설정\n",
    "    model.train()\n",
    "    \n",
    "    # 배치 크기 만큼 데이터 로딩해서 학습 진행\n",
    "    loss_total, score_total = 0, 0\n",
    "    for featureTS, targetTS in trainDL:\n",
    "\n",
    "        # 학습 진행\n",
    "        pre_y = model(featureTS)\n",
    "\n",
    "        # 손실 계산\n",
    "        loss = reqLoss(pre_y, targetTS)\n",
    "        loss_total += loss.item()\n",
    "\n",
    "        # 성능 평가 계산\n",
    "        score = R2Score()(pre_y, targetTS) \n",
    "        score_total += score.item()\n",
    "\n",
    "        # 최적화 진행\n",
    "        optimizer.zero_grad()\n",
    "        loss.backward()\n",
    "        optimizer.step()\n",
    "\n",
    "    # 에포크 당 검증 기능\n",
    "    # 모델 검증 모드 설정 >> 검증이기에 업데이트 불필요\n",
    "    model.eval() \n",
    "    with torch.no_grad():\n",
    "        \n",
    "        # 검증 데이터셋\n",
    "        val_featrueTS = torch.FloatTensor(valDS.featureDF.values)\n",
    "        val_targetTS = torch.FloatTensor(valDS.targetDF.values)\n",
    "\n",
    "        # 추론 / 평가 \n",
    "        pre_val = model(val_featrueTS)\n",
    "        \n",
    "        # 손실\n",
    "        loss_val = reqLoss(pre_val, val_targetTS)\n",
    "        \n",
    "        # 성능평가\n",
    "        score_val = R2Score()(pre_val, val_targetTS)\n",
    "\n",
    "    # 에포크 당 손실값과 성능평가값 저장\n",
    "    LOSS_HISTORY[0].append(loss_total/BATCH_CNT)\n",
    "    SCORE_HISTORY[0].append(score_total/BATCH_CNT)\n",
    "\n",
    "    LOSS_HISTORY[1].append(loss_val)\n",
    "    SCORE_HISTORY[1].append(score_val)\n",
    "\n",
    "    # 최적화 스케줄러 인스턴스 업데이트 \n",
    "    scheduler.step(score_val) # loss는 min, score는 max\n",
    "    print(f'scheduler.num_bad_epochs => {scheduler.num_bad_epochs}', end=' ')\n",
    "    print(f'scheduler.patience => {scheduler.patience}')\n",
    "\n",
    "    # 손실 감소(또는 성능 개선)이 안되는 경우 조기 종료\n",
    "    if scheduler.num_bad_epochs >= scheduler.patience:\n",
    "        print(f'{epoch}/{EPOCH} : {scheduler.patience} EPOCH 성능 개선이 없어서 조기종료함')\n",
    "        break"
   ]
  },
  {
   "cell_type": "code",
   "execution_count": 53,
   "metadata": {},
   "outputs": [
    {
     "data": {
      "text/plain": [
       "(torch.Size([28, 3]), torch.Size([28, 1]))"
      ]
     },
     "execution_count": 53,
     "metadata": {},
     "output_type": "execute_result"
    }
   ],
   "source": [
    "val_featrueTS=torch.FloatTensor(valDS.featureDF.values)\n",
    "val_targetTS=torch.FloatTensor(valDS.targetDF.values)\n",
    "\n",
    "val_featrueTS.shape, val_targetTS.shape"
   ]
  },
  {
   "cell_type": "code",
   "execution_count": 54,
   "metadata": {},
   "outputs": [
    {
     "name": "stdout",
     "output_type": "stream",
     "text": [
      "CNT => 15.0\n",
      "LOSS_HISTORY => [[0.8983352979024252, 0.7796804587046305, 0.6604041576385498, 0.5288041989008586, 0.3889703591664632, 0.26085135142008464, 0.17135506868362427, 0.12800652881463367, 0.10621326565742492, 0.08506319423516591, 0.06696983575820922, 0.053202345470587414, 0.04251625835895538, 0.034586209307114285, 0.029053967073559762, 0.025461478779713314, 0.023271433264017104, 0.02198448677857717, 0.02125867667297522, 0.020878818134466806, 0.020685973390936852, 0.020580476398269335, 0.02051000768939654, 0.02045552817483743, 0.020412161325414974, 0.020375608777006466, 0.02032890593012174, 0.020287794371445973, 0.02025762088596821, 0.02022920362651348, 0.020193597798546157, 0.020157014206051826, 0.020127315322558084, 0.020097401117285092, 0.020060363287727038, 0.020027331759532294, 0.01999303698539734, 0.01997413734594981, 0.019939158732692402, 0.019904404630263647, 0.01987663805484772, 0.019844107826550803, 0.01981115552286307, 0.019784563407301902, 0.019758452102541922, 0.01972229704260826, 0.0196960827956597, 0.019669661422570546, 0.01963385914762815, 0.019611622268954913, 0.01957724541425705, 0.0195485300074021, 0.01952390049894651, 0.019488050416111947, 0.01946026769777139, 0.01943521872162819, 0.01939939670264721, 0.019376705090204876, 0.01933717541396618, 0.019302838792403538, 0.01929321140050888, 0.019261727730433147, 0.019231845438480378, 0.019206703702608744, 0.019173099597295126, 0.01914139526585738, 0.019106897339224816, 0.019092540194590887, 0.019067000846068063, 0.019036299362778664, 0.01900030436615149, 0.018969176709651946, 0.018956928824385006, 0.01892723354200522, 0.01888998970389366, 0.018857463573416073, 0.01885147566596667, 0.01881854347884655, 0.018784196799000105, 0.018749611576398213, 0.018742018689711887, 0.01871606819331646, 0.018673368791739146, 0.018645440166195234, 0.018637409806251524, 0.018591372668743132, 0.018565449491143228, 0.01855313256382942, 0.018527492011586825, 0.018487669775883356, 0.018455184747775397, 0.018449221178889273, 0.018408425400654474, 0.018376465328037737, 0.018373307461539905, 0.01833325270563364, 0.018297363134721915, 0.01829489382604758, 0.018254686084886392, 0.0182201512157917, 0.01821840610355139, 0.01817147179196278, 0.018137687010069688, 0.018142417756219706, 0.01809204618136088, 0.01805757066855828, 0.018064222298562527, 0.01801515867312749, 0.017983540457983813, 0.017987866948048273, 0.017941101143757503, 0.017943808684746425, 0.017898224107921124, 0.017859147116541862, 0.017909612072010837, 0.017837331195672355, 0.01778303608298302, 0.017835204986234508, 0.01778057695676883, 0.01770714254428943, 0.017767756432294845, 0.0176942586277922, 0.017663987725973128, 0.01764748220642408, 0.017668291367590426, 0.017625553098817668, 0.01755413462718328, 0.017615516980489094, 0.017526772618293763, 0.01754230707883835, 0.017492879244188467, 0.017478168569505216, 0.017457681708037853, 0.01745366572091977, 0.01740103904157877, 0.01741798147559166, 0.017351817650099594, 0.01737951592852672, 0.017319106683135032, 0.01731379156311353, 0.01729474390546481, 0.017287270911037923, 0.017236482600371042, 0.017229529780646166, 0.0171989473203818, 0.017242195457220076, 0.017187101456026237, 0.017109274429579577, 0.01719554588198662, 0.017104598321020605, 0.017087829361359278, 0.01706027121593555, 0.017118647197882333, 0.017038064015408357, 0.016984141866366067, 0.017067314125597477, 0.01699482345332702, 0.01691936912635962, 0.017010161901513735, 0.016892642341554166, 0.016923004947602748, 0.016880891534189382, 0.016886037836472193], [tensor(1.1998), tensor(1.0304), tensor(0.8591), tensor(0.6709), tensor(0.4877), tensor(0.3494), tensor(0.2825), tensor(0.2529), tensor(0.2098), tensor(0.1606), tensor(0.1231), tensor(0.0966), tensor(0.0780), tensor(0.0644), tensor(0.0551), tensor(0.0496), tensor(0.0468), tensor(0.0453), tensor(0.0446), tensor(0.0443), tensor(0.0442), tensor(0.0442), tensor(0.0442), tensor(0.0441), tensor(0.0440), tensor(0.0440), tensor(0.0439), tensor(0.0438), tensor(0.0437), tensor(0.0437), tensor(0.0436), tensor(0.0435), tensor(0.0435), tensor(0.0434), tensor(0.0434), tensor(0.0433), tensor(0.0432), tensor(0.0432), tensor(0.0432), tensor(0.0431), tensor(0.0431), tensor(0.0430), tensor(0.0429), tensor(0.0429), tensor(0.0429), tensor(0.0428), tensor(0.0427), tensor(0.0427), tensor(0.0427), tensor(0.0426), tensor(0.0426), tensor(0.0425), tensor(0.0425), tensor(0.0425), tensor(0.0424), tensor(0.0424), tensor(0.0423), tensor(0.0423), tensor(0.0423), tensor(0.0422), tensor(0.0422), tensor(0.0421), tensor(0.0421), tensor(0.0421), tensor(0.0420), tensor(0.0420), tensor(0.0419), tensor(0.0419), tensor(0.0418), tensor(0.0418), tensor(0.0418), tensor(0.0417), tensor(0.0417), tensor(0.0416), tensor(0.0416), tensor(0.0415), tensor(0.0415), tensor(0.0415), tensor(0.0414), tensor(0.0413), tensor(0.0413), tensor(0.0413), tensor(0.0412), tensor(0.0411), tensor(0.0412), tensor(0.0411), tensor(0.0410), tensor(0.0410), tensor(0.0410), tensor(0.0410), tensor(0.0408), tensor(0.0409), tensor(0.0408), tensor(0.0407), tensor(0.0407), tensor(0.0407), tensor(0.0406), tensor(0.0406), tensor(0.0406), tensor(0.0405), tensor(0.0405), tensor(0.0405), tensor(0.0403), tensor(0.0404), tensor(0.0404), tensor(0.0402), tensor(0.0403), tensor(0.0403), tensor(0.0401), tensor(0.0402), tensor(0.0400), tensor(0.0401), tensor(0.0401), tensor(0.0398), tensor(0.0399), tensor(0.0400), tensor(0.0397), tensor(0.0398), tensor(0.0399), tensor(0.0396), tensor(0.0397), tensor(0.0397), tensor(0.0396), tensor(0.0395), tensor(0.0395), tensor(0.0396), tensor(0.0393), tensor(0.0395), tensor(0.0394), tensor(0.0393), tensor(0.0393), tensor(0.0393), tensor(0.0392), tensor(0.0393), tensor(0.0391), tensor(0.0392), tensor(0.0391), tensor(0.0391), tensor(0.0390), tensor(0.0390), tensor(0.0389), tensor(0.0390), tensor(0.0389), tensor(0.0389), tensor(0.0387), tensor(0.0388), tensor(0.0389), tensor(0.0386), tensor(0.0388), tensor(0.0387), tensor(0.0387), tensor(0.0385), tensor(0.0386), tensor(0.0387), tensor(0.0384), tensor(0.0385), tensor(0.0386), tensor(0.0383), tensor(0.0385), tensor(0.0383), tensor(0.0384), tensor(0.0383), tensor(0.0383)]]\n",
      "SCORE_HISTORY => [[-1.3169706424077352, -1.0645446221033732, -0.8106612284978231, -0.5308055877685547, -0.23163078228632608, 0.045660940806070964, 0.24382423162460326, 0.34275188446044924, 0.38925959666570026, 0.430845582485199, 0.4661595384279887, 0.4931719422340393, 0.5145328283309937, 0.5305189728736878, 0.5416379928588867, 0.5488409479459126, 0.5532507379849751, 0.5558771371841431, 0.5573715170224508, 0.5581535736719767, 0.5585455298423767, 0.5587571382522583, 0.5588943521181743, 0.5589949011802673, 0.559071934223175, 0.5591366251309713, 0.5592197418212891, 0.5592870910962423, 0.559332541624705, 0.5593788385391235, 0.5594429612159729, 0.5595072428385417, 0.5595584233601888, 0.5596129218737285, 0.5596798340479533, 0.5597368876139323, 0.5597971359888713, 0.5598278244336446, 0.5598973512649537, 0.5599629521369934, 0.5600118517875672, 0.5600721716880799, 0.5601332108179728, 0.5601802388827006, 0.5602281610171, 0.5602991342544555, 0.560347588857015, 0.5603968858718872, 0.5604691306749979, 0.5605103770891825, 0.5605800906817119, 0.5606365362803142, 0.5606845458348592, 0.5607584198315938, 0.5608124295870464, 0.5608606855074565, 0.560934583346049, 0.5609787742296855, 0.5610560496648153, 0.5611161549886068, 0.5611282269159953, 0.5611938675244649, 0.5612569610277812, 0.5613085707028707, 0.561381483078003, 0.5614417910575866, 0.5615044037501017, 0.5615290880203248, 0.5615837812423706, 0.5616504589716593, 0.5617218653361002, 0.5617790897687276, 0.5618022561073304, 0.5618674914042155, 0.5619446118672689, 0.562004816532135, 0.5620140473047892, 0.5620876471201579, 0.562158481280009, 0.5622257590293884, 0.5622390826543172, 0.56229674021403, 0.5623867472012838, 0.5624411185582479, 0.5624557336171468, 0.5625546892484029, 0.5626037836074829, 0.562631352742513, 0.5626907666524251, 0.5627738992373149, 0.5628404259681702, 0.5628509839375814, 0.5629364132881165, 0.5630010406176249, 0.563005018234253, 0.5630913813908894, 0.5631663799285889, 0.5631717761357625, 0.5632575392723084, 0.5633281350135804, 0.5633336067199707, 0.5634348074595134, 0.5635044376055399, 0.5634940226872762, 0.563602888584137, 0.563672137260437, 0.5636571447054545, 0.5637634952863058, 0.5638271888097127, 0.5638148546218872, 0.5639079014460245, 0.5639070113499959, 0.5640044848124186, 0.5640684485435485, 0.5639633536338806, 0.564130942026774, 0.5642316857973735, 0.5641229629516602, 0.5642535130182902, 0.5643951773643494, 0.564273190498352, 0.564424204826355, 0.564499044418335, 0.5645040512084961, 0.5644712011019389, 0.5645774920781453, 0.5647116621335347, 0.5645915150642395, 0.5647682309150696, 0.5647658586502076, 0.5648412863413493, 0.564885683854421, 0.5649131457010905, 0.5649403055508931, 0.5650379896163941, 0.5650234580039978, 0.5651345491409302, 0.5650982220967611, 0.5652045130729675, 0.5652316133181254, 0.5652554114659627, 0.56529221534729, 0.5653834462165832, 0.5654023249944051, 0.5654462655385335, 0.5653675039609273, 0.5654995997746786, 0.5656479239463806, 0.5654628952344258, 0.5656588395436605, 0.565706996122996, 0.5657363295555115, 0.5656219919522604, 0.5658114115397136, 0.5659095764160156, 0.5657321969668071, 0.5659162998199463, 0.5660573283831278, 0.5658735990524292, 0.56611088514328, 0.5660704056421916, 0.5661355535189311, 0.56614990234375], [tensor(-0.8587), tensor(-0.5962), tensor(-0.3309), tensor(-0.0394), tensor(0.2444), tensor(0.4587), tensor(0.5623), tensor(0.6082), tensor(0.6750), tensor(0.7512), tensor(0.8093), tensor(0.8503), tensor(0.8792), tensor(0.9002), tensor(0.9146), tensor(0.9231), tensor(0.9275), tensor(0.9298), tensor(0.9309), tensor(0.9313), tensor(0.9315), tensor(0.9315), tensor(0.9316), tensor(0.9317), tensor(0.9318), tensor(0.9318), tensor(0.9319), tensor(0.9321), tensor(0.9323), tensor(0.9323), tensor(0.9324), tensor(0.9325), tensor(0.9327), tensor(0.9327), tensor(0.9328), tensor(0.9329), tensor(0.9330), tensor(0.9331), tensor(0.9331), tensor(0.9332), tensor(0.9333), tensor(0.9334), tensor(0.9335), tensor(0.9336), tensor(0.9336), tensor(0.9337), tensor(0.9338), tensor(0.9338), tensor(0.9339), tensor(0.9340), tensor(0.9340), tensor(0.9341), tensor(0.9341), tensor(0.9342), tensor(0.9343), tensor(0.9343), tensor(0.9344), tensor(0.9344), tensor(0.9345), tensor(0.9347), tensor(0.9347), tensor(0.9347), tensor(0.9348), tensor(0.9348), tensor(0.9349), tensor(0.9349), tensor(0.9351), tensor(0.9351), tensor(0.9352), tensor(0.9352), tensor(0.9353), tensor(0.9354), tensor(0.9355), tensor(0.9355), tensor(0.9355), tensor(0.9357), tensor(0.9357), tensor(0.9358), tensor(0.9358), tensor(0.9360), tensor(0.9360), tensor(0.9360), tensor(0.9361), tensor(0.9363), tensor(0.9362), tensor(0.9363), tensor(0.9365), tensor(0.9365), tensor(0.9365), tensor(0.9366), tensor(0.9367), tensor(0.9367), tensor(0.9368), tensor(0.9369), tensor(0.9369), tensor(0.9369), tensor(0.9371), tensor(0.9371), tensor(0.9371), tensor(0.9373), tensor(0.9373), tensor(0.9373), tensor(0.9375), tensor(0.9374), tensor(0.9374), tensor(0.9377), tensor(0.9376), tensor(0.9376), tensor(0.9378), tensor(0.9377), tensor(0.9380), tensor(0.9379), tensor(0.9379), tensor(0.9383), tensor(0.9381), tensor(0.9380), tensor(0.9385), tensor(0.9383), tensor(0.9382), tensor(0.9386), tensor(0.9384), tensor(0.9385), tensor(0.9386), tensor(0.9388), tensor(0.9388), tensor(0.9386), tensor(0.9390), tensor(0.9388), tensor(0.9390), tensor(0.9390), tensor(0.9391), tensor(0.9391), tensor(0.9392), tensor(0.9392), tensor(0.9394), tensor(0.9393), tensor(0.9395), tensor(0.9395), tensor(0.9396), tensor(0.9396), tensor(0.9397), tensor(0.9396), tensor(0.9398), tensor(0.9397), tensor(0.9400), tensor(0.9399), tensor(0.9397), tensor(0.9403), tensor(0.9400), tensor(0.9401), tensor(0.9401), tensor(0.9404), tensor(0.9402), tensor(0.9401), tensor(0.9406), tensor(0.9403), tensor(0.9402), tensor(0.9407), tensor(0.9404), tensor(0.9406), tensor(0.9406), tensor(0.9407), tensor(0.9406)]]\n"
     ]
    }
   ],
   "source": [
    "print(f'CNT => {CNT}')\n",
    "print(f'LOSS_HISTORY => {LOSS_HISTORY}')\n",
    "print(f'SCORE_HISTORY => {SCORE_HISTORY}')\n"
   ]
  }
 ],
 "metadata": {
  "kernelspec": {
   "display_name": "TORCH_38",
   "language": "python",
   "name": "python3"
  },
  "language_info": {
   "codemirror_mode": {
    "name": "ipython",
    "version": 3
   },
   "file_extension": ".py",
   "mimetype": "text/x-python",
   "name": "python",
   "nbconvert_exporter": "python",
   "pygments_lexer": "ipython3",
   "version": "3.8.19"
  }
 },
 "nbformat": 4,
 "nbformat_minor": 2
}
