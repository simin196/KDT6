{
 "cells": [
  {
   "cell_type": "markdown",
   "metadata": {},
   "source": [
    "#### 사용자 정의 모델 클래스\n",
    "- 부모클래스 : nn.Module\n",
    "- 필수오버라이딩 : \n",
    "    * _ _init_ _() : 모델 층 구성 즉, 설계\n",
    "    * forward() : 순방 향학습 진행 코드 구현 \n",
    "- 동적 모델\n",
    "    * container 모듈 중 nn.ModuleList() 사용해서 동적으로 Layer 추가\n",
    "        - forward 기능 미 제공 >> 순서, 연결성 X\n",
    "        - layer 인스턴스 요소 사이에 연관성 없음 \n",
    "        - layer 인스턴스 요소 인덱싱으로 접근 >>> 순서를 부여\n"
   ]
  },
  {
   "cell_type": "code",
   "execution_count": 1,
   "metadata": {},
   "outputs": [],
   "source": [
    "# 모듈 로딩\n",
    "\n",
    "import torch                                    # 텐서 관련 모듈\n",
    "import torch.nn as nn                           # 인공신경망 관련 모듈\n",
    "import torch.nn.functional as F                 # 손실함수 활성화함수 등 인공신경망 관련 함수 모듈\n",
    "import torch.optim as optim                     # 최적화 관련 모듈(가중치, 절편 빠르게 찾아주는 알고리즘 (경사하강법))\n",
    "from torchinfo import summary                   # 모델 구조 및 정보 관련 모듈\n",
    "from torchmetrics.regression import *           # 회귀 성능 지표 관련 모듈 \n",
    "from torchmetrics.classification import *       # 분류 성능 지표 관련 모듈\n",
    "\n",
    "import pandas as pd                 # 데이터 파일 분석 관련 모듈\n",
    "from sklearn.model_selection import train_test_split\n"
   ]
  },
  {
   "cell_type": "code",
   "execution_count": 2,
   "metadata": {},
   "outputs": [],
   "source": [
    "# 랜덤 고정\n",
    "torch.manual_seed(1)\n",
    "\n",
    "# 텐서 저장 및 실행 위치 설정\n",
    "DEVICE = 'cuda' if torch.cuda.is_available() else 'cpu'"
   ]
  },
  {
   "cell_type": "markdown",
   "metadata": {},
   "source": [
    "- 모델 설계 - 동적 모델 <hr>\n",
    "    * 목표 : 은닉층의 개수가 동적인 모델\n",
    "    * 조건\n",
    "        + 입력층과 출력층 개수 동적 => 일력층의 입력값, 출력층의 출력값\n",
    "        + 은닉충의 개수 동적 + 퍼셉트론 고정 => 은닉층의 개수, 각 은닉층의 퍼셉트론의 수는 고정"
   ]
  },
  {
   "cell_type": "code",
   "execution_count": 3,
   "metadata": {},
   "outputs": [],
   "source": [
    "# ----------------------------------------------------------------------\n",
    "# 모델 이름 : DynamicModel\n",
    "# 부모 클래스 : nn.Module\n",
    "# 모델의 메개변수 : in_in, out_out, h_inout, h_cnt) \n",
    "# ----------------------------------------------------------------------"
   ]
  },
  {
   "cell_type": "code",
   "execution_count": 4,
   "metadata": {},
   "outputs": [],
   "source": [
    "class DynamicModel(nn.Module):\n",
    "\n",
    "    # 모델 구조 설계 함수 즉, 생성자 메서드\n",
    "    def __init__(self,in_in, out_out, h_inout, h_cnt):\n",
    "        super().__init__()\n",
    "\n",
    "        self.in_layer = nn.Linear(in_in, h_inout)\n",
    "\n",
    "        self.h_layers = nn.ModuleList( [ nn.Linear(h_inout, h_inout) for _ in range(h_cnt)])\n",
    "       \n",
    "        self.out_layer = nn.Linear( h_inout, out_out)\n",
    "\n",
    "\n",
    "    # 학습 진행 콜백 메서드\n",
    "    def forward(self, x) :\n",
    "        \n",
    "        # 입력층\n",
    "        y=self.in_layer(x)            # y = x1W1 + x2W2 + x3W3 + b\n",
    "        y=F.relu(y)                   # 0 <= y \n",
    "        # y=F.relu(self.in_layer(x)) \n",
    "        # 은닉층\n",
    "        for linear in self.h_layers:\n",
    "            y = linear(y)\n",
    "            y=F.relu(y)\n",
    "            # y=F.relu(linear(y))\n",
    "\n",
    "        # 출력층\n",
    "        return self.out_layer(y)\n",
    "\n"
   ]
  },
  {
   "cell_type": "code",
   "execution_count": 5,
   "metadata": {},
   "outputs": [],
   "source": [
    "# 모델 인스턴스 생성\n",
    "m1 = DynamicModel(3,2,5,10)"
   ]
  },
  {
   "cell_type": "code",
   "execution_count": 6,
   "metadata": {},
   "outputs": [
    {
     "name": "stdout",
     "output_type": "stream",
     "text": [
      "DynamicModel(\n",
      "  (in_layer): Linear(in_features=3, out_features=5, bias=True)\n",
      "  (h_layers): ModuleList(\n",
      "    (0-9): 10 x Linear(in_features=5, out_features=5, bias=True)\n",
      "  )\n",
      "  (out_layer): Linear(in_features=5, out_features=2, bias=True)\n",
      ")\n"
     ]
    }
   ],
   "source": [
    "print(m1)"
   ]
  },
  {
   "cell_type": "code",
   "execution_count": 7,
   "metadata": {},
   "outputs": [
    {
     "name": "stdout",
     "output_type": "stream",
     "text": [
      "in_layer.weight torch.Size([5, 3])\n",
      "in_layer.bias torch.Size([5])\n",
      "h_layers.0.weight torch.Size([5, 5])\n",
      "h_layers.0.bias torch.Size([5])\n",
      "h_layers.1.weight torch.Size([5, 5])\n",
      "h_layers.1.bias torch.Size([5])\n",
      "h_layers.2.weight torch.Size([5, 5])\n",
      "h_layers.2.bias torch.Size([5])\n",
      "h_layers.3.weight torch.Size([5, 5])\n",
      "h_layers.3.bias torch.Size([5])\n",
      "h_layers.4.weight torch.Size([5, 5])\n",
      "h_layers.4.bias torch.Size([5])\n",
      "h_layers.5.weight torch.Size([5, 5])\n",
      "h_layers.5.bias torch.Size([5])\n",
      "h_layers.6.weight torch.Size([5, 5])\n",
      "h_layers.6.bias torch.Size([5])\n",
      "h_layers.7.weight torch.Size([5, 5])\n",
      "h_layers.7.bias torch.Size([5])\n",
      "h_layers.8.weight torch.Size([5, 5])\n",
      "h_layers.8.bias torch.Size([5])\n",
      "h_layers.9.weight torch.Size([5, 5])\n",
      "h_layers.9.bias torch.Size([5])\n",
      "out_layer.weight torch.Size([2, 5])\n",
      "out_layer.bias torch.Size([2])\n"
     ]
    }
   ],
   "source": [
    "# 모델 파라미터 확인\n",
    "for name, param in m1.named_parameters():\n",
    "    print(name, param.shape)"
   ]
  },
  {
   "cell_type": "markdown",
   "metadata": {},
   "source": [
    "- 학습 진행"
   ]
  },
  {
   "cell_type": "code",
   "execution_count": 8,
   "metadata": {},
   "outputs": [],
   "source": [
    "## 임시 데이터 생성성\n",
    "dataTS =torch.FloatTensor([[1,3,5],[2,4,6],[3,5,7],[4,6,8]])    # 2D (4,3)\n",
    "targetTS = torch.FloatTensor([[7,9],[8,10],[9,11],[10,12]])     # 2D (4,2)"
   ]
  },
  {
   "cell_type": "code",
   "execution_count": 10,
   "metadata": {},
   "outputs": [
    {
     "name": "stdout",
     "output_type": "stream",
     "text": [
      "tensor([[0.1237, 0.0215],\n",
      "        [0.1237, 0.0215],\n",
      "        [0.1237, 0.0215],\n",
      "        [0.1237, 0.0215]], grad_fn=<AddmmBackward0>)\n",
      "torch.Size([4, 2])\n"
     ]
    }
   ],
   "source": [
    "# 모델 학습 \n",
    "pre_y = m1(dataTS)\n",
    "\n",
    "print(pre_y, pre_y.shape, sep='\\n')"
   ]
  },
  {
   "cell_type": "code",
   "execution_count": null,
   "metadata": {},
   "outputs": [],
   "source": []
  }
 ],
 "metadata": {
  "kernelspec": {
   "display_name": "TORCH_38",
   "language": "python",
   "name": "python3"
  },
  "language_info": {
   "codemirror_mode": {
    "name": "ipython",
    "version": 3
   },
   "file_extension": ".py",
   "mimetype": "text/x-python",
   "name": "python",
   "nbconvert_exporter": "python",
   "pygments_lexer": "ipython3",
   "version": "3.8.19"
  }
 },
 "nbformat": 4,
 "nbformat_minor": 2
}
