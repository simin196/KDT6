{
 "cells": [
  {
   "cell_type": "markdown",
   "metadata": {},
   "source": [
    "#### 사용자 정의 데이터셋과 모델\n",
    " - iris.csv ==> 사용자 정의 데이터셋\n",
    " - DNN 모델 ==> 사용자 정의 모델"
   ]
  },
  {
   "cell_type": "markdown",
   "metadata": {},
   "source": [
    "[1] 모듈로딩 <hr>"
   ]
  },
  {
   "cell_type": "code",
   "execution_count": 1,
   "metadata": {},
   "outputs": [],
   "source": [
    "# 모듈 로딩\n",
    "\n",
    "import torch                                    # 텐서 및 수치 계산 함수 관련 모듈\n",
    "import torch.nn as nn                           # 인공신경망 관련 모듈\n",
    "import torch.nn.functional as F                 # 손실, 거리 등 함수 관련 모듈\n",
    "import torch.optim as optim                     # 최적화 기법 관련 모듈\n",
    "from torchmetrics.classification import F1Score # 성능 지표 관련 모듈\n",
    "from torchinfo import summary                   # 모델 정보 관련 모듈\n",
    "\n",
    "from torch.utils.data import DataLoader, Dataset\n",
    "from sklearn.preprocessing import LabelEncoder\n",
    "import pandas as pd                 # 데이터 파일 분석 관련 모듈"
   ]
  },
  {
   "cell_type": "code",
   "execution_count": 2,
   "metadata": {},
   "outputs": [],
   "source": [
    "# 데이터\n",
    "DATA_FILE = '../data/iris.csv'"
   ]
  },
  {
   "cell_type": "code",
   "execution_count": 3,
   "metadata": {},
   "outputs": [
    {
     "data": {
      "text/html": [
       "<div>\n",
       "<style scoped>\n",
       "    .dataframe tbody tr th:only-of-type {\n",
       "        vertical-align: middle;\n",
       "    }\n",
       "\n",
       "    .dataframe tbody tr th {\n",
       "        vertical-align: top;\n",
       "    }\n",
       "\n",
       "    .dataframe thead th {\n",
       "        text-align: right;\n",
       "    }\n",
       "</style>\n",
       "<table border=\"1\" class=\"dataframe\">\n",
       "  <thead>\n",
       "    <tr style=\"text-align: right;\">\n",
       "      <th></th>\n",
       "      <th>sepal.length</th>\n",
       "      <th>sepal.width</th>\n",
       "      <th>petal.length</th>\n",
       "      <th>petal.width</th>\n",
       "      <th>variety</th>\n",
       "    </tr>\n",
       "  </thead>\n",
       "  <tbody>\n",
       "    <tr>\n",
       "      <th>0</th>\n",
       "      <td>5.1</td>\n",
       "      <td>3.5</td>\n",
       "      <td>1.4</td>\n",
       "      <td>0.2</td>\n",
       "      <td>Setosa</td>\n",
       "    </tr>\n",
       "    <tr>\n",
       "      <th>1</th>\n",
       "      <td>4.9</td>\n",
       "      <td>3.0</td>\n",
       "      <td>1.4</td>\n",
       "      <td>0.2</td>\n",
       "      <td>Setosa</td>\n",
       "    </tr>\n",
       "  </tbody>\n",
       "</table>\n",
       "</div>"
      ],
      "text/plain": [
       "   sepal.length  sepal.width  petal.length  petal.width variety\n",
       "0           5.1          3.5           1.4          0.2  Setosa\n",
       "1           4.9          3.0           1.4          0.2  Setosa"
      ]
     },
     "execution_count": 3,
     "metadata": {},
     "output_type": "execute_result"
    }
   ],
   "source": [
    "# CSV => DF\n",
    "irisDF = pd.read_csv(DATA_FILE)\n",
    "irisDF.head(2)"
   ]
  },
  {
   "cell_type": "code",
   "execution_count": 4,
   "metadata": {},
   "outputs": [],
   "source": [
    "# 타겟 컬럼 수치화 ==>  LabelEncoder\n",
    "encoder = LabelEncoder()\n",
    "encoder.fit(irisDF['variety'])\n",
    "irisDF['variety'] = encoder.transform(irisDF['variety'])"
   ]
  },
  {
   "cell_type": "markdown",
   "metadata": {},
   "source": [
    "[2] 사용자 정의 데이터셋 클래스 생성\n",
    "<hr>"
   ]
  },
  {
   "cell_type": "code",
   "execution_count": 5,
   "metadata": {},
   "outputs": [],
   "source": [
    "#-------------------------------------------------------\n",
    "# 클래스 목적 : 학습용 데이터셋 텐서화 및 전처리\n",
    "# 클래스 이름 : CustomDataSet\n",
    "# 부모 클래스 : torch.utils.data.dataset\n",
    "# 매개 변수 : featureDF, targetDF\n",
    "# >> 밖에서 전처리한걸 들고왔음\n",
    "#-------------------------------------------------------\n",
    "\n",
    "\n",
    "class CustomDataset(Dataset):\n",
    "    # 데이터 로딩 및 전처리 진행과 인스턴스 생성 메서드\n",
    "    def __init__(self,featureDF, targetDF) :\n",
    "        super().__init__()\n",
    "        self.featureDF = featureDF \n",
    "        self.targetDF = targetDF\n",
    "        self.n_rows = featureDF.shape[0]\n",
    "        self.n_features = featureDF.shape[1]\n",
    "\n",
    "    # 데이터의 개수 반환 메서드\n",
    "    def __len__(self):\n",
    "        return self.n_rows\n",
    "\n",
    "    # 특정 index의 데이터와 타겟 반환 메서드 => Tensor 변환!!\n",
    "    def __getitem__(self, idx):\n",
    "        featureTS = torch.FloatTensor(self.featureDF.iloc[idx].values)\n",
    "        targetTS = torch.FloatTensor(self.targetDF.iloc[idx].values)\n",
    "        return featureTS, targetTS\n",
    "        "
   ]
  },
  {
   "cell_type": "markdown",
   "metadata": {},
   "source": [
    "[3] 데이터셋 인스턴스 생성 <hr>"
   ]
  },
  {
   "cell_type": "code",
   "execution_count": 6,
   "metadata": {},
   "outputs": [
    {
     "name": "stdout",
     "output_type": "stream",
     "text": [
      "featureDF => (150, 4) , targetDF => (150, 1)\n"
     ]
    }
   ],
   "source": [
    "# 피쳐와 타게 추출\n",
    "featureDF, targetDF = irisDF[irisDF.columns[:-1]], irisDF[irisDF.columns[-1:]]  # irisDF[[irisDF.columns[-1]]]도 가능\n",
    "print(f'featureDF => {featureDF.shape} , targetDF => {targetDF.shape}')"
   ]
  },
  {
   "cell_type": "code",
   "execution_count": 7,
   "metadata": {},
   "outputs": [],
   "source": [
    "# iris 데이터셋 인스턴스 생성\n",
    "irisDS = CustomDataset(featureDF, targetDF)"
   ]
  },
  {
   "cell_type": "code",
   "execution_count": 8,
   "metadata": {},
   "outputs": [
    {
     "data": {
      "text/plain": [
       "(     sepal.length  sepal.width  petal.length  petal.width\n",
       " 0             5.1          3.5           1.4          0.2\n",
       " 1             4.9          3.0           1.4          0.2\n",
       " 2             4.7          3.2           1.3          0.2\n",
       " 3             4.6          3.1           1.5          0.2\n",
       " 4             5.0          3.6           1.4          0.2\n",
       " ..            ...          ...           ...          ...\n",
       " 145           6.7          3.0           5.2          2.3\n",
       " 146           6.3          2.5           5.0          1.9\n",
       " 147           6.5          3.0           5.2          2.0\n",
       " 148           6.2          3.4           5.4          2.3\n",
       " 149           5.9          3.0           5.1          1.8\n",
       " \n",
       " [150 rows x 4 columns],\n",
       " 4,\n",
       " 150)"
      ]
     },
     "execution_count": 8,
     "metadata": {},
     "output_type": "execute_result"
    }
   ],
   "source": [
    "# iris 데이터셋 속성 >> [상자] 모양\n",
    "irisDS.featureDF , irisDS.n_features, irisDS.n_rows"
   ]
  },
  {
   "cell_type": "code",
   "execution_count": 9,
   "metadata": {},
   "outputs": [
    {
     "data": {
      "text/plain": [
       "(tensor([5.1000, 3.5000, 1.4000, 0.2000]), tensor([0.]))"
      ]
     },
     "execution_count": 9,
     "metadata": {},
     "output_type": "execute_result"
    }
   ],
   "source": [
    "# iris 데이터셋 메서드\n",
    "irisDS[0]"
   ]
  },
  {
   "cell_type": "markdown",
   "metadata": {},
   "source": [
    "[4] DataLoader 인스턴스 생성 <hr>"
   ]
  },
  {
   "cell_type": "code",
   "execution_count": 10,
   "metadata": {},
   "outputs": [],
   "source": [
    "## 필요한 것 : Dataset 인스턴스, Batch_size\n",
    "irisDL = DataLoader(irisDS, batch_size=10)"
   ]
  },
  {
   "cell_type": "code",
   "execution_count": 11,
   "metadata": {},
   "outputs": [
    {
     "name": "stdout",
     "output_type": "stream",
     "text": [
      "torch.Size([10, 4]) torch.Size([10, 1])\n"
     ]
    }
   ],
   "source": [
    "for dataTS, targetTS in irisDL:\n",
    "    print(dataTS.shape, targetTS.shape)\n",
    "    break"
   ]
  },
  {
   "cell_type": "markdown",
   "metadata": {},
   "source": [
    "[5] 모델 준비 <hr>\n"
   ]
  },
  {
   "cell_type": "code",
   "execution_count": 12,
   "metadata": {},
   "outputs": [],
   "source": [
    "#-------------------------------------------------------\n",
    "# 모델 이름 : CustomModel\n",
    "# 부모클래스 : nn.Module\n",
    "# 매개변수 : None \n",
    "# 모델 구조\n",
    "# - 입력층 : 입력  4개   출력 10개   AF - ReLU -> LeakyReLU\n",
    "# - 입력층 : 입력 10개   출력 30개   AF - ReLU -> LeakyReLU\n",
    "# - 입력층 : 입력 30개   출력  3개(ovr)   AF >> 분류 - 다중 softmax\n",
    "#-------------------------------------------------------\n",
    "\n",
    "class CustomModel(nn.Module):\n",
    "    def __init__(self):\n",
    "        super().__init__()\n",
    "        self.in_layer = nn.Linear(4,10)\n",
    "        self.hidden_layer = nn.Linear(10,30)\n",
    "        self.out_layer = nn.Linear(30,3)\n",
    "\n",
    "    # 순방향 학습 메서드\n",
    "    def forward(self, x):\n",
    "        y= F.relu(self.in_layer(x))\n",
    "        y= F.relu(self.hidden_layer(y))\n",
    "        return self.out_layer(y)"
   ]
  },
  {
   "cell_type": "code",
   "execution_count": 13,
   "metadata": {},
   "outputs": [
    {
     "name": "stdout",
     "output_type": "stream",
     "text": [
      "CustomModel(\n",
      "  (in_layer): Linear(in_features=4, out_features=10, bias=True)\n",
      "  (hidden_layer): Linear(in_features=10, out_features=30, bias=True)\n",
      "  (out_layer): Linear(in_features=30, out_features=3, bias=True)\n",
      ")\n"
     ]
    },
    {
     "data": {
      "text/plain": [
       "=================================================================\n",
       "Layer (type:depth-idx)                   Param #\n",
       "=================================================================\n",
       "CustomModel                              --\n",
       "├─Linear: 1-1                            50\n",
       "├─Linear: 1-2                            330\n",
       "├─Linear: 1-3                            93\n",
       "=================================================================\n",
       "Total params: 473\n",
       "Trainable params: 473\n",
       "Non-trainable params: 0\n",
       "================================================================="
      ]
     },
     "execution_count": 13,
     "metadata": {},
     "output_type": "execute_result"
    }
   ],
   "source": [
    "### 모델 인스턴스 생성\n",
    "model = CustomModel()\n",
    "print(model)\n",
    "summary(model)"
   ]
  },
  {
   "cell_type": "code",
   "execution_count": 14,
   "metadata": {},
   "outputs": [
    {
     "data": {
      "text/plain": [
       "==========================================================================================\n",
       "Layer (type:depth-idx)                   Output Shape              Param #\n",
       "==========================================================================================\n",
       "CustomModel                              [1000, 3]                 --\n",
       "├─Linear: 1-1                            [1000, 10]                50\n",
       "├─Linear: 1-2                            [1000, 30]                330\n",
       "├─Linear: 1-3                            [1000, 3]                 93\n",
       "==========================================================================================\n",
       "Total params: 473\n",
       "Trainable params: 473\n",
       "Non-trainable params: 0\n",
       "Total mult-adds (M): 0.47\n",
       "==========================================================================================\n",
       "Input size (MB): 0.02\n",
       "Forward/backward pass size (MB): 0.34\n",
       "Params size (MB): 0.00\n",
       "Estimated Total Size (MB): 0.36\n",
       "=========================================================================================="
      ]
     },
     "execution_count": 14,
     "metadata": {},
     "output_type": "execute_result"
    }
   ],
   "source": [
    "summary(model, input_size=(1000,4))"
   ]
  },
  {
   "cell_type": "code",
   "execution_count": 28,
   "metadata": {},
   "outputs": [],
   "source": [
    "W = torch.zeros((3, 1), requires_grad=True)\n",
    "b = torch.zeros(1, requires_grad=True)\n",
    "\n",
    "optimizer = optim.SGD([W, b], lr=1e-5)"
   ]
  },
  {
   "cell_type": "markdown",
   "metadata": {},
   "source": [
    "[6] 학습 <hr>"
   ]
  },
  {
   "cell_type": "code",
   "execution_count": 30,
   "metadata": {},
   "outputs": [
    {
     "name": "stdout",
     "output_type": "stream",
     "text": [
      "[9/10]\n",
      " -[Train] LOSS : [1.2723413864771524, 1.2723413864771524, 1.2723413864771524, 1.2723413864771524, 1.2723413864771524, 1.2723413864771524, 1.2723413864771524, 1.2723413864771524, 1.2723413864771524, 1.2723413864771524]\n",
      "  SCORE : [0.3333333333333333, 0.3333333333333333, 0.3333333333333333, 0.3333333333333333, 0.3333333333333333, 0.3333333333333333, 0.3333333333333333, 0.3333333333333333, 0.3333333333333333, 0.3333333333333333]\n"
     ]
    }
   ],
   "source": [
    "## 배치크기만큼 데이터와 타겟 추출해서 학습 진행 >>>????\n",
    "TS_loss, TS_score = [[],[]] , [[],[]]\n",
    "for epoch in range(10):\n",
    "    loss_total, score_loss = 0, 0 \n",
    "    for dataTS, targetTS in irisDL:\n",
    "\n",
    "        # 배치크기 만큼의 학습 데이터\n",
    "        # print(dataTS.shape, targetTS.shape, targetTS.dtype)  # >> 확인용\n",
    "        targetTS = targetTS.reshape(-1).long()\n",
    "    \n",
    "        # 배치크기 만큼 학습 진행\n",
    "        pre_y = model(dataTS)\n",
    "        # print(pre_y.shape, targetTS.reshape(-1).shape) # 확인결과 >> shape이 맞지않음 형태 맞춤\n",
    "\n",
    "        # 손실 계산 >> 이진분류(BCELoss)랑 다중분류(CrossEntropyLoss)랑 나눠 놨음\n",
    "        # 주의 다중분류(CrossEntropyLoss)에서는 softmax가 포함 되어있다.\n",
    "        loss= nn.CrossEntropyLoss()(pre_y,targetTS)\n",
    "        loss_total += loss.item()\n",
    "\n",
    "        # 최적화\n",
    "        optimizer.zero_grad()\n",
    "        optimizer.step()\n",
    "\n",
    "        # 점수 추출\n",
    "        score = F1Score(task='multiclass',num_classes=3)(pre_y,targetTS)\n",
    "        score_loss += score.item()\n",
    "\n",
    "    TS_loss[0].append(loss_total/len(irisDL))\n",
    "    TS_score[0].append(score_loss/len(irisDL))\n",
    "\n",
    "print(f'[{epoch}/10]\\n -[Train] LOSS : {TS_loss[0]}\\n  SCORE : {TS_score[0]}')\n",
    "\n",
    "\n",
    "  "
   ]
  },
  {
   "cell_type": "code",
   "execution_count": 43,
   "metadata": {},
   "outputs": [],
   "source": [
    "# argmax"
   ]
  }
 ],
 "metadata": {
  "kernelspec": {
   "display_name": "TORCH_38",
   "language": "python",
   "name": "python3"
  },
  "language_info": {
   "codemirror_mode": {
    "name": "ipython",
    "version": 3
   },
   "file_extension": ".py",
   "mimetype": "text/x-python",
   "name": "python",
   "nbconvert_exporter": "python",
   "pygments_lexer": "ipython3",
   "version": "3.8.19"
  }
 },
 "nbformat": 4,
 "nbformat_minor": 2
}
