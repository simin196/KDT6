{
 "cells": [
  {
   "cell_type": "code",
   "execution_count": 2,
   "metadata": {},
   "outputs": [
    {
     "name": "stdout",
     "output_type": "stream",
     "text": [
      "홀수\n"
     ]
    }
   ],
   "source": [
    "# 113\n",
    "a = int(input('>>'))\n",
    "if a%2 == 0:\n",
    "    print('짝수')\n",
    "else:\n",
    "    print('홀수')"
   ]
  },
  {
   "cell_type": "code",
   "execution_count": 5,
   "metadata": {},
   "outputs": [
    {
     "name": "stdout",
     "output_type": "stream",
     "text": [
      "255\n"
     ]
    }
   ],
   "source": [
    "# 114 \n",
    "a = int(input('>>'))\n",
    "b = a+20\n",
    "if b>=255:\n",
    "    print(255)\n",
    "else:\n",
    "    print(b)"
   ]
  },
  {
   "cell_type": "code",
   "execution_count": 7,
   "metadata": {},
   "outputs": [
    {
     "name": "stdout",
     "output_type": "stream",
     "text": [
      "130\n"
     ]
    }
   ],
   "source": [
    "# 115\n",
    "a = int(input('>>'))\n",
    "b = a-20\n",
    "if b>=255:\n",
    "    print(255)\n",
    "elif b<0:\n",
    "    print(0)\n",
    "else:\n",
    "    print(b)"
   ]
  },
  {
   "cell_type": "code",
   "execution_count": 9,
   "metadata": {},
   "outputs": [
    {
     "name": "stdout",
     "output_type": "stream",
     "text": [
      "정각 아닙니다.\n"
     ]
    }
   ],
   "source": [
    "# 116\n",
    "time = input('현재시간')\n",
    "if time[-2:] == '00':\n",
    "    print('정각 입니다.')\n",
    "else :\n",
    "    print('정각 아닙니다.')"
   ]
  },
  {
   "cell_type": "code",
   "execution_count": 11,
   "metadata": {},
   "outputs": [
    {
     "name": "stdout",
     "output_type": "stream",
     "text": [
      "오답입니다.\n"
     ]
    }
   ],
   "source": [
    "# 117\n",
    "fruit = [\"사과\", \"포도\", \"홍시\"]\n",
    "a = input('좋아하는 과일은? : ')\n",
    "if a in fruit:\n",
    "    print('정답입니다.')\n",
    "else:\n",
    "    print('오답입니다.')"
   ]
  },
  {
   "cell_type": "code",
   "execution_count": 13,
   "metadata": {},
   "outputs": [
    {
     "name": "stdout",
     "output_type": "stream",
     "text": [
      "투자 경고 종목입니다.\n"
     ]
    }
   ],
   "source": [
    "# 118\n",
    "warn_investment_list = [\"Microsoft\", \"Google\", \"Naver\", \"Kakao\", \"SAMSUNG\", \"LG\"]\n",
    "a = input('종목명 : ')\n",
    "if a in warn_investment_list:\n",
    "    print('투자 경고 종목입니다.')\n",
    "else:\n",
    "    print('투자 경고 종목이 아닙니다.')"
   ]
  },
  {
   "cell_type": "code",
   "execution_count": 16,
   "metadata": {},
   "outputs": [
    {
     "name": "stdout",
     "output_type": "stream",
     "text": [
      "정답입니다.\n"
     ]
    }
   ],
   "source": [
    "# 119 120\n",
    "fruit = {\"봄\" : \"딸기\", \"여름\" : \"토마토\", \"가을\" : \"사과\"}\n",
    "a = list(fruit.keys())\n",
    "b = list(fruit.values())\n",
    "c = input('제가 좋아하는 계절은?: ')\n",
    "\n",
    "\n",
    "if c in a:\n",
    "    print('정답입니다.')\n",
    "else:\n",
    "    print('오답입니다.')"
   ]
  },
  {
   "cell_type": "code",
   "execution_count": 17,
   "metadata": {},
   "outputs": [
    {
     "name": "stdout",
     "output_type": "stream",
     "text": [
      "정답입니다.\n"
     ]
    }
   ],
   "source": [
    "d = input('좋아하는 과일은?: ')\n",
    "if d in b:\n",
    "    print('정답입니다.')\n",
    "else:\n",
    "    print('오답입니다.')"
   ]
  },
  {
   "cell_type": "code",
   "execution_count": null,
   "metadata": {},
   "outputs": [],
   "source": [
    "# 120"
   ]
  }
 ],
 "metadata": {
  "kernelspec": {
   "display_name": "py39",
   "language": "python",
   "name": "python3"
  },
  "language_info": {
   "codemirror_mode": {
    "name": "ipython",
    "version": 3
   },
   "file_extension": ".py",
   "mimetype": "text/x-python",
   "name": "python",
   "nbconvert_exporter": "python",
   "pygments_lexer": "ipython3",
   "version": "3.9.19"
  }
 },
 "nbformat": 4,
 "nbformat_minor": 2
}
