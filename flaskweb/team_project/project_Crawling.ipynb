{
 "cells": [
  {
   "cell_type": "code",
   "execution_count": 2,
   "metadata": {},
   "outputs": [],
   "source": [
    "from selenium import webdriver\n",
    "from selenium.webdriver.common.by import By\n",
    "import time\n",
    "from bs4 import BeautifulSoup"
   ]
  },
  {
   "cell_type": "code",
   "execution_count": 7,
   "metadata": {},
   "outputs": [],
   "source": [
    "title = []\n",
    "text = []\n",
    "opinion = []\n",
    "director = []\n",
    "\n",
    "def crawling(limit, title, text, opinion, director):\n",
    "\n",
    "    driver = webdriver.Chrome()\n",
    "\n",
    "    driver.get('https://www.kobis.or.kr/kobis/business/mast/mvie/searchMovieList.do')\n",
    "\n",
    "    link = driver.find_element(By.XPATH, '//*[@id=\"content\"]/div[3]/div[2]/a[1]')\n",
    "    link.click()\n",
    "    time.sleep(1)\n",
    "\n",
    "    link = driver.find_element(By.XPATH, '//*[@id=\"sPrdtStatStr\"]')\n",
    "    link.click()\n",
    "    time.sleep(1)\n",
    "\n",
    "    link = driver.find_element(By.XPATH, '//*[@id=\"mul_chk_det0\"]')\n",
    "    link.click()\n",
    "    \n",
    "    link = driver.find_element(By.XPATH, '//*[@id=\"mul_chk_det1\"]')\n",
    "    link.click()\n",
    "\n",
    "    link = driver.find_element(By.XPATH, '//*[@id=\"mul_chk_det2\"]')\n",
    "    link.click()\n",
    "    \n",
    "    link = driver.find_element(By.XPATH, '//*[@id=\"layerConfirmChk\"]')\n",
    "    link.click()\n",
    "    time.sleep(1)\n",
    "\n",
    "    link = driver.find_element(By.XPATH, '//*[@id=\"searchForm\"]/div[1]/div[5]/button[1]')\n",
    "    link.click()\n",
    "    time.sleep(1)\n",
    "    \n",
    "    link = driver.find_element(By.XPATH, f'//*[@id=\"pagingForm\"]/div/a[1]')\n",
    "    link.click()\n",
    "    time.sleep(1)\n",
    "\n",
    "    for i in range(126):\n",
    "        link = driver.find_element(By.XPATH, f'//*[@id=\"pagingForm\"]/div/a[3]')\n",
    "        link.click()\n",
    "        time.sleep(1)\n",
    "\n",
    "    num = limit // 100\n",
    "\n",
    "    for i in range(num - 1):\n",
    "        for j in range(1, 11):\n",
    "            link = driver.find_element(By.XPATH, f'//*[@id=\"pagingForm\"]/div/ul/li[{j}]/a')\n",
    "            link.click()\n",
    "            time.sleep(1)\n",
    "\n",
    "            for k in range(1, 11):\n",
    "                link = driver.find_element(By.XPATH, f'//*[@id=\"content\"]/div[4]/table/tbody/tr[{k}]/td[1]/span/a')\n",
    "                link.click()\n",
    "                time.sleep(1)\n",
    "\n",
    "                html = driver.page_source\n",
    "\n",
    "                soup = BeautifulSoup(html, 'html.parser')\n",
    "                data = soup.find('p', {'class' : 'desc_info'})  \n",
    "                data2 = soup.find_all('strong', {'class' : 'tit'})[6]\n",
    "                data3 = soup.find_all('dd')[3]\n",
    "                data4 =  driver.find_element(By.XPATH, f'//*[@id=\"content\"]/div[4]/table/tbody/tr[{k}]/td[9]')\n",
    "\n",
    "                if data:\n",
    "                    text.append(data.text)\n",
    "                else:\n",
    "                    text.append(' ')\n",
    "\n",
    "                if data2:\n",
    "                    title.append(data2.text)\n",
    "                else:\n",
    "                    title.append(' ')\n",
    "\n",
    "                if data3:\n",
    "                    opinion.append(data3.text)\n",
    "                else:\n",
    "                    opinion.append(' ')\n",
    "\n",
    "                if data4:\n",
    "                    director.append(data4.text)\n",
    "                else:\n",
    "                    director.append(' ')\n",
    "                \n",
    "                link = driver.find_element(By.XPATH, f'/html/body/div[3]/div[1]/div[1]/a[2]/span')\n",
    "                link.click()\n",
    "\n",
    "        link = driver.find_element(By.XPATH, f'//*[@id=\"pagingForm\"]/div/a[3]')\n",
    "        link.click()\n",
    "        time.sleep(1)\n",
    "\n",
    "    driver.quit()\n"
   ]
  },
  {
   "cell_type": "code",
   "execution_count": 8,
   "metadata": {},
   "outputs": [
    {
     "ename": "IndexError",
     "evalue": "list index out of range",
     "output_type": "error",
     "traceback": [
      "\u001b[1;31m---------------------------------------------------------------------------\u001b[0m",
      "\u001b[1;31mIndexError\u001b[0m                                Traceback (most recent call last)",
      "Cell \u001b[1;32mIn[8], line 1\u001b[0m\n\u001b[1;32m----> 1\u001b[0m \u001b[43mcrawling\u001b[49m\u001b[43m(\u001b[49m\u001b[38;5;241;43m7000\u001b[39;49m\u001b[43m,\u001b[49m\u001b[43m \u001b[49m\u001b[43mtitle\u001b[49m\u001b[43m,\u001b[49m\u001b[43m \u001b[49m\u001b[43mtext\u001b[49m\u001b[43m,\u001b[49m\u001b[43m \u001b[49m\u001b[43mopinion\u001b[49m\u001b[43m,\u001b[49m\u001b[43m \u001b[49m\u001b[43mdirector\u001b[49m\u001b[43m)\u001b[49m\n",
      "Cell \u001b[1;32mIn[7], line 68\u001b[0m, in \u001b[0;36mcrawling\u001b[1;34m(limit, title, text, opinion, director)\u001b[0m\n\u001b[0;32m     66\u001b[0m soup \u001b[38;5;241m=\u001b[39m BeautifulSoup(html, \u001b[38;5;124m'\u001b[39m\u001b[38;5;124mhtml.parser\u001b[39m\u001b[38;5;124m'\u001b[39m)\n\u001b[0;32m     67\u001b[0m data \u001b[38;5;241m=\u001b[39m soup\u001b[38;5;241m.\u001b[39mfind(\u001b[38;5;124m'\u001b[39m\u001b[38;5;124mp\u001b[39m\u001b[38;5;124m'\u001b[39m, {\u001b[38;5;124m'\u001b[39m\u001b[38;5;124mclass\u001b[39m\u001b[38;5;124m'\u001b[39m : \u001b[38;5;124m'\u001b[39m\u001b[38;5;124mdesc_info\u001b[39m\u001b[38;5;124m'\u001b[39m})  \n\u001b[1;32m---> 68\u001b[0m data2 \u001b[38;5;241m=\u001b[39m \u001b[43msoup\u001b[49m\u001b[38;5;241;43m.\u001b[39;49m\u001b[43mfind_all\u001b[49m\u001b[43m(\u001b[49m\u001b[38;5;124;43m'\u001b[39;49m\u001b[38;5;124;43mstrong\u001b[39;49m\u001b[38;5;124;43m'\u001b[39;49m\u001b[43m,\u001b[49m\u001b[43m \u001b[49m\u001b[43m{\u001b[49m\u001b[38;5;124;43m'\u001b[39;49m\u001b[38;5;124;43mclass\u001b[39;49m\u001b[38;5;124;43m'\u001b[39;49m\u001b[43m \u001b[49m\u001b[43m:\u001b[49m\u001b[43m \u001b[49m\u001b[38;5;124;43m'\u001b[39;49m\u001b[38;5;124;43mtit\u001b[39;49m\u001b[38;5;124;43m'\u001b[39;49m\u001b[43m}\u001b[49m\u001b[43m)\u001b[49m\u001b[43m[\u001b[49m\u001b[38;5;241;43m6\u001b[39;49m\u001b[43m]\u001b[49m\n\u001b[0;32m     69\u001b[0m data3 \u001b[38;5;241m=\u001b[39m soup\u001b[38;5;241m.\u001b[39mfind_all(\u001b[38;5;124m'\u001b[39m\u001b[38;5;124mdd\u001b[39m\u001b[38;5;124m'\u001b[39m)[\u001b[38;5;241m3\u001b[39m]\n\u001b[0;32m     70\u001b[0m data4 \u001b[38;5;241m=\u001b[39m  driver\u001b[38;5;241m.\u001b[39mfind_element(By\u001b[38;5;241m.\u001b[39mXPATH, \u001b[38;5;124mf\u001b[39m\u001b[38;5;124m'\u001b[39m\u001b[38;5;124m//*[@id=\u001b[39m\u001b[38;5;124m\"\u001b[39m\u001b[38;5;124mcontent\u001b[39m\u001b[38;5;124m\"\u001b[39m\u001b[38;5;124m]/div[4]/table/tbody/tr[\u001b[39m\u001b[38;5;132;01m{\u001b[39;00mk\u001b[38;5;132;01m}\u001b[39;00m\u001b[38;5;124m]/td[9]\u001b[39m\u001b[38;5;124m'\u001b[39m)\n",
      "\u001b[1;31mIndexError\u001b[0m: list index out of range"
     ]
    }
   ],
   "source": [
    "crawling(7000, title, text, opinion, director)"
   ]
  },
  {
   "cell_type": "code",
   "execution_count": 3,
   "metadata": {},
   "outputs": [
    {
     "ename": "NameError",
     "evalue": "name 'director' is not defined",
     "output_type": "error",
     "traceback": [
      "\u001b[1;31m---------------------------------------------------------------------------\u001b[0m",
      "\u001b[1;31mNameError\u001b[0m                                 Traceback (most recent call last)",
      "Cell \u001b[1;32mIn[3], line 1\u001b[0m\n\u001b[1;32m----> 1\u001b[0m \u001b[43mdirector\u001b[49m\n",
      "\u001b[1;31mNameError\u001b[0m: name 'director' is not defined"
     ]
    }
   ],
   "source": [
    "director"
   ]
  },
  {
   "cell_type": "code",
   "execution_count": 6,
   "metadata": {},
   "outputs": [],
   "source": [
    "import pickle\n",
    "\n",
    "# # text\n",
    "# with open('text_2.pkl','wb')as f:\n",
    "#     pickle.dump(text, f)\n",
    "\n",
    "# # title\n",
    "# with open('title_2.pkl','wb')as f:\n",
    "#     pickle.dump(title, f)\n",
    "\n",
    "# # opinion\n",
    "# with open('opinion_2.pkl','wb')as f:\n",
    "#     pickle.dump(opinion, f)\n",
    "\n",
    "# # director\n",
    "# with open('director_2.pkl','wb')as f:\n",
    "#     pickle.dump(director, f)"
   ]
  },
  {
   "cell_type": "code",
   "execution_count": 10,
   "metadata": {},
   "outputs": [
    {
     "data": {
      "text/plain": [
       "2105"
      ]
     },
     "execution_count": 10,
     "metadata": {},
     "output_type": "execute_result"
    }
   ],
   "source": [
    "with open('./pkl/text_2.pkl', 'rb') as f:\n",
    "    text_2 = pickle.load(f)\n",
    "\n",
    "len(text_2)"
   ]
  }
 ],
 "metadata": {
  "kernelspec": {
   "display_name": "py39",
   "language": "python",
   "name": "python3"
  },
  "language_info": {
   "codemirror_mode": {
    "name": "ipython",
    "version": 3
   },
   "file_extension": ".py",
   "mimetype": "text/x-python",
   "name": "python",
   "nbconvert_exporter": "python",
   "pygments_lexer": "ipython3",
   "version": "3.9.19"
  }
 },
 "nbformat": 4,
 "nbformat_minor": 2
}
