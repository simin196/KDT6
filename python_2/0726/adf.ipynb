{
 "cells": [
  {
   "cell_type": "code",
   "execution_count": 4,
   "metadata": {},
   "outputs": [],
   "source": [
    "import pandas as pd\n",
    "import numpy as np\n",
    "import matplotlib.pyplot as plt\n",
    "import koreanize_matplotlib\n",
    "\n",
    "# plt.plot([-1,0,1,2])\n",
    "# plt.title('그래프 제목', fontweight='bold')\n",
    "# plt.xlabel('간단한 라벨')\n",
    "# plt.show()"
   ]
  },
  {
   "cell_type": "code",
   "execution_count": 8,
   "metadata": {},
   "outputs": [
    {
     "name": "stdout",
     "output_type": "stream",
     "text": [
      "2014년부터 2023년까지 12월의 최저 기온 평균 : [np.float64(-2.8), np.float64(-1.3), np.float64(-4.0), np.float64(-2.1), np.float64(-3.1), np.float64(-1.0), np.float64(-2.3), np.float64(-4.0), np.float64(-0.6), np.float64(0.5)]\n",
      "2014년부터 2023년까지 12월의 최고 기온 평균 : [np.float64(5.8), np.float64(8.6), np.float64(5.4), np.float64(8.9), np.float64(7.2), np.float64(9.0), np.float64(7.0), np.float64(5.8), np.float64(8.7), np.float64(9.0)]\n"
     ]
    }
   ],
   "source": [
    "start_year= int(input('시작 연도를 입력하세요 : '))\n",
    "last_year=int(input('마지막 연도를 입력하세요 : '))\n",
    "search_month = int(input(\" 비교할 월을 입력하세요 : \"))\n",
    "\n",
    "weather_df = pd.read_csv('daegu-utf8-df.csv', encoding='utf-8-sig')\n",
    "weather_df['날짜'] = pd.to_datetime(weather_df['날짜'], format='%Y-%m-%d')\n",
    "\n",
    "first_decade=start_year\n",
    "second_decade=last_year\n",
    "\n",
    "min_temp_list=[0]*(last_year-start_year+1)\n",
    "max_temp_list=[0]*(last_year-start_year+1)\n",
    "\n",
    "for year in range(start_year,last_year+1):\n",
    "    min_temp_df=weather_df[(weather_df['날짜'].dt.year== year )&(weather_df['날짜'].dt.month==search_month)]\n",
    "    min_temp_list[start_year-year] = round(min_temp_df['최저기온'].mean(),1)\n",
    "\n",
    "    max_temp_df=weather_df[(weather_df['날짜'].dt.year== year )&(weather_df['날짜'].dt.month==search_month)]\n",
    "    max_temp_list[start_year-year] = round(max_temp_df['최고기온'].mean(),1)\n",
    "\n",
    "print(f'{first_decade}년부터 {second_decade}년까지 {search_month}월의 최저 기온 평균 : {min_temp_list}')\n",
    "print(f'{first_decade}년부터 {second_decade}년까지 {search_month}월의 최고 기온 평균 : {max_temp_list}')"
   ]
  },
  {
   "cell_type": "code",
   "execution_count": null,
   "metadata": {},
   "outputs": [],
   "source": []
  }
 ],
 "metadata": {
  "kernelspec": {
   "display_name": "py39",
   "language": "python",
   "name": "python3"
  },
  "language_info": {
   "codemirror_mode": {
    "name": "ipython",
    "version": 3
   },
   "file_extension": ".py",
   "mimetype": "text/x-python",
   "name": "python",
   "nbconvert_exporter": "python",
   "pygments_lexer": "ipython3",
   "version": "3.9.19"
  }
 },
 "nbformat": 4,
 "nbformat_minor": 2
}
