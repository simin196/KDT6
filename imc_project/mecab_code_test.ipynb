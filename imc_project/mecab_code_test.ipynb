{
 "cells": [
  {
   "cell_type": "markdown",
   "metadata": {},
   "source": [
    "test데이터 text파일 MeCab으로 토큰화"
   ]
  },
  {
   "cell_type": "code",
   "execution_count": 1,
   "metadata": {},
   "outputs": [],
   "source": [
    "# 모듈 로딩\n",
    "from mecab import MeCab\n",
    "import pandas as pd\n",
    "\n",
    "# 모듈 클래스\n",
    "mecab = MeCab()"
   ]
  },
  {
   "cell_type": "code",
   "execution_count": 4,
   "metadata": {},
   "outputs": [],
   "source": [
    "# txt파일 열기\n",
    "text = []\n",
    "store_path = './text_tag.txt'\n",
    "\n",
    "with open(store_path, \"r\", encoding=\"utf-8\") as file:\n",
    "    # 파일 내용을 문자열로 읽은 뒤 splitlines()로 줄바꿈 제거\n",
    "    content = file.read()\n",
    "    lines = content.splitlines()  # 줄바꿈 제거된 각 줄 리스트 생성\n",
    "    text.extend(lines)"
   ]
  },
  {
   "cell_type": "code",
   "execution_count": 5,
   "metadata": {},
   "outputs": [
    {
     "data": {
      "text/plain": [
       "'치밥의달인에서 불향바베큐 치밥도시락 3개, 담백한 숯불간장 치밥 2개 주문할게'"
      ]
     },
     "execution_count": 5,
     "metadata": {},
     "output_type": "execute_result"
    }
   ],
   "source": [
    "text[0]"
   ]
  },
  {
   "cell_type": "code",
   "execution_count": 6,
   "metadata": {},
   "outputs": [],
   "source": [
    "import json"
   ]
  },
  {
   "cell_type": "code",
   "execution_count": 9,
   "metadata": {},
   "outputs": [],
   "source": [
    "# 태깅\n",
    "data = []\n",
    "for t in text:\n",
    "    tokens = mecab.morphs(t)\n",
    "    data.append({\n",
    "        \"tokens\": tokens,\n",
    "        \"ner_tags\": [0]*len(tokens)\n",
    "    })"
   ]
  },
  {
   "cell_type": "code",
   "execution_count": 10,
   "metadata": {},
   "outputs": [
    {
     "name": "stdout",
     "output_type": "stream",
     "text": [
      "['중', '화루', '에서', '깐풍기', '소자', '하나', '랑', '나', '홀로', '세트', 'b', '번', '두', '개', ',', '야', '끼', '우동', '세', '개', '주문', '할게요']\n"
     ]
    }
   ],
   "source": [
    "print(data[1][\"tokens\"])"
   ]
  },
  {
   "cell_type": "code",
   "execution_count": 11,
   "metadata": {},
   "outputs": [],
   "source": [
    "# 파일 저장\n",
    "for i in range(len(data)):\n",
    "    with open(\"test_Data_tag.json\", \"a\", encoding=\"utf-8\") as f:\n",
    "        f.write(f'''\n",
    "{{\n",
    "\"tokens\" : {str(data[i][\"tokens\"]).replace(\"'\",'\"')},\n",
    "\"ner_tags\" : {data[i][\"ner_tags\"]}\n",
    "}},''')"
   ]
  },
  {
   "cell_type": "code",
   "execution_count": null,
   "metadata": {},
   "outputs": [],
   "source": []
  }
 ],
 "metadata": {
  "kernelspec": {
   "display_name": "imc_env",
   "language": "python",
   "name": "python3"
  },
  "language_info": {
   "codemirror_mode": {
    "name": "ipython",
    "version": 3
   },
   "file_extension": ".py",
   "mimetype": "text/x-python",
   "name": "python",
   "nbconvert_exporter": "python",
   "pygments_lexer": "ipython3",
   "version": "3.8.20"
  }
 },
 "nbformat": 4,
 "nbformat_minor": 2
}
