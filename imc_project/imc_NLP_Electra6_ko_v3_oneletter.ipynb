{
 "cells": [
  {
   "cell_type": "code",
   "execution_count": null,
   "metadata": {},
   "outputs": [
    {
     "name": "stderr",
     "output_type": "stream",
     "text": [
      "c:\\Users\\KDP-23\\anaconda3\\envs\\imc_env\\lib\\site-packages\\tqdm\\auto.py:21: TqdmWarning: IProgress not found. Please update jupyter and ipywidgets. See https://ipywidgets.readthedocs.io/en/stable/user_install.html\n",
      "  from .autonotebook import tqdm as notebook_tqdm\n"
     ]
    }
   ],
   "source": [
    "import json\n",
    "import numpy as np\n",
    "import torch\n",
    "from torch.utils.data import DataLoader, Dataset\n",
    "from transformers import AutoTokenizer, AutoModelForTokenClassification\n",
    "from sklearn.model_selection import train_test_split\n",
    "from sklearn.metrics import classification_report\n",
    "\n",
    "# 파일 경로 - 아직 팀원 데이터 취합x \n",
    "file_path = './one_all/before/tagged_one_all1_before.json'\n",
    "\n",
    "# koelectra tokenizer 불러오기\n",
    "tokenizer = AutoTokenizer.from_pretrained(\"monologg/koelectra-base-v3-discriminator\")\n",
    "\n",
    "# device 설정\n",
    "device = torch.device('cuda' if torch.cuda.is_available() else 'cpu')"
   ]
  },
  {
   "cell_type": "code",
   "execution_count": 2,
   "metadata": {},
   "outputs": [],
   "source": [
    "# \n",
    "class KoNERDataset(Dataset):\n",
    "    def __init__(self, encodings, labels):\n",
    "        self.encodings = encodings\n",
    "        self.labels = labels\n",
    "\n",
    "    def __getitem__(self, idx):\n",
    "        item = {key: torch.tensor(val[idx]) for key, val in self.encodings.items()}\n",
    "        item['labels'] = torch.tensor(self.labels[idx])\n",
    "        return item\n",
    "\n",
    "    def __len__(self):\n",
    "        return len(self.labels)"
   ]
  },
  {
   "cell_type": "code",
   "execution_count": 3,
   "metadata": {},
   "outputs": [],
   "source": [
    "# ner data 불러오기\n",
    "def load_ner_data(file_path):\n",
    "    \"\"\"JSON 파일에서 NER 데이터 로드\"\"\"\n",
    "    with open(file_path, 'r', encoding='utf-8') as file:\n",
    "        return json.load(file)"
   ]
  },
  {
   "cell_type": "code",
   "execution_count": 4,
   "metadata": {},
   "outputs": [],
   "source": [
    "def prepare_koelectra_ner_data(data, tokenizer, max_length=128):\n",
    "    \"\"\"KoElectra용 NER 데이터 준비\"\"\"\n",
    "    tokens = [d['tokens'] for d in data]\n",
    "    labels = [d['ner_tags'] for d in data]\n",
    "\n",
    "    # KoElectra 토크나이저로 인코딩\n",
    "    encodings = tokenizer(\n",
    "        tokens, \n",
    "        is_split_into_words=True, \n",
    "        padding=True, \n",
    "        truncation=True, \n",
    "        max_length=max_length,\n",
    "        return_tensors='pt'\n",
    "    )\n",
    "\n",
    "    # NER 라벨 처리\n",
    "    new_labels = []\n",
    "    for i, label in enumerate(labels):\n",
    "        word_ids = encodings.word_ids(batch_index=i)\n",
    "        label_ids = [-100] * len(word_ids)  # 초기값 -100으로 설정\n",
    "        \n",
    "        # 개선된 라벨 매핑 로직\n",
    "        for word_idx, tag in enumerate(label):\n",
    "            # word_ids에서 해당 word_idx의 첫 번째 인덱스 찾기\n",
    "            indices = [j for j, w_id in enumerate(word_ids) if w_id == word_idx]\n",
    "            \n",
    "            if indices:\n",
    "                # 첫 번째 인덱스에 태그 할당\n",
    "                label_ids[indices[0]] = tag\n",
    "        \n",
    "        new_labels.append(label_ids)\n",
    "\n",
    "    return encodings, new_labels\n"
   ]
  },
  {
   "cell_type": "code",
   "execution_count": 5,
   "metadata": {},
   "outputs": [],
   "source": [
    "def debug_tokenization(tokens, tokenizer):\n",
    "    \"\"\"토크나이징 과정 디버깅\"\"\"\n",
    "    print(\"원본 토큰:\", tokens)\n",
    "    \n",
    "    # 토큰화 결과 확인\n",
    "    encoded = tokenizer(\n",
    "        tokens, \n",
    "        is_split_into_words=True, \n",
    "        return_tensors='pt'\n",
    "    )\n",
    "    \n",
    "    # 단어 ID 출력\n",
    "    print(\"Word IDs:\", encoded.word_ids(batch_index=0))\n",
    "    \n",
    "    # 디코딩된 토큰 확인\n",
    "    decoded_tokens = tokenizer.convert_ids_to_tokens(encoded['input_ids'][0])\n",
    "    print(\"디코딩된 토큰:\", decoded_tokens)"
   ]
  },
  {
   "cell_type": "code",
   "execution_count": 6,
   "metadata": {},
   "outputs": [],
   "source": [
    "def train_koelectra_ner_model(train_dataset, num_labels=7, epochs=10):\n",
    "    \"\"\"KoElectra NER 모델 학습\"\"\"\n",
    "    # KoElectra 모델 초기화\n",
    "    model = AutoModelForTokenClassification.from_pretrained(\n",
    "        \"monologg/koelectra-base-v3-discriminator\", \n",
    "        num_labels=num_labels)\n",
    "\n",
    "    # 학습\n",
    "    model.to(device)\n",
    "    model.train()\n",
    "\n",
    "    # optim 설정 \n",
    "    optimizer = torch.optim.AdamW(model.parameters(), lr=5e-5)\n",
    "\n",
    "    # 학습 루프\n",
    "    for epoch in range(epochs):\n",
    "        total_loss = 0\n",
    "        for batch in train_dataset:\n",
    "            optimizer.zero_grad()\n",
    "            \n",
    "            input_ids = batch['input_ids'].to(device)\n",
    "            attention_mask = batch['attention_mask'].to(device)\n",
    "            labels = batch['labels'].to(device)\n",
    "\n",
    "            outputs = model(\n",
    "                input_ids, \n",
    "                attention_mask=attention_mask, \n",
    "                labels=labels\n",
    "            )\n",
    "            \n",
    "            loss = outputs.loss\n",
    "            loss.backward()\n",
    "            optimizer.step()\n",
    "\n",
    "            total_loss += loss.item()\n",
    "        \n",
    "        print(f\"Epoch {epoch+1}/{epochs}, Average Loss: {total_loss/len(train_dataset):.4f}\")\n",
    "\n",
    "    return model"
   ]
  },
  {
   "cell_type": "code",
   "execution_count": 7,
   "metadata": {},
   "outputs": [],
   "source": [
    "def evaluate_koelectra_ner_model(model, val_dataset):\n",
    "    \"\"\"모델 평가\"\"\"\n",
    "    model.to(device)\n",
    "    model.eval()\n",
    "\n",
    "    all_preds = []\n",
    "    all_labels = []\n",
    "\n",
    "    with torch.no_grad():\n",
    "        for batch in val_dataset:\n",
    "            input_ids = batch['input_ids'].to(device)\n",
    "            attention_mask = batch['attention_mask'].to(device)\n",
    "            labels = batch['labels']\n",
    "\n",
    "            outputs = model(\n",
    "                input_ids, \n",
    "                attention_mask=attention_mask\n",
    "            )\n",
    "            \n",
    "            predictions = torch.argmax(outputs.logits, dim=-1)\n",
    "            \n",
    "            # 유효한 예측과 레이블만 수집\n",
    "            for pred, label in zip(predictions, labels):\n",
    "                mask = label != -100\n",
    "                all_preds.extend(pred[mask].cpu().numpy())\n",
    "                all_labels.extend(label[mask].numpy())\n",
    "\n",
    "    # 상세 분류 보고서 출력\n",
    "    print(classification_report(all_labels, all_preds))"
   ]
  },
  {
   "cell_type": "code",
   "execution_count": null,
   "metadata": {},
   "outputs": [
    {
     "ename": "FileNotFoundError",
     "evalue": "[Errno 2] No such file or directory: './tagged_one_all.json'",
     "output_type": "error",
     "traceback": [
      "\u001b[1;31m---------------------------------------------------------------------------\u001b[0m",
      "\u001b[1;31mFileNotFoundError\u001b[0m                         Traceback (most recent call last)",
      "Cell \u001b[1;32mIn[8], line 39\u001b[0m\n\u001b[0;32m     36\u001b[0m     tokenizer\u001b[38;5;241m.\u001b[39msave_pretrained(\u001b[38;5;124m'\u001b[39m\u001b[38;5;124m./koelectra_v3_ner_model3\u001b[39m\u001b[38;5;124m'\u001b[39m)\n\u001b[0;32m     38\u001b[0m \u001b[38;5;28;01mif\u001b[39;00m \u001b[38;5;18m__name__\u001b[39m \u001b[38;5;241m==\u001b[39m \u001b[38;5;124m'\u001b[39m\u001b[38;5;124m__main__\u001b[39m\u001b[38;5;124m'\u001b[39m:\n\u001b[1;32m---> 39\u001b[0m     \u001b[43mmain\u001b[49m\u001b[43m(\u001b[49m\u001b[43m)\u001b[49m\n",
      "Cell \u001b[1;32mIn[8], line 3\u001b[0m, in \u001b[0;36mmain\u001b[1;34m()\u001b[0m\n\u001b[0;32m      1\u001b[0m \u001b[38;5;28;01mdef\u001b[39;00m \u001b[38;5;21mmain\u001b[39m():\n\u001b[0;32m      2\u001b[0m     \u001b[38;5;66;03m# 데이터 로드\u001b[39;00m\n\u001b[1;32m----> 3\u001b[0m     data \u001b[38;5;241m=\u001b[39m \u001b[43mload_ner_data\u001b[49m\u001b[43m(\u001b[49m\u001b[43mfile_path\u001b[49m\u001b[43m)\u001b[49m\n\u001b[0;32m      5\u001b[0m     \u001b[38;5;66;03m# 데이터 분할 (학습:검증 = 8:2)\u001b[39;00m\n\u001b[0;32m      6\u001b[0m     train_data, val_data \u001b[38;5;241m=\u001b[39m train_test_split(data, test_size\u001b[38;5;241m=\u001b[39m\u001b[38;5;241m0.2\u001b[39m, random_state\u001b[38;5;241m=\u001b[39m\u001b[38;5;241m42\u001b[39m)\n",
      "Cell \u001b[1;32mIn[3], line 4\u001b[0m, in \u001b[0;36mload_ner_data\u001b[1;34m(file_path)\u001b[0m\n\u001b[0;32m      2\u001b[0m \u001b[38;5;28;01mdef\u001b[39;00m \u001b[38;5;21mload_ner_data\u001b[39m(file_path):\n\u001b[0;32m      3\u001b[0m \u001b[38;5;250m    \u001b[39m\u001b[38;5;124;03m\"\"\"JSON 파일에서 NER 데이터 로드\"\"\"\u001b[39;00m\n\u001b[1;32m----> 4\u001b[0m     \u001b[38;5;28;01mwith\u001b[39;00m \u001b[38;5;28;43mopen\u001b[39;49m\u001b[43m(\u001b[49m\u001b[43mfile_path\u001b[49m\u001b[43m,\u001b[49m\u001b[43m \u001b[49m\u001b[38;5;124;43m'\u001b[39;49m\u001b[38;5;124;43mr\u001b[39;49m\u001b[38;5;124;43m'\u001b[39;49m\u001b[43m,\u001b[49m\u001b[43m \u001b[49m\u001b[43mencoding\u001b[49m\u001b[38;5;241;43m=\u001b[39;49m\u001b[38;5;124;43m'\u001b[39;49m\u001b[38;5;124;43mutf-8\u001b[39;49m\u001b[38;5;124;43m'\u001b[39;49m\u001b[43m)\u001b[49m \u001b[38;5;28;01mas\u001b[39;00m file:\n\u001b[0;32m      5\u001b[0m         \u001b[38;5;28;01mreturn\u001b[39;00m json\u001b[38;5;241m.\u001b[39mload(file)\n",
      "File \u001b[1;32mc:\\Users\\KDP-23\\anaconda3\\envs\\imc_env\\lib\\site-packages\\IPython\\core\\interactiveshell.py:284\u001b[0m, in \u001b[0;36m_modified_open\u001b[1;34m(file, *args, **kwargs)\u001b[0m\n\u001b[0;32m    277\u001b[0m \u001b[38;5;28;01mif\u001b[39;00m file \u001b[38;5;129;01min\u001b[39;00m {\u001b[38;5;241m0\u001b[39m, \u001b[38;5;241m1\u001b[39m, \u001b[38;5;241m2\u001b[39m}:\n\u001b[0;32m    278\u001b[0m     \u001b[38;5;28;01mraise\u001b[39;00m \u001b[38;5;167;01mValueError\u001b[39;00m(\n\u001b[0;32m    279\u001b[0m         \u001b[38;5;124mf\u001b[39m\u001b[38;5;124m\"\u001b[39m\u001b[38;5;124mIPython won\u001b[39m\u001b[38;5;124m'\u001b[39m\u001b[38;5;124mt let you open fd=\u001b[39m\u001b[38;5;132;01m{\u001b[39;00mfile\u001b[38;5;132;01m}\u001b[39;00m\u001b[38;5;124m by default \u001b[39m\u001b[38;5;124m\"\u001b[39m\n\u001b[0;32m    280\u001b[0m         \u001b[38;5;124m\"\u001b[39m\u001b[38;5;124mas it is likely to crash IPython. If you know what you are doing, \u001b[39m\u001b[38;5;124m\"\u001b[39m\n\u001b[0;32m    281\u001b[0m         \u001b[38;5;124m\"\u001b[39m\u001b[38;5;124myou can use builtins\u001b[39m\u001b[38;5;124m'\u001b[39m\u001b[38;5;124m open.\u001b[39m\u001b[38;5;124m\"\u001b[39m\n\u001b[0;32m    282\u001b[0m     )\n\u001b[1;32m--> 284\u001b[0m \u001b[38;5;28;01mreturn\u001b[39;00m \u001b[43mio_open\u001b[49m\u001b[43m(\u001b[49m\u001b[43mfile\u001b[49m\u001b[43m,\u001b[49m\u001b[43m \u001b[49m\u001b[38;5;241;43m*\u001b[39;49m\u001b[43margs\u001b[49m\u001b[43m,\u001b[49m\u001b[43m \u001b[49m\u001b[38;5;241;43m*\u001b[39;49m\u001b[38;5;241;43m*\u001b[39;49m\u001b[43mkwargs\u001b[49m\u001b[43m)\u001b[49m\n",
      "\u001b[1;31mFileNotFoundError\u001b[0m: [Errno 2] No such file or directory: './tagged_one_all.json'"
     ]
    }
   ],
   "source": [
    "def main():\n",
    "    # 데이터 로드\n",
    "    data = load_ner_data(file_path)\n",
    "\n",
    "    # 데이터 분할 (학습:검증 = 8:2)\n",
    "    train_data, val_data = train_test_split(data, test_size=0.2, random_state=42)\n",
    "\n",
    "    # 토큰화 결과 확인\n",
    "    debug_tokenization(train_data[0]['tokens'], tokenizer)\n",
    "\n",
    "    # 데이터 준비\n",
    "    train_encodings, train_labels = prepare_koelectra_ner_data(train_data, tokenizer)\n",
    "    val_encodings, val_labels = prepare_koelectra_ner_data(val_data, tokenizer)\n",
    "\n",
    "    # 데이터셋 및 데이터로더 생성\n",
    "    train_dataset = DataLoader(\n",
    "        KoNERDataset(train_encodings, train_labels), \n",
    "        batch_size=8, \n",
    "        \n",
    "        shuffle=True\n",
    "    )\n",
    "    val_dataset = DataLoader(\n",
    "        KoNERDataset(val_encodings, val_labels), \n",
    "        batch_size=8, \n",
    "        shuffle=False\n",
    "    )\n",
    "\n",
    "    # 모델 학습\n",
    "    model = train_koelectra_ner_model(train_dataset)\n",
    "\n",
    "    # 모델 평가\n",
    "    evaluate_koelectra_ner_model(model, val_dataset)\n",
    "\n",
    "    # 모델 저장\n",
    "    model.save_pretrained('./MODEL/koelectra_v3_ner_model2')\n",
    "    tokenizer.save_pretrained('./MODEL/koelectra_v3_ner_model2')\n",
    " \n",
    "if __name__ == '__main__':\n",
    "    main()"
   ]
  },
  {
   "cell_type": "code",
   "execution_count": null,
   "metadata": {},
   "outputs": [],
   "source": [
    "# # 저장된 토크나이저 로드\n",
    "# tokenizer = AutoTokenizer.from_pretrained('./MODEL/koelectra_v3_ner_model2')\n",
    "\n",
    "# 입력 문장\n",
    "# sentence = \"중화루에서 깐풍기 소자 하나랑 나홀로 세트 b번 두개, 야끼우동 세개 주문할게요\"\n",
    "\n",
    "# # 토큰화\n",
    "# encoding = tokenizer(sentence, return_tensors='pt', truncation=True, padding=True)\n",
    "# input_ids = encoding['input_ids']\n",
    "# attention_mask = encoding['attention_mask']"
   ]
  },
  {
   "cell_type": "code",
   "execution_count": null,
   "metadata": {},
   "outputs": [
    {
     "name": "stdout",
     "output_type": "stream",
     "text": [
      "['중', '화', '루', '에', '서', '깐', '풍', '기', '소', '자', '하', '나', '랑', '나', '홀', '로', '세', '트', 'b', '번', '두', '개', ',', '야', '끼', '우', '동', '세', '개', '주', '문', '할', '게', '요']\n"
     ]
    }
   ],
   "source": [
    "# # 한글자씩 임의로 토큰화\n",
    "# sentence = \"중화루에서 깐풍기 소자 하나랑 나홀로 세트 b번 두개, 야끼우동 세개 주문할게요\"\n",
    "# def new_tokenizer(sentence):\n",
    "#     text = []\n",
    "#     a = list(sentence)\n",
    "#     for b in a:\n",
    "#         if b == ' ':\n",
    "#             pass\n",
    "#         else:\n",
    "#             text.append(b)\n",
    "#     return text\n",
    "\n",
    "# tokenizer = new_tokenizer(sentence)\n",
    "# print(tokenizer)\n"
   ]
  },
  {
   "cell_type": "code",
   "execution_count": null,
   "metadata": {},
   "outputs": [
    {
     "name": "stderr",
     "output_type": "stream",
     "text": [
      "c:\\Users\\KDP-23\\anaconda3\\envs\\imc_env\\lib\\site-packages\\tqdm\\auto.py:21: TqdmWarning: IProgress not found. Please update jupyter and ipywidgets. See https://ipywidgets.readthedocs.io/en/stable/user_install.html\n",
      "  from .autonotebook import tqdm as notebook_tqdm\n"
     ]
    },
    {
     "name": "stdout",
     "output_type": "stream",
     "text": [
      "기존 encoding: {'input_ids': tensor([[    2, 11945,  4182,  4073,  4129,  2150,  4103,  4031, 23140,  6272,\n",
      "          4294,  2236,  4392,  4239,  8063,    70,  4467,  2419,  4217,    16,\n",
      "          3102,  4887,  4180,  4089,  2926,  4217,  7443,  4519, 11843,     3]]), 'token_type_ids': tensor([[0, 0, 0, 0, 0, 0, 0, 0, 0, 0, 0, 0, 0, 0, 0, 0, 0, 0, 0, 0, 0, 0, 0, 0,\n",
      "         0, 0, 0, 0, 0, 0]]), 'attention_mask': tensor([[1, 1, 1, 1, 1, 1, 1, 1, 1, 1, 1, 1, 1, 1, 1, 1, 1, 1, 1, 1, 1, 1, 1, 1,\n",
      "         1, 1, 1, 1, 1, 1]])}\n",
      "기존 input_ids: tensor([[    2, 11945,  4182,  4073,  4129,  2150,  4103,  4031, 23140,  6272,\n",
      "          4294,  2236,  4392,  4239,  8063,    70,  4467,  2419,  4217,    16,\n",
      "          3102,  4887,  4180,  4089,  2926,  4217,  7443,  4519, 11843,     3]])\n",
      "기존 attention_mask: tensor([[1, 1, 1, 1, 1, 1, 1, 1, 1, 1, 1, 1, 1, 1, 1, 1, 1, 1, 1, 1, 1, 1, 1, 1,\n",
      "         1, 1, 1, 1, 1, 1]])\n",
      "tokens: ['중화', '##루', '##에', '##서', '깐', '##풍', '##기', '소자', '하나', '##랑', '나', '##홀', '##로', '세트', 'b', '##번', '두', '##개', ',', '야', '##끼', '##우', '##동', '세', '##개', '주문', '##할', '##게요']\n",
      "한글자 단위 토큰: ['중', '화', '루', '에', '서', '깐', '풍', '기', '소', '자', '하', '나', '랑', '나', '홀', '로', '세', '트', 'b', '번', '두', '개', ',', '야', '끼', '우', '동', '세', '개', '주', '문', '할', '게', '요']\n",
      "한글자 단위 input_ids: [3330, 3811, 2589, 3130, 2914, 2150, 3737, 2136, 2946, 3254, 3755, 2236, 2531, 2236, 3805, 2575, 2926, 3663, 70, 2755, 2419, 2027, 16, 3102, 2228, 3191, 2404, 2926, 2027, 3323, 2693, 3758, 2054, 3183]\n"
     ]
    }
   ],
   "source": [
    "from transformers import AutoTokenizer, AutoModelForTokenClassification\n",
    "import torch\n",
    "# 기존 토크나이저 로드\n",
    "tokenizer = AutoTokenizer.from_pretrained('./MODEL/koelectra_v3_ner_model2')\n",
    "\n",
    "# 입력 문장\n",
    "sentence = \"중화루에서 깐풍기 소자 하나랑 나홀로 세트 b번 두개, 야끼우동 세개 주문할게요\"\n",
    "\n",
    "# 기본 토큰화 및 인코딩\n",
    "encoding = tokenizer(sentence, return_tensors='pt', truncation=True, padding=True)\n",
    "\n",
    "# input_ids와 attention_mask 그대로 확인\n",
    "input_ids = encoding['input_ids']\n",
    "attention_mask = encoding['attention_mask']\n",
    "\n",
    "print(\"기존 encoding:\", encoding)\n",
    "print(\"기존 input_ids:\", input_ids)\n",
    "print(\"기존 attention_mask:\", attention_mask)\n",
    "\n",
    "# 기본 토큰화를 한글자 단위로 후처리\n",
    "tokens = tokenizer.tokenize(sentence)\n",
    "list_text = []\n",
    "text_token = []\n",
    "print(\"tokens:\",tokens)\n",
    "for token in tokens:\n",
    "    if token.startswith(\"##\"):  # 특수 기호 제거\n",
    "        list_text[-1] += token[2:]\n",
    "    else:\n",
    "        list_text.append(list(token))  \n",
    "\n",
    "for a in list_text:\n",
    "    text_token.extend(a)\n",
    "\n",
    "# 한글자 단위 결과 출력\n",
    "print(\"한글자 단위 토큰:\", text_token)\n",
    "\n",
    "# input_ids를 한글자 단위로 다시 매핑 (필요 시 직접 ID를 생성)\n",
    "char_input_ids = [tokenizer.convert_tokens_to_ids(t) for t in text_token]\n",
    "print(\"한글자 단위 input_ids:\", char_input_ids)"
   ]
  },
  {
   "cell_type": "code",
   "execution_count": null,
   "metadata": {},
   "outputs": [],
   "source": [
    "# input_ids를 torch 텐서로 변환\n",
    "char_input_ids = torch.tensor([char_input_ids])  # 2차원 텐서로 변환\n",
    "attention_mask = torch.ones_like(char_input_ids)  # 모든 토큰에 대해 마스크 생성\n",
    "\n",
    "# 저장된 모델 로드\n",
    "model = AutoModelForTokenClassification.from_pretrained('./MODEL/koelectra_v3_ner_model2')\n",
    "model.eval()\n",
    "\n",
    "# 추론\n",
    "with torch.no_grad():\n",
    "    outputs = model(input_ids=char_input_ids, attention_mask=attention_mask)\n",
    "    logits = outputs.logits\n",
    "    predictions = torch.argmax(logits, dim=-1)  # 가장 높은 확률을 가진 클래스 선택"
   ]
  },
  {
   "cell_type": "code",
   "execution_count": null,
   "metadata": {},
   "outputs": [
    {
     "name": "stdout",
     "output_type": "stream",
     "text": [
      "['중', '화', '루', '에', '서', '깐', '풍', '기', '소', '자', '하', '나', '랑', '나', '홀', '로', '세', '트', 'b', '번', '두', '개', ',', '야', '끼', '우', '동', '세', '개', '주', '문', '할', '게', '요']\n",
      "tensor([0, 1, 2, 0, 0, 3, 4, 4, 4, 4, 5, 6, 0, 3, 4, 4, 4, 4, 4, 4, 5, 6, 0, 3,\n",
      "        4, 4, 4, 5, 6, 0, 0, 0, 0, 0])\n"
     ]
    }
   ],
   "source": [
    "print(text_token)\n",
    "print(predictions[0])"
   ]
  },
  {
   "cell_type": "code",
   "execution_count": null,
   "metadata": {},
   "outputs": [
    {
     "name": "stdout",
     "output_type": "stream",
     "text": [
      "Token: 중 Label: 0\n",
      "Token: 화 Label: 1\n",
      "Token: 루 Label: 2\n",
      "Token: 에 Label: 0\n",
      "Token: 서 Label: 0\n",
      "Token: 깐 Label: 3\n",
      "Token: 풍 Label: 4\n",
      "Token: 기 Label: 4\n",
      "Token: 소 Label: 4\n",
      "Token: 자 Label: 4\n",
      "Token: 하 Label: 5\n",
      "Token: 나 Label: 6\n",
      "Token: 랑 Label: 0\n",
      "Token: 나 Label: 3\n",
      "Token: 홀 Label: 4\n",
      "Token: 로 Label: 4\n",
      "Token: 세 Label: 4\n",
      "Token: 트 Label: 4\n",
      "Token: b Label: 4\n",
      "Token: 번 Label: 4\n",
      "Token: 두 Label: 5\n",
      "Token: 개 Label: 6\n",
      "Token: , Label: 0\n",
      "Token: 야 Label: 3\n",
      "Token: 끼 Label: 4\n",
      "Token: 우 Label: 4\n",
      "Token: 동 Label: 4\n",
      "Token: 세 Label: 5\n",
      "Token: 개 Label: 6\n",
      "Token: 주 Label: 0\n",
      "Token: 문 Label: 0\n",
      "Token: 할 Label: 0\n",
      "Token: 게 Label: 0\n",
      "Token: 요 Label: 0\n"
     ]
    }
   ],
   "source": [
    "# 토큰과 예측된 레이블 연결\n",
    "# tokens = tokenizer.convert_ids_to_tokens(input_ids[0])\n",
    "predicted_labels = predictions[0].cpu().numpy()\n",
    "\n",
    "# 결과 출력\n",
    "for token, label in zip(text_token, predicted_labels):\n",
    "    print(f\"Token: {token} Label: {label}\")"
   ]
  },
  {
   "cell_type": "markdown",
   "metadata": {},
   "source": [
    "- - -"
   ]
  },
  {
   "cell_type": "code",
   "execution_count": null,
   "metadata": {},
   "outputs": [
    {
     "name": "stdout",
     "output_type": "stream",
     "text": [
      "기존 encoding: {'input_ids': tensor([[    2,  3496,  4717,  4234,  4293,  4139,  4073,  4129,  2803,  4160,\n",
      "          4178,  4295,  4724,  3496,  4717,  4086,  4114,  4306,    23,  4217,\n",
      "            16, 18417,  4283, 27487,  4629,  4048,  3496,  4717,    22,  4217,\n",
      "          7443,  4519,  4325,     3]]), 'token_type_ids': tensor([[0, 0, 0, 0, 0, 0, 0, 0, 0, 0, 0, 0, 0, 0, 0, 0, 0, 0, 0, 0, 0, 0, 0, 0,\n",
      "         0, 0, 0, 0, 0, 0, 0, 0, 0, 0]]), 'attention_mask': tensor([[1, 1, 1, 1, 1, 1, 1, 1, 1, 1, 1, 1, 1, 1, 1, 1, 1, 1, 1, 1, 1, 1, 1, 1,\n",
      "         1, 1, 1, 1, 1, 1, 1, 1, 1, 1]])}\n",
      "기존 input_ids: tensor([[    2,  3496,  4717,  4234,  4293,  4139,  4073,  4129,  2803,  4160,\n",
      "          4178,  4295,  4724,  3496,  4717,  4086,  4114,  4306,    23,  4217,\n",
      "            16, 18417,  4283, 27487,  4629,  4048,  3496,  4717,    22,  4217,\n",
      "          7443,  4519,  4325,     3]])\n",
      "기존 attention_mask: tensor([[1, 1, 1, 1, 1, 1, 1, 1, 1, 1, 1, 1, 1, 1, 1, 1, 1, 1, 1, 1, 1, 1, 1, 1,\n",
      "         1, 1, 1, 1, 1, 1, 1, 1, 1, 1]])\n",
      "tokens: ['치', '##밥', '##의', '##달', '##인', '##에', '##서', '불', '##향', '##바', '##베', '##큐', '치', '##밥', '##도', '##시', '##락', '3', '##개', ',', '담백', '##한', '숯불', '##간', '##장', '치', '##밥', '2', '##개', '주문', '##할', '##게']\n",
      "한글자 단위 토큰: ['치', '밥', '의', '달', '인', '에', '서', '불', '향', '바', '베', '큐', '치', '밥', '도', '시', '락', '3', '개', ',', '담', '백', '한', '숯', '불', '간', '장', '치', '밥', '2', '개', '주', '문', '할', '게']\n",
      "한글자 단위 input_ids: [3496, 2739, 3238, 2353, 3242, 3130, 2914, 2803, 3774, 2730, 2762, 3579, 3496, 2739, 2396, 3008, 2524, 23, 2027, 16, 2357, 2744, 3757, 2976, 2803, 2012, 3263, 3496, 2739, 22, 2027, 3323, 2693, 3758, 2054]\n"
     ]
    }
   ],
   "source": [
    "from transformers import AutoTokenizer, AutoModelForTokenClassification\n",
    "import torch\n",
    "# 기존 토크나이저 로드\n",
    "tokenizer = AutoTokenizer.from_pretrained('./MODEL/koelectra_v3_ner_model2')\n",
    "\n",
    "# 입력 문장\n",
    "sentence = \"치밥의달인에서 불향바베큐 치밥도시락 3개, 담백한 숯불간장 치밥 2개 주문할게\"\n",
    "\n",
    "# 기본 토큰화 및 인코딩\n",
    "encoding = tokenizer(sentence, return_tensors='pt', truncation=True, padding=True)\n",
    "\n",
    "# input_ids와 attention_mask 그대로 확인\n",
    "input_ids = encoding['input_ids']\n",
    "attention_mask = encoding['attention_mask']\n",
    "\n",
    "print(\"기존 encoding:\", encoding)\n",
    "print(\"기존 input_ids:\", input_ids)\n",
    "print(\"기존 attention_mask:\", attention_mask)\n",
    "\n",
    "# 기본 토큰화를 한글자 단위로 후처리\n",
    "tokens = tokenizer.tokenize(sentence)\n",
    "list_text = []\n",
    "text_token = []\n",
    "print(\"tokens:\",tokens)\n",
    "for token in tokens:\n",
    "    if token.startswith(\"##\"):  # 특수 기호 제거\n",
    "        list_text[-1] += token[2:]\n",
    "    else:\n",
    "        list_text.append(list(token))  \n",
    "\n",
    "for a in list_text:\n",
    "    text_token.extend(a)\n",
    "\n",
    "# 한글자 단위 결과 출력\n",
    "print(\"한글자 단위 토큰:\", text_token)\n",
    "\n",
    "# input_ids를 한글자 단위로 다시 매핑 (필요 시 직접 ID를 생성)\n",
    "char_input_ids = [tokenizer.convert_tokens_to_ids(t) for t in text_token]\n",
    "print(\"한글자 단위 input_ids:\", char_input_ids)"
   ]
  },
  {
   "cell_type": "code",
   "execution_count": null,
   "metadata": {},
   "outputs": [],
   "source": [
    "# input_ids를 torch 텐서로 변환\n",
    "char_input_ids = torch.tensor([char_input_ids])  # 2차원 텐서로 변환\n",
    "attention_mask = torch.ones_like(char_input_ids)  # 모든 토큰에 대해 마스크 생성\n",
    "\n",
    "# 저장된 모델 로드\n",
    "model = AutoModelForTokenClassification.from_pretrained('./MODEL/koelectra_v3_ner_model2')\n",
    "model.eval()\n",
    "\n",
    "# 추론\n",
    "with torch.no_grad():\n",
    "    outputs = model(input_ids=char_input_ids, attention_mask=attention_mask)\n",
    "    logits = outputs.logits\n",
    "    predictions = torch.argmax(logits, dim=-1)  # 가장 높은 확률을 가진 클래스 선택"
   ]
  },
  {
   "cell_type": "code",
   "execution_count": null,
   "metadata": {},
   "outputs": [
    {
     "name": "stdout",
     "output_type": "stream",
     "text": [
      "Token: 치 Label: 0\n",
      "Token: 밥 Label: 1\n",
      "Token: 의 Label: 2\n",
      "Token: 달 Label: 2\n",
      "Token: 인 Label: 2\n",
      "Token: 에 Label: 0\n",
      "Token: 서 Label: 0\n",
      "Token: 불 Label: 3\n",
      "Token: 향 Label: 4\n",
      "Token: 바 Label: 4\n",
      "Token: 베 Label: 4\n",
      "Token: 큐 Label: 4\n",
      "Token: 치 Label: 4\n",
      "Token: 밥 Label: 4\n",
      "Token: 도 Label: 4\n",
      "Token: 시 Label: 4\n",
      "Token: 락 Label: 4\n",
      "Token: 3 Label: 5\n",
      "Token: 개 Label: 6\n",
      "Token: , Label: 0\n",
      "Token: 담 Label: 3\n",
      "Token: 백 Label: 4\n",
      "Token: 한 Label: 5\n",
      "Token: 숯 Label: 6\n",
      "Token: 불 Label: 4\n",
      "Token: 간 Label: 4\n",
      "Token: 장 Label: 4\n",
      "Token: 치 Label: 4\n",
      "Token: 밥 Label: 4\n",
      "Token: 2 Label: 5\n",
      "Token: 개 Label: 6\n",
      "Token: 주 Label: 0\n",
      "Token: 문 Label: 0\n",
      "Token: 할 Label: 0\n",
      "Token: 게 Label: 0\n"
     ]
    }
   ],
   "source": [
    "# 토큰과 예측된 레이블 연결\n",
    "# tokens = tokenizer.convert_ids_to_tokens(input_ids[0])\n",
    "predicted_labels = predictions[0].cpu().numpy()\n",
    "\n",
    "# 결과 출력\n",
    "for token, label in zip(text_token, predicted_labels):\n",
    "    print(f\"Token: {token} Label: {label}\")"
   ]
  },
  {
   "cell_type": "code",
   "execution_count": null,
   "metadata": {},
   "outputs": [],
   "source": []
  },
  {
   "cell_type": "code",
   "execution_count": null,
   "metadata": {},
   "outputs": [],
   "source": []
  },
  {
   "cell_type": "code",
   "execution_count": null,
   "metadata": {},
   "outputs": [],
   "source": []
  }
 ],
 "metadata": {
  "kernelspec": {
   "display_name": "imc_env",
   "language": "python",
   "name": "python3"
  },
  "language_info": {
   "codemirror_mode": {
    "name": "ipython",
    "version": 3
   },
   "file_extension": ".py",
   "mimetype": "text/x-python",
   "name": "python",
   "nbconvert_exporter": "python",
   "pygments_lexer": "ipython3",
   "version": "3.8.20"
  }
 },
 "nbformat": 4,
 "nbformat_minor": 2
}
