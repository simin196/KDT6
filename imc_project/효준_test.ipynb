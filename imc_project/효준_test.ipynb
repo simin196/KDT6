{
 "cells": [
  {
   "cell_type": "code",
   "execution_count": 1,
   "metadata": {
    "executionInfo": {
     "elapsed": 12005,
     "status": "ok",
     "timestamp": 1730965954876,
     "user": {
      "displayName": "현주",
      "userId": "13741980793772392984"
     },
     "user_tz": -540
    },
    "id": "JcSN-1jKlFik"
   },
   "outputs": [
    {
     "name": "stderr",
     "output_type": "stream",
     "text": [
      "c:\\Users\\KDP-23\\anaconda3\\envs\\TEXT_018\\lib\\site-packages\\tqdm\\auto.py:21: TqdmWarning: IProgress not found. Please update jupyter and ipywidgets. See https://ipywidgets.readthedocs.io/en/stable/user_install.html\n",
      "  from .autonotebook import tqdm as notebook_tqdm\n"
     ]
    }
   ],
   "source": [
    "from transformers import AutoTokenizer\n",
    "import torch\n",
    "from torch.utils.data import Dataset\n",
    "\n",
    "# 10개의 예시 주문 텍스트\n",
    "texts = [\n",
    "    \"김밥천국에서 김치찌개 한 그릇 주문할게요.\",\n",
    "    \"배달의민족에서 짜장면 두 그릇 주문할게요.\",\n",
    "    \"피자헛에서 콜라 한 병 시켜주세요.\",\n",
    "    \"마라탕집에서 마라탕 한 그릇 주세요.\",\n",
    "    \"BBQ에서 후라이드 치킨 주문할게요.\",\n",
    "    \"스타벅스에서 아메리카노 한 잔 주세요.\",\n",
    "    \"도미노피자에서 페퍼로니 피자 두 판 주문할게요.\",\n",
    "    \"홍콩반점에서 짬뽕 한 그릇 주문할게요.\",\n",
    "    \"우리집밥상에서 제육볶음 한 그릇 주세요.\",\n",
    "    \"한솥도시락에서 치킨너겟 한 개 주세요.\"\n",
    "]\n",
    "\n",
    "# 각 주문 텍스트에 대한 BIO 태깅 (단어, 태그)\n",
    "labels = [\n",
    "    [('김밥천국', 'B-STORE'), ('에서', 'O'), ('김치찌개', 'B-FOOD'), ('한', 'O'), ('그릇', 'O'), ('주문할게요', 'O')],\n",
    "    [('배달의민족', 'B-STORE'), ('에서', 'O'), ('짜장면', 'B-FOOD'), ('두', 'O'), ('그릇', 'O'), ('주문할게요', 'O')],\n",
    "    [('피자헛', 'B-STORE'), ('에서', 'O'), ('콜라', 'B-FOOD'), ('한', 'O'), ('병', 'O'), ('시켜주세요', 'O')],\n",
    "    [('마라탕집', 'B-STORE'), ('에서', 'O'), ('마라탕', 'B-FOOD'), ('한', 'O'), ('그릇', 'O'), ('주세요', 'O')],\n",
    "    [('BBQ', 'B-STORE'), ('에서', 'O'), ('후라이드', 'B-FOOD'), ('치킨', 'I-FOOD'), ('주문할게요', 'O')],\n",
    "    [('스타벅스', 'B-STORE'), ('에서', 'O'), ('아메리카노', 'B-FOOD'), ('한', 'O'), ('잔', 'O'), ('주세요', 'O')],\n",
    "    [('도미노피자', 'B-STORE'), ('에서', 'O'), ('페퍼로니', 'B-FOOD'), ('피자', 'I-FOOD'), ('두', 'O'), ('판', 'O'), ('주문할게요', 'O')],\n",
    "    [('홍콩반점', 'B-STORE'), ('에서', 'O'), ('짬뽕', 'B-FOOD'), ('한', 'O'), ('그릇', 'O'), ('주문할게요', 'O')],\n",
    "    [('우리집밥상', 'B-STORE'), ('에서', 'O'), ('제육볶음', 'B-FOOD'), ('한', 'O'), ('그릇', 'O'), ('주세요', 'O')],\n",
    "    [('한솥도시락', 'B-STORE'), ('에서', 'O'), ('치킨너겟', 'B-FOOD'), ('한', 'O'), ('개', 'O'), ('주세요', 'O')]\n",
    "]"
   ]
  },
  {
   "cell_type": "code",
   "execution_count": null,
   "metadata": {
    "id": "q2C5jbdZlFin",
    "outputId": "7b1deeb8-d13b-4258-ddb0-af21a7b73d90"
   },
   "outputs": [
    {
     "name": "stdout",
     "output_type": "stream",
     "text": [
      "['김밥천국', '에서', '김치찌개', '한', '그릇', '주문', '할게요', '.']\n"
     ]
    }
   ],
   "source": [
    "from konlpy.tag import Okt\n",
    "okt = Okt()\n",
    "text = \"김밥천국에서 김치찌개 한 그릇 주문할게요.\"\n",
    "print(okt.morphs(text))"
   ]
  },
  {
   "cell_type": "code",
   "execution_count": null,
   "metadata": {
    "id": "Z5NYCjNXlFio",
    "outputId": "096261dd-a8af-4770-cbaa-bc178c4390a1"
   },
   "outputs": [
    {
     "name": "stderr",
     "output_type": "stream",
     "text": [
      "Some weights of BertForTokenClassification were not initialized from the model checkpoint at monologg/kobert and are newly initialized: ['classifier.bias', 'classifier.weight']\n",
      "You should probably TRAIN this model on a down-stream task to be able to use it for predictions and inference.\n",
      "Hardware accelerator e.g. GPU is available in the environment, but no `device` argument is passed to the `Pipeline` object. Model will be on CPU.\n"
     ]
    },
    {
     "name": "stdout",
     "output_type": "stream",
     "text": [
      "Entity: ▁김, Label: LABEL_1, Score: 0.5614602565765381\n",
      "Entity: 밥, Label: LABEL_0, Score: 0.5027017593383789\n",
      "Entity: 천, Label: LABEL_1, Score: 0.509768545627594\n",
      "Entity: 국, Label: LABEL_0, Score: 0.5078110694885254\n",
      "Entity: 에서, Label: LABEL_1, Score: 0.5886439085006714\n",
      "Entity: ▁김, Label: LABEL_1, Score: 0.6132952570915222\n",
      "Entity: 치, Label: LABEL_1, Score: 0.5671581029891968\n",
      "Entity: 찌, Label: LABEL_1, Score: 0.5763341784477234\n",
      "Entity: 개, Label: LABEL_1, Score: 0.5616008639335632\n",
      "Entity: ▁한, Label: LABEL_1, Score: 0.5841851830482483\n",
      "Entity: ▁그, Label: LABEL_1, Score: 0.6498425602912903\n",
      "Entity: 릇, Label: LABEL_1, Score: 0.5654614567756653\n",
      "Entity: ▁주문, Label: LABEL_1, Score: 0.528011679649353\n",
      "Entity: 할, Label: LABEL_0, Score: 0.5470412969589233\n",
      "Entity: 게, Label: LABEL_1, Score: 0.5242978930473328\n",
      "Entity: 요, Label: LABEL_1, Score: 0.5919011235237122\n",
      "Entity: ., Label: LABEL_1, Score: 0.5702130794525146\n"
     ]
    }
   ],
   "source": [
    "from transformers import pipeline\n",
    "\n",
    "# 한국어 모델 로드 (예: KoBERT 모델)\n",
    "ner_model = pipeline(\"ner\", model=\"monologg/kobert\", tokenizer=\"monologg/kobert\", trust_remote_code=True)\n",
    "\n",
    "# 테스트 문장\n",
    "text = \"김밥천국에서 김치찌개 한 그릇 주문할게요.\"\n",
    "\n",
    "# 개체 추출\n",
    "ner_results = ner_model(text)\n",
    "\n",
    "# 출력된 결과\n",
    "for entity in ner_results:\n",
    "    print(f\"Entity: {entity['word']}, Label: {entity['entity']}, Score: {entity['score']}\")\n"
   ]
  },
  {
   "cell_type": "code",
   "execution_count": null,
   "metadata": {
    "id": "Sr9vgFgslFio",
    "outputId": "c49057d1-3be6-4a61-de29-cf1c53e1da7d"
   },
   "outputs": [
    {
     "data": {
      "text/plain": [
       "{'entity': 'LABEL_1',\n",
       " 'score': 0.5702131,\n",
       " 'index': 17,\n",
       " 'word': '.',\n",
       " 'start': None,\n",
       " 'end': None}"
      ]
     },
     "execution_count": 45,
     "metadata": {},
     "output_type": "execute_result"
    }
   ],
   "source": [
    "entity"
   ]
  }
 ],
 "metadata": {
  "colab": {
   "provenance": []
  },
  "kernelspec": {
   "display_name": "TEXT_018",
   "language": "python",
   "name": "python3"
  },
  "language_info": {
   "codemirror_mode": {
    "name": "ipython",
    "version": 3
   },
   "file_extension": ".py",
   "mimetype": "text/x-python",
   "name": "python",
   "nbconvert_exporter": "python",
   "pygments_lexer": "ipython3",
   "version": "3.8.19"
  }
 },
 "nbformat": 4,
 "nbformat_minor": 0
}
