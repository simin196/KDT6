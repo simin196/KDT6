{
 "cells": [
  {
   "cell_type": "code",
   "execution_count": 4,
   "metadata": {},
   "outputs": [],
   "source": [
    "import pandas as pd\n",
    "import os\n",
    "store_path= './store_1.csv'"
   ]
  },
  {
   "cell_type": "code",
   "execution_count": 50,
   "metadata": {},
   "outputs": [],
   "source": [
    "A = pd.read_csv(store_path)\n",
    "B = A[601:700]"
   ]
  },
  {
   "cell_type": "code",
   "execution_count": 51,
   "metadata": {},
   "outputs": [
    {
     "data": {
      "text/html": [
       "<div>\n",
       "<style scoped>\n",
       "    .dataframe tbody tr th:only-of-type {\n",
       "        vertical-align: middle;\n",
       "    }\n",
       "\n",
       "    .dataframe tbody tr th {\n",
       "        vertical-align: top;\n",
       "    }\n",
       "\n",
       "    .dataframe thead th {\n",
       "        text-align: right;\n",
       "    }\n",
       "</style>\n",
       "<table border=\"1\" class=\"dataframe\">\n",
       "  <thead>\n",
       "    <tr style=\"text-align: right;\">\n",
       "      <th></th>\n",
       "      <th>국밥온다</th>\n",
       "      <th>한식점</th>\n",
       "    </tr>\n",
       "  </thead>\n",
       "  <tbody>\n",
       "    <tr>\n",
       "      <th>601</th>\n",
       "      <td>조선육회</td>\n",
       "      <td>한식점</td>\n",
       "    </tr>\n",
       "    <tr>\n",
       "      <th>602</th>\n",
       "      <td>바다수퍼 해물천하조개구이·찜</td>\n",
       "      <td>한식점</td>\n",
       "    </tr>\n",
       "    <tr>\n",
       "      <th>603</th>\n",
       "      <td>청춘불뼈찜 감자탕</td>\n",
       "      <td>한식점</td>\n",
       "    </tr>\n",
       "    <tr>\n",
       "      <th>604</th>\n",
       "      <td>아트오브램</td>\n",
       "      <td>한식점</td>\n",
       "    </tr>\n",
       "    <tr>\n",
       "      <th>605</th>\n",
       "      <td>우이락</td>\n",
       "      <td>한식점</td>\n",
       "    </tr>\n",
       "    <tr>\n",
       "      <th>...</th>\n",
       "      <td>...</td>\n",
       "      <td>...</td>\n",
       "    </tr>\n",
       "    <tr>\n",
       "      <th>695</th>\n",
       "      <td>배달삼겹 맛있으면돼지</td>\n",
       "      <td>한식점</td>\n",
       "    </tr>\n",
       "    <tr>\n",
       "      <th>696</th>\n",
       "      <td>도시수산시장</td>\n",
       "      <td>한식점</td>\n",
       "    </tr>\n",
       "    <tr>\n",
       "      <th>697</th>\n",
       "      <td>용범양대창</td>\n",
       "      <td>한식점</td>\n",
       "    </tr>\n",
       "    <tr>\n",
       "      <th>698</th>\n",
       "      <td>마약갈비</td>\n",
       "      <td>한식점</td>\n",
       "    </tr>\n",
       "    <tr>\n",
       "      <th>699</th>\n",
       "      <td>아구좋은날</td>\n",
       "      <td>한식점</td>\n",
       "    </tr>\n",
       "  </tbody>\n",
       "</table>\n",
       "<p>99 rows × 2 columns</p>\n",
       "</div>"
      ],
      "text/plain": [
       "                국밥온다  한식점\n",
       "601             조선육회  한식점\n",
       "602  바다수퍼 해물천하조개구이·찜  한식점\n",
       "603        청춘불뼈찜 감자탕  한식점\n",
       "604            아트오브램  한식점\n",
       "605              우이락  한식점\n",
       "..               ...  ...\n",
       "695      배달삼겹 맛있으면돼지  한식점\n",
       "696           도시수산시장  한식점\n",
       "697            용범양대창  한식점\n",
       "698             마약갈비  한식점\n",
       "699            아구좋은날  한식점\n",
       "\n",
       "[99 rows x 2 columns]"
      ]
     },
     "execution_count": 51,
     "metadata": {},
     "output_type": "execute_result"
    }
   ],
   "source": [
    "B"
   ]
  },
  {
   "cell_type": "code",
   "execution_count": 52,
   "metadata": {},
   "outputs": [
    {
     "name": "stdout",
     "output_type": "stream",
     "text": [
      "CSV 파일이 생성되었습니다.\n"
     ]
    }
   ],
   "source": [
    "# CSV 파일로 저장\n",
    "B.to_csv(\"store_list7.csv\", index=False,header=False) \n",
    "print(\"CSV 파일이 생성되었습니다.\")"
   ]
  },
  {
   "cell_type": "code",
   "execution_count": 2,
   "metadata": {},
   "outputs": [],
   "source": [
    "from mecab import MeCab\n",
    "mecab = MeCab()"
   ]
  },
  {
   "cell_type": "code",
   "execution_count": 3,
   "metadata": {},
   "outputs": [
    {
     "data": {
      "text/plain": [
       "['영등포구청역', '에', '있', '는', '맛집', '좀', '알려', '주', '세요', '.']"
      ]
     },
     "execution_count": 3,
     "metadata": {},
     "output_type": "execute_result"
    }
   ],
   "source": [
    "mecab.morphs('영등포구청역에 있는 맛집 좀 알려주세요.')"
   ]
  }
 ],
 "metadata": {
  "kernelspec": {
   "display_name": "imc_env",
   "language": "python",
   "name": "python3"
  },
  "language_info": {
   "codemirror_mode": {
    "name": "ipython",
    "version": 3
   },
   "file_extension": ".py",
   "mimetype": "text/x-python",
   "name": "python",
   "nbconvert_exporter": "python",
   "pygments_lexer": "ipython3",
   "version": "3.8.20"
  }
 },
 "nbformat": 4,
 "nbformat_minor": 2
}
