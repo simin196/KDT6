{
 "cells": [
  {
   "cell_type": "code",
   "execution_count": 7,
   "metadata": {},
   "outputs": [
    {
     "name": "stdout",
     "output_type": "stream",
     "text": [
      "Token: [CLS] : Label: 1\n",
      "Token: 원 : Label: 1\n",
      "Token: ##할 : Label: 2\n",
      "Token: ##머니 : Label: 2\n",
      "Token: 보 : Label: 2\n",
      "Token: ##쌈 : Label: 2\n",
      "Token: ##에서 : Label: 0\n",
      "Token: 보 : Label: 3\n",
      "Token: ##쌈 : Label: 4\n",
      "Token: 중 : Label: 4\n",
      "Token: ##자 : Label: 4\n",
      "Token: ##하나 : Label: 5\n",
      "Token: ##랑 : Label: 0\n",
      "Token: 파 : Label: 3\n",
      "Token: ##전 : Label: 4\n",
      "Token: ##하나 : Label: 5\n",
      "Token: 주문 : Label: 0\n",
      "Token: ##해 : Label: 0\n",
      "Token: ##줘 : Label: 0\n",
      "Token: . : Label: 0\n",
      "Token: [SEP] : Label: 1\n"
     ]
    }
   ],
   "source": [
    "from transformers import AutoTokenizer, AutoModelForTokenClassification\n",
    "import torch\n",
    "\n",
    "# 저장된 모델과 토크나이저 로드\n",
    "tokenizer = AutoTokenizer.from_pretrained('./koelectra_ner_model1')\n",
    "model = AutoModelForTokenClassification.from_pretrained('./koelectra_ner_model1')\n",
    "\n",
    "# 새로운 입력 문장에 대해 예측 수행\n",
    "sentence = \"원할머니 보쌈에서 보쌈 중자하나랑 파전하나 주문해줘.\"\n",
    "encoding = tokenizer(sentence, return_tensors='pt', truncation=True, padding=True)\n",
    "\n",
    "with torch.no_grad():\n",
    "    outputs = model(**encoding)\n",
    "    logits = outputs.logits\n",
    "    predictions = torch.argmax(logits, dim=-1)\n",
    "\n",
    "# 예측된 레이블 확인\n",
    "tokens = tokenizer.convert_ids_to_tokens(encoding['input_ids'][0])\n",
    "predicted_labels = predictions[0].cpu().numpy()\n",
    "\n",
    "for token, label in zip(tokens, predicted_labels):\n",
    "    print(f\"Token: {token} : Label: {label}\")"
   ]
  },
  {
   "cell_type": "code",
   "execution_count": 8,
   "metadata": {},
   "outputs": [
    {
     "name": "stdout",
     "output_type": "stream",
     "text": [
      "Token: [CLS] : Label: 1\n",
      "Token: 원 : Label: 1\n",
      "Token: ##할 : Label: 2\n",
      "Token: ##머니 : Label: 2\n",
      "Token: 보 : Label: 2\n",
      "Token: ##쌈 : Label: 2\n",
      "Token: ##에서 : Label: 0\n",
      "Token: 보 : Label: 3\n",
      "Token: ##쌈 : Label: 4\n",
      "Token: 중 : Label: 4\n",
      "Token: ##자 : Label: 4\n",
      "Token: ##하나 : Label: 5\n",
      "Token: , : Label: 0\n",
      "Token: 파 : Label: 3\n",
      "Token: ##전 : Label: 4\n",
      "Token: ##하나 : Label: 5\n",
      "Token: 주문 : Label: 0\n",
      "Token: ##해 : Label: 0\n",
      "Token: ##줘 : Label: 0\n",
      "Token: . : Label: 0\n",
      "Token: [SEP] : Label: 1\n"
     ]
    }
   ],
   "source": [
    "# 새로운 입력 문장에 대해 예측 수행\n",
    "sentence = \"원할머니 보쌈에서 보쌈 중자하나, 파전하나 주문해줘.\"\n",
    "encoding = tokenizer(sentence, return_tensors='pt', truncation=True, padding=True)\n",
    "\n",
    "with torch.no_grad():\n",
    "    outputs = model(**encoding)\n",
    "    logits = outputs.logits\n",
    "    predictions = torch.argmax(logits, dim=-1)\n",
    "\n",
    "# 예측된 레이블 확인\n",
    "tokens = tokenizer.convert_ids_to_tokens(encoding['input_ids'][0])\n",
    "predicted_labels = predictions[0].cpu().numpy()\n",
    "\n",
    "for token, label in zip(tokens, predicted_labels):\n",
    "    print(f\"Token: {token} : Label: {label}\")"
   ]
  },
  {
   "cell_type": "code",
   "execution_count": 9,
   "metadata": {},
   "outputs": [
    {
     "name": "stdout",
     "output_type": "stream",
     "text": [
      "Token: [CLS] : Label: 2\n",
      "Token: 원 : Label: 1\n",
      "Token: ##할 : Label: 2\n",
      "Token: ##머니 : Label: 2\n",
      "Token: 보 : Label: 2\n",
      "Token: ##쌈 : Label: 2\n",
      "Token: ##에서 : Label: 0\n",
      "Token: 보 : Label: 3\n",
      "Token: ##쌈 : Label: 4\n",
      "Token: 중 : Label: 4\n",
      "Token: ##자 : Label: 4\n",
      "Token: ##하나 : Label: 5\n",
      "Token: 파 : Label: 4\n",
      "Token: ##전 : Label: 4\n",
      "Token: ##하나 : Label: 5\n",
      "Token: 주문 : Label: 0\n",
      "Token: ##해 : Label: 0\n",
      "Token: ##줘 : Label: 0\n",
      "Token: . : Label: 0\n",
      "Token: [SEP] : Label: 2\n"
     ]
    }
   ],
   "source": [
    "# 새로운 입력 문장에 대해 예측 수행\n",
    "sentence = \"원할머니 보쌈에서 보쌈 중자하나 파전하나 주문해줘.\"\n",
    "encoding = tokenizer(sentence, return_tensors='pt', truncation=True, padding=True)\n",
    "\n",
    "with torch.no_grad():\n",
    "    outputs = model(**encoding)\n",
    "    logits = outputs.logits\n",
    "    predictions = torch.argmax(logits, dim=-1)\n",
    "\n",
    "# 예측된 레이블 확인\n",
    "tokens = tokenizer.convert_ids_to_tokens(encoding['input_ids'][0])\n",
    "predicted_labels = predictions[0].cpu().numpy()\n",
    "\n",
    "for token, label in zip(tokens, predicted_labels):\n",
    "    print(f\"Token: {token} : Label: {label}\")"
   ]
  },
  {
   "cell_type": "markdown",
   "metadata": {},
   "source": [
    "확인 결과 >> 중간 끊어주는 부분이 없다면 두번째로 나오는 음식이름의 첫 토큰 3이 아닌 4로 출력\n",
    "        >> [CLS], [SEP] 문장을 나누는 토큰의 라벨값이 2로 나와있다 이거 체크해야 할 사항"
   ]
  }
 ],
 "metadata": {
  "kernelspec": {
   "display_name": "imc_env",
   "language": "python",
   "name": "python3"
  },
  "language_info": {
   "codemirror_mode": {
    "name": "ipython",
    "version": 3
   },
   "file_extension": ".py",
   "mimetype": "text/x-python",
   "name": "python",
   "nbconvert_exporter": "python",
   "pygments_lexer": "ipython3",
   "version": "3.8.20"
  }
 },
 "nbformat": 4,
 "nbformat_minor": 2
}
