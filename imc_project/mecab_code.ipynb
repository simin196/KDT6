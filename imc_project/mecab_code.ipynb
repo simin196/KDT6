{
 "cells": [
  {
   "cell_type": "markdown",
   "metadata": {},
   "source": [
    "데이터 text파일 MeCab으로 토큰화"
   ]
  },
  {
   "cell_type": "code",
   "execution_count": 1,
   "metadata": {},
   "outputs": [],
   "source": [
    "# 모듈 로딩\n",
    "from mecab import MeCab\n",
    "import pandas as pd\n",
    "\n",
    "# 모듈 클래스\n",
    "mecab = MeCab()"
   ]
  },
  {
   "cell_type": "code",
   "execution_count": 2,
   "metadata": {},
   "outputs": [],
   "source": [
    "# txt파일 열기\n",
    "text = []\n",
    "store_path = './data/more_data2_txt.txt'\n",
    "\n",
    "with open(store_path, \"r\", encoding=\"utf-8\") as file:\n",
    "    # 파일 내용을 문자열로 읽은 뒤 splitlines()로 줄바꿈 제거\n",
    "    content = file.read()\n",
    "    lines = content.splitlines()  # 줄바꿈 제거된 각 줄 리스트 생성\n",
    "    text.extend(lines)"
   ]
  },
  {
   "cell_type": "code",
   "execution_count": 3,
   "metadata": {},
   "outputs": [
    {
     "data": {
      "text/plain": [
       "'봉구비어에서 치즈감자튀김 2개, 매콤어니언치킨 1마리, 소시지플래터 1개, 감바스 1개 주문할게요.'"
      ]
     },
     "execution_count": 3,
     "metadata": {},
     "output_type": "execute_result"
    }
   ],
   "source": [
    "text[0]"
   ]
  },
  {
   "cell_type": "code",
   "execution_count": 4,
   "metadata": {},
   "outputs": [],
   "source": [
    "import json"
   ]
  },
  {
   "cell_type": "code",
   "execution_count": 5,
   "metadata": {},
   "outputs": [],
   "source": [
    "# 태깅\n",
    "data = []\n",
    "for t in text:\n",
    "    tokens = mecab.morphs(t)\n",
    "    data.append({\n",
    "        \"tokens\": tokens,\n",
    "        \"ner_tags\": [0]*len(tokens)\n",
    "    })"
   ]
  },
  {
   "cell_type": "code",
   "execution_count": 6,
   "metadata": {},
   "outputs": [
    {
     "data": {
      "text/plain": [
       "['봉구',\n",
       " '통닭',\n",
       " '에서',\n",
       " '후라이드',\n",
       " '치킨',\n",
       " '2',\n",
       " '마리',\n",
       " ',',\n",
       " '양념치킨',\n",
       " '1',\n",
       " '마리',\n",
       " ',',\n",
       " '순',\n",
       " '살치',\n",
       " '킨',\n",
       " '1',\n",
       " '마리',\n",
       " ',',\n",
       " '간장',\n",
       " '치킨',\n",
       " '1',\n",
       " '마리',\n",
       " '부탁드려요',\n",
       " '.']"
      ]
     },
     "execution_count": 6,
     "metadata": {},
     "output_type": "execute_result"
    }
   ],
   "source": [
    "data[1][\"tokens\"]"
   ]
  },
  {
   "cell_type": "code",
   "execution_count": 7,
   "metadata": {},
   "outputs": [],
   "source": [
    "# 파일 저장\n",
    "for i in range(len(data)):\n",
    "    with open(\"tagged_more_Data.json\", \"a\", encoding=\"utf-8\") as f:\n",
    "        f.write(f'''\n",
    "{{\n",
    "\"tokens\" : {str(data[i][\"tokens\"]).replace(\"'\",'\"')},\n",
    "\"ner_tags\" : {data[i][\"ner_tags\"]}\n",
    "}},''')"
   ]
  },
  {
   "cell_type": "code",
   "execution_count": 3,
   "metadata": {},
   "outputs": [
    {
     "data": {
      "text/plain": [
       "['신전', '떡볶이', '에서', '떡볶이', '랑', '순', '대량', '튀김', '이랑', '주세요']"
      ]
     },
     "execution_count": 3,
     "metadata": {},
     "output_type": "execute_result"
    }
   ],
   "source": [
    "test = \"신전 떡볶이에서 떡볶이랑 순대량 튀김이랑 주세요\"\n",
    "tokens = mecab.morphs(test)\n",
    "tokens"
   ]
  },
  {
   "cell_type": "code",
   "execution_count": 4,
   "metadata": {},
   "outputs": [
    {
     "data": {
      "text/plain": [
       "['롯데', '리아', '에서', '불고기', '버거', '세', '개', '랑', '데리', '버거', '두', '개', '주세요']"
      ]
     },
     "execution_count": 4,
     "metadata": {},
     "output_type": "execute_result"
    }
   ],
   "source": [
    "test = \"롯데리아 에서 불고기버거 세개랑 데리버거 두개 주세요\"\n",
    "tokens = mecab.morphs(test)\n",
    "tokens"
   ]
  }
 ],
 "metadata": {
  "kernelspec": {
   "display_name": "imc_env",
   "language": "python",
   "name": "python3"
  },
  "language_info": {
   "codemirror_mode": {
    "name": "ipython",
    "version": 3
   },
   "file_extension": ".py",
   "mimetype": "text/x-python",
   "name": "python",
   "nbconvert_exporter": "python",
   "pygments_lexer": "ipython3",
   "version": "3.8.20"
  }
 },
 "nbformat": 4,
 "nbformat_minor": 2
}
