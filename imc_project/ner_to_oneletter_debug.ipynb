{
 "cells": [
  {
   "cell_type": "code",
   "execution_count": 1,
   "metadata": {},
   "outputs": [],
   "source": [
    "import os\n",
    "import json"
   ]
  },
  {
   "cell_type": "code",
   "execution_count": 2,
   "metadata": {},
   "outputs": [],
   "source": [
    "# 파일 읽기\n",
    "try:\n",
    "    with open('./tagging_1.json', 'r', encoding='utf-8') as file:\n",
    "        ner_all = json.load(file)\n",
    "except FileNotFoundError:\n",
    "    raise Exception(\"파일을 찾을 수 없습니다. 경로를 확인하세요.\")\n",
    "except json.JSONDecodeError:\n",
    "    raise Exception(\"JSON 파일이 잘못된 형식입니다.\")"
   ]
  },
  {
   "cell_type": "code",
   "execution_count": null,
   "metadata": {},
   "outputs": [
    {
     "ename": "KeyError",
     "evalue": "\"'tokens' 또는 'ner_tags' 키가 누락되었습니다: {'-tokens': ['5', '성', '회관', '에서', '불고기', '덮밥', '하나', '랑', ',', '김치찌개', '추가', '할게요', '.'], 'ner_tags': [1, 2, 2, 0, 3, 4, 5, 0, 0, 3, 0, 0, 0]}\"",
     "output_type": "error",
     "traceback": [
      "\u001b[1;31m---------------------------------------------------------------------------\u001b[0m",
      "\u001b[1;31mKeyError\u001b[0m                                  Traceback (most recent call last)",
      "Cell \u001b[1;32mIn[3], line 6\u001b[0m\n\u001b[0;32m      4\u001b[0m \u001b[38;5;28;01mfor\u001b[39;00m entry \u001b[38;5;129;01min\u001b[39;00m ner_all:\n\u001b[0;32m      5\u001b[0m     \u001b[38;5;28;01mif\u001b[39;00m \u001b[38;5;124m\"\u001b[39m\u001b[38;5;124mtokens\u001b[39m\u001b[38;5;124m\"\u001b[39m \u001b[38;5;129;01mnot\u001b[39;00m \u001b[38;5;129;01min\u001b[39;00m entry \u001b[38;5;129;01mor\u001b[39;00m \u001b[38;5;124m\"\u001b[39m\u001b[38;5;124mner_tags\u001b[39m\u001b[38;5;124m\"\u001b[39m \u001b[38;5;129;01mnot\u001b[39;00m \u001b[38;5;129;01min\u001b[39;00m entry:\n\u001b[1;32m----> 6\u001b[0m         \u001b[38;5;28;01mraise\u001b[39;00m \u001b[38;5;167;01mKeyError\u001b[39;00m(\u001b[38;5;124mf\u001b[39m\u001b[38;5;124m\"\u001b[39m\u001b[38;5;124m'\u001b[39m\u001b[38;5;124mtokens\u001b[39m\u001b[38;5;124m'\u001b[39m\u001b[38;5;124m 또는 \u001b[39m\u001b[38;5;124m'\u001b[39m\u001b[38;5;124mner_tags\u001b[39m\u001b[38;5;124m'\u001b[39m\u001b[38;5;124m 키가 누락되었습니다: \u001b[39m\u001b[38;5;132;01m{\u001b[39;00mentry\u001b[38;5;132;01m}\u001b[39;00m\u001b[38;5;124m\"\u001b[39m)\n\u001b[0;32m      8\u001b[0m     text \u001b[38;5;241m=\u001b[39m \u001b[38;5;124m\"\u001b[39m\u001b[38;5;124m\"\u001b[39m\u001b[38;5;241m.\u001b[39mjoin(entry[\u001b[38;5;124m\"\u001b[39m\u001b[38;5;124mtokens\u001b[39m\u001b[38;5;124m\"\u001b[39m])  \u001b[38;5;66;03m# 토큰을 결합하여 원문 생성\u001b[39;00m\n\u001b[0;32m      9\u001b[0m     tokens \u001b[38;5;241m=\u001b[39m []  \u001b[38;5;66;03m# 새롭게 쪼갠 토큰\u001b[39;00m\n",
      "\u001b[1;31mKeyError\u001b[0m: \"'tokens' 또는 'ner_tags' 키가 누락되었습니다: {'-tokens': ['5', '성', '회관', '에서', '불고기', '덮밥', '하나', '랑', ',', '김치찌개', '추가', '할게요', '.'], 'ner_tags': [1, 2, 2, 0, 3, 4, 5, 0, 0, 3, 0, 0, 0]}\""
     ]
    }
   ],
   "source": [
    "# 데이터 변환\n",
    "processed_data = []\n",
    "\n",
    "for entry in ner_all:\n",
    "    if \"tokens\" not in entry or \"ner_tags\" not in entry:\n",
    "        raise KeyError(f\"'tokens' 또는 'ner_tags' 키가 누락되었습니다: {entry}\")\n",
    "\n",
    "    text = \"\".join(entry[\"tokens\"])  # 토큰을 결합하여 원문 생성\n",
    "    tokens = []  \n",
    "    ner_tags = [] \n",
    "\n",
    "    for token, tag in zip(entry[\"tokens\"], entry[\"ner_tags\"]):\n",
    "        if len(token) == 1:\n",
    "            tokens.append(token)\n",
    "            ner_tags.append(tag)\n",
    "        else:\n",
    "            # 한 글자씩 분리\n",
    "            for i, char in enumerate(token):\n",
    "                tokens.append(char)\n",
    "                if tag in [1, 3, 5]:\n",
    "                    ner_tags.append(tag if i == 0 else tag + 1)\n",
    "                else:\n",
    "                    ner_tags.append(tag)\n",
    "\n",
    "    processed_data.append({\n",
    "        \"tokens\": tokens,\n",
    "        \"ner_tags\": ner_tags\n",
    "    })\n",
    "\n",
    "print(processed_data)"
   ]
  },
  {
   "cell_type": "code",
   "execution_count": null,
   "metadata": {},
   "outputs": [],
   "source": [
    "# 파일 저장\n",
    "for i in range(len(processed_data)):\n",
    "    with open(\"tagged1_oneletter.json\", \"a\", encoding=\"utf-8\") as f:\n",
    "        f.write(f'''\n",
    "{{\n",
    "\"tokens\" : {str(processed_data[i][\"tokens\"]).replace(\"'\",'\"')},\n",
    "\"ner_tags\" : {processed_data[i][\"ner_tags\"]}\n",
    "}},''')\n",
    "\n",
    "print('파일 저장 완료')"
   ]
  },
  {
   "cell_type": "markdown",
   "metadata": {},
   "source": [
    "------------------------------------"
   ]
  },
  {
   "cell_type": "code",
   "execution_count": null,
   "metadata": {},
   "outputs": [],
   "source": [
    "### 파일 추가\n",
    "# >> 기존에 있는 파일을 열어서 > 열었더\n",
    "\n",
    "# 기존 파일 열기\n",
    "with open('./mecab/ner_all.json', 'r', encoding='utf-8') as file:\n",
    "    ner_all = json.load(file)"
   ]
  },
  {
   "cell_type": "code",
   "execution_count": null,
   "metadata": {},
   "outputs": [],
   "source": []
  }
 ],
 "metadata": {
  "kernelspec": {
   "display_name": "imc_env",
   "language": "python",
   "name": "python3"
  },
  "language_info": {
   "codemirror_mode": {
    "name": "ipython",
    "version": 3
   },
   "file_extension": ".py",
   "mimetype": "text/x-python",
   "name": "python",
   "nbconvert_exporter": "python",
   "pygments_lexer": "ipython3",
   "version": "3.8.20"
  }
 },
 "nbformat": 4,
 "nbformat_minor": 2
}
