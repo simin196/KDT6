{
 "cells": [
  {
   "cell_type": "code",
   "execution_count": 1,
   "metadata": {},
   "outputs": [
    {
     "name": "stderr",
     "output_type": "stream",
     "text": [
      "c:\\Users\\KDP-23\\anaconda3\\envs\\imc_env\\lib\\site-packages\\tqdm\\auto.py:21: TqdmWarning: IProgress not found. Please update jupyter and ipywidgets. See https://ipywidgets.readthedocs.io/en/stable/user_install.html\n",
      "  from .autonotebook import tqdm as notebook_tqdm\n"
     ]
    }
   ],
   "source": [
    "import json\n",
    "import numpy as np\n",
    "import torch\n",
    "from torch.utils.data import DataLoader, Dataset\n",
    "from transformers import AutoTokenizer, AutoModelForTokenClassification\n",
    "from sklearn.model_selection import train_test_split\n",
    "from sklearn.metrics import classification_report\n",
    "\n",
    "file_path = './mecab/ner_all.json'\n",
    "tokenizer = AutoTokenizer.from_pretrained(\"monologg/koelectra-base-v3-discriminator\")\n",
    "device = torch.device('cuda' if torch.cuda.is_available() else 'cpu')"
   ]
  },
  {
   "cell_type": "code",
   "execution_count": 2,
   "metadata": {},
   "outputs": [],
   "source": [
    "class KoNERDataset(Dataset):\n",
    "    def __init__(self, encodings, labels):\n",
    "        self.encodings = encodings\n",
    "        self.labels = labels\n",
    "\n",
    "    def __getitem__(self, idx):\n",
    "        item = {key: torch.tensor(val[idx]) for key, val in self.encodings.items()}\n",
    "        item['labels'] = torch.tensor(self.labels[idx])\n",
    "        return item\n",
    "\n",
    "    def __len__(self):\n",
    "        return len(self.labels)"
   ]
  },
  {
   "cell_type": "code",
   "execution_count": 3,
   "metadata": {},
   "outputs": [],
   "source": [
    "def load_ner_data(file_path):\n",
    "    \"\"\"JSON 파일에서 NER 데이터 로드\"\"\"\n",
    "    with open(file_path, 'r', encoding='utf-8') as file:\n",
    "        return json.load(file)"
   ]
  },
  {
   "cell_type": "code",
   "execution_count": 4,
   "metadata": {},
   "outputs": [],
   "source": [
    "def prepare_koelectra_ner_data(data, tokenizer, max_length=128):\n",
    "    \"\"\"KoElectra용 NER 데이터 준비\"\"\"\n",
    "    tokens = [d['tokens'] for d in data]\n",
    "    labels = [d['ner_tags'] for d in data]\n",
    "\n",
    "    # KoElectra 토크나이저로 인코딩\n",
    "    encodings = tokenizer(\n",
    "        tokens, \n",
    "        is_split_into_words=True, \n",
    "        padding=True, \n",
    "        truncation=True, \n",
    "        max_length=max_length,\n",
    "        return_tensors='pt'\n",
    "    )\n",
    "\n",
    "    # NER 라벨 처리\n",
    "    new_labels = []\n",
    "    for i, label in enumerate(labels):\n",
    "        word_ids = encodings.word_ids(batch_index=i)\n",
    "        label_ids = [-100] * len(word_ids)  # 초기값 -100으로 설정\n",
    "        \n",
    "        # 개선된 라벨 매핑 로직\n",
    "        for word_idx, tag in enumerate(label):\n",
    "            # word_ids에서 해당 word_idx의 첫 번째 인덱스 찾기\n",
    "            indices = [j for j, w_id in enumerate(word_ids) if w_id == word_idx]\n",
    "            \n",
    "            if indices:\n",
    "                # 첫 번째 인덱스에 태그 할당\n",
    "                label_ids[indices[0]] = tag\n",
    "        \n",
    "        new_labels.append(label_ids)\n",
    "\n",
    "    return encodings, new_labels\n"
   ]
  },
  {
   "cell_type": "code",
   "execution_count": 5,
   "metadata": {},
   "outputs": [],
   "source": [
    "def debug_tokenization(tokens, tokenizer):\n",
    "    \"\"\"토크나이징 과정 디버깅\"\"\"\n",
    "    print(\"원본 토큰:\", tokens)\n",
    "    \n",
    "    # 토큰화 결과 확인\n",
    "    encoded = tokenizer(\n",
    "        tokens, \n",
    "        is_split_into_words=True, \n",
    "        return_tensors='pt'\n",
    "    )\n",
    "    \n",
    "    # 단어 ID 출력\n",
    "    print(\"Word IDs:\", encoded.word_ids(batch_index=0))\n",
    "    \n",
    "    # 디코딩된 토큰 확인\n",
    "    decoded_tokens = tokenizer.convert_ids_to_tokens(encoded['input_ids'][0])\n",
    "    print(\"디코딩된 토큰:\", decoded_tokens)"
   ]
  },
  {
   "cell_type": "code",
   "execution_count": 6,
   "metadata": {},
   "outputs": [],
   "source": [
    "def train_koelectra_ner_model(train_dataset, val_dataset, num_labels=7, epochs=10):\n",
    "    \"\"\"KoElectra NER 모델 학습\"\"\"\n",
    "    # KoElectra 모델 초기화\n",
    "    model = AutoModelForTokenClassification.from_pretrained(\n",
    "        \"monologg/koelectra-base-v3-discriminator\", \n",
    "        num_labels=num_labels)\n",
    "\n",
    "    # 학습\n",
    "    model.to(device)\n",
    "    model.train()\n",
    "\n",
    "    # optim 설정 \n",
    "    optimizer = torch.optim.AdamW(model.parameters(), lr=5e-5)\n",
    "\n",
    "    # 학습 루프\n",
    "    for epoch in range(epochs):\n",
    "        total_loss = 0\n",
    "        for batch in train_dataset:\n",
    "            optimizer.zero_grad()\n",
    "            \n",
    "            input_ids = batch['input_ids'].to(device)\n",
    "            attention_mask = batch['attention_mask'].to(device)\n",
    "            labels = batch['labels'].to(device)\n",
    "\n",
    "            outputs = model(\n",
    "                input_ids, \n",
    "                attention_mask=attention_mask, \n",
    "                labels=labels\n",
    "            )\n",
    "            \n",
    "            loss = outputs.loss\n",
    "            loss.backward()\n",
    "            optimizer.step()\n",
    "\n",
    "            total_loss += loss.item()\n",
    "        \n",
    "        print(f\"Epoch {epoch+1}/{epochs}, Average Loss: {total_loss/len(train_dataset):.4f}\")\n",
    "\n",
    "    return model"
   ]
  },
  {
   "cell_type": "code",
   "execution_count": 7,
   "metadata": {},
   "outputs": [],
   "source": [
    "def evaluate_koelectra_ner_model(model, val_dataset):\n",
    "    \"\"\"모델 평가\"\"\"\n",
    "    model.to(device)\n",
    "    model.eval()\n",
    "\n",
    "    all_preds = []\n",
    "    all_labels = []\n",
    "\n",
    "    with torch.no_grad():\n",
    "        for batch in val_dataset:\n",
    "            input_ids = batch['input_ids'].to(device)\n",
    "            attention_mask = batch['attention_mask'].to(device)\n",
    "            labels = batch['labels']\n",
    "\n",
    "            outputs = model(\n",
    "                input_ids, \n",
    "                attention_mask=attention_mask\n",
    "            )\n",
    "            \n",
    "            predictions = torch.argmax(outputs.logits, dim=-1)\n",
    "            \n",
    "            # 유효한 예측과 레이블만 수집\n",
    "            for pred, label in zip(predictions, labels):\n",
    "                mask = label != -100\n",
    "                all_preds.extend(pred[mask].cpu().numpy())\n",
    "                all_labels.extend(label[mask].numpy())\n",
    "\n",
    "    # 상세 분류 보고서 출력\n",
    "    print(classification_report(all_labels, all_preds))"
   ]
  },
  {
   "cell_type": "code",
   "execution_count": 8,
   "metadata": {},
   "outputs": [
    {
     "name": "stdout",
     "output_type": "stream",
     "text": [
      "원본 토큰: ['밥', '톡', '에서', '삼겹살', '덮밥', '두', '개', '랑', '공기', '밥', '하나', '추가', '요', '.']\n",
      "Word IDs: [None, 0, 1, 2, 3, 4, 5, 6, 7, 8, 9, 10, 11, 12, 13, None]\n",
      "디코딩된 토큰: ['[CLS]', '밥', '톡', '에서', '삼겹살', '덮밥', '두', '개', '랑', '공기', '밥', '하나', '추가', '요', '.', '[SEP]']\n"
     ]
    },
    {
     "name": "stderr",
     "output_type": "stream",
     "text": [
      "Some weights of ElectraForTokenClassification were not initialized from the model checkpoint at monologg/koelectra-base-v3-discriminator and are newly initialized: ['classifier.bias', 'classifier.weight']\n",
      "You should probably TRAIN this model on a down-stream task to be able to use it for predictions and inference.\n",
      "C:\\Users\\KDP-23\\AppData\\Local\\Temp\\ipykernel_8424\\1528082727.py:7: UserWarning: To copy construct from a tensor, it is recommended to use sourceTensor.clone().detach() or sourceTensor.clone().detach().requires_grad_(True), rather than torch.tensor(sourceTensor).\n",
      "  item = {key: torch.tensor(val[idx]) for key, val in self.encodings.items()}\n"
     ]
    },
    {
     "name": "stdout",
     "output_type": "stream",
     "text": [
      "Epoch 1/10, Average Loss: 0.7448\n",
      "Epoch 2/10, Average Loss: 0.1183\n",
      "Epoch 3/10, Average Loss: 0.0680\n",
      "Epoch 4/10, Average Loss: 0.0732\n",
      "Epoch 5/10, Average Loss: 0.0536\n",
      "Epoch 6/10, Average Loss: 0.0577\n",
      "Epoch 7/10, Average Loss: 0.0481\n",
      "Epoch 8/10, Average Loss: 0.0353\n",
      "Epoch 9/10, Average Loss: 0.0329\n",
      "Epoch 10/10, Average Loss: 0.0358\n",
      "              precision    recall  f1-score   support\n",
      "\n",
      "           0       0.98      0.97      0.97       522\n",
      "           1       1.00      1.00      1.00        81\n",
      "           2       1.00      1.00      1.00       183\n",
      "           3       0.95      0.98      0.96       139\n",
      "           4       0.96      0.94      0.95       103\n",
      "           5       0.99      0.99      0.99       131\n",
      "           6       0.94      0.93      0.93        85\n",
      "\n",
      "    accuracy                           0.98      1244\n",
      "   macro avg       0.97      0.97      0.97      1244\n",
      "weighted avg       0.98      0.98      0.98      1244\n",
      "\n"
     ]
    }
   ],
   "source": [
    "def main():\n",
    "    # 데이터 로드\n",
    "    file_path = './mecab/ner_all.json'\n",
    "    data = load_ner_data(file_path)\n",
    "\n",
    "    # 데이터 분할 (학습:검증 = 8:2)\n",
    "    train_data, val_data = train_test_split(data, test_size=0.2, random_state=42)\n",
    "\n",
    "    # 토큰화 결과 확인\n",
    "    debug_tokenization(train_data[0]['tokens'], tokenizer)\n",
    "\n",
    "    # 데이터 준비\n",
    "    train_encodings, train_labels = prepare_koelectra_ner_data(train_data, tokenizer)\n",
    "    val_encodings, val_labels = prepare_koelectra_ner_data(val_data, tokenizer)\n",
    "\n",
    "    # 데이터셋 및 데이터로더 생성\n",
    "    train_dataset = DataLoader(\n",
    "        KoNERDataset(train_encodings, train_labels), \n",
    "        batch_size=8, \n",
    "        \n",
    "        shuffle=True\n",
    "    )\n",
    "    val_dataset = DataLoader(\n",
    "        KoNERDataset(val_encodings, val_labels), \n",
    "        batch_size=8, \n",
    "        shuffle=False\n",
    "    )\n",
    "\n",
    "    # 모델 학습\n",
    "    model = train_koelectra_ner_model(train_dataset, val_dataset)\n",
    "\n",
    "    # 모델 평가\n",
    "    evaluate_koelectra_ner_model(model, val_dataset)\n",
    "\n",
    "    # 모델 저장\n",
    "    model.save_pretrained('./koelectra_v3_ner_model')\n",
    "    tokenizer.save_pretrained('./koelectra_v3_ner_model')\n",
    " \n",
    "if __name__ == '__main__':\n",
    "    main()"
   ]
  },
  {
   "cell_type": "code",
   "execution_count": 5,
   "metadata": {},
   "outputs": [],
   "source": [
    "# 저장된 토크나이저 로드\n",
    "tokenizer = AutoTokenizer.from_pretrained('./MODEL/koelectra_v3_ner_model')\n",
    "\n",
    "# 입력 문장\n",
    "sentence = \"중화루에서 깐풍기 소자 하나랑 나홀로 세트 b번 두개, 야끼우동 세개 주문할게요\"\n",
    "\n",
    "# 토큰화\n",
    "encoding = tokenizer(sentence, return_tensors='pt', truncation=True, padding=True)\n",
    "input_ids = encoding['input_ids']\n",
    "attention_mask = encoding['attention_mask']"
   ]
  },
  {
   "cell_type": "code",
   "execution_count": 10,
   "metadata": {},
   "outputs": [
    {
     "data": {
      "text/plain": [
       "tensor([[    2, 11945,  4182,  4073,  4129,  2150,  4103,  4031, 23140,  6272,\n",
       "          4294,  2236,  4392,  4239,  8063,    70,  4467,  2419,  4217,    16,\n",
       "          3102,  4887,  4180,  4089,  2926,  4217,  7443,  4519, 11843,     3]])"
      ]
     },
     "execution_count": 10,
     "metadata": {},
     "output_type": "execute_result"
    }
   ],
   "source": [
    "input_ids"
   ]
  },
  {
   "cell_type": "code",
   "execution_count": 11,
   "metadata": {},
   "outputs": [
    {
     "data": {
      "text/plain": [
       "tensor([[1, 1, 1, 1, 1, 1, 1, 1, 1, 1, 1, 1, 1, 1, 1, 1, 1, 1, 1, 1, 1, 1, 1, 1,\n",
       "         1, 1, 1, 1, 1, 1]])"
      ]
     },
     "execution_count": 11,
     "metadata": {},
     "output_type": "execute_result"
    }
   ],
   "source": [
    "attention_mask"
   ]
  },
  {
   "cell_type": "code",
   "execution_count": 13,
   "metadata": {},
   "outputs": [],
   "source": [
    "# 저장된 모델 로드\n",
    "model = AutoModelForTokenClassification.from_pretrained('./koelectra_v3_ner_model')\n",
    "model.eval()\n",
    "\n",
    "# 추론\n",
    "with torch.no_grad():\n",
    "    outputs = model(input_ids, attention_mask=attention_mask)\n",
    "    logits = outputs.logits\n",
    "    predictions = torch.argmax(logits, dim=-1)  # 가장 높은 확률을 가진 클래스 선택"
   ]
  },
  {
   "cell_type": "code",
   "execution_count": 14,
   "metadata": {},
   "outputs": [
    {
     "name": "stdout",
     "output_type": "stream",
     "text": [
      "Token: [CLS] Label: 0\n",
      "Token: 중화 Label: 1\n",
      "Token: ##루 Label: 2\n",
      "Token: ##에 Label: 0\n",
      "Token: ##서 Label: 0\n",
      "Token: 깐 Label: 3\n",
      "Token: ##풍 Label: 4\n",
      "Token: ##기 Label: 4\n",
      "Token: 소자 Label: 4\n",
      "Token: 하나 Label: 5\n",
      "Token: ##랑 Label: 0\n",
      "Token: 나 Label: 3\n",
      "Token: ##홀 Label: 3\n",
      "Token: ##로 Label: 4\n",
      "Token: 세트 Label: 4\n",
      "Token: b Label: 4\n",
      "Token: ##번 Label: 4\n",
      "Token: 두 Label: 5\n",
      "Token: ##개 Label: 6\n",
      "Token: , Label: 0\n",
      "Token: 야 Label: 3\n",
      "Token: ##끼 Label: 3\n",
      "Token: ##우 Label: 4\n",
      "Token: ##동 Label: 4\n",
      "Token: 세 Label: 5\n",
      "Token: ##개 Label: 6\n",
      "Token: 주문 Label: 0\n",
      "Token: ##할 Label: 0\n",
      "Token: ##게요 Label: 0\n",
      "Token: [SEP] Label: 0\n"
     ]
    }
   ],
   "source": [
    "# 토큰과 예측된 레이블 연결\n",
    "tokens = tokenizer.convert_ids_to_tokens(input_ids[0])\n",
    "predicted_labels = predictions[0].cpu().numpy()\n",
    "\n",
    "# 결과 출력\n",
    "for token, label in zip(tokens, predicted_labels):\n",
    "    print(f\"Token: {token} Label: {label}\")"
   ]
  },
  {
   "cell_type": "code",
   "execution_count": null,
   "metadata": {},
   "outputs": [],
   "source": []
  },
  {
   "cell_type": "code",
   "execution_count": null,
   "metadata": {},
   "outputs": [],
   "source": []
  },
  {
   "cell_type": "code",
   "execution_count": null,
   "metadata": {},
   "outputs": [],
   "source": []
  },
  {
   "cell_type": "code",
   "execution_count": null,
   "metadata": {},
   "outputs": [],
   "source": []
  },
  {
   "cell_type": "code",
   "execution_count": null,
   "metadata": {},
   "outputs": [],
   "source": []
  },
  {
   "cell_type": "code",
   "execution_count": null,
   "metadata": {},
   "outputs": [],
   "source": []
  },
  {
   "cell_type": "code",
   "execution_count": null,
   "metadata": {},
   "outputs": [],
   "source": []
  }
 ],
 "metadata": {
  "kernelspec": {
   "display_name": "imc_env",
   "language": "python",
   "name": "python3"
  },
  "language_info": {
   "codemirror_mode": {
    "name": "ipython",
    "version": 3
   },
   "file_extension": ".py",
   "mimetype": "text/x-python",
   "name": "python",
   "nbconvert_exporter": "python",
   "pygments_lexer": "ipython3",
   "version": "3.8.20"
  }
 },
 "nbformat": 4,
 "nbformat_minor": 2
}
