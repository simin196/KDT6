{
 "cells": [
  {
   "cell_type": "code",
   "execution_count": 1,
   "metadata": {},
   "outputs": [],
   "source": [
    "# 모듈 로딩\n",
    "import json"
   ]
  },
  {
   "cell_type": "code",
   "execution_count": 3,
   "metadata": {},
   "outputs": [
    {
     "name": "stdout",
     "output_type": "stream",
     "text": [
      "./tagging_part_add_1.json 파일로드 완\n",
      "./tagging_part_add_2.json 파일로드 완\n"
     ]
    }
   ],
   "source": [
    "# 파일 이름 패턴\n",
    "base_name = \"./tagging_part_add\"\n",
    "file_extension = \".json\"\n",
    "\n",
    "# 파일 설정\n",
    "for i in range(1, 3):\n",
    "    file_name = f\"{base_name}_{i}{file_extension}\"\n",
    "    \n",
    "    try:\n",
    "        # 파일 열기\n",
    "        with open(file_name, \"r\", encoding=\"utf-8\") as file:\n",
    "            data = json.load(file)  # JSON 파일 읽기\n",
    "            print(f\"{file_name} 파일로드 완\")\n",
    "\n",
    "            # 파일 저장\n",
    "            for i in range(len(data)):\n",
    "                with open(\"lastest_one_letter_all.json\", \"a\", encoding=\"utf-8\") as f:\n",
    "                    f.write(f'''\n",
    "            {{\n",
    "            \"tokens\" : {str(data[i][\"tokens\"]).replace(\"'\",'\"')},\n",
    "            \"ner_tags\" : {data[i][\"ner_tags\"]}\n",
    "            }},''')\n",
    "    except FileNotFoundError:\n",
    "        print(f\"{file_name} 파일이 존재하지 않습니다.\")\n",
    "    except json.JSONDecodeError:\n",
    "        print(f\"{file_name} 파일이 올바른 JSON 형식이 아닙니다.\")\n"
   ]
  },
  {
   "cell_type": "markdown",
   "metadata": {},
   "source": [
    "- - -"
   ]
  },
  {
   "cell_type": "code",
   "execution_count": null,
   "metadata": {},
   "outputs": [
    {
     "name": "stdout",
     "output_type": "stream",
     "text": [
      "./one_all/tagging_part_2.json 파일로드 완\n",
      "./one_all/tagging_part_3.json 파일로드 완\n",
      "./one_all/tagging_part_4.json 파일로드 완\n",
      "./one_all/tagging_part_5.json 파일로드 완\n",
      "./one_all/tagging_part_6.json 파일로드 완\n"
     ]
    }
   ],
   "source": [
    "# ## 문제 발생 2 ~ 6까지 ner_tags에 \"\" 존재\n",
    "# # 파일 이름 패턴\n",
    "# import json\n",
    "# base_name = \"./one_all/tagging_part\"\n",
    "# file_extension = \".json\"\n",
    "\n",
    "# # 파일 설정\n",
    "# for i in range(2, 7):\n",
    "#     file_name = f\"{base_name}_{i}{file_extension}\"\n",
    "    \n",
    "#     try:\n",
    "#         # 파일 열기\n",
    "#         with open(file_name, \"r\", encoding=\"utf-8\") as file:\n",
    "#             data = json.load(file)  # JSON 파일 읽기\n",
    "#             print(f\"{file_name} 파일로드 완\")\n",
    "\n",
    "#             # 파일 저장\n",
    "#             for i in range(len(data)):\n",
    "#                 a = data[i][\"ner_tags\"]\n",
    "#                 b = [int(num) for num in a]\n",
    "                \n",
    "#                 with open(\"tagging_retag.json\", \"a\", encoding=\"utf-8\") as f:\n",
    "#                     f.write(f'''\n",
    "#             {{\n",
    "#             \"tokens\" : {str(data[i][\"tokens\"]).replace(\"'\",'\"')},\n",
    "#             \"ner_tags\" : {b}\n",
    "#             }},''')\n",
    "#     except FileNotFoundError:\n",
    "#         print(f\"{file_name} 파일이 존재하지 않습니다.\")\n",
    "#     except json.JSONDecodeError:\n",
    "#         print(f\"{file_name} 파일이 올바른 JSON 형식이 아닙니다.\")\n"
   ]
  },
  {
   "cell_type": "code",
   "execution_count": null,
   "metadata": {},
   "outputs": [],
   "source": []
  },
  {
   "cell_type": "code",
   "execution_count": null,
   "metadata": {},
   "outputs": [],
   "source": []
  },
  {
   "cell_type": "code",
   "execution_count": null,
   "metadata": {},
   "outputs": [],
   "source": []
  },
  {
   "cell_type": "code",
   "execution_count": null,
   "metadata": {},
   "outputs": [],
   "source": []
  },
  {
   "cell_type": "code",
   "execution_count": null,
   "metadata": {},
   "outputs": [],
   "source": []
  },
  {
   "cell_type": "code",
   "execution_count": null,
   "metadata": {},
   "outputs": [],
   "source": []
  },
  {
   "cell_type": "code",
   "execution_count": null,
   "metadata": {},
   "outputs": [],
   "source": []
  },
  {
   "cell_type": "code",
   "execution_count": null,
   "metadata": {},
   "outputs": [],
   "source": []
  },
  {
   "cell_type": "code",
   "execution_count": null,
   "metadata": {},
   "outputs": [],
   "source": []
  }
 ],
 "metadata": {
  "kernelspec": {
   "display_name": "imc_env",
   "language": "python",
   "name": "python3"
  },
  "language_info": {
   "codemirror_mode": {
    "name": "ipython",
    "version": 3
   },
   "file_extension": ".py",
   "mimetype": "text/x-python",
   "name": "python",
   "nbconvert_exporter": "python",
   "pygments_lexer": "ipython3",
   "version": "3.8.20"
  }
 },
 "nbformat": 4,
 "nbformat_minor": 2
}
