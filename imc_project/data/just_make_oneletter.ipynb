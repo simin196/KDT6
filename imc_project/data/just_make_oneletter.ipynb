{
 "cells": [
  {
   "cell_type": "markdown",
   "metadata": {},
   "source": [
    "그냥 text파일을 한 글자로"
   ]
  },
  {
   "cell_type": "code",
   "execution_count": 1,
   "metadata": {},
   "outputs": [],
   "source": [
    "import os\n",
    "import json"
   ]
  },
  {
   "cell_type": "code",
   "execution_count": 4,
   "metadata": {},
   "outputs": [],
   "source": [
    "# txt파일 열기\n",
    "text = []\n",
    "store_path = './text_store_order_1.txt'\n",
    "\n",
    "with open(store_path, \"r\", encoding=\"utf-8\") as file:\n",
    "    # 파일 내용을 문자열로 읽은 뒤 splitlines()로 줄바꿈 제거\n",
    "    content = file.read()\n",
    "    lines = content.splitlines()  # 줄바꿈 제거된 각 줄 리스트 생성\n",
    "    text.extend(lines)"
   ]
  },
  {
   "cell_type": "code",
   "execution_count": 5,
   "metadata": {},
   "outputs": [
    {
     "data": {
      "text/plain": [
       "'우상화로구이에서 갈비 한 판, 된장찌개 하나, 공기밥 두 개 부탁해요.'"
      ]
     },
     "execution_count": 5,
     "metadata": {},
     "output_type": "execute_result"
    }
   ],
   "source": [
    "text[1]"
   ]
  },
  {
   "cell_type": "code",
   "execution_count": 6,
   "metadata": {},
   "outputs": [],
   "source": [
    "data = []\n",
    "for t in text:\n",
    "    tokens = list(t)\n",
    "    oneword = [a for a in tokens if a != ' ']    \n",
    "    OW = [b for b in oneword if b != '\\n']\n",
    "    data.append({\n",
    "        \"tokens\": OW,\n",
    "        \"ner_tags\": [0]*len(OW)\n",
    "    })\n",
    "    "
   ]
  },
  {
   "cell_type": "code",
   "execution_count": 7,
   "metadata": {},
   "outputs": [],
   "source": [
    "# 파일 저장\n",
    "for i in range(len(data)):\n",
    "    with open(\"tagged.json\", \"a\", encoding=\"utf-8\") as f:\n",
    "        f.write(f'''\n",
    "{{\n",
    "\"tokens\" : {str(data[i][\"tokens\"]).replace(\"'\",'\"')},\n",
    "\"ner_tags\" : {data[i][\"ner_tags\"]}\n",
    "}},''')"
   ]
  },
  {
   "cell_type": "code",
   "execution_count": null,
   "metadata": {},
   "outputs": [],
   "source": []
  }
 ],
 "metadata": {
  "kernelspec": {
   "display_name": "imc_env",
   "language": "python",
   "name": "python3"
  },
  "language_info": {
   "codemirror_mode": {
    "name": "ipython",
    "version": 3
   },
   "file_extension": ".py",
   "mimetype": "text/x-python",
   "name": "python",
   "nbconvert_exporter": "python",
   "pygments_lexer": "ipython3",
   "version": "3.8.20"
  }
 },
 "nbformat": 4,
 "nbformat_minor": 2
}
