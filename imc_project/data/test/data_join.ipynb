{
 "cells": [
  {
   "cell_type": "code",
   "execution_count": 1,
   "metadata": {},
   "outputs": [],
   "source": [
    "# 모듈 로딩\n",
    "import json"
   ]
  },
  {
   "cell_type": "code",
   "execution_count": 2,
   "metadata": {},
   "outputs": [
    {
     "name": "stdout",
     "output_type": "stream",
     "text": [
      "./test_data_2.json 파일로드 완\n",
      "./test_data_3.json 파일로드 완\n",
      "./test_data_4.json 파일로드 완\n"
     ]
    }
   ],
   "source": [
    "# 파일 이름 패턴\n",
    "base_name = \"./test_data\"\n",
    "file_extension = \".json\"\n",
    "\n",
    "# 파일 설정\n",
    "for i in range(2, 5):\n",
    "    file_name = f\"{base_name}_{i}{file_extension}\"\n",
    "    \n",
    "    try:\n",
    "        # 파일 열기\n",
    "        with open(file_name, \"r\", encoding=\"utf-8\") as file:\n",
    "            data = json.load(file)  # JSON 파일 읽기\n",
    "            print(f\"{file_name} 파일로드 완\")\n",
    "\n",
    "            # 파일 저장\n",
    "            for i in range(len(data)):\n",
    "                with open(\"test_data_all.json\", \"a\", encoding=\"utf-8\") as f:\n",
    "                    f.write(f'''\n",
    "            {{\n",
    "            \"tokens\" : {str(data[i][\"tokens\"]).replace(\"'\",'\"')},\n",
    "            \"ner_tags\" : {data[i][\"ner_tags\"]}\n",
    "            }},''')\n",
    "    except FileNotFoundError:\n",
    "        print(f\"{file_name} 파일이 존재하지 않습니다.\")\n",
    "    except json.JSONDecodeError:\n",
    "        print(f\"{file_name} 파일이 올바른 JSON 형식이 아닙니다.\")\n"
   ]
  },
  {
   "cell_type": "markdown",
   "metadata": {},
   "source": [
    "- - -"
   ]
  },
  {
   "cell_type": "code",
   "execution_count": null,
   "metadata": {},
   "outputs": [
    {
     "name": "stdout",
     "output_type": "stream",
     "text": [
      "./test_data_1.json 파일이 존재하지 않습니다.\n"
     ]
    }
   ],
   "source": [
    "## 문제 발생 2 ~ 6까지 ner_tags에 \"\" 존재 >> \"\" 제거\n",
    "# 파일 이름 패턴\n",
    "import json\n",
    "base_name = \".test_data\"\n",
    "file_extension = \".json\"\n",
    "\n",
    "# 파일 설정\n",
    "\n",
    "file_name = \"./test_data_1.json\"\n",
    "\n",
    "try:\n",
    "    # 파일 열기\n",
    "    with open(file_name, \"r\", encoding=\"utf-8\") as file:\n",
    "        data = json.load(file)  # JSON 파일 읽기\n",
    "        print(f\"{file_name} 파일로드 완\")\n",
    "\n",
    "        # 파일 저장\n",
    "        for i in range(len(data)):\n",
    "            a = data[i][\"ner_tags\"]\n",
    "            b = [int(num) for num in a]\n",
    "            \n",
    "            with open(\"test_data_4.json\", \"a\", encoding=\"utf-8\") as f:\n",
    "                f.write(f'''\n",
    "        {{\n",
    "        \"tokens\" : {str(data[i][\"tokens\"]).replace(\"'\",'\"')},\n",
    "        \"ner_tags\" : {b}\n",
    "        }},''')\n",
    "except FileNotFoundError:\n",
    "    print(f\"{file_name} 파일이 존재하지 않습니다.\")\n",
    "except json.JSONDecodeError:\n",
    "    print(f\"{file_name} 파일이 올바른 JSON 형식이 아닙니다.\")\n"
   ]
  },
  {
   "cell_type": "code",
   "execution_count": 40,
   "metadata": {},
   "outputs": [
    {
     "name": "stdout",
     "output_type": "stream",
     "text": [
      "./test_data_all.json 파일로드 완\n"
     ]
    }
   ],
   "source": [
    "## 추가적으로 test data에 text 추가하기 위해\n",
    "\n",
    "import json\n",
    "file_name = \"./test_data_all.json\"\n",
    "\n",
    "try:\n",
    "    # 파일 열기\n",
    "    with open(file_name, \"r\", encoding=\"utf-8\") as file:\n",
    "        data = json.load(file) \n",
    "        print(f\"{file_name} 파일로드 완\")\n",
    "\n",
    "    # 새로운 파일 저장\n",
    "    with open(\"test_data+text.json\", \"w\", encoding=\"utf-8\") as f:\n",
    "        f.write(\"[\\n\")  \n",
    "\n",
    "        for i, item in enumerate(data):\n",
    "            a = \"\".join(item[\"tokens\"])\n",
    "            text = f'\"{a}\"' \n",
    "            \n",
    "            f.write(f'''{{\n",
    "\"text\" : {text},\n",
    "\"tokens\" : {str(data[i][\"tokens\"]).replace(\"'\",'\"')},\n",
    "\"ner_tags\" : {data[i][\"ner_tags\"]}\n",
    "}}''')\n",
    "\n",
    "            # 마지막 요소가 아니라면 쉼표 추가\n",
    "            if i < len(data) - 1:\n",
    "                f.write(\",\\n\")\n",
    "            else:\n",
    "                f.write(\"\\n\")\n",
    "        \n",
    "        f.write(\"]\\n\")\n",
    "\n",
    "except FileNotFoundError:\n",
    "    print(f\"{file_name} 파일이 존재하지 않습니다.\")\n",
    "except json.JSONDecodeError:\n",
    "    print(f\"{file_name} 파일이 올바른 JSON 형식이 아닙니다.\")\n"
   ]
  },
  {
   "cell_type": "code",
   "execution_count": null,
   "metadata": {},
   "outputs": [],
   "source": [
    "print()"
   ]
  },
  {
   "cell_type": "code",
   "execution_count": null,
   "metadata": {},
   "outputs": [],
   "source": []
  },
  {
   "cell_type": "code",
   "execution_count": null,
   "metadata": {},
   "outputs": [],
   "source": []
  },
  {
   "cell_type": "code",
   "execution_count": null,
   "metadata": {},
   "outputs": [],
   "source": []
  },
  {
   "cell_type": "code",
   "execution_count": null,
   "metadata": {},
   "outputs": [],
   "source": []
  },
  {
   "cell_type": "code",
   "execution_count": null,
   "metadata": {},
   "outputs": [],
   "source": []
  },
  {
   "cell_type": "code",
   "execution_count": null,
   "metadata": {},
   "outputs": [],
   "source": []
  },
  {
   "cell_type": "code",
   "execution_count": null,
   "metadata": {},
   "outputs": [],
   "source": []
  }
 ],
 "metadata": {
  "kernelspec": {
   "display_name": "imc_env",
   "language": "python",
   "name": "python3"
  },
  "language_info": {
   "codemirror_mode": {
    "name": "ipython",
    "version": 3
   },
   "file_extension": ".py",
   "mimetype": "text/x-python",
   "name": "python",
   "nbconvert_exporter": "python",
   "pygments_lexer": "ipython3",
   "version": "3.8.20"
  }
 },
 "nbformat": 4,
 "nbformat_minor": 2
}
