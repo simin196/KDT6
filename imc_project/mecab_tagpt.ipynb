{
 "cells": [
  {
   "cell_type": "code",
   "execution_count": 2,
   "metadata": {},
   "outputs": [],
   "source": [
    "# 모듈 로딩\n",
    "import json"
   ]
  },
  {
   "cell_type": "code",
   "execution_count": 3,
   "metadata": {},
   "outputs": [],
   "source": [
    "with open(\"./mecab/tagged_data_bio_enhanced.json\", \"r\", encoding=\"utf-8\") as infile:\n",
    "    data = json.load(infile)"
   ]
  },
  {
   "cell_type": "code",
   "execution_count": 4,
   "metadata": {},
   "outputs": [
    {
     "data": {
      "text/plain": [
       "975"
      ]
     },
     "execution_count": 4,
     "metadata": {},
     "output_type": "execute_result"
    }
   ],
   "source": [
    "len(data)"
   ]
  },
  {
   "cell_type": "code",
   "execution_count": null,
   "metadata": {},
   "outputs": [],
   "source": [
    "# with open(\"tagged_new1_like.json\", \"w\", encoding=\"utf-8\") as outfile:\n",
    "#     for item in data:\n",
    "#         json.dump(item, outfile, ensure_ascii=False)\n",
    "#         outfile.write(\"\\n\")  # 각 항목을 새 줄에 저장"
   ]
  },
  {
   "cell_type": "code",
   "execution_count": 8,
   "metadata": {},
   "outputs": [],
   "source": [
    "# 파일 저장\n",
    "for i in range(len(data)):\n",
    "    with open(\"tagged_new1_like.json\", \"a\", encoding=\"utf-8\") as f:\n",
    "        f.write(f'''\n",
    "{{\n",
    "\"tokens\" : {str(data[i][\"tokens\"]).replace(\"'\",'\"')},\n",
    "\"ner_tags\" : {data[i][\"ner_tags\"]}\n",
    "}},''')"
   ]
  },
  {
   "cell_type": "code",
   "execution_count": null,
   "metadata": {},
   "outputs": [],
   "source": []
  }
 ],
 "metadata": {
  "kernelspec": {
   "display_name": "imc_env",
   "language": "python",
   "name": "python3"
  },
  "language_info": {
   "codemirror_mode": {
    "name": "ipython",
    "version": 3
   },
   "file_extension": ".py",
   "mimetype": "text/x-python",
   "name": "python",
   "nbconvert_exporter": "python",
   "pygments_lexer": "ipython3",
   "version": "3.8.20"
  }
 },
 "nbformat": 4,
 "nbformat_minor": 2
}
