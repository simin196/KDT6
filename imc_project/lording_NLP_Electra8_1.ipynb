{
 "cells": [
  {
   "cell_type": "code",
   "execution_count": 1,
   "metadata": {},
   "outputs": [],
   "source": [
    "from transformers import AutoTokenizer, AutoModelForTokenClassification\n",
    "import torch\n",
    "\n",
    "# 저장된 토크나이저 로드\n",
    "tokenizer = AutoTokenizer.from_pretrained('./koelectra_v3_ner_model5')"
   ]
  },
  {
   "cell_type": "code",
   "execution_count": 2,
   "metadata": {},
   "outputs": [],
   "source": [
    "def make_token_input_data(sentence, tokenizer, max_length=64):\n",
    "    \n",
    "    \"\"\"KoElectra모델에 넣을 데이터 준비\"\"\"\n",
    "\n",
    "    tokens = tokenizer.tokenize(sentence)\n",
    "\n",
    "    list_text = []\n",
    "    text_token = []\n",
    "\n",
    "    for token in tokens:\n",
    "        if token.startswith(\"##\"):  # 특수 기호 제거\n",
    "            list_text[-1] += token[2:]\n",
    "        else:\n",
    "            list_text.append(list(token))\n",
    "\n",
    "    for a in list_text:\n",
    "        text_token.extend(a)\n",
    "\n",
    "    encodings = tokenizer(\n",
    "        text_token, \n",
    "        is_split_into_words=True, \n",
    "        padding=True, \n",
    "        truncation=True, \n",
    "        max_length=max_length,\n",
    "        return_tensors='pt'\n",
    "    )\n",
    "\n",
    "    print(f\"list_text: {list_text}\")\n",
    "    print(f\"text_token: {text_token}\")\n",
    "    print(f\"encodings: {encodings}\")\n",
    "\n",
    "    return encodings,text_token"
   ]
  },
  {
   "cell_type": "code",
   "execution_count": 10,
   "metadata": {},
   "outputs": [
    {
     "name": "stdout",
     "output_type": "stream",
     "text": [
      "list_text: [['명', '가'], ['우', '육', '면', '에', '서'], ['마', '라'], ['우', '육', '면'], ['2', '개'], ['주', '문', '해', '주', '고'], ['부', '추', '계', '란'], ['물', '만', '두'], ['한', '개'], ['추', '가', '해', '줘']]\n",
      "text_token: ['명', '가', '우', '육', '면', '에', '서', '마', '라', '우', '육', '면', '2', '개', '주', '문', '해', '주', '고', '부', '추', '계', '란', '물', '만', '두', '한', '개', '추', '가', '해', '줘']\n",
      "encodings: {'input_ids': tensor([[   2, 2675, 2010, 3191, 3222, 2672, 3130, 2914, 2628, 2523, 3191, 3222,\n",
      "         2672,   22, 2027, 3323, 2693, 3764, 3323, 2075, 2799, 3474, 2073, 2525,\n",
      "         2695, 2630, 2419, 3757, 2027, 3474, 2010, 3764, 3331,    3]]), 'token_type_ids': tensor([[0, 0, 0, 0, 0, 0, 0, 0, 0, 0, 0, 0, 0, 0, 0, 0, 0, 0, 0, 0, 0, 0, 0, 0,\n",
      "         0, 0, 0, 0, 0, 0, 0, 0, 0, 0]]), 'attention_mask': tensor([[1, 1, 1, 1, 1, 1, 1, 1, 1, 1, 1, 1, 1, 1, 1, 1, 1, 1, 1, 1, 1, 1, 1, 1,\n",
      "         1, 1, 1, 1, 1, 1, 1, 1, 1, 1]])}\n",
      "input_ids: tensor([[   2, 2675, 2010, 3191, 3222, 2672, 3130, 2914, 2628, 2523, 3191, 3222,\n",
      "         2672,   22, 2027, 3323, 2693, 3764, 3323, 2075, 2799, 3474, 2073, 2525,\n",
      "         2695, 2630, 2419, 3757, 2027, 3474, 2010, 3764, 3331,    3]])\n",
      "attention_mask: tensor([[1, 1, 1, 1, 1, 1, 1, 1, 1, 1, 1, 1, 1, 1, 1, 1, 1, 1, 1, 1, 1, 1, 1, 1,\n",
      "         1, 1, 1, 1, 1, 1, 1, 1, 1, 1]])\n"
     ]
    }
   ],
   "source": [
    "# 입력 문장\n",
    "sentence = '명가 우육면에서 마라 우육면 2개 주문해주고 부추계란 물만두 한개 추가해줘'\n",
    "\n",
    "# 기본 토큰화 및 인코딩\n",
    "encoding, text_token = make_token_input_data(sentence, tokenizer)\n",
    "\n",
    "# input_ids와 attention_mask 그대로 확인\n",
    "input_ids = encoding['input_ids']\n",
    "attention_mask = encoding['attention_mask']\n",
    "\n",
    "# print(\"encoding:\", encoding)\n",
    "print(\"input_ids:\", input_ids)\n",
    "print(\"attention_mask:\", attention_mask)\n"
   ]
  },
  {
   "cell_type": "code",
   "execution_count": 11,
   "metadata": {},
   "outputs": [
    {
     "name": "stdout",
     "output_type": "stream",
     "text": [
      "명가 우육면에서 마라 우육면 2개 주문해주고 부추계란 물만두 한개 추가해줘\n",
      "tensor([0, 1, 2, 2, 2, 2, 0, 0, 3, 4, 4, 4, 4, 5, 6, 0, 0, 0, 0, 0, 3, 0, 0, 0,\n",
      "        3, 4, 4, 5, 6, 0, 0, 0, 0, 0])\n"
     ]
    }
   ],
   "source": [
    "# 저장된 모델 로드\n",
    "model = AutoModelForTokenClassification.from_pretrained('./koelectra_v3_ner_model5')\n",
    "model.eval()\n",
    "\n",
    "# 추론\n",
    "with torch.no_grad():\n",
    "    outputs = model(input_ids=input_ids, attention_mask=attention_mask)\n",
    "    logits = outputs.logits\n",
    "    predictions = torch.argmax(logits, dim=-1)  # 가장 높은 확률을 가진 클래스 선택\n",
    "\n",
    "print(sentence)\n",
    "print(predictions[0])"
   ]
  },
  {
   "cell_type": "markdown",
   "metadata": {},
   "source": [
    "- - -"
   ]
  },
  {
   "cell_type": "code",
   "execution_count": 13,
   "metadata": {},
   "outputs": [
    {
     "name": "stdout",
     "output_type": "stream",
     "text": [
      "list_text: [['명', '가'], ['우', '육', '면', '에', '서'], ['마', '라'], ['우', '육', '면'], ['2', '개'], ['주', '문', '해', '주', '고'], ['부', '추', '계', '란'], ['물', '만', '두'], ['한', '개'], ['추', '가', '해', '줘']]\n",
      "text_token: ['명', '가', '우', '육', '면', '에', '서', '마', '라', '우', '육', '면', '2', '개', '주', '문', '해', '주', '고', '부', '추', '계', '란', '물', '만', '두', '한', '개', '추', '가', '해', '줘']\n",
      "encodings: {'input_ids': tensor([[   2, 2675, 2010, 3191, 3222, 2672, 3130, 2914, 2628, 2523, 3191, 3222,\n",
      "         2672,   22, 2027, 3323, 2693, 3764, 3323, 2075, 2799, 3474, 2073, 2525,\n",
      "         2695, 2630, 2419, 3757, 2027, 3474, 2010, 3764, 3331,    3]]), 'token_type_ids': tensor([[0, 0, 0, 0, 0, 0, 0, 0, 0, 0, 0, 0, 0, 0, 0, 0, 0, 0, 0, 0, 0, 0, 0, 0,\n",
      "         0, 0, 0, 0, 0, 0, 0, 0, 0, 0]]), 'attention_mask': tensor([[1, 1, 1, 1, 1, 1, 1, 1, 1, 1, 1, 1, 1, 1, 1, 1, 1, 1, 1, 1, 1, 1, 1, 1,\n",
      "         1, 1, 1, 1, 1, 1, 1, 1, 1, 1]])}\n",
      "input_ids: tensor([[   2, 2675, 2010, 3191, 3222, 2672, 3130, 2914, 2628, 2523, 3191, 3222,\n",
      "         2672,   22, 2027, 3323, 2693, 3764, 3323, 2075, 2799, 3474, 2073, 2525,\n",
      "         2695, 2630, 2419, 3757, 2027, 3474, 2010, 3764, 3331,    3]])\n",
      "attention_mask: tensor([[1, 1, 1, 1, 1, 1, 1, 1, 1, 1, 1, 1, 1, 1, 1, 1, 1, 1, 1, 1, 1, 1, 1, 1,\n",
      "         1, 1, 1, 1, 1, 1, 1, 1, 1, 1]])\n"
     ]
    }
   ],
   "source": [
    "# 입력 문장\n",
    "sentence = '명가 우육면에서 마라 우육면 2개 주문해주고 부추계란 물만두 한개 추가해줘'\n",
    "\n",
    "# 기본 토큰화 및 인코딩\n",
    "encoding, text_token = make_token_input_data(sentence, tokenizer)\n",
    "\n",
    "# input_ids와 attention_mask 그대로 확인\n",
    "input_ids = encoding['input_ids']\n",
    "attention_mask = encoding['attention_mask']\n",
    "\n",
    "# print(\"encoding:\", encoding)\n",
    "print(\"input_ids:\", input_ids)\n",
    "print(\"attention_mask:\", attention_mask)\n"
   ]
  },
  {
   "cell_type": "code",
   "execution_count": 14,
   "metadata": {},
   "outputs": [
    {
     "name": "stdout",
     "output_type": "stream",
     "text": [
      "명가 우육면에서 마라 우육면 2개 주문해주고 부추계란 물만두 한개 추가해줘\n",
      "tensor([0, 1, 2, 2, 2, 2, 0, 0, 3, 4, 4, 4, 4, 5, 6, 0, 0, 0, 0, 0, 3, 0, 0, 0,\n",
      "        3, 4, 4, 5, 6, 0, 0, 0, 0, 0])\n"
     ]
    }
   ],
   "source": [
    "# 저장된 모델 로드\n",
    "model = AutoModelForTokenClassification.from_pretrained('./koelectra_v3_ner_model5')\n",
    "model.eval()\n",
    "\n",
    "# 추론\n",
    "with torch.no_grad():\n",
    "    outputs = model(input_ids=input_ids, attention_mask=attention_mask)\n",
    "    logits = outputs.logits\n",
    "    predictions = torch.argmax(logits, dim=-1)  # 가장 높은 확률을 가진 클래스 선택\n",
    "\n",
    "print(sentence)\n",
    "print(predictions[0])"
   ]
  },
  {
   "cell_type": "code",
   "execution_count": 16,
   "metadata": {},
   "outputs": [
    {
     "name": "stdout",
     "output_type": "stream",
     "text": [
      "['명', '가', '우', '육', '면']\n",
      "[',', '마', '라', '우', '육', '면', ',', '부', ',', '물', '만', '두']\n",
      "['2', '개', '한', '개']\n"
     ]
    }
   ],
   "source": [
    "a = predictions[0].tolist()\n",
    "store = []\n",
    "food = []\n",
    "ea = []\n",
    "\n",
    "text_token\n",
    "\n",
    "for count,tag in enumerate(a):\n",
    "    if tag == 1 or tag == 2:\n",
    "        store.append(text_token[count-1])\n",
    "    elif tag == 3 or tag == 4:\n",
    "        if tag == 3 :\n",
    "            food.append(',')\n",
    "        food.append(text_token[count-1])\n",
    "    elif tag == 5 or tag == 6:\n",
    "        ea.append(text_token[count-1])\n",
    "\n",
    "print(store)\n",
    "print(food)\n",
    "print(ea)"
   ]
  },
  {
   "cell_type": "code",
   "execution_count": 17,
   "metadata": {},
   "outputs": [
    {
     "name": "stdout",
     "output_type": "stream",
     "text": [
      "['명가우육면']\n",
      "['', '마라우육면', '부', '물만두']\n",
      "['마라우육면', '부', '물만두']\n",
      "['2개', '한개']\n"
     ]
    }
   ],
   "source": [
    "store = [''.join(store)]\n",
    "\n",
    "temp_food = ''.join(food).split(',')\n",
    "food = [item.strip() for item in temp_food if item.strip()] \n",
    "\n",
    "ea = [''.join(ea[i:i+2]) for i in range(0, len(ea), 2)]\n",
    "\n",
    "print(store) \n",
    "print(temp_food)\n",
    "print(food) \n",
    "print(ea) "
   ]
  },
  {
   "cell_type": "code",
   "execution_count": null,
   "metadata": {},
   "outputs": [],
   "source": []
  }
 ],
 "metadata": {
  "kernelspec": {
   "display_name": "imc_env",
   "language": "python",
   "name": "python3"
  },
  "language_info": {
   "codemirror_mode": {
    "name": "ipython",
    "version": 3
   },
   "file_extension": ".py",
   "mimetype": "text/x-python",
   "name": "python",
   "nbconvert_exporter": "python",
   "pygments_lexer": "ipython3",
   "version": "3.8.20"
  }
 },
 "nbformat": 4,
 "nbformat_minor": 2
}
