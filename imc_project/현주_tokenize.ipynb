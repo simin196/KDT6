{
 "cells": [
  {
   "cell_type": "code",
   "execution_count": null,
   "metadata": {},
   "outputs": [],
   "source": [
    "from mecab import MeCab\n",
    "import json"
   ]
  },
  {
   "cell_type": "code",
   "execution_count": null,
   "metadata": {},
   "outputs": [],
   "source": [
    "mec = MeCab()\n",
    "file_text = []\n",
    "with open('./order.txt', encoding='utf-8') as f :\n",
    "    while True:\n",
    "        data = f.readline()\n",
    "        if not data : break\n",
    "        # print(data)\n",
    "        data = data.replace(\"'\",\" \")\n",
    "        result = mec.morphs(data)\n",
    "        # print(result)\n",
    "        labels = []\n",
    "        while len(labels)<len(result):\n",
    "            labels.append(0)\n",
    "        # print(labels)\n",
    "        # print(f'text : {len(result)}, label : {len(labels)}')\n",
    "        file_text.append([result, labels])\n",
    "\n",
    "# 저장하기\n",
    "for n in range(len(file_text)):\n",
    "    with open(\"labels.json\", \"a\", encoding=\"utf-8\") as file:\n",
    "        if n == 0 :\n",
    "            file.write(f'''[\n",
    "{{\n",
    "\"tokens\" : {str(file_text[n][0]).replace(\"'\",'\"')},\n",
    "\"ner_tags\" : {file_text[n][1]}\n",
    "}},''')\n",
    "\n",
    "        elif n == len(file_text)-1:\n",
    "            file.write(f'''\n",
    "{{\n",
    "\"tokens\" : {str(file_text[n][0]).replace(\"'\",'\"')},\n",
    "\"ner_tags\" : {file_text[n][1]}\n",
    "}}\n",
    "]''')\n",
    "\n",
    "        else : \n",
    "            file.write(f'''\n",
    "{{\n",
    "\"tokens\" : {str(file_text[n][0]).replace(\"'\",'\"')},\n",
    "\"ner_tags\" : {file_text[n][1]}\n",
    "}},''')\n"
   ]
  },
  {
   "cell_type": "code",
   "execution_count": null,
   "metadata": {},
   "outputs": [],
   "source": []
  }
 ],
 "metadata": {
  "kernelspec": {
   "display_name": "imc_env",
   "language": "python",
   "name": "python3"
  },
  "language_info": {
   "codemirror_mode": {
    "name": "ipython",
    "version": 3
   },
   "file_extension": ".py",
   "mimetype": "text/x-python",
   "name": "python",
   "nbconvert_exporter": "python",
   "pygments_lexer": "ipython3",
   "version": "3.8.20"
  }
 },
 "nbformat": 4,
 "nbformat_minor": 2
}
