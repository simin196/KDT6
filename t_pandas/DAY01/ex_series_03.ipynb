{
 "cells": [
  {
   "cell_type": "markdown",
   "metadata": {},
   "source": [
    "### Series 데이터 자료형 \n",
    "- 판다스에서 1줄 데이터 저장하는 자료형\n",
    "- 구성 : 인덱스+데이터 "
   ]
  },
  {
   "cell_type": "code",
   "execution_count": 1,
   "metadata": {},
   "outputs": [],
   "source": [
    "# 모듈로딩 \n",
    "import pandas as pd "
   ]
  },
  {
   "cell_type": "code",
   "execution_count": 2,
   "metadata": {},
   "outputs": [],
   "source": [
    "# 데이터 준비 \n",
    "jumsu={'국어':98, '영어':100, '체육':100, '과학':89}"
   ]
  },
  {
   "cell_type": "code",
   "execution_count": 3,
   "metadata": {},
   "outputs": [],
   "source": [
    "# 시리즈 객체 생성 \n",
    "jumsuSR=pd.Series(jumsu)"
   ]
  },
  {
   "cell_type": "code",
   "execution_count": 4,
   "metadata": {},
   "outputs": [
    {
     "name": "stdout",
     "output_type": "stream",
     "text": [
      "Index(['국어', '영어', '체육', '과학'], dtype='object')\n",
      "[ 98 100 100  89]\n",
      "int64\n",
      "1\n"
     ]
    }
   ],
   "source": [
    "# 시리즈 객체 속성 출력 => index, values, dtype, ndim \n",
    "print(jumsuSR.index)\n",
    "print(jumsuSR.values)\n",
    "print(jumsuSR.dtype)\n",
    "print(jumsuSR.ndim)"
   ]
  },
  {
   "cell_type": "code",
   "execution_count": 5,
   "metadata": {},
   "outputs": [
    {
     "data": {
      "text/plain": [
       "98"
      ]
     },
     "execution_count": 5,
     "metadata": {},
     "output_type": "execute_result"
    }
   ],
   "source": [
    "## 원소 읽기 -------------------------------\n",
    "# 1개 원소 읽기 \n",
    "jumsuSR['국어']"
   ]
  },
  {
   "cell_type": "code",
   "execution_count": 6,
   "metadata": {},
   "outputs": [
    {
     "data": {
      "text/plain": [
       "국어    98\n",
       "과학    89\n",
       "dtype: int64"
      ]
     },
     "execution_count": 6,
     "metadata": {},
     "output_type": "execute_result"
    }
   ],
   "source": [
    "# 2개 원소 읽기 -> 국어, 과학 점수\n",
    "jumsuSR[['국어','과학']]"
   ]
  },
  {
   "cell_type": "code",
   "execution_count": 8,
   "metadata": {},
   "outputs": [
    {
     "data": {
      "text/plain": [
       "국어     98\n",
       "영어    100\n",
       "체육    100\n",
       "dtype: int64"
      ]
     },
     "execution_count": 8,
     "metadata": {},
     "output_type": "execute_result"
    }
   ],
   "source": [
    "# 국어, 영어, 체육 점수 읽기 ==> 슬라이싱\n",
    "# 정수인덱스 경우 => [시작:끝+1]\n",
    "# 글자인덱수 경우 => [시작:끝]\n",
    "#jumsuSR['국어':'과학']\n",
    "jumsuSR['국어':'체육']"
   ]
  },
  {
   "cell_type": "code",
   "execution_count": 9,
   "metadata": {},
   "outputs": [
    {
     "data": {
      "text/plain": [
       "국어     98\n",
       "체육    100\n",
       "dtype: int64"
      ]
     },
     "execution_count": 9,
     "metadata": {},
     "output_type": "execute_result"
    }
   ],
   "source": [
    "# 국어, 체육 점수 읽기 ==> 슬라이싱 [시작:끝:간격]\n",
    "jumsuSR['국어':'체육':2]"
   ]
  },
  {
   "cell_type": "markdown",
   "metadata": {},
   "source": [
    "- [인덱스 & 인덱스레이블/네임] \n",
    ": 원소/요소를 식별하기 위한 속성"
   ]
  },
  {
   "cell_type": "code",
   "execution_count": 11,
   "metadata": {},
   "outputs": [
    {
     "data": {
      "text/plain": [
       "Index(['국어', '영어', '체육', '과학'], dtype='object')"
      ]
     },
     "execution_count": 11,
     "metadata": {},
     "output_type": "execute_result"
    }
   ],
   "source": [
    "## 인덱스 속성 ==> 변수명.index\n",
    "jumsuSR.index"
   ]
  },
  {
   "cell_type": "code",
   "execution_count": 14,
   "metadata": {},
   "outputs": [
    {
     "name": "stdout",
     "output_type": "stream",
     "text": [
      "98 98\n",
      "100 100\n"
     ]
    }
   ],
   "source": [
    "print( jumsuSR['국어'] ,   jumsuSR.iloc[0] )\n",
    "print( jumsuSR['체육'] ,   jumsuSR.iloc[2] )"
   ]
  },
  {
   "cell_type": "code",
   "execution_count": 17,
   "metadata": {},
   "outputs": [
    {
     "name": "stdout",
     "output_type": "stream",
     "text": [
      "국어     98\n",
      "영어    100\n",
      "체육    100\n",
      "dtype: int64\n",
      "국어     98\n",
      "영어    100\n",
      "체육    100\n",
      "dtype: int64\n"
     ]
    }
   ],
   "source": [
    "print( jumsuSR['국어':'체육'] ,   jumsuSR[0:3], sep='\\n')"
   ]
  },
  {
   "cell_type": "code",
   "execution_count": 19,
   "metadata": {},
   "outputs": [
    {
     "name": "stdout",
     "output_type": "stream",
     "text": [
      "국어     98\n",
      "체육    100\n",
      "dtype: int64\n",
      "\n",
      "국어     98\n",
      "체육    100\n",
      "dtype: int64\n"
     ]
    }
   ],
   "source": [
    "print( jumsuSR['국어':'체육':2] ,   jumsuSR[0:3:2], sep='\\n\\n')"
   ]
  },
  {
   "cell_type": "code",
   "execution_count": null,
   "metadata": {},
   "outputs": [],
   "source": []
  }
 ],
 "metadata": {
  "kernelspec": {
   "display_name": "PY39",
   "language": "python",
   "name": "python3"
  },
  "language_info": {
   "codemirror_mode": {
    "name": "ipython",
    "version": 3
   },
   "file_extension": ".py",
   "mimetype": "text/x-python",
   "name": "python",
   "nbconvert_exporter": "python",
   "pygments_lexer": "ipython3",
   "version": "3.9.19"
  }
 },
 "nbformat": 4,
 "nbformat_minor": 2
}
