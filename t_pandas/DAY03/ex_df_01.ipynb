{
 "cells": [
  {
   "cell_type": "markdown",
   "metadata": {},
   "source": [
    "### 데이터 활용 방법 - 전치\n",
    "- 행과 열을 서로 바꾸는 것\n",
    "- 방법\n",
    "    - 1. 메서드 : 변수명.transpose()\n",
    "    - 2. 속성 : 변수명.T"
   ]
  },
  {
   "cell_type": "code",
   "execution_count": 4,
   "metadata": {},
   "outputs": [],
   "source": [
    "# [1] 모듈 로딩 \n",
    "import pandas as pd "
   ]
  },
  {
   "cell_type": "code",
   "execution_count": 5,
   "metadata": {},
   "outputs": [],
   "source": [
    "# [2] 데이터 준비 \n",
    "file_name='data.csv'  #r'C:\\Users\\anece\\EX_PANDAS6\\DAY03\\data.csv'"
   ]
  },
  {
   "cell_type": "code",
   "execution_count": 6,
   "metadata": {},
   "outputs": [],
   "source": [
    "# [3] CSV ==> DataFrame 형태로 저장\n",
    "csvDF=pd.read_csv(file_name)"
   ]
  },
  {
   "cell_type": "code",
   "execution_count": 7,
   "metadata": {},
   "outputs": [
    {
     "name": "stdout",
     "output_type": "stream",
     "text": [
      "변경 전\n",
      "RangeIndex(start=0, stop=5, step=1)\n",
      "Index(['no', 'name', 'age', 'gender'], dtype='object')\n",
      "   no  name  age gender\n",
      "0   1  Hong   10      F\n",
      "1   2  Park   13      F\n",
      "2   3   Kim   12      M\n",
      "3   4   Lee   16      f\n",
      "4   5   Lim   15      M\n",
      "\n",
      "변경 후\n",
      "Index(['no', 'name', 'age', 'gender'], dtype='object')\n",
      "RangeIndex(start=0, stop=5, step=1)\n",
      "           0     1    2    3    4\n",
      "no         1     2    3    4    5\n",
      "name    Hong  Park  Kim  Lee  Lim\n",
      "age       10    13   12   16   15\n",
      "gender     F     F    M    f    M\n"
     ]
    }
   ],
   "source": [
    "# [4] DF 형태 변경 : 행 ==> 열, 열 ==> 행\n",
    "print(\"변경 전\", csvDF.index, csvDF.columns, csvDF, sep='\\n')\n",
    "\n",
    "# 속성 T 사용\n",
    "csvDF=csvDF.T\n",
    "print(\"\\n변경 후\", csvDF.index, csvDF.columns, csvDF, sep='\\n')"
   ]
  },
  {
   "cell_type": "code",
   "execution_count": 8,
   "metadata": {},
   "outputs": [
    {
     "name": "stdout",
     "output_type": "stream",
     "text": [
      "\n",
      "변경 후\n",
      "RangeIndex(start=0, stop=5, step=1)\n",
      "Index(['no', 'name', 'age', 'gender'], dtype='object')\n",
      "  no  name age gender\n",
      "0  1  Hong  10      F\n",
      "1  2  Park  13      F\n",
      "2  3   Kim  12      M\n",
      "3  4   Lee  16      f\n",
      "4  5   Lim  15      M\n"
     ]
    }
   ],
   "source": [
    "# 메서드 transpose() 사용\n",
    "csvDF=csvDF.transpose()\n",
    "print(\"\\n변경 후\", csvDF.index, csvDF.columns, csvDF, sep='\\n')"
   ]
  },
  {
   "cell_type": "code",
   "execution_count": null,
   "metadata": {},
   "outputs": [],
   "source": []
  },
  {
   "cell_type": "code",
   "execution_count": null,
   "metadata": {},
   "outputs": [],
   "source": []
  }
 ],
 "metadata": {
  "kernelspec": {
   "display_name": "PY39",
   "language": "python",
   "name": "python3"
  },
  "language_info": {
   "codemirror_mode": {
    "name": "ipython",
    "version": 3
   },
   "file_extension": ".py",
   "mimetype": "text/x-python",
   "name": "python",
   "nbconvert_exporter": "python",
   "pygments_lexer": "ipython3",
   "version": "3.9.19"
  }
 },
 "nbformat": 4,
 "nbformat_minor": 2
}
