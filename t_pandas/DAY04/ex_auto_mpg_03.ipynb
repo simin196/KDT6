{
 "cells": [
  {
   "cell_type": "markdown",
   "metadata": {},
   "source": [
    "#### [데이터 표준화]\n",
    "- 수집된 데이터를 동일한 형태로 맞추어 주는 것\n",
    "- 단위변환, 자료형 변환"
   ]
  },
  {
   "cell_type": "code",
   "execution_count": 1,
   "metadata": {},
   "outputs": [],
   "source": [
    "# [1] 모듈 로딩 \n",
    "import pandas as pd "
   ]
  },
  {
   "cell_type": "code",
   "execution_count": 2,
   "metadata": {},
   "outputs": [],
   "source": [
    "# [2] 데이터 준비\n",
    "file_name='auto_mpg.csv'"
   ]
  },
  {
   "cell_type": "code",
   "execution_count": 3,
   "metadata": {},
   "outputs": [],
   "source": [
    "# [3] CSV 파일 ==> DataFrame 형태로 저장 \n",
    "mpgDF=pd.read_csv(file_name)"
   ]
  },
  {
   "cell_type": "code",
   "execution_count": 4,
   "metadata": {},
   "outputs": [
    {
     "name": "stdout",
     "output_type": "stream",
     "text": [
      "<class 'pandas.core.frame.DataFrame'>\n",
      "RangeIndex: 398 entries, 0 to 397\n",
      "Data columns (total 9 columns):\n",
      " #   Column        Non-Null Count  Dtype  \n",
      "---  ------        --------------  -----  \n",
      " 0   mpg           398 non-null    float64\n",
      " 1   cylinders     398 non-null    int64  \n",
      " 2   displacement  398 non-null    float64\n",
      " 3   horsepower    398 non-null    object \n",
      " 4   weight        398 non-null    int64  \n",
      " 5   acceleration  398 non-null    float64\n",
      " 6   model year    398 non-null    int64  \n",
      " 7   origin        398 non-null    int64  \n",
      " 8   car name      398 non-null    object \n",
      "dtypes: float64(3), int64(4), object(2)\n",
      "memory usage: 28.1+ KB\n"
     ]
    }
   ],
   "source": [
    "# [4] 데이터 확인 \n",
    "# - 기본 정보 확인 \n",
    "mpgDF.info()"
   ]
  },
  {
   "cell_type": "code",
   "execution_count": 5,
   "metadata": {},
   "outputs": [
    {
     "name": "stdout",
     "output_type": "stream",
     "text": [
      "    mpg  cylinders  displacement horsepower  weight  acceleration  model year  \\\n",
      "0  18.0          8         307.0        130    3504          12.0          70   \n",
      "1  15.0          8         350.0        165    3693          11.5          70   \n",
      "\n",
      "   origin                   car name  \n",
      "0       1  chevrolet chevelle malibu  \n",
      "1       1          buick skylark 320  \n",
      "\n",
      "      mpg  cylinders  displacement horsepower  weight  acceleration  \\\n",
      "396  28.0          4         120.0         79    2625          18.6   \n",
      "397  31.0          4         119.0         82    2720          19.4   \n",
      "\n",
      "     model year  origin     car name  \n",
      "396          82       1  ford ranger  \n",
      "397          82       1   chevy s-10  \n"
     ]
    }
   ],
   "source": [
    "# - 컬럼과 실제 데이터 타입 확인\n",
    "print(mpgDF.head(2), mpgDF.tail(2), sep='\\n\\n')"
   ]
  },
  {
   "cell_type": "code",
   "execution_count": 6,
   "metadata": {},
   "outputs": [
    {
     "data": {
      "text/html": [
       "<div>\n",
       "<style scoped>\n",
       "    .dataframe tbody tr th:only-of-type {\n",
       "        vertical-align: middle;\n",
       "    }\n",
       "\n",
       "    .dataframe tbody tr th {\n",
       "        vertical-align: top;\n",
       "    }\n",
       "\n",
       "    .dataframe thead th {\n",
       "        text-align: right;\n",
       "    }\n",
       "</style>\n",
       "<table border=\"1\" class=\"dataframe\">\n",
       "  <thead>\n",
       "    <tr style=\"text-align: right;\">\n",
       "      <th></th>\n",
       "      <th>mpg</th>\n",
       "      <th>cylinders</th>\n",
       "      <th>displacement</th>\n",
       "      <th>weight</th>\n",
       "      <th>acceleration</th>\n",
       "      <th>model year</th>\n",
       "      <th>origin</th>\n",
       "    </tr>\n",
       "  </thead>\n",
       "  <tbody>\n",
       "    <tr>\n",
       "      <th>count</th>\n",
       "      <td>398.000000</td>\n",
       "      <td>398.000000</td>\n",
       "      <td>398.000000</td>\n",
       "      <td>398.000000</td>\n",
       "      <td>398.000000</td>\n",
       "      <td>398.000000</td>\n",
       "      <td>398.000000</td>\n",
       "    </tr>\n",
       "    <tr>\n",
       "      <th>mean</th>\n",
       "      <td>23.514573</td>\n",
       "      <td>5.454774</td>\n",
       "      <td>193.425879</td>\n",
       "      <td>2970.424623</td>\n",
       "      <td>15.568090</td>\n",
       "      <td>76.010050</td>\n",
       "      <td>1.572864</td>\n",
       "    </tr>\n",
       "    <tr>\n",
       "      <th>std</th>\n",
       "      <td>7.815984</td>\n",
       "      <td>1.701004</td>\n",
       "      <td>104.269838</td>\n",
       "      <td>846.841774</td>\n",
       "      <td>2.757689</td>\n",
       "      <td>3.697627</td>\n",
       "      <td>0.802055</td>\n",
       "    </tr>\n",
       "    <tr>\n",
       "      <th>min</th>\n",
       "      <td>9.000000</td>\n",
       "      <td>3.000000</td>\n",
       "      <td>68.000000</td>\n",
       "      <td>1613.000000</td>\n",
       "      <td>8.000000</td>\n",
       "      <td>70.000000</td>\n",
       "      <td>1.000000</td>\n",
       "    </tr>\n",
       "    <tr>\n",
       "      <th>25%</th>\n",
       "      <td>17.500000</td>\n",
       "      <td>4.000000</td>\n",
       "      <td>104.250000</td>\n",
       "      <td>2223.750000</td>\n",
       "      <td>13.825000</td>\n",
       "      <td>73.000000</td>\n",
       "      <td>1.000000</td>\n",
       "    </tr>\n",
       "    <tr>\n",
       "      <th>50%</th>\n",
       "      <td>23.000000</td>\n",
       "      <td>4.000000</td>\n",
       "      <td>148.500000</td>\n",
       "      <td>2803.500000</td>\n",
       "      <td>15.500000</td>\n",
       "      <td>76.000000</td>\n",
       "      <td>1.000000</td>\n",
       "    </tr>\n",
       "    <tr>\n",
       "      <th>75%</th>\n",
       "      <td>29.000000</td>\n",
       "      <td>8.000000</td>\n",
       "      <td>262.000000</td>\n",
       "      <td>3608.000000</td>\n",
       "      <td>17.175000</td>\n",
       "      <td>79.000000</td>\n",
       "      <td>2.000000</td>\n",
       "    </tr>\n",
       "    <tr>\n",
       "      <th>max</th>\n",
       "      <td>46.600000</td>\n",
       "      <td>8.000000</td>\n",
       "      <td>455.000000</td>\n",
       "      <td>5140.000000</td>\n",
       "      <td>24.800000</td>\n",
       "      <td>82.000000</td>\n",
       "      <td>3.000000</td>\n",
       "    </tr>\n",
       "  </tbody>\n",
       "</table>\n",
       "</div>"
      ],
      "text/plain": [
       "              mpg   cylinders  displacement       weight  acceleration  \\\n",
       "count  398.000000  398.000000    398.000000   398.000000    398.000000   \n",
       "mean    23.514573    5.454774    193.425879  2970.424623     15.568090   \n",
       "std      7.815984    1.701004    104.269838   846.841774      2.757689   \n",
       "min      9.000000    3.000000     68.000000  1613.000000      8.000000   \n",
       "25%     17.500000    4.000000    104.250000  2223.750000     13.825000   \n",
       "50%     23.000000    4.000000    148.500000  2803.500000     15.500000   \n",
       "75%     29.000000    8.000000    262.000000  3608.000000     17.175000   \n",
       "max     46.600000    8.000000    455.000000  5140.000000     24.800000   \n",
       "\n",
       "       model year      origin  \n",
       "count  398.000000  398.000000  \n",
       "mean    76.010050    1.572864  \n",
       "std      3.697627    0.802055  \n",
       "min     70.000000    1.000000  \n",
       "25%     73.000000    1.000000  \n",
       "50%     76.000000    1.000000  \n",
       "75%     79.000000    2.000000  \n",
       "max     82.000000    3.000000  "
      ]
     },
     "execution_count": 6,
     "metadata": {},
     "output_type": "execute_result"
    }
   ],
   "source": [
    "# - 컬럼별 데이터 분포 확인\n",
    "mpgDF.describe()"
   ]
  },
  {
   "cell_type": "code",
   "execution_count": 7,
   "metadata": {},
   "outputs": [
    {
     "data": {
      "text/plain": [
       "mpg             0\n",
       "cylinders       0\n",
       "displacement    0\n",
       "horsepower      0\n",
       "weight          0\n",
       "acceleration    0\n",
       "model year      0\n",
       "origin          0\n",
       "car name        0\n",
       "dtype: int64"
      ]
     },
     "execution_count": 7,
     "metadata": {},
     "output_type": "execute_result"
    }
   ],
   "source": [
    "# [5] 데이터 전처리\n",
    "# - [5-1] 결측치 체크\n",
    "mpgDF.isna().sum()"
   ]
  },
  {
   "cell_type": "code",
   "execution_count": 8,
   "metadata": {},
   "outputs": [
    {
     "data": {
      "text/plain": [
       "np.int64(0)"
      ]
     },
     "execution_count": 8,
     "metadata": {},
     "output_type": "execute_result"
    }
   ],
   "source": [
    "# - [5-2] 중복데이터 \n",
    "mpgDF.duplicated().sum()"
   ]
  },
  {
   "cell_type": "code",
   "execution_count": 9,
   "metadata": {},
   "outputs": [
    {
     "name": "stdout",
     "output_type": "stream",
     "text": [
      "<class 'pandas.core.frame.DataFrame'>\n",
      "RangeIndex: 398 entries, 0 to 397\n",
      "Data columns (total 10 columns):\n",
      " #   Column        Non-Null Count  Dtype  \n",
      "---  ------        --------------  -----  \n",
      " 0   mpg           398 non-null    float64\n",
      " 1   cylinders     398 non-null    int64  \n",
      " 2   displacement  398 non-null    float64\n",
      " 3   horsepower    398 non-null    object \n",
      " 4   weight        398 non-null    int64  \n",
      " 5   acceleration  398 non-null    float64\n",
      " 6   model year    398 non-null    int64  \n",
      " 7   origin        398 non-null    int64  \n",
      " 8   car name      398 non-null    object \n",
      " 9   kpl           398 non-null    float64\n",
      "dtypes: float64(4), int64(4), object(2)\n",
      "memory usage: 31.2+ KB\n"
     ]
    }
   ],
   "source": [
    "# - [5-3] 단위 변환 표준화 mpg ===> kpl 컬럼 추가 \n",
    "mpgDF['kpl']=mpgDF.mpg * 0.425144\n",
    "mpgDF.info()"
   ]
  },
  {
   "cell_type": "code",
   "execution_count": 10,
   "metadata": {},
   "outputs": [
    {
     "data": {
      "text/plain": [
       "np.int64(6)"
      ]
     },
     "execution_count": 10,
     "metadata": {},
     "output_type": "execute_result"
    }
   ],
   "source": [
    "# - [5-4] 자료형 변환 표준화 \n",
    "# - horsepower object ==> int \n",
    "# mpgDF['horsepower'].astype('int64')\n",
    "mpgDF['horsepower'].value_counts()['?']"
   ]
  },
  {
   "cell_type": "code",
   "execution_count": 11,
   "metadata": {},
   "outputs": [
    {
     "name": "stderr",
     "output_type": "stream",
     "text": [
      "C:\\Users\\KDP-23\\AppData\\Local\\Temp\\ipykernel_14712\\2305815332.py:4: FutureWarning: A value is trying to be set on a copy of a DataFrame or Series through chained assignment using an inplace method.\n",
      "The behavior will change in pandas 3.0. This inplace method will never work because the intermediate object on which we are setting values always behaves as a copy.\n",
      "\n",
      "For example, when doing 'df[col].method(value, inplace=True)', try using 'df.method({col: value}, inplace=True)' or df[col] = df[col].method(value) instead, to perform the operation inplace on the original object.\n",
      "\n",
      "\n",
      "  mpgDF['horsepower'].replace('?', np.nan, inplace=True)\n"
     ]
    }
   ],
   "source": [
    "# 데이터를 변경해주는 메서드 => replace()\n",
    "import numpy as np   \n",
    "\n",
    "mpgDF['horsepower'].replace('?', np.nan, inplace=True)"
   ]
  },
  {
   "cell_type": "code",
   "execution_count": 12,
   "metadata": {},
   "outputs": [
    {
     "data": {
      "text/plain": [
       "mpg             0\n",
       "cylinders       0\n",
       "displacement    0\n",
       "horsepower      6\n",
       "weight          0\n",
       "acceleration    0\n",
       "model year      0\n",
       "origin          0\n",
       "car name        0\n",
       "kpl             0\n",
       "dtype: int64"
      ]
     },
     "execution_count": 12,
     "metadata": {},
     "output_type": "execute_result"
    }
   ],
   "source": [
    "mpgDF.isna().sum()"
   ]
  },
  {
   "cell_type": "code",
   "execution_count": 13,
   "metadata": {},
   "outputs": [
    {
     "name": "stdout",
     "output_type": "stream",
     "text": [
      "<class 'pandas.core.frame.DataFrame'>\n",
      "Index: 392 entries, 0 to 397\n",
      "Data columns (total 10 columns):\n",
      " #   Column        Non-Null Count  Dtype  \n",
      "---  ------        --------------  -----  \n",
      " 0   mpg           392 non-null    float64\n",
      " 1   cylinders     392 non-null    int64  \n",
      " 2   displacement  392 non-null    float64\n",
      " 3   horsepower    392 non-null    object \n",
      " 4   weight        392 non-null    int64  \n",
      " 5   acceleration  392 non-null    float64\n",
      " 6   model year    392 non-null    int64  \n",
      " 7   origin        392 non-null    int64  \n",
      " 8   car name      392 non-null    object \n",
      " 9   kpl           392 non-null    float64\n",
      "dtypes: float64(4), int64(4), object(2)\n",
      "memory usage: 33.7+ KB\n"
     ]
    }
   ],
   "source": [
    "mpgDF2=mpgDF.dropna().copy()\n",
    "mpgDF2.info()"
   ]
  },
  {
   "cell_type": "code",
   "execution_count": 14,
   "metadata": {},
   "outputs": [],
   "source": [
    "mpgDF2['horsepower']=mpgDF2['horsepower'].astype('int64')"
   ]
  },
  {
   "cell_type": "code",
   "execution_count": 15,
   "metadata": {},
   "outputs": [
    {
     "name": "stdout",
     "output_type": "stream",
     "text": [
      "<class 'pandas.core.frame.DataFrame'>\n",
      "Index: 392 entries, 0 to 397\n",
      "Data columns (total 10 columns):\n",
      " #   Column        Non-Null Count  Dtype  \n",
      "---  ------        --------------  -----  \n",
      " 0   mpg           392 non-null    float64\n",
      " 1   cylinders     392 non-null    int64  \n",
      " 2   displacement  392 non-null    float64\n",
      " 3   horsepower    392 non-null    int64  \n",
      " 4   weight        392 non-null    int64  \n",
      " 5   acceleration  392 non-null    float64\n",
      " 6   model year    392 non-null    int64  \n",
      " 7   origin        392 non-null    int64  \n",
      " 8   car name      392 non-null    object \n",
      " 9   kpl           392 non-null    float64\n",
      "dtypes: float64(4), int64(5), object(1)\n",
      "memory usage: 33.7+ KB\n"
     ]
    }
   ],
   "source": [
    "mpgDF2.info()"
   ]
  },
  {
   "cell_type": "code",
   "execution_count": 16,
   "metadata": {},
   "outputs": [
    {
     "name": "stdout",
     "output_type": "stream",
     "text": [
      "<class 'pandas.core.frame.DataFrame'>\n",
      "Index: 392 entries, 0 to 397\n",
      "Data columns (total 10 columns):\n",
      " #   Column        Non-Null Count  Dtype   \n",
      "---  ------        --------------  -----   \n",
      " 0   mpg           392 non-null    float64 \n",
      " 1   cylinders     392 non-null    category\n",
      " 2   displacement  392 non-null    float64 \n",
      " 3   horsepower    392 non-null    int64   \n",
      " 4   weight        392 non-null    int64   \n",
      " 5   acceleration  392 non-null    float64 \n",
      " 6   model year    392 non-null    int64   \n",
      " 7   origin        392 non-null    category\n",
      " 8   car name      392 non-null    object  \n",
      " 9   kpl           392 non-null    float64 \n",
      "dtypes: category(2), float64(4), int64(3), object(1)\n",
      "memory usage: 28.7+ KB\n"
     ]
    }
   ],
   "source": [
    "# - [5-5] 컬럼별 데이터의 특성 확인 후 자료형 변환 표준화 \n",
    "# - 'cylinders' ==> 데이터를 분류/그룹 가능 ==> 범주형 \n",
    "# - 'origin'    ==> 데이터를 분류/그룹 가능 ==> 범주형 \n",
    "mpgDF2['cylinders']=mpgDF2['cylinders'].astype('category')\n",
    "mpgDF2['origin']=mpgDF2['origin'].astype('category')\n",
    "\n",
    "mpgDF2.info()"
   ]
  },
  {
   "cell_type": "code",
   "execution_count": 17,
   "metadata": {},
   "outputs": [],
   "source": [
    "# - [5-6] 컬럼별 데이터의 특성 확인 후 데이터 변환 \n",
    "# - 'horsepower' ==> 저출력-일반출력-고출력 ==> 범주형 : cut() 메서드\n",
    "hp=pd.cut(mpgDF2['horsepower'], \n",
    "       bins=3, \n",
    "       labels=['저출력', '일반출력', '고출력'])"
   ]
  },
  {
   "cell_type": "code",
   "execution_count": 18,
   "metadata": {},
   "outputs": [],
   "source": [
    "mpgDF2['horsepower_range']=hp"
   ]
  },
  {
   "cell_type": "code",
   "execution_count": 19,
   "metadata": {},
   "outputs": [
    {
     "name": "stdout",
     "output_type": "stream",
     "text": [
      "<class 'pandas.core.frame.DataFrame'>\n",
      "Index: 392 entries, 0 to 397\n",
      "Data columns (total 11 columns):\n",
      " #   Column            Non-Null Count  Dtype   \n",
      "---  ------            --------------  -----   \n",
      " 0   mpg               392 non-null    float64 \n",
      " 1   cylinders         392 non-null    category\n",
      " 2   displacement      392 non-null    float64 \n",
      " 3   horsepower        392 non-null    int64   \n",
      " 4   weight            392 non-null    int64   \n",
      " 5   acceleration      392 non-null    float64 \n",
      " 6   model year        392 non-null    int64   \n",
      " 7   origin            392 non-null    category\n",
      " 8   car name          392 non-null    object  \n",
      " 9   kpl               392 non-null    float64 \n",
      " 10  horsepower_range  392 non-null    category\n",
      "dtypes: category(3), float64(4), int64(3), object(1)\n",
      "memory usage: 29.2+ KB\n"
     ]
    }
   ],
   "source": [
    "mpgDF2.info()"
   ]
  },
  {
   "cell_type": "markdown",
   "metadata": {},
   "source": [
    "- [문자열 데이터를 분리 시켜주는 기능 => 컬럼 분리]\n",
    "    * 조건, 데이터가 str이어야 함!\n",
    "    * 형식 : Series.str.메서드()"
   ]
  },
  {
   "cell_type": "code",
   "execution_count": 20,
   "metadata": {},
   "outputs": [
    {
     "data": {
      "text/plain": [
       "0    [CHEVROLET, CHEVELLE, MALIBU]\n",
       "1            [BUICK, SKYLARK, 320]\n",
       "2            [PLYMOUTH, SATELLITE]\n",
       "Name: car name, dtype: object"
      ]
     },
     "execution_count": 20,
     "metadata": {},
     "output_type": "execute_result"
    }
   ],
   "source": [
    "namesSR=mpgDF2['car name'].str.upper().str.split()\n",
    "namesSR.head(3)"
   ]
  },
  {
   "cell_type": "code",
   "execution_count": 21,
   "metadata": {},
   "outputs": [
    {
     "data": {
      "text/html": [
       "<div>\n",
       "<style scoped>\n",
       "    .dataframe tbody tr th:only-of-type {\n",
       "        vertical-align: middle;\n",
       "    }\n",
       "\n",
       "    .dataframe tbody tr th {\n",
       "        vertical-align: top;\n",
       "    }\n",
       "\n",
       "    .dataframe thead th {\n",
       "        text-align: right;\n",
       "    }\n",
       "</style>\n",
       "<table border=\"1\" class=\"dataframe\">\n",
       "  <thead>\n",
       "    <tr style=\"text-align: right;\">\n",
       "      <th></th>\n",
       "      <th>0</th>\n",
       "      <th>1</th>\n",
       "      <th>2</th>\n",
       "      <th>3</th>\n",
       "      <th>4</th>\n",
       "      <th>5</th>\n",
       "    </tr>\n",
       "  </thead>\n",
       "  <tbody>\n",
       "    <tr>\n",
       "      <th>0</th>\n",
       "      <td>chevrolet</td>\n",
       "      <td>chevelle</td>\n",
       "      <td>malibu</td>\n",
       "      <td>None</td>\n",
       "      <td>None</td>\n",
       "      <td>None</td>\n",
       "    </tr>\n",
       "    <tr>\n",
       "      <th>1</th>\n",
       "      <td>buick</td>\n",
       "      <td>skylark</td>\n",
       "      <td>320</td>\n",
       "      <td>None</td>\n",
       "      <td>None</td>\n",
       "      <td>None</td>\n",
       "    </tr>\n",
       "    <tr>\n",
       "      <th>2</th>\n",
       "      <td>plymouth</td>\n",
       "      <td>satellite</td>\n",
       "      <td>None</td>\n",
       "      <td>None</td>\n",
       "      <td>None</td>\n",
       "      <td>None</td>\n",
       "    </tr>\n",
       "    <tr>\n",
       "      <th>3</th>\n",
       "      <td>amc</td>\n",
       "      <td>rebel</td>\n",
       "      <td>sst</td>\n",
       "      <td>None</td>\n",
       "      <td>None</td>\n",
       "      <td>None</td>\n",
       "    </tr>\n",
       "    <tr>\n",
       "      <th>4</th>\n",
       "      <td>ford</td>\n",
       "      <td>torino</td>\n",
       "      <td>None</td>\n",
       "      <td>None</td>\n",
       "      <td>None</td>\n",
       "      <td>None</td>\n",
       "    </tr>\n",
       "    <tr>\n",
       "      <th>...</th>\n",
       "      <td>...</td>\n",
       "      <td>...</td>\n",
       "      <td>...</td>\n",
       "      <td>...</td>\n",
       "      <td>...</td>\n",
       "      <td>...</td>\n",
       "    </tr>\n",
       "    <tr>\n",
       "      <th>393</th>\n",
       "      <td>ford</td>\n",
       "      <td>mustang</td>\n",
       "      <td>gl</td>\n",
       "      <td>None</td>\n",
       "      <td>None</td>\n",
       "      <td>None</td>\n",
       "    </tr>\n",
       "    <tr>\n",
       "      <th>394</th>\n",
       "      <td>vw</td>\n",
       "      <td>pickup</td>\n",
       "      <td>None</td>\n",
       "      <td>None</td>\n",
       "      <td>None</td>\n",
       "      <td>None</td>\n",
       "    </tr>\n",
       "    <tr>\n",
       "      <th>395</th>\n",
       "      <td>dodge</td>\n",
       "      <td>rampage</td>\n",
       "      <td>None</td>\n",
       "      <td>None</td>\n",
       "      <td>None</td>\n",
       "      <td>None</td>\n",
       "    </tr>\n",
       "    <tr>\n",
       "      <th>396</th>\n",
       "      <td>ford</td>\n",
       "      <td>ranger</td>\n",
       "      <td>None</td>\n",
       "      <td>None</td>\n",
       "      <td>None</td>\n",
       "      <td>None</td>\n",
       "    </tr>\n",
       "    <tr>\n",
       "      <th>397</th>\n",
       "      <td>chevy</td>\n",
       "      <td>s-10</td>\n",
       "      <td>None</td>\n",
       "      <td>None</td>\n",
       "      <td>None</td>\n",
       "      <td>None</td>\n",
       "    </tr>\n",
       "  </tbody>\n",
       "</table>\n",
       "<p>392 rows × 6 columns</p>\n",
       "</div>"
      ],
      "text/plain": [
       "             0          1       2     3     4     5\n",
       "0    chevrolet   chevelle  malibu  None  None  None\n",
       "1        buick    skylark     320  None  None  None\n",
       "2     plymouth  satellite    None  None  None  None\n",
       "3          amc      rebel     sst  None  None  None\n",
       "4         ford     torino    None  None  None  None\n",
       "..         ...        ...     ...   ...   ...   ...\n",
       "393       ford    mustang      gl  None  None  None\n",
       "394         vw     pickup    None  None  None  None\n",
       "395      dodge    rampage    None  None  None  None\n",
       "396       ford     ranger    None  None  None  None\n",
       "397      chevy       s-10    None  None  None  None\n",
       "\n",
       "[392 rows x 6 columns]"
      ]
     },
     "execution_count": 21,
     "metadata": {},
     "output_type": "execute_result"
    }
   ],
   "source": [
    "# - 나누어진 문자열을 하나씩 컬럼으로 분리\n",
    "mpgDF2['car name'].str.split(expand=True)"
   ]
  },
  {
   "cell_type": "code",
   "execution_count": 22,
   "metadata": {},
   "outputs": [
    {
     "name": "stdout",
     "output_type": "stream",
     "text": [
      "<class 'pandas.core.frame.DataFrame'>\n",
      "Index: 392 entries, 0 to 397\n",
      "Data columns (total 3 columns):\n",
      " #   Column  Non-Null Count  Dtype \n",
      "---  ------  --------------  ----- \n",
      " 0   0       392 non-null    object\n",
      " 1   1       390 non-null    object\n",
      " 2   2       194 non-null    object\n",
      "dtypes: object(3)\n",
      "memory usage: 12.2+ KB\n"
     ]
    }
   ],
   "source": [
    "namesDF=mpgDF2['car name'].str.split(expand=True, n=2)\n",
    "namesDF.info()"
   ]
  },
  {
   "cell_type": "markdown",
   "metadata": {},
   "source": [
    "- [DataFrame 연결하기]\n",
    "    * 함수 : pandas.concat([df1,df2,...])"
   ]
  },
  {
   "cell_type": "code",
   "execution_count": 23,
   "metadata": {},
   "outputs": [
    {
     "name": "stdout",
     "output_type": "stream",
     "text": [
      "<class 'pandas.core.frame.DataFrame'>\n",
      "Index: 392 entries, 0 to 397\n",
      "Data columns (total 14 columns):\n",
      " #   Column            Non-Null Count  Dtype   \n",
      "---  ------            --------------  -----   \n",
      " 0   mpg               392 non-null    float64 \n",
      " 1   cylinders         392 non-null    category\n",
      " 2   displacement      392 non-null    float64 \n",
      " 3   horsepower        392 non-null    int64   \n",
      " 4   weight            392 non-null    int64   \n",
      " 5   acceleration      392 non-null    float64 \n",
      " 6   model year        392 non-null    int64   \n",
      " 7   origin            392 non-null    category\n",
      " 8   car name          392 non-null    object  \n",
      " 9   kpl               392 non-null    float64 \n",
      " 10  horsepower_range  392 non-null    category\n",
      " 11  0                 392 non-null    object  \n",
      " 12  1                 390 non-null    object  \n",
      " 13  2                 194 non-null    object  \n",
      "dtypes: category(3), float64(4), int64(3), object(4)\n",
      "memory usage: 38.4+ KB\n"
     ]
    }
   ],
   "source": [
    "DF3=pd.concat([mpgDF2, namesDF], axis=1)\n",
    "DF3.info()"
   ]
  },
  {
   "cell_type": "code",
   "execution_count": 24,
   "metadata": {},
   "outputs": [
    {
     "name": "stdout",
     "output_type": "stream",
     "text": [
      "<class 'pandas.core.frame.DataFrame'>\n",
      "RangeIndex: 784 entries, 0 to 783\n",
      "Data columns (total 14 columns):\n",
      " #   Column            Non-Null Count  Dtype   \n",
      "---  ------            --------------  -----   \n",
      " 0   mpg               392 non-null    float64 \n",
      " 1   cylinders         392 non-null    category\n",
      " 2   displacement      392 non-null    float64 \n",
      " 3   horsepower        392 non-null    float64 \n",
      " 4   weight            392 non-null    float64 \n",
      " 5   acceleration      392 non-null    float64 \n",
      " 6   model year        392 non-null    float64 \n",
      " 7   origin            392 non-null    category\n",
      " 8   car name          392 non-null    object  \n",
      " 9   kpl               392 non-null    float64 \n",
      " 10  horsepower_range  392 non-null    category\n",
      " 11  0                 392 non-null    object  \n",
      " 12  1                 390 non-null    object  \n",
      " 13  2                 194 non-null    object  \n",
      "dtypes: category(3), float64(7), object(4)\n",
      "memory usage: 70.3+ KB\n"
     ]
    }
   ],
   "source": [
    "# - 행 방향 연결 시 인덱스 다시 정리 필요 \n",
    "# - 매개변수 ignore_index=True\n",
    "DF4=pd.concat([mpgDF2, namesDF], ignore_index=True)\n",
    "DF4.info()"
   ]
  },
  {
   "cell_type": "code",
   "execution_count": 25,
   "metadata": {},
   "outputs": [
    {
     "data": {
      "text/html": [
       "<div>\n",
       "<style scoped>\n",
       "    .dataframe tbody tr th:only-of-type {\n",
       "        vertical-align: middle;\n",
       "    }\n",
       "\n",
       "    .dataframe tbody tr th {\n",
       "        vertical-align: top;\n",
       "    }\n",
       "\n",
       "    .dataframe thead th {\n",
       "        text-align: right;\n",
       "    }\n",
       "</style>\n",
       "<table border=\"1\" class=\"dataframe\">\n",
       "  <thead>\n",
       "    <tr style=\"text-align: right;\">\n",
       "      <th></th>\n",
       "      <th>mpg</th>\n",
       "      <th>cylinders</th>\n",
       "      <th>displacement</th>\n",
       "      <th>horsepower</th>\n",
       "      <th>weight</th>\n",
       "      <th>acceleration</th>\n",
       "      <th>model year</th>\n",
       "      <th>origin</th>\n",
       "      <th>car name</th>\n",
       "      <th>kpl</th>\n",
       "      <th>horsepower_range</th>\n",
       "      <th>0</th>\n",
       "      <th>1</th>\n",
       "      <th>2</th>\n",
       "    </tr>\n",
       "  </thead>\n",
       "  <tbody>\n",
       "    <tr>\n",
       "      <th>782</th>\n",
       "      <td>NaN</td>\n",
       "      <td>NaN</td>\n",
       "      <td>NaN</td>\n",
       "      <td>NaN</td>\n",
       "      <td>NaN</td>\n",
       "      <td>NaN</td>\n",
       "      <td>NaN</td>\n",
       "      <td>NaN</td>\n",
       "      <td>NaN</td>\n",
       "      <td>NaN</td>\n",
       "      <td>NaN</td>\n",
       "      <td>ford</td>\n",
       "      <td>ranger</td>\n",
       "      <td>None</td>\n",
       "    </tr>\n",
       "    <tr>\n",
       "      <th>783</th>\n",
       "      <td>NaN</td>\n",
       "      <td>NaN</td>\n",
       "      <td>NaN</td>\n",
       "      <td>NaN</td>\n",
       "      <td>NaN</td>\n",
       "      <td>NaN</td>\n",
       "      <td>NaN</td>\n",
       "      <td>NaN</td>\n",
       "      <td>NaN</td>\n",
       "      <td>NaN</td>\n",
       "      <td>NaN</td>\n",
       "      <td>chevy</td>\n",
       "      <td>s-10</td>\n",
       "      <td>None</td>\n",
       "    </tr>\n",
       "  </tbody>\n",
       "</table>\n",
       "</div>"
      ],
      "text/plain": [
       "     mpg cylinders  displacement  horsepower  weight  acceleration  \\\n",
       "782  NaN       NaN           NaN         NaN     NaN           NaN   \n",
       "783  NaN       NaN           NaN         NaN     NaN           NaN   \n",
       "\n",
       "     model year origin car name  kpl horsepower_range      0       1     2  \n",
       "782         NaN    NaN      NaN  NaN              NaN   ford  ranger  None  \n",
       "783         NaN    NaN      NaN  NaN              NaN  chevy    s-10  None  "
      ]
     },
     "execution_count": 25,
     "metadata": {},
     "output_type": "execute_result"
    }
   ],
   "source": [
    "DF4.tail(2)"
   ]
  }
 ],
 "metadata": {
  "kernelspec": {
   "display_name": "PY39",
   "language": "python",
   "name": "python3"
  },
  "language_info": {
   "codemirror_mode": {
    "name": "ipython",
    "version": 3
   },
   "file_extension": ".py",
   "mimetype": "text/x-python",
   "name": "python",
   "nbconvert_exporter": "python",
   "pygments_lexer": "ipython3",
   "version": "3.9.19"
  }
 },
 "nbformat": 4,
 "nbformat_minor": 2
}
