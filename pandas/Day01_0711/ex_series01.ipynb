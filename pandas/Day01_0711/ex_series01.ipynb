{
 "cells": [
  {
   "cell_type": "markdown",
   "metadata": {
    "vscode": {
     "languageId": "plaintext"
    }
   },
   "source": [
    "### Series 데이터 자료형  \n",
    "- 판다스에서 1줄의 데이터를 저장하는 자료형/데이터 타입\n",
    "- 형식 : pandas.Series()\n",
    "- 구성 : Index+Data"
   ]
  },
  {
   "cell_type": "code",
   "execution_count": 1,
   "metadata": {},
   "outputs": [],
   "source": [
    "# 모듈로딩\n",
    "import pandas as pd"
   ]
  },
  {
   "cell_type": "code",
   "execution_count": 2,
   "metadata": {},
   "outputs": [],
   "source": [
    "# 시리즈 데이터 생성\n",
    "sr1=pd.Series([10,20.,'30']) # 정수는 정수 int64로, 실수는 float64 타입으로, str은 object.타입으로 저장, 그리고 시리즈 이기에 순서에 대한 정보 저장\n",
    "#                           > 이 뒤에 (, index=['아무 문자', '아무 문자'])로 앞에서 차례대로 key값처럼 대입된다. >> 0 1 2 이 자리에 대입됨"
   ]
  },
  {
   "cell_type": "code",
   "execution_count": 3,
   "metadata": {},
   "outputs": [
    {
     "name": "stdout",
     "output_type": "stream",
     "text": [
      "0      10\n",
      "1    20.0\n",
      "2      30\n",
      "dtype: object\n"
     ]
    }
   ],
   "source": [
    "print(sr1)  # >>> 리스트 파일 중 젤 큰 데이터가 str 이기에 다른 요소들도 str기준으로 저장되있기에 타입은 object으로 된다. "
   ]
  },
  {
   "cell_type": "markdown",
   "metadata": {},
   "source": [
    "배열-->> 파이썬에는 없다. 해주는 패키지 >>Numpy "
   ]
  },
  {
   "cell_type": "code",
   "execution_count": 4,
   "metadata": {},
   "outputs": [
    {
     "data": {
      "text/plain": [
       "RangeIndex(start=0, stop=3, step=1)"
      ]
     },
     "execution_count": 4,
     "metadata": {},
     "output_type": "execute_result"
    }
   ],
   "source": [
    "#인덱스 정보 읽기 ==> 변수명.속성명[index] >> range처험 시작, 끝(x+1,아님 그냥 갯수 정도??), 간격\n",
    "sr1.index\n"
   ]
  },
  {
   "cell_type": "code",
   "execution_count": 5,
   "metadata": {},
   "outputs": [
    {
     "data": {
      "text/plain": [
       "(array([10, 20.0, '30'], dtype=object), numpy.ndarray)"
      ]
     },
     "execution_count": 5,
     "metadata": {},
     "output_type": "execute_result"
    }
   ],
   "source": [
    "#값/데이터 정보 읽기 ==> 변수명.속성명[values]  >>>  # 데이터 타입 중 가장 큰 요소의 데이터 타입으로 바꾼다.(파일 손실하면서 줄일순 없기 때문에)\n",
    "sr1.values, type(sr1.values) # ndarray >> numpy에서 배열을 맞추어 줌"
   ]
  },
  {
   "cell_type": "code",
   "execution_count": 6,
   "metadata": {},
   "outputs": [
    {
     "data": {
      "text/plain": [
       "dtype('O')"
      ]
     },
     "execution_count": 6,
     "metadata": {},
     "output_type": "execute_result"
    }
   ],
   "source": [
    "# 데이터 타입 정보 읽기 ==> 변수명.속성명[dtype]\n",
    "sr1.dtype  # 지금은 str에 맞추어져있기에 object 타입이 됨으로 >> 'O'"
   ]
  },
  {
   "cell_type": "code",
   "execution_count": 7,
   "metadata": {},
   "outputs": [
    {
     "data": {
      "text/plain": [
       "1"
      ]
     },
     "execution_count": 7,
     "metadata": {},
     "output_type": "execute_result"
    }
   ],
   "source": [
    "#데이터의 차원 정보 읽기 ==> 변수명.속성명[ndim] >> Series의 차원은 1차원\n",
    "sr1.ndim"
   ]
  }
 ],
 "metadata": {
  "kernelspec": {
   "display_name": "py39",
   "language": "python",
   "name": "python3"
  },
  "language_info": {
   "codemirror_mode": {
    "name": "ipython",
    "version": 3
   },
   "file_extension": ".py",
   "mimetype": "text/x-python",
   "name": "python",
   "nbconvert_exporter": "python",
   "pygments_lexer": "ipython3",
   "version": "3.9.19"
  }
 },
 "nbformat": 4,
 "nbformat_minor": 2
}
