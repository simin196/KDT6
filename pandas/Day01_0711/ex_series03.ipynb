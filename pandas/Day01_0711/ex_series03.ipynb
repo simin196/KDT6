{
 "cells": [
  {
   "cell_type": "markdown",
   "metadata": {
    "vscode": {
     "languageId": "plaintext"
    }
   },
   "source": [
    "### Series 데이터 자료형  \n",
    "- 판다스에서 1줄의 데이터를 저장하는 자료형/데이터 타입\n",
    "- 형식 : pandas.Series()\n",
    "- 구성 : 인데스+테이터"
   ]
  },
  {
   "cell_type": "code",
   "execution_count": 11,
   "metadata": {},
   "outputs": [],
   "source": [
    "# 모듈로딩\n",
    "import pandas as pd"
   ]
  },
  {
   "cell_type": "code",
   "execution_count": 12,
   "metadata": {},
   "outputs": [],
   "source": [
    "# 데이터 준비 [딕셔너리]\n",
    "jumsu={'국어':98,'영어':100,'체육':100,'과학':89}"
   ]
  },
  {
   "cell_type": "code",
   "execution_count": 13,
   "metadata": {},
   "outputs": [
    {
     "data": {
      "text/plain": [
       "국어     98\n",
       "영어    100\n",
       "체육    100\n",
       "과학     89\n",
       "dtype: int64"
      ]
     },
     "execution_count": 13,
     "metadata": {},
     "output_type": "execute_result"
    }
   ],
   "source": [
    "# 시리즈 객체 생성 \n",
    "jumsuSR=pd.Series(jumsu)\n",
    "jumsuSR"
   ]
  },
  {
   "cell_type": "code",
   "execution_count": 14,
   "metadata": {},
   "outputs": [
    {
     "name": "stdout",
     "output_type": "stream",
     "text": [
      "Index :  Index(['국어', '영어', '체육', '과학'], dtype='object')\n",
      "Values :  [ 98 100 100  89]\n",
      "dtype :  int64\n",
      "ndim :  1\n"
     ]
    }
   ],
   "source": [
    "# 시리즈 객체의 속성 출력 ==> index, values, dtype, ndim\n",
    "print(\"Index : \", jumsuSR.index )\n",
    "print(\"Values : \", jumsuSR.values )\n",
    "print(\"dtype : \", jumsuSR.dtype ) # value값을 따라간다.\n",
    "print(\"ndim : \", jumsuSR.ndim )"
   ]
  },
  {
   "cell_type": "code",
   "execution_count": 15,
   "metadata": {},
   "outputs": [
    {
     "data": {
      "text/plain": [
       "np.int64(98)"
      ]
     },
     "execution_count": 15,
     "metadata": {},
     "output_type": "execute_result"
    }
   ],
   "source": [
    "## 원소 읽기\n",
    "# 1개 원소 읽기\n",
    "jumsuSR['국어']"
   ]
  },
  {
   "cell_type": "code",
   "execution_count": 16,
   "metadata": {},
   "outputs": [
    {
     "data": {
      "text/plain": [
       "국어    98\n",
       "과학    89\n",
       "dtype: int64"
      ]
     },
     "execution_count": 16,
     "metadata": {},
     "output_type": "execute_result"
    }
   ],
   "source": [
    "# 2개 원소 읽기 -> 국어, 과학 점수\n",
    "jumsuSR[['국어','과학']]"
   ]
  },
  {
   "cell_type": "code",
   "execution_count": 17,
   "metadata": {},
   "outputs": [
    {
     "name": "stdout",
     "output_type": "stream",
     "text": [
      "국어     98\n",
      "영어    100\n",
      "체육    100\n",
      "과학     89\n",
      "dtype: int64\n",
      "-----------\n",
      "국어     98\n",
      "영어    100\n",
      "체육    100\n",
      "dtype: int64\n"
     ]
    }
   ],
   "source": [
    "# 국어, 영어, 체육 점수 읽기==>연속적으로있다 >>> 슬라이싱\n",
    "print(jumsuSR['국어':'과학'] )\n",
    "# 정수 인덱스일 경우 >> 시작 인덱스 : 끝 +1\n",
    "# 글자 인덱스일 경우 >> 시작 인덱스 : 끝\n",
    "print('-----------')\n",
    "print(jumsuSR['국어':'체육'])"
   ]
  },
  {
   "cell_type": "code",
   "execution_count": 18,
   "metadata": {},
   "outputs": [
    {
     "data": {
      "text/plain": [
       "국어     98\n",
       "체육    100\n",
       "dtype: int64"
      ]
     },
     "execution_count": 18,
     "metadata": {},
     "output_type": "execute_result"
    }
   ],
   "source": [
    "# 국어, 체육 점수 읽기  >>> 슬라이싱[시작: 끝: 간격] >>일반적으로 다름 끝+1 없음\n",
    "jumsuSR['국어':'체육':2]"
   ]
  },
  {
   "cell_type": "markdown",
   "metadata": {},
   "source": [
    "- [인덱스 & 인덱스레이블/네임]\n",
    ": 원소/요소를 식별하기 위한 속성"
   ]
  },
  {
   "cell_type": "code",
   "execution_count": 19,
   "metadata": {},
   "outputs": [
    {
     "data": {
      "text/plain": [
       "Index(['국어', '영어', '체육', '과학'], dtype='object')"
      ]
     },
     "execution_count": 19,
     "metadata": {},
     "output_type": "execute_result"
    }
   ],
   "source": [
    "## 인덱스 속성 --> 변수명.index\n",
    "jumsuSR.index"
   ]
  },
  {
   "cell_type": "code",
   "execution_count": 20,
   "metadata": {},
   "outputs": [
    {
     "name": "stdout",
     "output_type": "stream",
     "text": [
      "98 98 98\n",
      "100 100 100\n"
     ]
    },
    {
     "name": "stderr",
     "output_type": "stream",
     "text": [
      "C:\\Users\\KDP-23\\AppData\\Local\\Temp\\ipykernel_7988\\537898641.py:1: FutureWarning: Series.__getitem__ treating keys as positions is deprecated. In a future version, integer keys will always be treated as labels (consistent with DataFrame behavior). To access a value by position, use `ser.iloc[pos]`\n",
      "  print(jumsuSR['국어'],jumsuSR[0], jumsuSR.iloc[0] )\n",
      "C:\\Users\\KDP-23\\AppData\\Local\\Temp\\ipykernel_7988\\537898641.py:2: FutureWarning: Series.__getitem__ treating keys as positions is deprecated. In a future version, integer keys will always be treated as labels (consistent with DataFrame behavior). To access a value by position, use `ser.iloc[pos]`\n",
      "  print(jumsuSR['체육'],jumsuSR[2], jumsuSR.iloc[2] )\n"
     ]
    }
   ],
   "source": [
    "print(jumsuSR['국어'],jumsuSR[0], jumsuSR.iloc[0] )\n",
    "print(jumsuSR['체육'],jumsuSR[2], jumsuSR.iloc[2] )"
   ]
  }
 ],
 "metadata": {
  "kernelspec": {
   "display_name": "py39",
   "language": "python",
   "name": "python3"
  },
  "language_info": {
   "codemirror_mode": {
    "name": "ipython",
    "version": 3
   },
   "file_extension": ".py",
   "mimetype": "text/x-python",
   "name": "python",
   "nbconvert_exporter": "python",
   "pygments_lexer": "ipython3",
   "version": "3.9.19"
  }
 },
 "nbformat": 4,
 "nbformat_minor": 2
}
