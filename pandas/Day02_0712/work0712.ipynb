{
 "cells": [
  {
   "cell_type": "code",
   "execution_count": 1,
   "metadata": {},
   "outputs": [],
   "source": [
    "# 딕셔너리 >> 시리즈\n",
    "import pandas as pd"
   ]
  },
  {
   "cell_type": "code",
   "execution_count": 2,
   "metadata": {},
   "outputs": [],
   "source": [
    "dict_data={'a':1, 'b':2, 'c':3}\n",
    "sr=pd.Series(dict_data)"
   ]
  },
  {
   "cell_type": "code",
   "execution_count": 3,
   "metadata": {},
   "outputs": [
    {
     "name": "stdout",
     "output_type": "stream",
     "text": [
      "a    1\n",
      "b    2\n",
      "c    3\n",
      "dtype: int64 <class 'pandas.core.series.Series'>\n"
     ]
    }
   ],
   "source": [
    "print(sr, type(sr))"
   ]
  },
  {
   "cell_type": "code",
   "execution_count": 5,
   "metadata": {},
   "outputs": [
    {
     "name": "stdout",
     "output_type": "stream",
     "text": [
      "0    2019-01-02\n",
      "1          3.14\n",
      "2           ABC\n",
      "3           100\n",
      "4          True\n",
      "dtype: object\n",
      "-------\n",
      "RangeIndex(start=0, stop=5, step=1) ['2019-01-02' 3.14 'ABC' 100 True]\n"
     ]
    }
   ],
   "source": [
    "# 리스트 >> 시리즈\n",
    "list_data=['2019-01-02', 3.14, 'ABC', 100, True]\n",
    "sr=pd.Series(list_data)\n",
    "print(sr)\n",
    "print('-------')\n",
    "idx = sr.index\n",
    "val = sr.values\n",
    "print(idx, val)"
   ]
  },
  {
   "cell_type": "code",
   "execution_count": 7,
   "metadata": {},
   "outputs": [
    {
     "name": "stdout",
     "output_type": "stream",
     "text": [
      "이름              영인\n",
      "생년월일    2010-05-01\n",
      "성별               여\n",
      "학생여부          True\n",
      "dtype: object\n",
      "-----\n",
      "영인\n",
      "-----\n",
      "영인\n"
     ]
    },
    {
     "name": "stderr",
     "output_type": "stream",
     "text": [
      "C:\\Users\\KDP-23\\AppData\\Local\\Temp\\ipykernel_808\\2768303402.py:6: FutureWarning: Series.__getitem__ treating keys as positions is deprecated. In a future version, integer keys will always be treated as labels (consistent with DataFrame behavior). To access a value by position, use `ser.iloc[pos]`\n",
      "  print(sr[0])\n"
     ]
    }
   ],
   "source": [
    "#튜플 >> 시리즈\n",
    "tup_data = ('영인','2010-05-01','여',True)\n",
    "sr=pd.Series(tup_data, index=['이름','생년월일','성별','학생여부'])\n",
    "print(sr)\n",
    "print('-----')\n",
    "print(sr[0])\n",
    "print('-----')\n",
    "print(sr['이름'])"
   ]
  },
  {
   "cell_type": "code",
   "execution_count": 9,
   "metadata": {},
   "outputs": [
    {
     "name": "stdout",
     "output_type": "stream",
     "text": [
      "생년월일    2010-05-01\n",
      "성별               여\n",
      "dtype: object\n",
      "-----\n",
      "생년월일    2010-05-01\n",
      "성별               여\n",
      "dtype: object\n",
      "-----\n",
      "생년월일    2010-05-01\n",
      "dtype: object\n",
      "-----\n",
      "생년월일    2010-05-01\n",
      "성별               여\n",
      "dtype: object\n"
     ]
    },
    {
     "name": "stderr",
     "output_type": "stream",
     "text": [
      "C:\\Users\\KDP-23\\AppData\\Local\\Temp\\ipykernel_808\\46617516.py:2: FutureWarning: Series.__getitem__ treating keys as positions is deprecated. In a future version, integer keys will always be treated as labels (consistent with DataFrame behavior). To access a value by position, use `ser.iloc[pos]`\n",
      "  print(sr[[1,2]])\n"
     ]
    }
   ],
   "source": [
    "# 튜플 >> 시리즈 \n",
    "print(sr[[1,2]])\n",
    "print('-----')\n",
    "print(sr[['생년월일','성별']])\n",
    "print('-----')\n",
    "print(sr[1:2]) # 숫자는 끝 인덱스는 미포함\n",
    "print('-----')\n",
    "print(sr['생년월일':'성별']) # 글자는 끝 인덱스 모두포함"
   ]
  },
  {
   "cell_type": "code",
   "execution_count": 10,
   "metadata": {},
   "outputs": [
    {
     "name": "stdout",
     "output_type": "stream",
     "text": [
      "   c0  c1  c2  c3  c4\n",
      "0   1   4   7  10  13\n",
      "1   2   5   8  11  14\n",
      "2   3   6   9  12  15 <class 'pandas.core.frame.DataFrame'>\n"
     ]
    }
   ],
   "source": [
    "# 딕셔너리 >> 데이터프레임\n",
    "dict_data = {'c0':[1,2,3], 'c1':[4,5,6], 'c2':[7,8,9], 'c3':[10,11,12], 'c4':[13,14,15]}\n",
    "df= pd.DataFrame(dict_data)\n",
    "print(df, type(df))"
   ]
  },
  {
   "cell_type": "code",
   "execution_count": 11,
   "metadata": {},
   "outputs": [
    {
     "name": "stdout",
     "output_type": "stream",
     "text": [
      "df ========================\n",
      "     나이 성별   학교\n",
      "준서  15  남  덕영중\n",
      "예은  17  여  수리중\n",
      "df.index =>  Index(['준서', '예은'], dtype='object')\n",
      "df.column =>  Index(['나이', '성별', '학교'], dtype='object')\n"
     ]
    }
   ],
   "source": [
    "# 행 인덱스, 열 이름 설정\n",
    "df = pd.DataFrame([[15,'남','덕영중'],[17,'여','수리중']], index=['준서','예은'], columns=['나이','성별','학교'])\n",
    "print('df ========================\\n', df)\n",
    "print('df.index => ', df.index)  # 행 인덱스\n",
    "print('df.column => ', df.columns)  # 열 이름"
   ]
  },
  {
   "cell_type": "code",
   "execution_count": 13,
   "metadata": {},
   "outputs": [
    {
     "name": "stdout",
     "output_type": "stream",
     "text": [
      "     연령 남녀   소속\n",
      "학생1  15  남  덕영중\n",
      "학생2  17  여  수리중\n",
      "Index(['학생1', '학생2'], dtype='object')\n",
      "Index(['연령', '남녀', '소속'], dtype='object')\n"
     ]
    }
   ],
   "source": [
    "# 행 인덱스, 열 이름 변경\n",
    "df.index=['학생1','학생2']\n",
    "df.columns=['연령', '남녀', '소속']\n",
    "\n",
    "print(df)\n",
    "print(df.index)\n",
    "print(df.columns)\n"
   ]
  },
  {
   "cell_type": "code",
   "execution_count": 15,
   "metadata": {},
   "outputs": [
    {
     "name": "stdout",
     "output_type": "stream",
     "text": [
      "df======None\n",
      "      연령 남녀   소속\n",
      "학생1  15  남  덕영중\n",
      "학생2  17  여  수리중\n",
      "df2======\n",
      "      연령 남녀   소속\n",
      "학생1  15  남  덕영중\n",
      "학생2  17  여  수리중\n"
     ]
    }
   ],
   "source": [
    "# 행 인덱스, 열 이름 변경\n",
    "df2=df.rename(columns={'나이':'연령','성별':'남여','학교':'소속'})\n",
    "df3=df.rename(index={'준서':'학생1', '예은':'학생2' }, inplace=True)\n",
    "\n",
    "print(f'df======{df3}\\n {df}')\n",
    "print(f'df2======\\n {df2}')"
   ]
  },
  {
   "cell_type": "code",
   "execution_count": 17,
   "metadata": {},
   "outputs": [
    {
     "name": "stdout",
     "output_type": "stream",
     "text": [
      "    수학  영어   음악   체육\n",
      "서준  90  98   85  100\n",
      "우현  80  89   95   90\n",
      "인아  70  95  100   90\n",
      "------\n",
      "    수학  영어   음악   체육\n",
      "서준  90  98   85  100\n",
      "인아  70  95  100   90\n",
      "------\n",
      "    수학  영어  음악   체육\n",
      "서준  90  98  85  100\n"
     ]
    },
    {
     "name": "stderr",
     "output_type": "stream",
     "text": [
      "C:\\Users\\KDP-23\\AppData\\Local\\Temp\\ipykernel_808\\2179934132.py:8: SettingWithCopyWarning: \n",
      "A value is trying to be set on a copy of a slice from a DataFrame\n",
      "\n",
      "See the caveats in the documentation: https://pandas.pydata.org/pandas-docs/stable/user_guide/indexing.html#returning-a-view-versus-a-copy\n",
      "  df2.drop('우현', inplace=True)\n",
      "C:\\Users\\KDP-23\\AppData\\Local\\Temp\\ipykernel_808\\2179934132.py:12: SettingWithCopyWarning: \n",
      "A value is trying to be set on a copy of a slice from a DataFrame\n",
      "\n",
      "See the caveats in the documentation: https://pandas.pydata.org/pandas-docs/stable/user_guide/indexing.html#returning-a-view-versus-a-copy\n",
      "  df3.drop(['우현', '인아'], axis=0, inplace=True)\n"
     ]
    }
   ],
   "source": [
    "# 행 삭제\n",
    "exam_data = {'수학' : [ 90, 80, 70], '영어' : [ 98, 89, 95],\n",
    "'음악' : [ 85, 95, 100], '체육' : [ 100, 90, 90]}\n",
    "df = pd.DataFrame(exam_data, index=['서준', '우현', '인아'])\n",
    "print(df)\n",
    "print('------')\n",
    "df2 = df[:] # >>>>>>>>>>>>>>>>>>>>>>>>???? 야는 뭐꼬??\n",
    "df2.drop('우현', inplace=True)\n",
    "print(df2)\n",
    "print('------')\n",
    "df3 = df[:]\n",
    "df3.drop(['우현', '인아'], axis=0, inplace=True)\n",
    "print(df3)"
   ]
  },
  {
   "cell_type": "code",
   "execution_count": 18,
   "metadata": {},
   "outputs": [
    {
     "name": "stdout",
     "output_type": "stream",
     "text": [
      "    수학  영어   음악   체육\n",
      "서준  90  98   85  100\n",
      "우현  80  89   95   90\n",
      "인아  70  95  100   90\n",
      "-------\n",
      "    영어   음악   체육\n",
      "서준  98   85  100\n",
      "우현  89   95   90\n",
      "인아  95  100   90\n",
      "-------\n",
      "    수학   체육\n",
      "서준  90  100\n",
      "우현  80   90\n",
      "인아  70   90\n"
     ]
    },
    {
     "name": "stderr",
     "output_type": "stream",
     "text": [
      "C:\\Users\\KDP-23\\AppData\\Local\\Temp\\ipykernel_808\\1666599628.py:7: SettingWithCopyWarning: \n",
      "A value is trying to be set on a copy of a slice from a DataFrame\n",
      "\n",
      "See the caveats in the documentation: https://pandas.pydata.org/pandas-docs/stable/user_guide/indexing.html#returning-a-view-versus-a-copy\n",
      "  df4.drop('수학', axis=1, inplace=True)\n",
      "C:\\Users\\KDP-23\\AppData\\Local\\Temp\\ipykernel_808\\1666599628.py:11: SettingWithCopyWarning: \n",
      "A value is trying to be set on a copy of a slice from a DataFrame\n",
      "\n",
      "See the caveats in the documentation: https://pandas.pydata.org/pandas-docs/stable/user_guide/indexing.html#returning-a-view-versus-a-copy\n",
      "  df5.drop(['영어', '음악'], axis=1, inplace=True)\n"
     ]
    }
   ],
   "source": [
    "exam_data = {'수학' : [ 90, 80, 70], '영어' : [ 98, 89, 95],\n",
    "'음악' : [ 85, 95, 100], '체육' : [ 100, 90, 90]}\n",
    "df = pd.DataFrame(exam_data, index=['서준', '우현', '인아'])\n",
    "print(df)\n",
    "print('-------')\n",
    "df4 = df[:]\n",
    "df4.drop('수학', axis=1, inplace=True)\n",
    "print(df4)\n",
    "print('-------')\n",
    "df5 = df[:]\n",
    "df5.drop(['영어', '음악'], axis=1, inplace=True)\n",
    "print(df5)"
   ]
  },
  {
   "cell_type": "code",
   "execution_count": 20,
   "metadata": {},
   "outputs": [
    {
     "name": "stdout",
     "output_type": "stream",
     "text": [
      "df ==================\n",
      "     수학  영어   음악   체육\n",
      "서준  90  98   85  100\n",
      "우현  80  89   95   90\n",
      "인아  70  95  100   90\n",
      "-----\n",
      "label1=> \n",
      " 수학     90\n",
      "영어     98\n",
      "음악     85\n",
      "체육    100\n",
      "Name: 서준, dtype: int64\n",
      "-----\n",
      "position1 => \n",
      " 수학     90\n",
      "영어     98\n",
      "음악     85\n",
      "체육    100\n",
      "Name: 서준, dtype: int64\n",
      "-----\n"
     ]
    }
   ],
   "source": [
    "# 행 선택\n",
    "exam_data = {'수학' : [ 90, 80, 70], '영어' : [ 98, 89, 95],\n",
    "'음악' : [ 85, 95, 100], '체육' : [ 100, 90, 90]}\n",
    "df = pd.DataFrame(exam_data, index=['서준', '우현', '인아'])\n",
    "print('df ==================\\n', df )\n",
    "print('-----')\n",
    "label1 = df.loc['서준'] \n",
    "position1 = df.iloc[0]\n",
    "print('label1=> \\n', label1)\n",
    "print('-----')\n",
    "print('position1 => \\n', position1)\n",
    "print('-----')\n",
    "\n"
   ]
  },
  {
   "cell_type": "code",
   "execution_count": 21,
   "metadata": {},
   "outputs": [
    {
     "name": "stdout",
     "output_type": "stream",
     "text": [
      "    수학  영어  음악   체육\n",
      "서준  90  98  85  100\n",
      "우현  80  89  95   90\n",
      "-------\n",
      "    수학  영어  음악   체육\n",
      "서준  90  98  85  100\n",
      "우현  80  89  95   90\n",
      "-------\n",
      "    수학  영어  음악   체육\n",
      "서준  90  98  85  100\n",
      "우현  80  89  95   90\n",
      "-------\n",
      "    수학  영어  음악   체육\n",
      "서준  90  98  85  100\n"
     ]
    }
   ],
   "source": [
    "# 행 선택\n",
    "label2 = df.loc[['서준', '우현']]\n",
    "position2 = df.iloc[[0, 1]]\n",
    "print(label2)\n",
    "print('-------')\n",
    "print(position2)\n",
    "print('-------')\n",
    "label3 = df.loc['서준':'우현']\n",
    "position3 = df.iloc[0:1]\n",
    "print(label3)\n",
    "print('-------')\n",
    "print(position3)"
   ]
  },
  {
   "cell_type": "code",
   "execution_count": 22,
   "metadata": {},
   "outputs": [
    {
     "name": "stdout",
     "output_type": "stream",
     "text": [
      "   이름  수학  영어   음악   체육\n",
      "0  서준  90  98   85  100\n",
      "1  우현  80  89   95   90\n",
      "2  인아  70  95  100   90\n",
      "<class 'pandas.core.frame.DataFrame'>\n",
      "------\n",
      "0    90\n",
      "1    80\n",
      "2    70\n",
      "Name: 수학, dtype: int64\n",
      "<class 'pandas.core.series.Series'>\n",
      "------\n",
      "0    98\n",
      "1    89\n",
      "2    95\n",
      "Name: 영어, dtype: int64\n",
      "<class 'pandas.core.series.Series'>\n",
      "------\n",
      "    음악   체육\n",
      "0   85  100\n",
      "1   95   90\n",
      "2  100   90\n",
      "<class 'pandas.core.frame.DataFrame'>\n",
      "------\n",
      "   수학\n",
      "0  90\n",
      "1  80\n",
      "2  70\n",
      "<class 'pandas.core.frame.DataFrame'>\n"
     ]
    }
   ],
   "source": [
    "#열 선택\n",
    "exam_data = {'이름' : [ '서준', '우현', '인아'],\n",
    "'수학' : [ 90, 80, 70],\n",
    "'영어' : [ 98, 89, 95],\n",
    "'음악' : [ 85, 95, 100],\n",
    "'체육' : [ 100, 90, 90]}\n",
    "df = pd.DataFrame(exam_data)\n",
    "print(df)\n",
    "print(type(df))\n",
    "print('------')\n",
    "math1 = df['수학']\n",
    "print(math1)\n",
    "print(type(math1))\n",
    "print('------')\n",
    "english = df.영어\n",
    "print(english)\n",
    "print(type(english))\n",
    "print('------')\n",
    "music_gym = df[['음악', '체육']]\n",
    "print(music_gym)\n",
    "print(type(music_gym))\n",
    "print('------')\n",
    "math2 = df[['수학']]\n",
    "print(math2)\n",
    "print(type(math2))\n"
   ]
  },
  {
   "cell_type": "code",
   "execution_count": 24,
   "metadata": {},
   "outputs": [
    {
     "name": "stdout",
     "output_type": "stream",
     "text": [
      "    수학  영어   음악   체육\n",
      "이름                  \n",
      "서준  90  98   85  100\n",
      "우현  80  89   95   90\n",
      "인아  70  95  100   90\n",
      "85\n",
      "a----------\n",
      "85\n",
      "b----------\n",
      "음악     85\n",
      "체육    100\n",
      "Name: 서준, dtype: int64\n",
      "c----------\n",
      "음악     85\n",
      "체육    100\n",
      "Name: 서준, dtype: int64\n",
      "d----------\n",
      "음악     85\n",
      "체육    100\n",
      "Name: 서준, dtype: int64\n",
      "e----------\n",
      "음악     85\n",
      "체육    100\n",
      "Name: 서준, dtype: int64\n",
      "f----------\n",
      "    음악   체육\n",
      "이름         \n",
      "서준  85  100\n",
      "우현  95   90\n",
      "g----------\n",
      "    음악   체육\n",
      "이름         \n",
      "서준  85  100\n",
      "우현  95   90\n",
      "h----------\n",
      "    음악   체육\n",
      "이름         \n",
      "서준  85  100\n",
      "우현  95   90\n",
      "i----------\n",
      "    음악   체육\n",
      "이름         \n",
      "서준  85  100\n",
      "우현  95   90\n"
     ]
    }
   ],
   "source": [
    "# 원소 선택\n",
    "exam_data = {'이름' : [ '서준', '우현', '인아'],\n",
    "'수학' : [ 90, 80, 70],\n",
    "'영어' : [ 98, 89, 95],\n",
    "'음악' : [ 85, 95, 100],\n",
    "'체육' : [ 100, 90, 90]}\n",
    "df = pd.DataFrame(exam_data)\n",
    "df.set_index('이름', inplace=True)\n",
    "print(df)\n",
    "a = df.loc['서준', '음악']\n",
    "print(a)\n",
    "print('a----------')\n",
    "b = df.iloc[0, 2]\n",
    "print(b)\n",
    "print('b----------')\n",
    "c = df.loc['서준', ['음악', '체육']]\n",
    "print(c)\n",
    "print('c----------')\n",
    "d = df.iloc[0, [2, 3]]\n",
    "print(d)\n",
    "print('d----------')\n",
    "e = df.loc['서준', '음악':'체육']\n",
    "print(e)\n",
    "print('e----------')\n",
    "f = df.iloc[0, 2:]\n",
    "print(f)\n",
    "print('f----------')\n",
    "g = df.loc[['서준', '우현'], ['음악', '체육']]\n",
    "print(g)\n",
    "print('g----------')\n",
    "h = df.iloc[[0, 1], [2, 3]]\n",
    "print(h)\n",
    "print('h----------')\n",
    "i = df.loc['서준':'우현', '음악':'체육']\n",
    "print(i)\n",
    "print('i----------')\n",
    "j = df.iloc[0:2, 2:]\n",
    "print(j)\n"
   ]
  },
  {
   "cell_type": "code",
   "execution_count": 25,
   "metadata": {},
   "outputs": [
    {
     "name": "stdout",
     "output_type": "stream",
     "text": [
      "   이름  수학  영어   음악   체육\n",
      "0  서준  90  98   85  100\n",
      "1  우현  80  89   95   90\n",
      "2  인아  70  95  100   90\n",
      "-----------\n",
      "   이름  수학  영어   음악   체육  국어\n",
      "0  서준  90  98   85  100  80\n",
      "1  우현  80  89   95   90  80\n",
      "2  인아  70  95  100   90  80\n",
      "-----------\n"
     ]
    }
   ],
   "source": [
    "# 열 추가\n",
    "exam_data = {'이름' : [ '서준', '우현', '인아'],\n",
    "'수학' : [ 90, 80, 70],\n",
    "'영어' : [ 98, 89, 95],\n",
    "'음악' : [ 85, 95, 100],\n",
    "'체육' : [ 100, 90, 90]}\n",
    "df = pd.DataFrame(exam_data)\n",
    "print(df)\n",
    "print('-----------')\n",
    "df['국어'] = 80\n",
    "print(df)\n",
    "print('-----------')"
   ]
  },
  {
   "cell_type": "code",
   "execution_count": 26,
   "metadata": {},
   "outputs": [
    {
     "name": "stdout",
     "output_type": "stream",
     "text": [
      "   이름  수학  영어   음악   체육\n",
      "0  서준  90  98   85  100\n",
      "1  우현  80  89   95   90\n",
      "2  인아  70  95  100   90\n",
      "-----------\n",
      "   이름  수학  영어   음악   체육\n",
      "0  서준  90  98   85  100\n",
      "1  우현  80  89   95   90\n",
      "2  인아  70  95  100   90\n",
      "3   0   0   0    0    0\n",
      "-----------\n",
      "   이름  수학  영어   음악   체육\n",
      "0  서준  90  98   85  100\n",
      "1  우현  80  89   95   90\n",
      "2  인아  70  95  100   90\n",
      "3   0   0   0    0    0\n",
      "4  동규  90  80   70   60\n",
      "-----------\n",
      "    이름  수학  영어   음악   체육\n",
      "0   서준  90  98   85  100\n",
      "1   우현  80  89   95   90\n",
      "2   인아  70  95  100   90\n",
      "3    0   0   0    0    0\n",
      "4   동규  90  80   70   60\n",
      "행5   0   0   0    0    0\n"
     ]
    }
   ],
   "source": [
    "# 행 추가\n",
    "exam_data = {'이름' : ['서준', '우현', '인아'],\n",
    "'수학' : [ 90, 80, 70],\n",
    "'영어' : [ 98, 89, 95],\n",
    "'음악' : [ 85, 95, 100],\n",
    "'체육' : [ 100, 90, 90]}\n",
    "df = pd.DataFrame(exam_data)\n",
    "print(df)\n",
    "print('-----------')\n",
    "df.loc[3] = 0\n",
    "print(df)\n",
    "print('-----------')\n",
    "df.loc[4] = ['동규', 90, 80, 70, 60]\n",
    "print(df)\n",
    "print('-----------')\n",
    "df.loc['행5'] = df.loc[3]\n",
    "print(df)"
   ]
  },
  {
   "cell_type": "code",
   "execution_count": 28,
   "metadata": {},
   "outputs": [
    {
     "name": "stdout",
     "output_type": "stream",
     "text": [
      "   이름  수학  영어   음악   체육\n",
      "0  서준  90  98   85  100\n",
      "1  우현  80  89   95   90\n",
      "2  인아  70  95  100   90\n",
      "    수학  영어   음악   체육\n",
      "이름                  \n",
      "서준  90  98   85  100\n",
      "우현  80  89   95   90\n",
      "인아  70  95  100   90\n",
      "----------------\n",
      "    수학  영어   음악  체육\n",
      "이름                 \n",
      "서준  90  98   85  80\n",
      "우현  80  89   95  90\n",
      "인아  70  95  100  90\n",
      "----------------\n",
      "    수학  영어   음악  체육\n",
      "이름                 \n",
      "서준  90  98   85  90\n",
      "우현  80  89   95  90\n",
      "인아  70  95  100  90\n",
      "----------------\n",
      "    수학  영어   음악   체육\n",
      "이름                  \n",
      "서준  90  98   85  100\n",
      "우현  80  89   95   90\n",
      "인아  70  95  100   90\n",
      "----------------\n",
      "    수학  영어   음악  체육\n",
      "이름                 \n",
      "서준  90  98   50  50\n",
      "우현  80  89   95  90\n",
      "인아  70  95  100  90\n",
      "----------------\n",
      "    수학  영어   음악  체육\n",
      "이름                 \n",
      "서준  90  98  100  50\n",
      "우현  80  89   95  90\n",
      "인아  70  95  100  90\n"
     ]
    },
    {
     "name": "stderr",
     "output_type": "stream",
     "text": [
      "C:\\Users\\KDP-23\\AppData\\Local\\Temp\\ipykernel_808\\3105795636.py:13: FutureWarning: ChainedAssignmentError: behaviour will change in pandas 3.0!\n",
      "You are setting values through chained assignment. Currently this works in certain cases, but when using Copy-on-Write (which will become the default behaviour in pandas 3.0) this will never work to update the original DataFrame or Series, because the intermediate object on which we are setting values will behave as a copy.\n",
      "A typical example is when you are setting values in a column of a DataFrame, like:\n",
      "\n",
      "df[\"col\"][row_indexer] = value\n",
      "\n",
      "Use `df.loc[row_indexer, \"col\"] = values` instead, to perform the assignment in a single step and ensure this keeps updating the original `df`.\n",
      "\n",
      "See the caveats in the documentation: https://pandas.pydata.org/pandas-docs/stable/user_guide/indexing.html#returning-a-view-versus-a-copy\n",
      "\n",
      "  df.iloc[0][3] = 80\n",
      "C:\\Users\\KDP-23\\AppData\\Local\\Temp\\ipykernel_808\\3105795636.py:13: FutureWarning: Series.__setitem__ treating keys as positions is deprecated. In a future version, integer keys will always be treated as labels (consistent with DataFrame behavior). To set a value by position, use `ser.iloc[pos] = value`\n",
      "  df.iloc[0][3] = 80\n",
      "C:\\Users\\KDP-23\\AppData\\Local\\Temp\\ipykernel_808\\3105795636.py:16: FutureWarning: ChainedAssignmentError: behaviour will change in pandas 3.0!\n",
      "You are setting values through chained assignment. Currently this works in certain cases, but when using Copy-on-Write (which will become the default behaviour in pandas 3.0) this will never work to update the original DataFrame or Series, because the intermediate object on which we are setting values will behave as a copy.\n",
      "A typical example is when you are setting values in a column of a DataFrame, like:\n",
      "\n",
      "df[\"col\"][row_indexer] = value\n",
      "\n",
      "Use `df.loc[row_indexer, \"col\"] = values` instead, to perform the assignment in a single step and ensure this keeps updating the original `df`.\n",
      "\n",
      "See the caveats in the documentation: https://pandas.pydata.org/pandas-docs/stable/user_guide/indexing.html#returning-a-view-versus-a-copy\n",
      "\n",
      "  df.loc['서준']['체육'] = 90\n"
     ]
    }
   ],
   "source": [
    "# 원소 값 변경\n",
    "\n",
    "exam_data = {'이름' : [ '서준', '우현', '인아'],\n",
    "'수학' : [ 90, 80, 70],\n",
    "'영어' : [ 98, 89, 95],\n",
    "'음악' : [ 85, 95, 100],\n",
    "'체육' : [ 100, 90, 90]}\n",
    "df = pd.DataFrame(exam_data)\n",
    "print(df)\n",
    "df.set_index('이름', inplace=True)\n",
    "print(df)\n",
    "print('----------------')\n",
    "df.iloc[0][3] = 80\n",
    "print(df)\n",
    "print('----------------')\n",
    "df.loc['서준']['체육'] = 90\n",
    "print(df)\n",
    "print('----------------')\n",
    "df.loc['서준', '체육'] = 100\n",
    "print(df)\n",
    "print('----------------')\n",
    "df.loc['서준', ['음악', '체육']] = 50\n",
    "print(df)\n",
    "print('----------------')\n",
    "df.loc['서준', ['음악', '체육']] = 100, 50\n",
    "print(df)"
   ]
  },
  {
   "cell_type": "code",
   "execution_count": null,
   "metadata": {},
   "outputs": [],
   "source": []
  }
 ],
 "metadata": {
  "kernelspec": {
   "display_name": "py39",
   "language": "python",
   "name": "python3"
  },
  "language_info": {
   "codemirror_mode": {
    "name": "ipython",
    "version": 3
   },
   "file_extension": ".py",
   "mimetype": "text/x-python",
   "name": "python",
   "nbconvert_exporter": "python",
   "pygments_lexer": "ipython3",
   "version": "3.9.19"
  }
 },
 "nbformat": 4,
 "nbformat_minor": 2
}
