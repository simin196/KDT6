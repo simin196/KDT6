{
 "cells": [
  {
   "cell_type": "code",
   "execution_count": 2,
   "metadata": {},
   "outputs": [],
   "source": [
    "import pandas as pd\n",
    "import numpy as np"
   ]
  },
  {
   "cell_type": "code",
   "execution_count": 3,
   "metadata": {},
   "outputs": [],
   "source": [
    "df=r'C:\\Users\\KDP-23\\Desktop\\KDT\\pandas\\datasets\\bookings\\Bookings.csv'"
   ]
  },
  {
   "cell_type": "code",
   "execution_count": 4,
   "metadata": {},
   "outputs": [
    {
     "data": {
      "text/html": [
       "<div>\n",
       "<style scoped>\n",
       "    .dataframe tbody tr th:only-of-type {\n",
       "        vertical-align: middle;\n",
       "    }\n",
       "\n",
       "    .dataframe tbody tr th {\n",
       "        vertical-align: top;\n",
       "    }\n",
       "\n",
       "    .dataframe thead th {\n",
       "        text-align: right;\n",
       "    }\n",
       "</style>\n",
       "<table border=\"1\" class=\"dataframe\">\n",
       "  <thead>\n",
       "    <tr style=\"text-align: right;\">\n",
       "      <th></th>\n",
       "      <th>Hotel_Name</th>\n",
       "      <th>Review</th>\n",
       "      <th>Total_Review</th>\n",
       "      <th>Rating</th>\n",
       "      <th>Location</th>\n",
       "    </tr>\n",
       "  </thead>\n",
       "  <tbody>\n",
       "    <tr>\n",
       "      <th>0</th>\n",
       "      <td>Oakwood Residence Midtown East</td>\n",
       "      <td>Superb</td>\n",
       "      <td>28</td>\n",
       "      <td>9.1</td>\n",
       "      <td>Murray Hill</td>\n",
       "    </tr>\n",
       "    <tr>\n",
       "      <th>1</th>\n",
       "      <td>Murray Hill East Suites</td>\n",
       "      <td>Good</td>\n",
       "      <td>52</td>\n",
       "      <td>7.6</td>\n",
       "      <td>Murray Hill</td>\n",
       "    </tr>\n",
       "    <tr>\n",
       "      <th>2</th>\n",
       "      <td>The Herald 8 by LuxUrban</td>\n",
       "      <td>Good</td>\n",
       "      <td>2,870</td>\n",
       "      <td>7.8</td>\n",
       "      <td>Manhattan</td>\n",
       "    </tr>\n",
       "    <tr>\n",
       "      <th>3</th>\n",
       "      <td>The Cloud One New York-Downtown, by the Motel ...</td>\n",
       "      <td>Very good</td>\n",
       "      <td>975</td>\n",
       "      <td>8.3</td>\n",
       "      <td>Wall Street - Financial District</td>\n",
       "    </tr>\n",
       "    <tr>\n",
       "      <th>4</th>\n",
       "      <td>Pod Times Square</td>\n",
       "      <td>Very good</td>\n",
       "      <td>13,951</td>\n",
       "      <td>8.1</td>\n",
       "      <td>Hell's Kitchen</td>\n",
       "    </tr>\n",
       "    <tr>\n",
       "      <th>...</th>\n",
       "      <td>...</td>\n",
       "      <td>...</td>\n",
       "      <td>...</td>\n",
       "      <td>...</td>\n",
       "      <td>...</td>\n",
       "    </tr>\n",
       "    <tr>\n",
       "      <th>520</th>\n",
       "      <td>Fantastic 3BR At Financial District</td>\n",
       "      <td>NaN</td>\n",
       "      <td>NaN</td>\n",
       "      <td>NaN</td>\n",
       "      <td>Wall Street - Financial District</td>\n",
       "    </tr>\n",
       "    <tr>\n",
       "      <th>521</th>\n",
       "      <td>3 Bedroom Apartment In Midtown East</td>\n",
       "      <td>NaN</td>\n",
       "      <td>NaN</td>\n",
       "      <td>NaN</td>\n",
       "      <td>Manhattan</td>\n",
       "    </tr>\n",
       "    <tr>\n",
       "      <th>522</th>\n",
       "      <td>2BD 1BA Apartment At Financial District</td>\n",
       "      <td>NaN</td>\n",
       "      <td>NaN</td>\n",
       "      <td>NaN</td>\n",
       "      <td>Wall Street - Financial District</td>\n",
       "    </tr>\n",
       "    <tr>\n",
       "      <th>523</th>\n",
       "      <td>2BD 1BA Apartment At Wall Street</td>\n",
       "      <td>NaN</td>\n",
       "      <td>NaN</td>\n",
       "      <td>NaN</td>\n",
       "      <td>Wall Street - Financial District</td>\n",
       "    </tr>\n",
       "    <tr>\n",
       "      <th>524</th>\n",
       "      <td>Two BD Apartment At Midtown East</td>\n",
       "      <td>NaN</td>\n",
       "      <td>NaN</td>\n",
       "      <td>NaN</td>\n",
       "      <td>Manhattan</td>\n",
       "    </tr>\n",
       "  </tbody>\n",
       "</table>\n",
       "<p>525 rows × 5 columns</p>\n",
       "</div>"
      ],
      "text/plain": [
       "                                            Hotel_Name      Review  \\\n",
       "0                       Oakwood Residence Midtown East     Superb    \n",
       "1                              Murray Hill East Suites       Good    \n",
       "2                             The Herald 8 by LuxUrban       Good    \n",
       "3    The Cloud One New York-Downtown, by the Motel ...  Very good    \n",
       "4                                     Pod Times Square  Very good    \n",
       "..                                                 ...         ...   \n",
       "520                Fantastic 3BR At Financial District         NaN   \n",
       "521                3 Bedroom Apartment In Midtown East         NaN   \n",
       "522            2BD 1BA Apartment At Financial District         NaN   \n",
       "523                   2BD 1BA Apartment At Wall Street         NaN   \n",
       "524                   Two BD Apartment At Midtown East         NaN   \n",
       "\n",
       "    Total_Review  Rating                           Location  \n",
       "0             28     9.1                       Murray Hill   \n",
       "1             52     7.6                       Murray Hill   \n",
       "2          2,870     7.8                         Manhattan   \n",
       "3            975     8.3  Wall Street - Financial District   \n",
       "4         13,951     8.1                    Hell's Kitchen   \n",
       "..           ...     ...                                ...  \n",
       "520          NaN     NaN  Wall Street - Financial District   \n",
       "521          NaN     NaN                         Manhattan   \n",
       "522          NaN     NaN  Wall Street - Financial District   \n",
       "523          NaN     NaN  Wall Street - Financial District   \n",
       "524          NaN     NaN                         Manhattan   \n",
       "\n",
       "[525 rows x 5 columns]"
      ]
     },
     "execution_count": 4,
     "metadata": {},
     "output_type": "execute_result"
    }
   ],
   "source": [
    "df=pd.read_csv(df)\n",
    "df"
   ]
  },
  {
   "cell_type": "code",
   "execution_count": 5,
   "metadata": {},
   "outputs": [
    {
     "name": "stdout",
     "output_type": "stream",
     "text": [
      "<class 'pandas.core.frame.DataFrame'>\n",
      "RangeIndex: 525 entries, 0 to 524\n",
      "Data columns (total 5 columns):\n",
      " #   Column        Non-Null Count  Dtype  \n",
      "---  ------        --------------  -----  \n",
      " 0   Hotel_Name    525 non-null    object \n",
      " 1   Review        325 non-null    object \n",
      " 2   Total_Review  325 non-null    object \n",
      " 3   Rating        315 non-null    float64\n",
      " 4   Location      525 non-null    object \n",
      "dtypes: float64(1), object(4)\n",
      "memory usage: 20.6+ KB\n"
     ]
    }
   ],
   "source": [
    "df.info()"
   ]
  },
  {
   "cell_type": "code",
   "execution_count": 6,
   "metadata": {},
   "outputs": [
    {
     "data": {
      "text/html": [
       "<div>\n",
       "<style scoped>\n",
       "    .dataframe tbody tr th:only-of-type {\n",
       "        vertical-align: middle;\n",
       "    }\n",
       "\n",
       "    .dataframe tbody tr th {\n",
       "        vertical-align: top;\n",
       "    }\n",
       "\n",
       "    .dataframe thead th {\n",
       "        text-align: right;\n",
       "    }\n",
       "</style>\n",
       "<table border=\"1\" class=\"dataframe\">\n",
       "  <thead>\n",
       "    <tr style=\"text-align: right;\">\n",
       "      <th></th>\n",
       "      <th>Rating</th>\n",
       "    </tr>\n",
       "  </thead>\n",
       "  <tbody>\n",
       "    <tr>\n",
       "      <th>count</th>\n",
       "      <td>315.000000</td>\n",
       "    </tr>\n",
       "    <tr>\n",
       "      <th>mean</th>\n",
       "      <td>7.883492</td>\n",
       "    </tr>\n",
       "    <tr>\n",
       "      <th>std</th>\n",
       "      <td>0.885183</td>\n",
       "    </tr>\n",
       "    <tr>\n",
       "      <th>min</th>\n",
       "      <td>1.000000</td>\n",
       "    </tr>\n",
       "    <tr>\n",
       "      <th>25%</th>\n",
       "      <td>7.500000</td>\n",
       "    </tr>\n",
       "    <tr>\n",
       "      <th>50%</th>\n",
       "      <td>8.000000</td>\n",
       "    </tr>\n",
       "    <tr>\n",
       "      <th>75%</th>\n",
       "      <td>8.400000</td>\n",
       "    </tr>\n",
       "    <tr>\n",
       "      <th>max</th>\n",
       "      <td>10.000000</td>\n",
       "    </tr>\n",
       "  </tbody>\n",
       "</table>\n",
       "</div>"
      ],
      "text/plain": [
       "           Rating\n",
       "count  315.000000\n",
       "mean     7.883492\n",
       "std      0.885183\n",
       "min      1.000000\n",
       "25%      7.500000\n",
       "50%      8.000000\n",
       "75%      8.400000\n",
       "max     10.000000"
      ]
     },
     "execution_count": 6,
     "metadata": {},
     "output_type": "execute_result"
    }
   ],
   "source": [
    "df.describe() # 왜 Rating만 나오지?? >> 나머지는 object type이라서"
   ]
  },
  {
   "cell_type": "code",
   "execution_count": 7,
   "metadata": {},
   "outputs": [
    {
     "data": {
      "text/html": [
       "<div>\n",
       "<style scoped>\n",
       "    .dataframe tbody tr th:only-of-type {\n",
       "        vertical-align: middle;\n",
       "    }\n",
       "\n",
       "    .dataframe tbody tr th {\n",
       "        vertical-align: top;\n",
       "    }\n",
       "\n",
       "    .dataframe thead th {\n",
       "        text-align: right;\n",
       "    }\n",
       "</style>\n",
       "<table border=\"1\" class=\"dataframe\">\n",
       "  <thead>\n",
       "    <tr style=\"text-align: right;\">\n",
       "      <th></th>\n",
       "      <th>Hotel_Name</th>\n",
       "      <th>Review</th>\n",
       "      <th>Total_Review</th>\n",
       "      <th>Rating</th>\n",
       "      <th>Location</th>\n",
       "    </tr>\n",
       "  </thead>\n",
       "  <tbody>\n",
       "    <tr>\n",
       "      <th>0</th>\n",
       "      <td>Oakwood Residence Midtown East</td>\n",
       "      <td>Superb</td>\n",
       "      <td>28</td>\n",
       "      <td>9.1</td>\n",
       "      <td>Murray Hill</td>\n",
       "    </tr>\n",
       "    <tr>\n",
       "      <th>1</th>\n",
       "      <td>Murray Hill East Suites</td>\n",
       "      <td>Good</td>\n",
       "      <td>52</td>\n",
       "      <td>7.6</td>\n",
       "      <td>Murray Hill</td>\n",
       "    </tr>\n",
       "    <tr>\n",
       "      <th>2</th>\n",
       "      <td>The Herald 8 by LuxUrban</td>\n",
       "      <td>Good</td>\n",
       "      <td>2,870</td>\n",
       "      <td>7.8</td>\n",
       "      <td>Manhattan</td>\n",
       "    </tr>\n",
       "    <tr>\n",
       "      <th>3</th>\n",
       "      <td>The Cloud One New York-Downtown, by the Motel ...</td>\n",
       "      <td>Very good</td>\n",
       "      <td>975</td>\n",
       "      <td>8.3</td>\n",
       "      <td>Wall Street - Financial District</td>\n",
       "    </tr>\n",
       "    <tr>\n",
       "      <th>4</th>\n",
       "      <td>Pod Times Square</td>\n",
       "      <td>Very good</td>\n",
       "      <td>13,951</td>\n",
       "      <td>8.1</td>\n",
       "      <td>Hell's Kitchen</td>\n",
       "    </tr>\n",
       "    <tr>\n",
       "      <th>...</th>\n",
       "      <td>...</td>\n",
       "      <td>...</td>\n",
       "      <td>...</td>\n",
       "      <td>...</td>\n",
       "      <td>...</td>\n",
       "    </tr>\n",
       "    <tr>\n",
       "      <th>520</th>\n",
       "      <td>Fantastic 3BR At Financial District</td>\n",
       "      <td>NaN</td>\n",
       "      <td>NaN</td>\n",
       "      <td>NaN</td>\n",
       "      <td>Wall Street - Financial District</td>\n",
       "    </tr>\n",
       "    <tr>\n",
       "      <th>521</th>\n",
       "      <td>3 Bedroom Apartment In Midtown East</td>\n",
       "      <td>NaN</td>\n",
       "      <td>NaN</td>\n",
       "      <td>NaN</td>\n",
       "      <td>Manhattan</td>\n",
       "    </tr>\n",
       "    <tr>\n",
       "      <th>522</th>\n",
       "      <td>2BD 1BA Apartment At Financial District</td>\n",
       "      <td>NaN</td>\n",
       "      <td>NaN</td>\n",
       "      <td>NaN</td>\n",
       "      <td>Wall Street - Financial District</td>\n",
       "    </tr>\n",
       "    <tr>\n",
       "      <th>523</th>\n",
       "      <td>2BD 1BA Apartment At Wall Street</td>\n",
       "      <td>NaN</td>\n",
       "      <td>NaN</td>\n",
       "      <td>NaN</td>\n",
       "      <td>Wall Street - Financial District</td>\n",
       "    </tr>\n",
       "    <tr>\n",
       "      <th>524</th>\n",
       "      <td>Two BD Apartment At Midtown East</td>\n",
       "      <td>NaN</td>\n",
       "      <td>NaN</td>\n",
       "      <td>NaN</td>\n",
       "      <td>Manhattan</td>\n",
       "    </tr>\n",
       "  </tbody>\n",
       "</table>\n",
       "<p>525 rows × 5 columns</p>\n",
       "</div>"
      ],
      "text/plain": [
       "                                            Hotel_Name      Review  \\\n",
       "0                       Oakwood Residence Midtown East     Superb    \n",
       "1                              Murray Hill East Suites       Good    \n",
       "2                             The Herald 8 by LuxUrban       Good    \n",
       "3    The Cloud One New York-Downtown, by the Motel ...  Very good    \n",
       "4                                     Pod Times Square  Very good    \n",
       "..                                                 ...         ...   \n",
       "520                Fantastic 3BR At Financial District         NaN   \n",
       "521                3 Bedroom Apartment In Midtown East         NaN   \n",
       "522            2BD 1BA Apartment At Financial District         NaN   \n",
       "523                   2BD 1BA Apartment At Wall Street         NaN   \n",
       "524                   Two BD Apartment At Midtown East         NaN   \n",
       "\n",
       "    Total_Review  Rating                           Location  \n",
       "0             28     9.1                       Murray Hill   \n",
       "1             52     7.6                       Murray Hill   \n",
       "2          2,870     7.8                         Manhattan   \n",
       "3            975     8.3  Wall Street - Financial District   \n",
       "4         13,951     8.1                    Hell's Kitchen   \n",
       "..           ...     ...                                ...  \n",
       "520          NaN     NaN  Wall Street - Financial District   \n",
       "521          NaN     NaN                         Manhattan   \n",
       "522          NaN     NaN  Wall Street - Financial District   \n",
       "523          NaN     NaN  Wall Street - Financial District   \n",
       "524          NaN     NaN                         Manhattan   \n",
       "\n",
       "[525 rows x 5 columns]"
      ]
     },
     "execution_count": 7,
     "metadata": {},
     "output_type": "execute_result"
    }
   ],
   "source": [
    "df1=df.copy()\n",
    "df1"
   ]
  },
  {
   "cell_type": "code",
   "execution_count": 8,
   "metadata": {},
   "outputs": [
    {
     "data": {
      "text/html": [
       "<div>\n",
       "<style scoped>\n",
       "    .dataframe tbody tr th:only-of-type {\n",
       "        vertical-align: middle;\n",
       "    }\n",
       "\n",
       "    .dataframe tbody tr th {\n",
       "        vertical-align: top;\n",
       "    }\n",
       "\n",
       "    .dataframe thead th {\n",
       "        text-align: right;\n",
       "    }\n",
       "</style>\n",
       "<table border=\"1\" class=\"dataframe\">\n",
       "  <thead>\n",
       "    <tr style=\"text-align: right;\">\n",
       "      <th></th>\n",
       "      <th>Hotel_Name</th>\n",
       "      <th>Review</th>\n",
       "      <th>Total_Review</th>\n",
       "      <th>Location</th>\n",
       "    </tr>\n",
       "  </thead>\n",
       "  <tbody>\n",
       "    <tr>\n",
       "      <th>count</th>\n",
       "      <td>525</td>\n",
       "      <td>325</td>\n",
       "      <td>325</td>\n",
       "      <td>525</td>\n",
       "    </tr>\n",
       "    <tr>\n",
       "      <th>unique</th>\n",
       "      <td>498</td>\n",
       "      <td>8</td>\n",
       "      <td>255</td>\n",
       "      <td>25</td>\n",
       "    </tr>\n",
       "    <tr>\n",
       "      <th>top</th>\n",
       "      <td>Hilton Garden Inn New York Central Park South-...</td>\n",
       "      <td>Very good</td>\n",
       "      <td>1 review</td>\n",
       "      <td>Manhattan</td>\n",
       "    </tr>\n",
       "    <tr>\n",
       "      <th>freq</th>\n",
       "      <td>2</td>\n",
       "      <td>117</td>\n",
       "      <td>5</td>\n",
       "      <td>112</td>\n",
       "    </tr>\n",
       "  </tbody>\n",
       "</table>\n",
       "</div>"
      ],
      "text/plain": [
       "                                               Hotel_Name      Review  \\\n",
       "count                                                 525         325   \n",
       "unique                                                498           8   \n",
       "top     Hilton Garden Inn New York Central Park South-...  Very good    \n",
       "freq                                                    2         117   \n",
       "\n",
       "       Total_Review    Location  \n",
       "count           325         525  \n",
       "unique          255          25  \n",
       "top        1 review  Manhattan   \n",
       "freq              5         112  "
      ]
     },
     "execution_count": 8,
     "metadata": {},
     "output_type": "execute_result"
    }
   ],
   "source": [
    "df1.describe(include='object') # include='object'를 하면 데이터의 총 개수와 고유값의 개수(중복 제외라고 생각하면 될듯 ), 최빈값, 최빈값의 빈도수 가 추출"
   ]
  },
  {
   "cell_type": "code",
   "execution_count": 9,
   "metadata": {},
   "outputs": [
    {
     "data": {
      "text/plain": [
       "Review\n",
       "Very good         117\n",
       "Good              116\n",
       "Review score       31\n",
       "Fabulous           30\n",
       "Superb             16\n",
       "Superb 9.0          8\n",
       "Exceptional         5\n",
       "Exceptional 10      2\n",
       "Name: count, dtype: int64"
      ]
     },
     "execution_count": 9,
     "metadata": {},
     "output_type": "execute_result"
    }
   ],
   "source": [
    "df1['Review'].value_counts()"
   ]
  },
  {
   "cell_type": "code",
   "execution_count": 10,
   "metadata": {},
   "outputs": [],
   "source": [
    "df1.loc[df['Review']=='Superb 9.0','Review']='Superb '\n",
    "df1.loc[df['Review']=='Exceptional 10','Review']='Exceptional '"
   ]
  },
  {
   "cell_type": "code",
   "execution_count": 11,
   "metadata": {},
   "outputs": [
    {
     "data": {
      "text/plain": [
       "Review\n",
       "Very good        117\n",
       "Good             116\n",
       "Review score      31\n",
       "Fabulous          30\n",
       "Superb            24\n",
       "Exceptional        7\n",
       "Name: count, dtype: int64"
      ]
     },
     "execution_count": 11,
     "metadata": {},
     "output_type": "execute_result"
    }
   ],
   "source": [
    "df1['Review'].value_counts()"
   ]
  },
  {
   "cell_type": "code",
   "execution_count": 12,
   "metadata": {},
   "outputs": [],
   "source": [
    "# 책에는 위 내용처럼 있지만~~~~~~~~~~~~~~~\n",
    "review_i=df['Review'].value_counts().index # 'Review'의 컬럼을 인덱스로 저장 후 "
   ]
  },
  {
   "cell_type": "code",
   "execution_count": 13,
   "metadata": {},
   "outputs": [
    {
     "data": {
      "text/plain": [
       "Review\n",
       "Very good         117\n",
       "Good              116\n",
       "Review score       31\n",
       "Fabulous           30\n",
       "Superb             16\n",
       "Superb 9.0          8\n",
       "Exceptional         5\n",
       "Exceptional 10      2\n",
       "Name: count, dtype: int64"
      ]
     },
     "execution_count": 13,
     "metadata": {},
     "output_type": "execute_result"
    }
   ],
   "source": [
    "df['Review'].value_counts() "
   ]
  },
  {
   "cell_type": "code",
   "execution_count": 14,
   "metadata": {},
   "outputs": [
    {
     "data": {
      "text/plain": [
       "Index(['Very good ', 'Good ', 'Review score ', 'Fabulous ', 'Superb ',\n",
       "       'Superb 9.0', 'Exceptional ', 'Exceptional 10'],\n",
       "      dtype='object', name='Review')"
      ]
     },
     "execution_count": 14,
     "metadata": {},
     "output_type": "execute_result"
    }
   ],
   "source": [
    "review_i # 그럼 review_i에 아래의 값으로 저장 되있다."
   ]
  },
  {
   "cell_type": "code",
   "execution_count": 15,
   "metadata": {},
   "outputs": [],
   "source": [
    "df.loc[df['Review']=='Superb 9.0','Review']=review_i[4]\n",
    "df.loc[df['Review']=='Exceptional 10','Review']=review_i[6] # review_i의 인덱스로 집어 넣을 수 있다"
   ]
  },
  {
   "cell_type": "code",
   "execution_count": 16,
   "metadata": {},
   "outputs": [
    {
     "data": {
      "text/plain": [
       "Review\n",
       "Very good        117\n",
       "Good             116\n",
       "Review score      31\n",
       "Fabulous          30\n",
       "Superb            24\n",
       "Exceptional        7\n",
       "Name: count, dtype: int64"
      ]
     },
     "execution_count": 16,
     "metadata": {},
     "output_type": "execute_result"
    }
   ],
   "source": [
    "df['Review'].value_counts() "
   ]
  },
  {
   "cell_type": "code",
   "execution_count": 17,
   "metadata": {},
   "outputs": [
    {
     "data": {
      "text/plain": [
       "array(['28', '52', '2,870', '975', '13,951', '8,044', '16,148', '343',\n",
       "       '6,038', '2,028', '9,659', '4,435', '7,298', '11,455', '2,802',\n",
       "       '1,847', '2,189', '703', '1,382', '4,646', '951', '4,498', '1,475',\n",
       "       '6,245', '5,866', '959', '1,876', '848', '3,097', '3,477', '1,648',\n",
       "       '46', '2,289', '148', '664', '1,867', '1,067', '130', '920',\n",
       "       '2,560', '3,878', '1,698', '719', '7,585', '1,180', '2,035',\n",
       "       '6,144', '638', '9,240', '3,907', '3,128', '2,383', '833', '558',\n",
       "       '3,170', '2,857', '981', '192', '1,449', '1,373', '598', '3,859',\n",
       "       '3,639', '1,048', '2,859', '2,412', '749', '6,639', '1,143',\n",
       "       '2,353', '3,002', '8,844', '57', '657', '2,535', '946', '1,087',\n",
       "       '3,627', '844', '483', '1,078', '1,074', '1,797', '728', '415',\n",
       "       '766', '523', '770', '178', '464', '647', '1,225', '562',\n",
       "       '1 review', '1,188', '1,260', '4,246', '2,521', '586', '1,643',\n",
       "       '1,243', '2,623', '621', '488', '607', '1,425', '1,389', '2,014',\n",
       "       '1,000', '2,299', '595', '751', '159', '1,550', '1,030', '4,166',\n",
       "       '1,089', nan, '663', '579', '1,864', '377', '832', '718', '1,294',\n",
       "       '3,255', '495', '1,736', '1,918', '333', '234', '114', '2,620',\n",
       "       '754', '1,105', '94', '1,097', '2,446', '665', '1,169', '2,717',\n",
       "       '988', '1,046', '321', '317', '108', '76', '721', '1,420', '1,519',\n",
       "       '49', '407', '193', '4,092', '965', '307', '2,317', '2,982',\n",
       "       '3,832', '269', '1,834', '707', '425', '390', '985', '693',\n",
       "       '1,218', '113', '1,122', '966', '711', '1,220', '13', '2,533',\n",
       "       '233', '14', '553', '601', '532', '65 external  ', '1,592', '855',\n",
       "       '400', '386', '1,092', '259', '411', '865', '3,471', '723', '525',\n",
       "       '943', '1,500', '325', '1,708', '230', '227', '1,778', '53',\n",
       "       '4,288', '787', '355', '1,251', '128', '258', '125', '699', '285',\n",
       "       '109', '30', '1,754', '437', '60', '200', '2', '453', '769', '465',\n",
       "       '6', '524', '434', '372', '817', '472', '314', '168', '1,085',\n",
       "       '1,195', '1,118', '1,471', '416', '173', '352', '385', '1,482',\n",
       "       '22 external  ', '241', '497', '117', '59', '79', '3',\n",
       "       '3 external  ', '379', '42', '255', '99', '212', '602', '9', '165',\n",
       "       '146', '14 external  ', '13 external  ', '7 external  ',\n",
       "       '4 external  '], dtype=object)"
      ]
     },
     "execution_count": 17,
     "metadata": {},
     "output_type": "execute_result"
    }
   ],
   "source": [
    "df['Total_Review'].unique() "
   ]
  },
  {
   "cell_type": "code",
   "execution_count": 18,
   "metadata": {},
   "outputs": [
    {
     "data": {
      "text/plain": [
       "count      325.000000\n",
       "mean      1771.630769\n",
       "std       2530.013514\n",
       "min          1.000000\n",
       "25%        343.000000\n",
       "50%        920.000000\n",
       "75%       2189.000000\n",
       "max      16148.000000\n",
       "Name: Total_Review, dtype: float64"
      ]
     },
     "execution_count": 18,
     "metadata": {},
     "output_type": "execute_result"
    }
   ],
   "source": [
    "df['Total_Review']=df['Total_Review'].map(lambda x:str(x).replace('external','').strip())\n",
    "df['Total_Review']=df['Total_Review'].map(lambda x:str(x).replace('review','').strip())\n",
    "df['Total_Review']=df['Total_Review'].map(lambda x:str(x).replace(',',''))\n",
    "df['Total_Review']=df['Total_Review'].astype('float')\n",
    "\n",
    "df['Total_Review'].describe()"
   ]
  },
  {
   "cell_type": "code",
   "execution_count": 19,
   "metadata": {},
   "outputs": [
    {
     "name": "stdout",
     "output_type": "stream",
     "text": [
      "<class 'pandas.core.frame.DataFrame'>\n",
      "RangeIndex: 525 entries, 0 to 524\n",
      "Data columns (total 5 columns):\n",
      " #   Column        Non-Null Count  Dtype  \n",
      "---  ------        --------------  -----  \n",
      " 0   Hotel_Name    525 non-null    object \n",
      " 1   Review        325 non-null    object \n",
      " 2   Total_Review  325 non-null    float64\n",
      " 3   Rating        315 non-null    float64\n",
      " 4   Location      525 non-null    object \n",
      "dtypes: float64(2), object(3)\n",
      "memory usage: 20.6+ KB\n"
     ]
    }
   ],
   "source": [
    "df.info()"
   ]
  },
  {
   "cell_type": "code",
   "execution_count": 20,
   "metadata": {},
   "outputs": [],
   "source": [
    "index=df[df['Rating'].isna()].head().index"
   ]
  },
  {
   "cell_type": "code",
   "execution_count": 21,
   "metadata": {},
   "outputs": [
    {
     "data": {
      "text/plain": [
       "Index([167, 168, 169, 170, 171], dtype='int64')"
      ]
     },
     "execution_count": 21,
     "metadata": {},
     "output_type": "execute_result"
    }
   ],
   "source": [
    "index"
   ]
  },
  {
   "cell_type": "code",
   "execution_count": 22,
   "metadata": {},
   "outputs": [
    {
     "data": {
      "text/html": [
       "<div>\n",
       "<style scoped>\n",
       "    .dataframe tbody tr th:only-of-type {\n",
       "        vertical-align: middle;\n",
       "    }\n",
       "\n",
       "    .dataframe tbody tr th {\n",
       "        vertical-align: top;\n",
       "    }\n",
       "\n",
       "    .dataframe thead th {\n",
       "        text-align: right;\n",
       "    }\n",
       "</style>\n",
       "<table border=\"1\" class=\"dataframe\">\n",
       "  <thead>\n",
       "    <tr style=\"text-align: right;\">\n",
       "      <th></th>\n",
       "      <th>Hotel_Name</th>\n",
       "      <th>Review</th>\n",
       "      <th>Total_Review</th>\n",
       "      <th>Rating</th>\n",
       "      <th>Location</th>\n",
       "    </tr>\n",
       "  </thead>\n",
       "  <tbody>\n",
       "    <tr>\n",
       "      <th>167</th>\n",
       "      <td>Midtown E 2BR w WD nr Central Park NYC-531</td>\n",
       "      <td>Very good</td>\n",
       "      <td>NaN</td>\n",
       "      <td>NaN</td>\n",
       "      <td>Midtown East</td>\n",
       "    </tr>\n",
       "    <tr>\n",
       "      <th>168</th>\n",
       "      <td>Hotel Indigo Lower East Side New York</td>\n",
       "      <td>Fabulous</td>\n",
       "      <td>NaN</td>\n",
       "      <td>NaN</td>\n",
       "      <td>Lower East Side</td>\n",
       "    </tr>\n",
       "    <tr>\n",
       "      <th>169</th>\n",
       "      <td>UWS 1BR w Gym Walk to Central Park NYC-165</td>\n",
       "      <td>Very good</td>\n",
       "      <td>NaN</td>\n",
       "      <td>NaN</td>\n",
       "      <td>New York</td>\n",
       "    </tr>\n",
       "    <tr>\n",
       "      <th>170</th>\n",
       "      <td>The FIDI Hotel</td>\n",
       "      <td>Good</td>\n",
       "      <td>NaN</td>\n",
       "      <td>NaN</td>\n",
       "      <td>Wall Street - Financial District</td>\n",
       "    </tr>\n",
       "    <tr>\n",
       "      <th>171</th>\n",
       "      <td>The Frederick Hotel Tribeca</td>\n",
       "      <td>Fabulous</td>\n",
       "      <td>NaN</td>\n",
       "      <td>NaN</td>\n",
       "      <td>Tribeca</td>\n",
       "    </tr>\n",
       "  </tbody>\n",
       "</table>\n",
       "</div>"
      ],
      "text/plain": [
       "                                     Hotel_Name      Review  Total_Review  \\\n",
       "167  Midtown E 2BR w WD nr Central Park NYC-531  Very good            NaN   \n",
       "168       Hotel Indigo Lower East Side New York   Fabulous            NaN   \n",
       "169  UWS 1BR w Gym Walk to Central Park NYC-165  Very good            NaN   \n",
       "170                              The FIDI Hotel       Good            NaN   \n",
       "171                 The Frederick Hotel Tribeca   Fabulous            NaN   \n",
       "\n",
       "     Rating                           Location  \n",
       "167     NaN                      Midtown East   \n",
       "168     NaN                   Lower East Side   \n",
       "169     NaN                           New York  \n",
       "170     NaN  Wall Street - Financial District   \n",
       "171     NaN                           Tribeca   "
      ]
     },
     "execution_count": 22,
     "metadata": {},
     "output_type": "execute_result"
    }
   ],
   "source": [
    "row = df.iloc[[167,168,169,170,171]]\n",
    "row"
   ]
  },
  {
   "cell_type": "code",
   "execution_count": 23,
   "metadata": {},
   "outputs": [],
   "source": [
    "df['Rating'] = df['Rating'].fillna(df['Rating'].mean())"
   ]
  },
  {
   "cell_type": "code",
   "execution_count": 24,
   "metadata": {},
   "outputs": [
    {
     "data": {
      "text/plain": [
       "167    7.883492\n",
       "168    7.883492\n",
       "169    7.883492\n",
       "170    7.883492\n",
       "171    7.883492\n",
       "Name: Rating, dtype: float64"
      ]
     },
     "execution_count": 24,
     "metadata": {},
     "output_type": "execute_result"
    }
   ],
   "source": [
    "df.loc[index, 'Rating']"
   ]
  },
  {
   "cell_type": "code",
   "execution_count": 25,
   "metadata": {},
   "outputs": [
    {
     "data": {
      "text/plain": [
       "0    1.0\n",
       "1    NaN\n",
       "2    NaN\n",
       "3    2.0\n",
       "4    NaN\n",
       "5    3.0\n",
       "dtype: float64"
      ]
     },
     "execution_count": 25,
     "metadata": {},
     "output_type": "execute_result"
    }
   ],
   "source": [
    "s= pd.Series([1, np.nan,np.nan,2,np.nan,3])\n",
    "s"
   ]
  },
  {
   "cell_type": "code",
   "execution_count": 26,
   "metadata": {},
   "outputs": [
    {
     "name": "stderr",
     "output_type": "stream",
     "text": [
      "C:\\Users\\KDP-23\\AppData\\Local\\Temp\\ipykernel_15396\\4230639994.py:1: FutureWarning: Series.fillna with 'method' is deprecated and will raise in a future version. Use obj.ffill() or obj.bfill() instead.\n",
      "  s.fillna(method='ffill') # ffill >>> front fill\n"
     ]
    },
    {
     "data": {
      "text/plain": [
       "0    1.0\n",
       "1    1.0\n",
       "2    1.0\n",
       "3    2.0\n",
       "4    2.0\n",
       "5    3.0\n",
       "dtype: float64"
      ]
     },
     "execution_count": 26,
     "metadata": {},
     "output_type": "execute_result"
    }
   ],
   "source": [
    "s.fillna(method='ffill') # ffill >>> front fill"
   ]
  },
  {
   "cell_type": "code",
   "execution_count": 27,
   "metadata": {},
   "outputs": [
    {
     "name": "stderr",
     "output_type": "stream",
     "text": [
      "C:\\Users\\KDP-23\\AppData\\Local\\Temp\\ipykernel_15396\\3469319776.py:1: FutureWarning: Series.fillna with 'method' is deprecated and will raise in a future version. Use obj.ffill() or obj.bfill() instead.\n",
      "  s.fillna(method='bfill') # bfill >>> back fill\n"
     ]
    },
    {
     "data": {
      "text/plain": [
       "0    1.0\n",
       "1    2.0\n",
       "2    2.0\n",
       "3    2.0\n",
       "4    3.0\n",
       "5    3.0\n",
       "dtype: float64"
      ]
     },
     "execution_count": 27,
     "metadata": {},
     "output_type": "execute_result"
    }
   ],
   "source": [
    "s.fillna(method='bfill') # bfill >>> back fill"
   ]
  },
  {
   "cell_type": "code",
   "execution_count": 28,
   "metadata": {},
   "outputs": [
    {
     "name": "stdout",
     "output_type": "stream",
     "text": [
      "<class 'pandas.core.frame.DataFrame'>\n",
      "Index: 307 entries, 0 to 333\n",
      "Data columns (total 5 columns):\n",
      " #   Column        Non-Null Count  Dtype  \n",
      "---  ------        --------------  -----  \n",
      " 0   Hotel_Name    307 non-null    object \n",
      " 1   Review        307 non-null    object \n",
      " 2   Total_Review  307 non-null    object \n",
      " 3   Rating        307 non-null    float64\n",
      " 4   Location      307 non-null    object \n",
      "dtypes: float64(1), object(4)\n",
      "memory usage: 14.4+ KB\n"
     ]
    }
   ],
   "source": [
    "df1= df1.dropna()\n",
    "df1.info()"
   ]
  },
  {
   "cell_type": "code",
   "execution_count": 29,
   "metadata": {},
   "outputs": [
    {
     "name": "stdout",
     "output_type": "stream",
     "text": [
      "quantile(0) is 1.0\n",
      "quantile(0.2) is 227.0\n",
      "quantile(0.4) is 657.0\n",
      "quantile(0.6) is 1169.0\n",
      "quantile(0.8) is 2620.0\n",
      "quantile(1) is 16148.0\n"
     ]
    }
   ],
   "source": [
    "quantile=[0, 0.2, 0.4, 0.6, 0.8, 1]\n",
    "for idx in quantile:\n",
    "    q=df['Total_Review'].quantile(idx, interpolation='lower')\n",
    "    print(f'quantile({idx}) is {q}')\n"
   ]
  },
  {
   "cell_type": "code",
   "execution_count": 30,
   "metadata": {},
   "outputs": [
    {
     "name": "stdout",
     "output_type": "stream",
     "text": [
      "quantile(0) is 1.0\n",
      "quantile(0.2) is 230.0\n",
      "quantile(0.4) is 663.0\n",
      "quantile(0.6) is 1169.0\n",
      "quantile(0.8) is 2620.0\n",
      "quantile(1) is 16148.0\n"
     ]
    }
   ],
   "source": [
    "for idx in quantile:\n",
    "    q=df['Total_Review'].quantile(idx, interpolation='nearest')\n",
    "    print(f'quantile({idx}) is {q}')"
   ]
  }
 ],
 "metadata": {
  "kernelspec": {
   "display_name": "py39",
   "language": "python",
   "name": "python3"
  },
  "language_info": {
   "codemirror_mode": {
    "name": "ipython",
    "version": 3
   },
   "file_extension": ".py",
   "mimetype": "text/x-python",
   "name": "python",
   "nbconvert_exporter": "python",
   "pygments_lexer": "ipython3",
   "version": "3.9.19"
  }
 },
 "nbformat": 4,
 "nbformat_minor": 2
}
