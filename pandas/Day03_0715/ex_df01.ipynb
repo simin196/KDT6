{
 "cells": [
  {
   "cell_type": "markdown",
   "metadata": {},
   "source": [
    "### 데이터 활용 방밥 - 전치 \n",
    "- 행과 열을 서로 변경\n",
    "- 방법 1. 메서드 사용 : 변수명.transpose()\n",
    "- 방밥 2. 속성 사용 : 변수명.T"
   ]
  },
  {
   "cell_type": "code",
   "execution_count": 6,
   "metadata": {},
   "outputs": [],
   "source": [
    "# 모듈 로딩\n",
    "import pandas as pd"
   ]
  },
  {
   "cell_type": "code",
   "execution_count": 7,
   "metadata": {},
   "outputs": [],
   "source": [
    "# 데이터 준비\n",
    "file_name='data.csv'"
   ]
  },
  {
   "cell_type": "code",
   "execution_count": 8,
   "metadata": {},
   "outputs": [],
   "source": [
    "# csv > DataFrame 형태로 저장\n",
    "csvDF = pd.read_csv(file_name)"
   ]
  },
  {
   "cell_type": "code",
   "execution_count": 11,
   "metadata": {},
   "outputs": [
    {
     "name": "stdout",
     "output_type": "stream",
     "text": [
      "변경 전\n",
      "RangeIndex(start=0, stop=5, step=1)\n",
      "Index(['no', 'name', 'age', 'gander'], dtype='object')\n",
      "  no  name age gander\n",
      "0  1  Hong  10      F\n",
      "1  2  Park  13      F\n",
      "2  3   Kim  12      M\n",
      "3  4   Lee  16      F\n",
      "4  5   Lim  17      M\n",
      "------------\n",
      "변경 후\n",
      "Index(['no', 'name', 'age', 'gander'], dtype='object')\n",
      "RangeIndex(start=0, stop=5, step=1)\n",
      "           0     1    2    3    4\n",
      "no         1     2    3    4    5\n",
      "name    Hong  Park  Kim  Lee  Lim\n",
      "age       10    13   12   16   17\n",
      "gander     F     F    M    F    M\n"
     ]
    }
   ],
   "source": [
    "# DF 형태 변경 >>> 행 > 열로 , 열을 > 행으로\n",
    "print('변경 전', csvDF.index , csvDF.columns, csvDF, sep='\\n' )\n",
    "print('------------')\n",
    "# 속성 T 사용\n",
    "csvDF = csvDF.T \n",
    "print('변경 후', csvDF.index , csvDF.columns, csvDF, sep='\\n' )"
   ]
  },
  {
   "cell_type": "code",
   "execution_count": 10,
   "metadata": {},
   "outputs": [
    {
     "name": "stdout",
     "output_type": "stream",
     "text": [
      "변경 후\n",
      "RangeIndex(start=0, stop=5, step=1)\n",
      "Index(['no', 'name', 'age', 'gander'], dtype='object')\n",
      "  no  name age gander\n",
      "0  1  Hong  10      F\n",
      "1  2  Park  13      F\n",
      "2  3   Kim  12      M\n",
      "3  4   Lee  16      F\n",
      "4  5   Lim  17      M\n"
     ]
    }
   ],
   "source": [
    "# 메서드 transpose() 사용\n",
    "csvDF = csvDF.transpose()\n",
    "print('변경 후', csvDF.index , csvDF.columns, csvDF, sep='\\n' ) \n",
    "# 다시 바꿔 돌아옴"
   ]
  },
  {
   "cell_type": "code",
   "execution_count": null,
   "metadata": {},
   "outputs": [],
   "source": []
  }
 ],
 "metadata": {
  "kernelspec": {
   "display_name": "py39",
   "language": "python",
   "name": "python3"
  },
  "language_info": {
   "codemirror_mode": {
    "name": "ipython",
    "version": 3
   },
   "file_extension": ".py",
   "mimetype": "text/x-python",
   "name": "python",
   "nbconvert_exporter": "python",
   "pygments_lexer": "ipython3",
   "version": "3.9.19"
  }
 },
 "nbformat": 4,
 "nbformat_minor": 2
}
