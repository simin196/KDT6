{
 "cells": [
  {
   "cell_type": "markdown",
   "metadata": {},
   "source": [
    "[텍스트 전처리]\n",
    "- 토큰화                                      ==> 최적의 토큰화 패키지 설정\n",
    "- 정제(불용어, 구두점, 개발자 지정 제거 문자)   ==> 불용어, 구두점\n",
    "- 단어사전(정수)\n",
    "- 문장 ==> 수치화\n",
    "- 문장 길이 통일 ==> 패딩\n",
    "- 정수 수치화 ==> One-Hot Encoding 변환 : 파이토치는 필요 없음\n",
    "\n",
    "    =>>> 바뀔것이 별로 없기에 함수화 해놓으면 좋을듯\n",
    "    \n",
    "\n",
    "[모델]\n",
    "- 임베딩 층 : 차원 축소 [예 : 샘플 5개, 3000개 피쳐 ==>  샘플 5개, 30개 피쳐로 축소]\n",
    "- RNN / LSTM / GRU층\n",
    "\n"
   ]
  },
  {
   "cell_type": "markdown",
   "metadata": {},
   "source": [
    "[[[ 설명 ]]]"
   ]
  },
  {
   "cell_type": "code",
   "execution_count": 2,
   "metadata": {},
   "outputs": [],
   "source": [
    "import torch"
   ]
  },
  {
   "cell_type": "code",
   "execution_count": 3,
   "metadata": {},
   "outputs": [],
   "source": [
    "### 단어 사전 생성\n",
    "train_data = 'you need to know how to code'\n",
    "\n",
    "# 중복을 제거한 단어들의 집합인 단어 집합 생성\n",
    "word_set = set(train_data.split())\n",
    "\n",
    "# 단어 집합의 각 단어에 고유한 정수 맵핑\n",
    "vocab = {word: i+2 for i, word in enumerate(word_set)}\n",
    "vocab['']"
   ]
  },
  {
   "cell_type": "code",
   "execution_count": 4,
   "metadata": {},
   "outputs": [],
   "source": [
    "# 임의의 임베딩의 룩업테이블\n",
    "embedding_table = torch.FloatTensor([\n",
    "    [0.0, 0.0, 0.0],\n",
    "    [0.0, 0.0, 0.0],\n",
    "    [0.2, 0.9, 0.3],\n",
    "    [0.1, 0.5, 0.7],\n",
    "    [0.2, 0.1, 0.8],\n",
    "    [0.4, 0.1, 0.1],\n",
    "    [0.1, 0.8, 0.9],\n",
    "    [0.6, 0.1, 0.1],\n",
    "])"
   ]
  },
  {
   "cell_type": "code",
   "execution_count": 5,
   "metadata": {},
   "outputs": [
    {
     "ename": "KeyError",
     "evalue": "'run'",
     "output_type": "error",
     "traceback": [
      "\u001b[1;31m---------------------------------------------------------------------------\u001b[0m",
      "\u001b[1;31mKeyError\u001b[0m                                  Traceback (most recent call last)",
      "Cell \u001b[1;32mIn[5], line 8\u001b[0m\n\u001b[0;32m      7\u001b[0m \u001b[38;5;28;01mtry\u001b[39;00m:\n\u001b[1;32m----> 8\u001b[0m     idxes\u001b[38;5;241m.\u001b[39mappend(\u001b[43mvocab\u001b[49m\u001b[43m[\u001b[49m\u001b[43mword\u001b[49m\u001b[43m]\u001b[49m)\n\u001b[0;32m      9\u001b[0m \u001b[38;5;66;03m# 단어 집합에  없는 단어일 경우 <unk> 대체\u001b[39;00m\n",
      "\u001b[1;31mKeyError\u001b[0m: 'run'",
      "\nDuring handling of the above exception, another exception occurred:\n",
      "\u001b[1;31mKeyError\u001b[0m                                  Traceback (most recent call last)",
      "Cell \u001b[1;32mIn[5], line 11\u001b[0m\n\u001b[0;32m      9\u001b[0m     \u001b[38;5;66;03m# 단어 집합에  없는 단어일 경우 <unk> 대체\u001b[39;00m\n\u001b[0;32m     10\u001b[0m     \u001b[38;5;28;01mexcept\u001b[39;00m \u001b[38;5;167;01mKeyError\u001b[39;00m:\n\u001b[1;32m---> 11\u001b[0m         idxes\u001b[38;5;241m.\u001b[39mappend(\u001b[43mvocab\u001b[49m\u001b[43m[\u001b[49m\u001b[43mword\u001b[49m\u001b[43m]\u001b[49m)\n\u001b[0;32m     13\u001b[0m \u001b[38;5;66;03m# 텐서화 진행\u001b[39;00m\n\u001b[0;32m     14\u001b[0m idxes \u001b[38;5;241m=\u001b[39mtorch\u001b[38;5;241m.\u001b[39mLongTensor(idxes)\n",
      "\u001b[1;31mKeyError\u001b[0m: 'run'"
     ]
    }
   ],
   "source": [
    "# 토큰 정수 ==> 임베딩 벡터 변환\n",
    "sample = 'you need to run'.split()\n",
    "idxes = []\n",
    "\n",
    "# 각 단어를 정수로 변환\n",
    "for word in sample:\n",
    "    try:\n",
    "        idxes.append(vocab[word])\n",
    "    # 단어 집합에  없는 단어일 경우 <unk> 대체\n",
    "    except KeyError:\n",
    "        idxes.append(vocab[word])\n",
    "\n",
    "# 텐서화 진행\n",
    "idxes =torch.LongTensor(idxes)\n",
    "print(f'idxes: {idxes}')\n",
    "\n",
    "# 각 정수를 인덱스로 "
   ]
  },
  {
   "cell_type": "code",
   "execution_count": 6,
   "metadata": {},
   "outputs": [
    {
     "ename": "NameError",
     "evalue": "name 'nn' is not defined",
     "output_type": "error",
     "traceback": [
      "\u001b[1;31m---------------------------------------------------------------------------\u001b[0m",
      "\u001b[1;31mNameError\u001b[0m                                 Traceback (most recent call last)",
      "Cell \u001b[1;32mIn[6], line 2\u001b[0m\n\u001b[0;32m      1\u001b[0m \u001b[38;5;66;03m### Pytorch Embedding Layer\u001b[39;00m\n\u001b[1;32m----> 2\u001b[0m Embedding_Layer \u001b[38;5;241m=\u001b[39m \u001b[43mnn\u001b[49m\u001b[38;5;241m.\u001b[39mEmbedding(num_embeddings \u001b[38;5;241m=\u001b[39m \u001b[38;5;28mlen\u001b[39m(vocab),\n\u001b[0;32m      3\u001b[0m                                emvedding_dim \u001b[38;5;241m=\u001b[39m\u001b[38;5;241m3\u001b[39m,\n\u001b[0;32m      4\u001b[0m                                padding_idx \u001b[38;5;241m=\u001b[39m \u001b[38;5;241m0\u001b[39m)\n",
      "\u001b[1;31mNameError\u001b[0m: name 'nn' is not defined"
     ]
    }
   ],
   "source": [
    "### Pytorch Embedding Layer\n",
    "Embedding_Layer = nn.Embedding(num_embeddings = len(vocab),\n",
    "                               emvedding_dim =3,\n",
    "                               padding_idx = 0)\n"
   ]
  },
  {
   "cell_type": "code",
   "execution_count": 7,
   "metadata": {},
   "outputs": [
    {
     "ename": "SyntaxError",
     "evalue": "invalid syntax (1297625984.py, line 1)",
     "output_type": "error",
     "traceback": [
      "\u001b[1;36m  Cell \u001b[1;32mIn[7], line 1\u001b[1;36m\u001b[0m\n\u001b[1;33m    0.  0 ..........0\u001b[0m\n\u001b[1;37m        ^\u001b[0m\n\u001b[1;31mSyntaxError\u001b[0m\u001b[1;31m:\u001b[0m invalid syntax\n"
     ]
    }
   ],
   "source": [
    "\n",
    "0.  0 ..........0                                                                                                                                                                                                                                                                                                                                                                                                                                                                                                                                                                                                                                                                                                                                                                                                                       "
   ]
  },
  {
   "cell_type": "code",
   "execution_count": null,
   "metadata": {},
   "outputs": [],
   "source": []
  }
 ],
 "metadata": {
  "kernelspec": {
   "display_name": "TEXT_018",
   "language": "python",
   "name": "python3"
  },
  "language_info": {
   "codemirror_mode": {
    "name": "ipython",
    "version": 3
   },
   "file_extension": ".py",
   "mimetype": "text/x-python",
   "name": "python",
   "nbconvert_exporter": "python",
   "pygments_lexer": "ipython3",
   "version": "3.8.19"
  }
 },
 "nbformat": 4,
 "nbformat_minor": 2
}
