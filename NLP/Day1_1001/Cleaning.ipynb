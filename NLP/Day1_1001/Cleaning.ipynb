{
 "cells": [
  {
   "cell_type": "markdown",
   "metadata": {},
   "source": [
    "#### 자연어 처리를 위한 전처리\n",
    "- 정제\n",
    "    * 토큰화 전후로 진행 됨 \n",
    "    * 100% 제거는 어려움!!\n",
    "    * 불용어, 빈도에 따른 제거, 길이에 따른 제거"
   ]
  },
  {
   "cell_type": "code",
   "execution_count": 1,
   "metadata": {},
   "outputs": [],
   "source": [
    "## 모듈로딩\n",
    "from nltk.corpus import stopwords\n",
    "from nltk.tokenize import word_tokenize "
   ]
  },
  {
   "cell_type": "code",
   "execution_count": 2,
   "metadata": {},
   "outputs": [
    {
     "name": "stdout",
     "output_type": "stream",
     "text": [
      "불용어 개수 : 179\n",
      "불용어 10개 출력 : ['i', 'me', 'my', 'myself', 'we', 'our', 'ours', 'ourselves', 'you', \"you're\"]\n",
      "i\n",
      "me my myself we our ours ourselves you you're you've\n",
      "you'll you'd your yours yourself yourselves he him his himself\n",
      "she she's her hers herself it it's its itself they\n",
      "them their theirs themselves what which who whom this that\n",
      "that'll these those am is are was were be ['i', 'me', 'my', 'myself', 'we', 'our', 'ours', 'ourselves', 'you', \"you're\", \"you've\", \"you'll\", \"you'd\", 'your', 'yours', 'yourself', 'yourselves', 'he', 'him', 'his', 'himself', 'she', \"she's\", 'her', 'hers', 'herself', 'it', \"it's\", 'its', 'itself', 'they', 'them', 'their', 'theirs', 'themselves', 'what', 'which', 'who', 'whom', 'this', 'that', \"that'll\", 'these', 'those', 'am', 'is', 'are', 'was', 'were', 'be', 'been', 'being', 'have', 'has', 'had', 'having', 'do', 'does', 'did', 'doing', 'a', 'an', 'the', 'and', 'but', 'if', 'or', 'because', 'as', 'until', 'while', 'of', 'at', 'by', 'for', 'with', 'about', 'against', 'between', 'into', 'through', 'during', 'before', 'after', 'above', 'below', 'to', 'from', 'up', 'down', 'in', 'out', 'on', 'off', 'over', 'under', 'again', 'further', 'then', 'once', 'here', 'there', 'when', 'where', 'why', 'how', 'all', 'any', 'both', 'each', 'few', 'more', 'most', 'other', 'some', 'such', 'no', 'nor', 'not', 'only', 'own', 'same', 'so', 'than', 'too', 'very', 's', 't', 'can', 'will', 'just', 'don', \"don't\", 'should', \"should've\", 'now', 'd', 'll', 'm', 'o', 're', 've', 'y', 'ain', 'aren', \"aren't\", 'couldn', \"couldn't\", 'didn', \"didn't\", 'doesn', \"doesn't\", 'hadn', \"hadn't\", 'hasn', \"hasn't\", 'haven', \"haven't\", 'isn', \"isn't\", 'ma', 'mightn', \"mightn't\", 'mustn', \"mustn't\", 'needn', \"needn't\", 'shan', \"shan't\", 'shouldn', \"shouldn't\", 'wasn', \"wasn't\", 'weren', \"weren't\", 'won', \"won't\", 'wouldn', \"wouldn't\", 'not']\n"
     ]
    }
   ],
   "source": [
    "# NLTK 제공 영어 불용어 리스트 가져오기 \n",
    "# 한글은 구글링하면 많이 나올거임 그걸 \n",
    "english_SW = stopwords.words('english')\n",
    "\n",
    "print('불용어 개수 :', len(english_SW))\n",
    "print('불용어 10개 출력 :',english_SW[:10])\n",
    "for idx, _ in enumerate(english_SW[:50]):\n",
    "    print(_, end=' ' if idx%10 else '\\n')\n",
    "\n",
    "# 커스텀 불용어 토큰/단어 추가\n",
    "english_SW.append('not')\n",
    "print(english_SW)"
   ]
  },
  {
   "cell_type": "code",
   "execution_count": 3,
   "metadata": {},
   "outputs": [],
   "source": [
    "## 토큰에서 불용어 제거하기\n",
    "text = \"Family is not an important thing~. It's everything.\""
   ]
  },
  {
   "cell_type": "code",
   "execution_count": 4,
   "metadata": {},
   "outputs": [
    {
     "name": "stdout",
     "output_type": "stream",
     "text": [
      "punctuation - ! : Family is not an important thing~. It's everything.\n",
      "punctuation - \" : Family is not an important thing~. It's everything.\n",
      "punctuation - # : Family is not an important thing~. It's everything.\n",
      "punctuation - $ : Family is not an important thing~. It's everything.\n",
      "punctuation - % : Family is not an important thing~. It's everything.\n",
      "punctuation - & : Family is not an important thing~. It's everything.\n",
      "punctuation - ' : Family is not an important thing~. Its everything.\n",
      "punctuation - ( : Family is not an important thing~. Its everything.\n",
      "punctuation - ) : Family is not an important thing~. Its everything.\n",
      "punctuation - * : Family is not an important thing~. Its everything.\n",
      "punctuation - + : Family is not an important thing~. Its everything.\n",
      "punctuation - , : Family is not an important thing~. Its everything.\n",
      "punctuation - - : Family is not an important thing~. Its everything.\n",
      "punctuation - . : Family is not an important thing~ Its everything\n",
      "punctuation - / : Family is not an important thing~ Its everything\n",
      "punctuation - : : Family is not an important thing~ Its everything\n",
      "punctuation - ; : Family is not an important thing~ Its everything\n",
      "punctuation - < : Family is not an important thing~ Its everything\n",
      "punctuation - = : Family is not an important thing~ Its everything\n",
      "punctuation - > : Family is not an important thing~ Its everything\n",
      "punctuation - ? : Family is not an important thing~ Its everything\n",
      "punctuation - @ : Family is not an important thing~ Its everything\n",
      "punctuation - [ : Family is not an important thing~ Its everything\n",
      "punctuation - \\ : Family is not an important thing~ Its everything\n",
      "punctuation - ] : Family is not an important thing~ Its everything\n",
      "punctuation - ^ : Family is not an important thing~ Its everything\n",
      "punctuation - _ : Family is not an important thing~ Its everything\n",
      "punctuation - ` : Family is not an important thing~ Its everything\n",
      "punctuation - { : Family is not an important thing~ Its everything\n",
      "punctuation - | : Family is not an important thing~ Its everything\n",
      "punctuation - } : Family is not an important thing~ Its everything\n",
      "punctuation - ~ : Family is not an important thing Its everything\n"
     ]
    }
   ],
   "source": [
    "# 구두점 제거\n",
    "import string\n",
    "\n",
    "punct =string.punctuation\n",
    "for pun in punct:\n",
    "    text = text.replace(pun,'')\n",
    "    print(f'punctuation - {pun} : {text}')"
   ]
  },
  {
   "cell_type": "code",
   "execution_count": 5,
   "metadata": {},
   "outputs": [
    {
     "name": "stdout",
     "output_type": "stream",
     "text": [
      "['!', '\"', '#', '$', '%', '&', \"'\", '(', ')', '*', '+', ',', '-', '.', '/', ':', ';', '<', '=', '>', '?', '@', '[', '\\\\', ']', '^', '_', '`', '{', '|', '}', '~']\n"
     ]
    }
   ],
   "source": [
    "print( list(punct))"
   ]
  },
  {
   "cell_type": "code",
   "execution_count": 6,
   "metadata": {},
   "outputs": [
    {
     "name": "stdout",
     "output_type": "stream",
     "text": [
      "['family', 'is', 'not', 'an', 'important', 'thing', 'its', 'everything']\n"
     ]
    }
   ],
   "source": [
    "## 대소문자 통일 [영어]\n",
    "text = text.lower()\n",
    "\n",
    "## 토큰화 진행\n",
    "tokens = word_tokenize(text)\n",
    "print(tokens)"
   ]
  },
  {
   "cell_type": "code",
   "execution_count": 7,
   "metadata": {},
   "outputs": [],
   "source": [
    "## 불용어 제거 : 분석에 의미가 없는 토큰 제거\n",
    "for token in tokens[::-1]: # 앞에서 부터 인덱스가 시작되게 되면 순서가 틀려지기 때문에 뒤에서 시작되게 해준다\n",
    "    # 불용어 제거\n",
    "    if token in english_SW: \n",
    "        tokens.remove(token)\n",
    "\n",
    "    # 구두점 제거    \n",
    "    if token in list(punct) : \n",
    "        tokens.remove(token)"
   ]
  },
  {
   "cell_type": "code",
   "execution_count": 8,
   "metadata": {},
   "outputs": [
    {
     "data": {
      "text/plain": [
       "['family', 'important', 'thing', 'everything']"
      ]
     },
     "execution_count": 8,
     "metadata": {},
     "output_type": "execute_result"
    }
   ],
   "source": [
    "# 제거 전 : ['family', 'is', 'not', 'an', 'important', 'thing', 'its', 'everything']\n",
    "# 제거 후\n",
    "tokens"
   ]
  },
  {
   "cell_type": "code",
   "execution_count": null,
   "metadata": {},
   "outputs": [],
   "source": []
  },
  {
   "cell_type": "code",
   "execution_count": null,
   "metadata": {},
   "outputs": [],
   "source": []
  },
  {
   "cell_type": "code",
   "execution_count": null,
   "metadata": {},
   "outputs": [],
   "source": []
  }
 ],
 "metadata": {
  "kernelspec": {
   "display_name": "TEXT_018",
   "language": "python",
   "name": "python3"
  },
  "language_info": {
   "codemirror_mode": {
    "name": "ipython",
    "version": 3
   },
   "file_extension": ".py",
   "mimetype": "text/x-python",
   "name": "python",
   "nbconvert_exporter": "python",
   "pygments_lexer": "ipython3",
   "version": "3.8.19"
  }
 },
 "nbformat": 4,
 "nbformat_minor": 2
}
