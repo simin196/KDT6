{
 "cells": [
  {
   "cell_type": "markdown",
   "metadata": {},
   "source": [
    "#### 한국어 형태소 분석\n",
    "- konlpy 패키지 활동\n",
    "    - 내부에 5가지 형태소 분석 패키지 포함\n",
    "    - 5가지 형태소 분석기 사용법 동일, 쉬움"
   ]
  },
  {
   "cell_type": "markdown",
   "metadata": {},
   "source": [
    "[1] 모듈 로딩 <hr>\n"
   ]
  },
  {
   "cell_type": "code",
   "execution_count": 1,
   "metadata": {},
   "outputs": [],
   "source": [
    "from konlpy.tag import *"
   ]
  },
  {
   "cell_type": "markdown",
   "metadata": {},
   "source": [
    "[2] 다양한 형태소 분석기 활용 <hr>"
   ]
  },
  {
   "cell_type": "code",
   "execution_count": 2,
   "metadata": {},
   "outputs": [],
   "source": [
    "### 한나눔 형태소 분석기\n",
    "han = Hannanum()\n",
    "\n",
    "text = '크리스마스가 이제 2달 남았군. 오늘 날씨가 화창하니 너무 좋다!'\n",
    "text1 = '아버지가방에들어가신다'"
   ]
  },
  {
   "cell_type": "code",
   "execution_count": 3,
   "metadata": {},
   "outputs": [
    {
     "name": "stdout",
     "output_type": "stream",
     "text": [
      "['크리스마스', '가', '이제', '2달', '남', '아군', '.', '오늘', '날씨', '가', '화창', '하', '니', '너무', '좋', '다', '!']\n",
      "['아버지가방에들어가', '이', '시ㄴ다']\n"
     ]
    }
   ],
   "source": [
    "### 형태소 분리\n",
    "result = han.morphs(text)\n",
    "result1 = han.morphs(text1)\n",
    "\n",
    "print(result)\n",
    "print(result1)"
   ]
  },
  {
   "cell_type": "code",
   "execution_count": 4,
   "metadata": {},
   "outputs": [
    {
     "name": "stdout",
     "output_type": "stream",
     "text": [
      "['크리스마스', '2달', '오늘', '날씨', '화창']\n"
     ]
    }
   ],
   "source": [
    "### 명사만 추출\n",
    "result = han. nouns(text)\n",
    "\n",
    "print(result)"
   ]
  },
  {
   "cell_type": "code",
   "execution_count": 5,
   "metadata": {},
   "outputs": [
    {
     "name": "stdout",
     "output_type": "stream",
     "text": [
      "[('크리스마스', 'N'), ('가', 'J'), ('이제', 'M'), ('2달', 'N'), ('남', 'P'), ('아군', 'E'), ('.', 'S'), ('오늘', 'N'), ('날씨', 'N'), ('가', 'J'), ('화창', 'N'), ('하', 'X'), ('니', 'E'), ('너무', 'M'), ('좋', 'P'), ('다', 'E'), ('!', 'S')]\n"
     ]
    }
   ],
   "source": [
    "### 품사태깅 추출 분리 ==> 형태소 분리 후 품사 태깅 처리\n",
    "result = han.pos(text)\n",
    "\n",
    "print(result)"
   ]
  },
  {
   "cell_type": "markdown",
   "metadata": {},
   "source": [
    "- - -"
   ]
  },
  {
   "cell_type": "code",
   "execution_count": 6,
   "metadata": {},
   "outputs": [],
   "source": [
    "### 꼬꼬마 형태소 분석기\n",
    "kkma = Kkma()"
   ]
  },
  {
   "cell_type": "code",
   "execution_count": 7,
   "metadata": {},
   "outputs": [
    {
     "name": "stdout",
     "output_type": "stream",
     "text": [
      "['크리스마스', '가', '이제', '2', '달', '남', '았', '군', '.', '오늘', '날씨', '가', '화창', '하', '니', '너무', '좋', '다', '!']\n",
      "['아버지', '가방', '에', '들어가', '시', 'ㄴ다']\n"
     ]
    }
   ],
   "source": [
    "### 형태소 분석\n",
    "print(kkma.morphs(text))\n",
    "print(kkma.morphs(text1))"
   ]
  },
  {
   "cell_type": "code",
   "execution_count": 8,
   "metadata": {},
   "outputs": [
    {
     "name": "stdout",
     "output_type": "stream",
     "text": [
      "['크리스마스', '이제', '2', '2달', '달', '오늘', '날씨']\n"
     ]
    }
   ],
   "source": [
    "### 명사만 추출\n",
    "print(kkma.nouns(text))"
   ]
  },
  {
   "cell_type": "code",
   "execution_count": 9,
   "metadata": {},
   "outputs": [
    {
     "name": "stdout",
     "output_type": "stream",
     "text": [
      "[('크리스마스', 'NNG'), ('가', 'JKS'), ('이제', 'NNG'), ('2', 'NR'), ('달', 'NNG'), ('남', 'VV'), ('았', 'EPT'), ('군', 'EFI'), ('.', 'SF'), ('오늘', 'NNG'), ('날씨', 'NNG'), ('가', 'JKS'), ('화창', 'XR'), ('하', 'XSA'), ('니', 'ECD'), ('너무', 'MAG'), ('좋', 'VA'), ('다', 'EFN'), ('!', 'SF')]\n"
     ]
    }
   ],
   "source": [
    "### 품사태깅 후 분리\n",
    "print(kkma.pos(text))"
   ]
  },
  {
   "cell_type": "markdown",
   "metadata": {},
   "source": [
    "- 각자 사용하는 단어 박스도 다르고 학습방법도 다르고 나눈 방법도 다르다"
   ]
  },
  {
   "cell_type": "markdown",
   "metadata": {},
   "source": [
    "- - -"
   ]
  },
  {
   "cell_type": "code",
   "execution_count": 10,
   "metadata": {},
   "outputs": [],
   "source": [
    "#### 코모한 형태소 분석기\n",
    "komo= Komoran()"
   ]
  },
  {
   "cell_type": "code",
   "execution_count": 11,
   "metadata": {},
   "outputs": [
    {
     "name": "stdout",
     "output_type": "stream",
     "text": [
      "['크리스마스', '가', '이제', '2', '달', '남', '았', '군', '.', '오늘', '날씨', '가', '화창', '하', '니', '너무', '좋', '다', '!']\n",
      "['아버지', '가방', '에', '들어가', '시', 'ㄴ다']\n"
     ]
    }
   ],
   "source": [
    "### 형태소 분석\n",
    "print(komo.morphs(text))\n",
    "print(komo.morphs(text1))"
   ]
  },
  {
   "cell_type": "code",
   "execution_count": 12,
   "metadata": {},
   "outputs": [
    {
     "name": "stdout",
     "output_type": "stream",
     "text": [
      "['크리스마스', '달', '오늘', '날씨']\n"
     ]
    }
   ],
   "source": [
    "### 명사만 추출\n",
    "print(komo.nouns(text))"
   ]
  },
  {
   "cell_type": "code",
   "execution_count": 13,
   "metadata": {},
   "outputs": [
    {
     "name": "stdout",
     "output_type": "stream",
     "text": [
      "[('크리스마스', 'NNP'), ('가', 'JKS'), ('이제', 'MAG'), ('2', 'SN'), ('달', 'NNG'), ('남', 'VV'), ('았', 'EP'), ('군', 'EF'), ('.', 'SF'), ('오늘', 'NNG'), ('날씨', 'NNG'), ('가', 'JKS'), ('화창', 'XR'), ('하', 'XSA'), ('니', 'EC'), ('너무', 'MAG'), ('좋', 'VA'), ('다', 'EF'), ('!', 'SF')]\n"
     ]
    }
   ],
   "source": [
    "### 품사태깅 후 분리\n",
    "print(komo.pos(text))"
   ]
  },
  {
   "cell_type": "markdown",
   "metadata": {},
   "source": [
    "- - -"
   ]
  },
  {
   "cell_type": "code",
   "execution_count": 14,
   "metadata": {},
   "outputs": [],
   "source": [
    "#### OKT 형태소 분석기\n",
    "okt = Okt()"
   ]
  },
  {
   "cell_type": "code",
   "execution_count": 15,
   "metadata": {},
   "outputs": [
    {
     "name": "stdout",
     "output_type": "stream",
     "text": [
      "['크리스마스', '가', '이제', '2', '달', '남았군', '.', '오늘', '날씨', '가', '화창하니', '너무', '좋다', '!']\n",
      "['크리스마스', '이제', '달', '오늘', '날씨']\n",
      "[('크리스마스', 'Noun'), ('가', 'Josa'), ('이제', 'Noun'), ('2', 'Number'), ('달', 'Noun'), ('남았군', 'Verb'), ('.', 'Punctuation'), ('오늘', 'Noun'), ('날씨', 'Noun'), ('가', 'Josa'), ('화창하니', 'Adjective'), ('너무', 'Adverb'), ('좋다', 'Adjective'), ('!', 'Punctuation')]\n"
     ]
    }
   ],
   "source": [
    "print(okt.morphs(text))\n",
    "print(okt.nouns(text))\n",
    "print(okt.pos(text))"
   ]
  },
  {
   "cell_type": "code",
   "execution_count": 16,
   "metadata": {},
   "outputs": [],
   "source": [
    "#### Mecab 형태소 분석기 ==> 이제 윈도우 운영체제에는 지원X "
   ]
  },
  {
   "cell_type": "code",
   "execution_count": 19,
   "metadata": {},
   "outputs": [],
   "source": [
    "def testset(moduel, text):    \n",
    "    print(moduel.morphs(text))\n",
    "    print(moduel.nouns(text))\n",
    "    print(moduel.pos(text))"
   ]
  },
  {
   "cell_type": "code",
   "execution_count": 18,
   "metadata": {},
   "outputs": [
    {
     "name": "stdout",
     "output_type": "stream",
     "text": [
      "['크리스마스', '가', '이제', '2', '달', '남았군', '.', '오늘', '날씨', '가', '화창하니', '너무', '좋다', '!']\n",
      "['크리스마스', '이제', '달', '오늘', '날씨']\n",
      "[('크리스마스', 'Noun'), ('가', 'Josa'), ('이제', 'Noun'), ('2', 'Number'), ('달', 'Noun'), ('남았군', 'Verb'), ('.', 'Punctuation'), ('오늘', 'Noun'), ('날씨', 'Noun'), ('가', 'Josa'), ('화창하니', 'Adjective'), ('너무', 'Adverb'), ('좋다', 'Adjective'), ('!', 'Punctuation')]\n"
     ]
    }
   ],
   "source": [
    "testset(okt,text)"
   ]
  },
  {
   "cell_type": "code",
   "execution_count": null,
   "metadata": {},
   "outputs": [],
   "source": []
  }
 ],
 "metadata": {
  "kernelspec": {
   "display_name": "TEXT_018",
   "language": "python",
   "name": "python3"
  },
  "language_info": {
   "codemirror_mode": {
    "name": "ipython",
    "version": 3
   },
   "file_extension": ".py",
   "mimetype": "text/x-python",
   "name": "python",
   "nbconvert_exporter": "python",
   "pygments_lexer": "ipython3",
   "version": "3.8.19"
  }
 },
 "nbformat": 4,
 "nbformat_minor": 2
}
