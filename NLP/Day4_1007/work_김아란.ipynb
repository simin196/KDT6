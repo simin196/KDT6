{
 "cells": [
  {
   "cell_type": "code",
   "execution_count": 1,
   "metadata": {},
   "outputs": [],
   "source": [
    "## 모듈로딩\n",
    "from Korpora import Korpora                     # Open Korean Dataset\n",
    "from konlpy.tag import *                        # 형태소 분석기\n",
    "import spacy                                    # 형태소 분석기\n",
    "# from torchtext.data.utils import get_tokenizer  # Pytorch 자연어처리 모듈\n",
    "# from torchtext.vocab import *                   # Pytorch 자연어처리 단어사전 관련 모듈\n",
    "from torch.utils.data import Dataset, DataLoader  # Pytorch Dataset 관련 모듈\n",
    "import pandas as pd\n",
    "from sklearn.feature_extraction.text import CountVectorizer\n",
    "import re                                   # 정규표현식"
   ]
  },
  {
   "cell_type": "code",
   "execution_count": 2,
   "metadata": {},
   "outputs": [
    {
     "name": "stdout",
     "output_type": "stream",
     "text": [
      "\n",
      "    Korpora 는 다른 분들이 연구 목적으로 공유해주신 말뭉치들을\n",
      "    손쉽게 다운로드, 사용할 수 있는 기능만을 제공합니다.\n",
      "\n",
      "    말뭉치들을 공유해 주신 분들에게 감사드리며, 각 말뭉치 별 설명과 라이센스를 공유 드립니다.\n",
      "    해당 말뭉치에 대해 자세히 알고 싶으신 분은 아래의 description 을 참고,\n",
      "    해당 말뭉치를 연구/상용의 목적으로 이용하실 때에는 아래의 라이센스를 참고해 주시기 바랍니다.\n",
      "\n",
      "    # Description\n",
      "    Author : e9t@github\n",
      "    Repository : https://github.com/e9t/nsmc\n",
      "    References : www.lucypark.kr/docs/2015-pyconkr/#39\n",
      "\n",
      "    Naver sentiment movie corpus v1.0\n",
      "    This is a movie review dataset in the Korean language.\n",
      "    Reviews were scraped from Naver Movies.\n",
      "\n",
      "    The dataset construction is based on the method noted in\n",
      "    [Large movie review dataset][^1] from Maas et al., 2011.\n",
      "\n",
      "    [^1]: http://ai.stanford.edu/~amaas/data/sentiment/\n",
      "\n",
      "    # License\n",
      "    CC0 1.0 Universal (CC0 1.0) Public Domain Dedication\n",
      "    Details in https://creativecommons.org/publicdomain/zero/1.0/\n",
      "\n",
      "[Korpora] Corpus `nsmc` is already installed at C:\\Users\\KDP-23\\Korpora\\nsmc\\ratings_train.txt\n",
      "[Korpora] Corpus `nsmc` is already installed at C:\\Users\\KDP-23\\Korpora\\nsmc\\ratings_test.txt\n"
     ]
    }
   ],
   "source": [
    "## 데이터 로딩\n",
    "nsmc=Korpora.load('nsmc')"
   ]
  },
  {
   "cell_type": "code",
   "execution_count": 3,
   "metadata": {},
   "outputs": [
    {
     "name": "stdout",
     "output_type": "stream",
     "text": [
      "<class 'pandas.core.frame.DataFrame'>\n",
      "RangeIndex: 50000 entries, 0 to 49999\n",
      "Data columns (total 2 columns):\n",
      " #   Column  Non-Null Count  Dtype \n",
      "---  ------  --------------  ----- \n",
      " 0   text    50000 non-null  object\n",
      " 1   label   50000 non-null  int64 \n",
      "dtypes: int64(1), object(1)\n",
      "memory usage: 781.4+ KB\n"
     ]
    }
   ],
   "source": [
    "## Test 데이터셋을 DataFrame으로 로딩\n",
    "nsmcDF=pd.DataFrame(nsmc.test)\n",
    "nsmcDF.info()"
   ]
  },
  {
   "cell_type": "code",
   "execution_count": 4,
   "metadata": {},
   "outputs": [],
   "source": [
    "class TextDataset(Dataset):\n",
    "    def __init__(self,feature,label):\n",
    "        self.feature=feature\n",
    "        self.label=label\n",
    "        self.length=feature.shape[0]\n",
    "\n",
    "    def __len__(self):\n",
    "        return self.length\n",
    "\n",
    "    def __getitem__(self, index):\n",
    "        return self.feature.iloc[index],self.label.iloc[index]"
   ]
  },
  {
   "cell_type": "code",
   "execution_count": 5,
   "metadata": {},
   "outputs": [],
   "source": [
    "# NSMC의 데이터셋 인스턴스 생성\n",
    "nsmcDS=TextDataset(nsmcDF['text'],nsmcDF['label'])"
   ]
  },
  {
   "cell_type": "code",
   "execution_count": 6,
   "metadata": {},
   "outputs": [
    {
     "name": "stdout",
     "output_type": "stream",
     "text": [
      "굳 ㅋ 1\n",
      "GDNTOPCLASSINTHECLUB 0\n",
      "뭐야 이 평점들은.... 나쁘진 않지만 10점 짜리는 더더욱 아니잖아 0\n",
      "지루하지는 않은데 완전 막장임... 돈주고 보기에는.... 0\n",
      "3D만 아니었어도 별 다섯 개 줬을텐데.. 왜 3D로 나와서 제 심기를 불편하게 하죠?? 0\n",
      "음악이 주가 된, 최고의 음악영화 1\n",
      "진정한 쓰레기 0\n",
      "마치 미국애니에서 튀어나온듯한 창의력없는 로봇디자인부터가,고개를 젖게한다 0\n",
      "갈수록 개판되가는 중국영화 유치하고 내용없음 폼잡다 끝남 말도안되는 무기에 유치한cg남무 아 그립다 동사서독같은 영화가 이건 3류아류작이다 0\n",
      "이별의 아픔뒤에 찾아오는 새로운 인연의 기쁨 But, 모든 사람이 그렇지는 않네.. 1\n"
     ]
    }
   ],
   "source": [
    "n=0\n",
    "for feature,label in nsmcDS:\n",
    "    print(feature,label)\n",
    "    n+=1\n",
    "    if n==10:\n",
    "        break"
   ]
  },
  {
   "cell_type": "code",
   "execution_count": 7,
   "metadata": {},
   "outputs": [],
   "source": [
    "okt=Okt()"
   ]
  },
  {
   "cell_type": "code",
   "execution_count": 8,
   "metadata": {},
   "outputs": [],
   "source": [
    "### 텍스트 Dataset에서 처리할 데이터셋만 로딩해서 토큰화 진행하는 반복자 함수\n",
    "def generateToken(dataset):\n",
    "    tokenlists=[]\n",
    "    for text,label in dataset:\n",
    "        # 한글빼고 다지우기\n",
    "        text=re.sub('[^ㄱ-ㅎ가-힣]+',' ',text)\n",
    "        tokenlist=''\n",
    "        # 기본형으로 토큰 주세요\n",
    "        tokens=okt.pos(text,norm=True,stem=True)\n",
    "        for token in tokens:\n",
    "            if (len(token[0])>1):\n",
    "                tokenlist=tokenlist+' '+str(token[0])\n",
    "        tokenlists.append(tokenlist)\n",
    "    return tokenlists"
   ]
  },
  {
   "cell_type": "code",
   "execution_count": 9,
   "metadata": {},
   "outputs": [],
   "source": [
    "# 수치화 패딩\n",
    "def vectorize(tokenlist,padding=20):\n",
    "    ### 단어 사전 생성 및 변환\n",
    "    cv=CountVectorizer()\n",
    "    cv.fit_transform(tokenlist)\n",
    "    vo=cv.vocabulary_\n",
    "    vectorlist=tokenlist.copy()\n",
    "    for idx,sen in enumerate(vectorlist):\n",
    "        senlist=sen.split(' ')[1:]\n",
    "        length=len(senlist)\n",
    "        if length<padding:\n",
    "            for ind,st in enumerate(senlist):\n",
    "                senlist[ind]=vo[st]\n",
    "            vectorlist[idx]=senlist+([0]*(padding-length))\n",
    "        else:\n",
    "            for ind,st in enumerate(senlist):\n",
    "                senlist[ind]=vo[st]\n",
    "            vectorlist[idx]=senlist[:padding]\n",
    "\n",
    "    return vectorlist"
   ]
  },
  {
   "cell_type": "code",
   "execution_count": 10,
   "metadata": {},
   "outputs": [],
   "source": [
    "tokenlist=generateToken(nsmcDS)\n",
    "vectorlist=vectorize(tokenlist,padding=20)"
   ]
  },
  {
   "cell_type": "code",
   "execution_count": 11,
   "metadata": {},
   "outputs": [
    {
     "name": "stdout",
     "output_type": "stream",
     "text": [
      " 굳다\n",
      "[2066, 0, 0, 0, 0, 0, 0, 0, 0, 0, 0, 0, 0, 0, 0, 0, 0, 0, 0, 0]\n",
      "\n",
      "[0, 0, 0, 0, 0, 0, 0, 0, 0, 0, 0, 0, 0, 0, 0, 0, 0, 0, 0, 0]\n",
      " 평점 나쁘다 않다 짜다 더욱 아니다\n",
      "[22607, 3282, 13527, 19944, 4741, 13097, 0, 0, 0, 0, 0, 0, 0, 0, 0, 0, 0, 0, 0, 0]\n",
      " 지루하다 않다 완전 막장 주다 보기 에는\n",
      "[19602, 13527, 15375, 6714, 19221, 9257, 14356, 0, 0, 0, 0, 0, 0, 0, 0, 0, 0, 0, 0, 0]\n",
      " 아니다 다섯 주다 나오다 심기 불편하다 하다\n",
      "[13097, 4236, 19221, 3305, 12785, 9882, 23117, 0, 0, 0, 0, 0, 0, 0, 0, 0, 0, 0, 0, 0]\n",
      " 음악 주가 되다 최고 음악 영화\n",
      "[16520, 19201, 5237, 20673, 16520, 14923, 0, 0, 0, 0, 0, 0, 0, 0, 0, 0, 0, 0, 0, 0]\n",
      " 진정하다 쓰레기\n",
      "[19811, 13003, 0, 0, 0, 0, 0, 0, 0, 0, 0, 0, 0, 0, 0, 0, 0, 0, 0, 0]\n",
      " 마치 미국 애니 에서 튀어나오다 창의력 없다 로봇 디자인 부터가 고개 젖다 하다\n",
      "[6656, 7944, 13683, 14399, 22076, 20274, 14298, 6180, 5525, 9688, 1286, 18752, 23117, 0, 0, 0, 0, 0, 0, 0]\n",
      " 갈수록 개판 되다 중국영화 유치하다 내용 없다 잡다 끝나다 안되다 무기 유치하다 남무 그리다 동사서독 같다 영화 류작 이다\n",
      "[455, 807, 5237, 19422, 16255, 3632, 14298, 17883, 3172, 13434, 7625, 16255, 3515, 2281, 5173, 657, 14923, 6333, 16703, 0]\n",
      " 이별 아픔 찾아오다 새롭다 인연 기쁨 모든 사람 그렇다 않다\n",
      "[16824, 13354, 20294, 10859, 17275, 2539, 7389, 10443, 2255, 13527, 0, 0, 0, 0, 0, 0, 0, 0, 0, 0]\n"
     ]
    }
   ],
   "source": [
    "for i in range(10):\n",
    "    print(tokenlist[i])\n",
    "    print(vectorlist[i])"
   ]
  },
  {
   "cell_type": "code",
   "execution_count": null,
   "metadata": {},
   "outputs": [],
   "source": []
  }
 ],
 "metadata": {
  "kernelspec": {
   "display_name": "TEXT_018",
   "language": "python",
   "name": "python3"
  },
  "language_info": {
   "codemirror_mode": {
    "name": "ipython",
    "version": 3
   },
   "file_extension": ".py",
   "mimetype": "text/x-python",
   "name": "python",
   "nbconvert_exporter": "python",
   "pygments_lexer": "ipython3",
   "version": "3.8.19"
  }
 },
 "nbformat": 4,
 "nbformat_minor": 2
}
