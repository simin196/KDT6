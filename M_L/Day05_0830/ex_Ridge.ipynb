{
 "cells": [
  {
   "cell_type": "markdown",
   "metadata": {},
   "source": [
    "#### 보스턴 집값 예측 모델\n",
    " - 데이처셋 : boston.csv\n",
    " - 학습방법 : 지도학습 >> 회귀\n",
    " - 피쳐/독립 : 13개\n",
    " - 타겟/종속 : 1개"
   ]
  },
  {
   "cell_type": "code",
   "execution_count": 1,
   "metadata": {},
   "outputs": [],
   "source": [
    "# 모듈 로딩\n",
    "import pandas as pd\n",
    "import numpy as np\n",
    "from sklearn.preprocessing import StandardScaler, MinMaxScaler, RobustScaler\n",
    "from sklearn.model_selection import train_test_split"
   ]
  },
  {
   "cell_type": "code",
   "execution_count": 2,
   "metadata": {},
   "outputs": [],
   "source": [
    "# 데이터 \n",
    "DATA_file = '../data/boston.csv'"
   ]
  },
  {
   "cell_type": "code",
   "execution_count": 3,
   "metadata": {},
   "outputs": [
    {
     "data": {
      "text/html": [
       "<div>\n",
       "<style scoped>\n",
       "    .dataframe tbody tr th:only-of-type {\n",
       "        vertical-align: middle;\n",
       "    }\n",
       "\n",
       "    .dataframe tbody tr th {\n",
       "        vertical-align: top;\n",
       "    }\n",
       "\n",
       "    .dataframe thead th {\n",
       "        text-align: right;\n",
       "    }\n",
       "</style>\n",
       "<table border=\"1\" class=\"dataframe\">\n",
       "  <thead>\n",
       "    <tr style=\"text-align: right;\">\n",
       "      <th></th>\n",
       "      <th>CRIM</th>\n",
       "      <th>ZN</th>\n",
       "      <th>INDUS</th>\n",
       "      <th>CHAS</th>\n",
       "      <th>NOX</th>\n",
       "      <th>RM</th>\n",
       "      <th>AGE</th>\n",
       "      <th>DIS</th>\n",
       "      <th>RAD</th>\n",
       "      <th>TAX</th>\n",
       "      <th>PTRATIO</th>\n",
       "      <th>B</th>\n",
       "      <th>LSTAT</th>\n",
       "      <th>MEDV</th>\n",
       "    </tr>\n",
       "  </thead>\n",
       "  <tbody>\n",
       "    <tr>\n",
       "      <th>0</th>\n",
       "      <td>0.00632</td>\n",
       "      <td>18.0</td>\n",
       "      <td>2.31</td>\n",
       "      <td>0</td>\n",
       "      <td>0.538</td>\n",
       "      <td>6.575</td>\n",
       "      <td>65.2</td>\n",
       "      <td>4.0900</td>\n",
       "      <td>1</td>\n",
       "      <td>296.0</td>\n",
       "      <td>15.3</td>\n",
       "      <td>396.90</td>\n",
       "      <td>4.98</td>\n",
       "      <td>24.0</td>\n",
       "    </tr>\n",
       "    <tr>\n",
       "      <th>1</th>\n",
       "      <td>0.02731</td>\n",
       "      <td>0.0</td>\n",
       "      <td>7.07</td>\n",
       "      <td>0</td>\n",
       "      <td>0.469</td>\n",
       "      <td>6.421</td>\n",
       "      <td>78.9</td>\n",
       "      <td>4.9671</td>\n",
       "      <td>2</td>\n",
       "      <td>242.0</td>\n",
       "      <td>17.8</td>\n",
       "      <td>396.90</td>\n",
       "      <td>9.14</td>\n",
       "      <td>21.6</td>\n",
       "    </tr>\n",
       "    <tr>\n",
       "      <th>2</th>\n",
       "      <td>0.02729</td>\n",
       "      <td>0.0</td>\n",
       "      <td>7.07</td>\n",
       "      <td>0</td>\n",
       "      <td>0.469</td>\n",
       "      <td>7.185</td>\n",
       "      <td>61.1</td>\n",
       "      <td>4.9671</td>\n",
       "      <td>2</td>\n",
       "      <td>242.0</td>\n",
       "      <td>17.8</td>\n",
       "      <td>392.83</td>\n",
       "      <td>4.03</td>\n",
       "      <td>34.7</td>\n",
       "    </tr>\n",
       "    <tr>\n",
       "      <th>3</th>\n",
       "      <td>0.03237</td>\n",
       "      <td>0.0</td>\n",
       "      <td>2.18</td>\n",
       "      <td>0</td>\n",
       "      <td>0.458</td>\n",
       "      <td>6.998</td>\n",
       "      <td>45.8</td>\n",
       "      <td>6.0622</td>\n",
       "      <td>3</td>\n",
       "      <td>222.0</td>\n",
       "      <td>18.7</td>\n",
       "      <td>394.63</td>\n",
       "      <td>2.94</td>\n",
       "      <td>33.4</td>\n",
       "    </tr>\n",
       "    <tr>\n",
       "      <th>4</th>\n",
       "      <td>0.06905</td>\n",
       "      <td>0.0</td>\n",
       "      <td>2.18</td>\n",
       "      <td>0</td>\n",
       "      <td>0.458</td>\n",
       "      <td>7.147</td>\n",
       "      <td>54.2</td>\n",
       "      <td>6.0622</td>\n",
       "      <td>3</td>\n",
       "      <td>222.0</td>\n",
       "      <td>18.7</td>\n",
       "      <td>396.90</td>\n",
       "      <td>5.33</td>\n",
       "      <td>36.2</td>\n",
       "    </tr>\n",
       "  </tbody>\n",
       "</table>\n",
       "</div>"
      ],
      "text/plain": [
       "      CRIM    ZN  INDUS  CHAS    NOX     RM   AGE     DIS  RAD    TAX  \\\n",
       "0  0.00632  18.0   2.31     0  0.538  6.575  65.2  4.0900    1  296.0   \n",
       "1  0.02731   0.0   7.07     0  0.469  6.421  78.9  4.9671    2  242.0   \n",
       "2  0.02729   0.0   7.07     0  0.469  7.185  61.1  4.9671    2  242.0   \n",
       "3  0.03237   0.0   2.18     0  0.458  6.998  45.8  6.0622    3  222.0   \n",
       "4  0.06905   0.0   2.18     0  0.458  7.147  54.2  6.0622    3  222.0   \n",
       "\n",
       "   PTRATIO       B  LSTAT  MEDV  \n",
       "0     15.3  396.90   4.98  24.0  \n",
       "1     17.8  396.90   9.14  21.6  \n",
       "2     17.8  392.83   4.03  34.7  \n",
       "3     18.7  394.63   2.94  33.4  \n",
       "4     18.7  396.90   5.33  36.2  "
      ]
     },
     "execution_count": 3,
     "metadata": {},
     "output_type": "execute_result"
    }
   ],
   "source": [
    "# csv -> DF\n",
    "dataDF = pd.read_csv(DATA_file)\n",
    "dataDF.head()"
   ]
  },
  {
   "cell_type": "code",
   "execution_count": 4,
   "metadata": {},
   "outputs": [
    {
     "name": "stdout",
     "output_type": "stream",
     "text": [
      "<class 'pandas.core.frame.DataFrame'>\n",
      "RangeIndex: 506 entries, 0 to 505\n",
      "Data columns (total 14 columns):\n",
      " #   Column   Non-Null Count  Dtype  \n",
      "---  ------   --------------  -----  \n",
      " 0   CRIM     506 non-null    float64\n",
      " 1   ZN       506 non-null    float64\n",
      " 2   INDUS    506 non-null    float64\n",
      " 3   CHAS     506 non-null    int64  \n",
      " 4   NOX      506 non-null    float64\n",
      " 5   RM       506 non-null    float64\n",
      " 6   AGE      506 non-null    float64\n",
      " 7   DIS      506 non-null    float64\n",
      " 8   RAD      506 non-null    int64  \n",
      " 9   TAX      506 non-null    float64\n",
      " 10  PTRATIO  506 non-null    float64\n",
      " 11  B        506 non-null    float64\n",
      " 12  LSTAT    506 non-null    float64\n",
      " 13  MEDV     506 non-null    float64\n",
      "dtypes: float64(12), int64(2)\n",
      "memory usage: 55.5 KB\n"
     ]
    }
   ],
   "source": [
    "dataDF.info()"
   ]
  },
  {
   "cell_type": "markdown",
   "metadata": {},
   "source": [
    "### 2. 전처리\n",
    "##### 2-1. 데이터 정제 \n",
    "##### 결측치, 중복값, 이상치, 컬럼별 고유값 추출로 이상 데이터 체크"
   ]
  },
  {
   "cell_type": "markdown",
   "metadata": {},
   "source": [
    "##### 2-2 표준화 & 정규화 ===> 진행여부에 따라 성능의 변화는 경우에 따라 다름!!!!\n",
    " - 정규분포 데이터셋을 기반으로 한 모델 ==> StandardScaler, MinMaxScaler , log 변환\n",
    " - 피쳐와의 값의 범위 차이를 줄이기 ==> 피쳐 스케일링, MinMaxScaler, RobustScaler....\n",
    " - 범주형 피쳐 ==> 수치화, 인코딩 , OneHotEncoder, OrdinalEncoder\n",
    " - 문자열 타겟 ==> 정수 라벨인코딩, LabelEncoder"
   ]
  },
  {
   "cell_type": "markdown",
   "metadata": {},
   "source": [
    "##### 피쳐와 타겟 분리\n"
   ]
  },
  {
   "cell_type": "code",
   "execution_count": 5,
   "metadata": {},
   "outputs": [],
   "source": [
    "featureDF = dataDF.iloc[:, :-1]\n",
    "targetSR= dataDF['MEDV']"
   ]
  },
  {
   "cell_type": "code",
   "execution_count": 6,
   "metadata": {},
   "outputs": [
    {
     "name": "stdout",
     "output_type": "stream",
     "text": [
      "featureDF : (506, 13), targetSR = (506,)\n"
     ]
    }
   ],
   "source": [
    "print(f'featureDF : {featureDF.shape}, targetSR = {targetSR.shape}')"
   ]
  },
  {
   "cell_type": "code",
   "execution_count": 7,
   "metadata": {},
   "outputs": [],
   "source": [
    "### 학습 준비\n",
    "# 3-1 학습용 데이터 셋과 테스트용 데이터 셋 분리"
   ]
  },
  {
   "cell_type": "code",
   "execution_count": 8,
   "metadata": {},
   "outputs": [],
   "source": [
    "x_train, x_test, y_train, y_test = train_test_split(featureDF,\n",
    "                                                    targetSR,random_state=10)"
   ]
  },
  {
   "cell_type": "code",
   "execution_count": 9,
   "metadata": {},
   "outputs": [
    {
     "name": "stdout",
     "output_type": "stream",
     "text": [
      "x_train:         CRIM    ZN  INDUS  CHAS    NOX     RM   AGE     DIS  RAD    TAX  \\\n",
      "167   1.80028   0.0  19.58     0  0.605  5.877  79.2  2.4259    5  403.0   \n",
      "318   0.40202   0.0   9.90     0  0.544  6.382  67.2  3.5325    4  304.0   \n",
      "99    0.06860   0.0   2.89     0  0.445  7.416  62.5  3.4952    2  276.0   \n",
      "307   0.04932  33.0   2.18     0  0.472  6.849  70.3  3.1827    7  222.0   \n",
      "404  41.52920   0.0  18.10     0  0.693  5.531  85.4  1.6074   24  666.0   \n",
      "..        ...   ...    ...   ...    ...    ...   ...     ...  ...    ...   \n",
      "320   0.16760   0.0   7.38     0  0.493  6.426  52.3  4.5404    5  287.0   \n",
      "15    0.62739   0.0   8.14     0  0.538  5.834  56.5  4.4986    4  307.0   \n",
      "484   2.37857   0.0  18.10     0  0.583  5.871  41.9  3.7240   24  666.0   \n",
      "125   0.16902   0.0  25.65     0  0.581  5.986  88.4  1.9929    2  188.0   \n",
      "265   0.76162  20.0   3.97     0  0.647  5.560  62.8  1.9865    5  264.0   \n",
      "\n",
      "     PTRATIO       B  LSTAT  \n",
      "167     14.7  227.61  12.14  \n",
      "318     18.4  395.21  10.36  \n",
      "99      18.0  396.90   6.19  \n",
      "307     18.4  396.90   7.53  \n",
      "404     20.2  329.46  27.38  \n",
      "..       ...     ...    ...  \n",
      "320     19.6  396.90   7.20  \n",
      "15      21.0  395.62   8.47  \n",
      "484     20.2  370.73  13.34  \n",
      "125     19.1  385.02  14.81  \n",
      "265     13.0  392.40  10.45  \n",
      "\n",
      "[379 rows x 13 columns], y_tarin:167    23.8\n",
      "318    23.1\n",
      "99     33.2\n",
      "307    28.2\n",
      "404     8.5\n",
      "       ... \n",
      "320    23.8\n",
      "15     19.9\n",
      "484    20.6\n",
      "125    21.4\n",
      "265    22.8\n",
      "Name: MEDV, Length: 379, dtype: float64\n",
      "x_train:        CRIM    ZN  INDUS  CHAS    NOX     RM    AGE     DIS  RAD    TAX  \\\n",
      "305  0.05479  33.0   2.18     0  0.472  6.616   58.1  3.3700    7  222.0   \n",
      "193  0.02187  60.0   2.93     0  0.401  6.800    9.9  6.2196    1  265.0   \n",
      "65   0.03584  80.0   3.37     0  0.398  6.290   17.8  6.6115    4  337.0   \n",
      "349  0.02899  40.0   1.25     0  0.429  6.939   34.5  8.7921    1  335.0   \n",
      "151  1.49632   0.0  19.58     0  0.871  5.404  100.0  1.5916    5  403.0   \n",
      "..       ...   ...    ...   ...    ...    ...    ...     ...  ...    ...   \n",
      "493  0.17331   0.0   9.69     0  0.585  5.707   54.0  2.3817    6  391.0   \n",
      "142  3.32105   0.0  19.58     1  0.871  5.403  100.0  1.3216    5  403.0   \n",
      "26   0.67191   0.0   8.14     0  0.538  5.813   90.3  4.6820    4  307.0   \n",
      "173  0.09178   0.0   4.05     0  0.510  6.416   84.1  2.6463    5  296.0   \n",
      "428  7.36711   0.0  18.10     0  0.679  6.193   78.1  1.9356   24  666.0   \n",
      "\n",
      "     PTRATIO       B  LSTAT  \n",
      "305     18.4  393.36   8.93  \n",
      "193     15.6  393.37   5.03  \n",
      "65      16.1  396.90   4.67  \n",
      "349     19.7  389.85   5.89  \n",
      "151     14.7  341.60  13.28  \n",
      "..       ...     ...    ...  \n",
      "493     19.2  396.90  12.01  \n",
      "142     14.7  396.90  26.82  \n",
      "26      21.0  376.88  14.81  \n",
      "173     16.6  395.50   9.04  \n",
      "428     20.2   96.73  21.52  \n",
      "\n",
      "[127 rows x 13 columns], y_tarin:305    28.4\n",
      "193    31.1\n",
      "65     23.5\n",
      "349    26.6\n",
      "151    19.6\n",
      "       ... \n",
      "493    21.8\n",
      "142    13.4\n",
      "26     16.6\n",
      "173    23.6\n",
      "428    11.0\n",
      "Name: MEDV, Length: 127, dtype: float64\n"
     ]
    }
   ],
   "source": [
    "print(f'x_train:{x_train}, y_tarin:{y_train}')\n",
    "print(f'x_train:{x_test}, y_tarin:{y_test}')"
   ]
  },
  {
   "cell_type": "code",
   "execution_count": 19,
   "metadata": {},
   "outputs": [
    {
     "name": "stdout",
     "output_type": "stream",
     "text": [
      "(379, 13) (379,)\n"
     ]
    }
   ],
   "source": [
    "print(x_train.shape, y_train.shape)"
   ]
  },
  {
   "cell_type": "code",
   "execution_count": 10,
   "metadata": {},
   "outputs": [
    {
     "data": {
      "text/html": [
       "<style>#sk-container-id-1 {color: black;}#sk-container-id-1 pre{padding: 0;}#sk-container-id-1 div.sk-toggleable {background-color: white;}#sk-container-id-1 label.sk-toggleable__label {cursor: pointer;display: block;width: 100%;margin-bottom: 0;padding: 0.3em;box-sizing: border-box;text-align: center;}#sk-container-id-1 label.sk-toggleable__label-arrow:before {content: \"▸\";float: left;margin-right: 0.25em;color: #696969;}#sk-container-id-1 label.sk-toggleable__label-arrow:hover:before {color: black;}#sk-container-id-1 div.sk-estimator:hover label.sk-toggleable__label-arrow:before {color: black;}#sk-container-id-1 div.sk-toggleable__content {max-height: 0;max-width: 0;overflow: hidden;text-align: left;background-color: #f0f8ff;}#sk-container-id-1 div.sk-toggleable__content pre {margin: 0.2em;color: black;border-radius: 0.25em;background-color: #f0f8ff;}#sk-container-id-1 input.sk-toggleable__control:checked~div.sk-toggleable__content {max-height: 200px;max-width: 100%;overflow: auto;}#sk-container-id-1 input.sk-toggleable__control:checked~label.sk-toggleable__label-arrow:before {content: \"▾\";}#sk-container-id-1 div.sk-estimator input.sk-toggleable__control:checked~label.sk-toggleable__label {background-color: #d4ebff;}#sk-container-id-1 div.sk-label input.sk-toggleable__control:checked~label.sk-toggleable__label {background-color: #d4ebff;}#sk-container-id-1 input.sk-hidden--visually {border: 0;clip: rect(1px 1px 1px 1px);clip: rect(1px, 1px, 1px, 1px);height: 1px;margin: -1px;overflow: hidden;padding: 0;position: absolute;width: 1px;}#sk-container-id-1 div.sk-estimator {font-family: monospace;background-color: #f0f8ff;border: 1px dotted black;border-radius: 0.25em;box-sizing: border-box;margin-bottom: 0.5em;}#sk-container-id-1 div.sk-estimator:hover {background-color: #d4ebff;}#sk-container-id-1 div.sk-parallel-item::after {content: \"\";width: 100%;border-bottom: 1px solid gray;flex-grow: 1;}#sk-container-id-1 div.sk-label:hover label.sk-toggleable__label {background-color: #d4ebff;}#sk-container-id-1 div.sk-serial::before {content: \"\";position: absolute;border-left: 1px solid gray;box-sizing: border-box;top: 0;bottom: 0;left: 50%;z-index: 0;}#sk-container-id-1 div.sk-serial {display: flex;flex-direction: column;align-items: center;background-color: white;padding-right: 0.2em;padding-left: 0.2em;position: relative;}#sk-container-id-1 div.sk-item {position: relative;z-index: 1;}#sk-container-id-1 div.sk-parallel {display: flex;align-items: stretch;justify-content: center;background-color: white;position: relative;}#sk-container-id-1 div.sk-item::before, #sk-container-id-1 div.sk-parallel-item::before {content: \"\";position: absolute;border-left: 1px solid gray;box-sizing: border-box;top: 0;bottom: 0;left: 50%;z-index: -1;}#sk-container-id-1 div.sk-parallel-item {display: flex;flex-direction: column;z-index: 1;position: relative;background-color: white;}#sk-container-id-1 div.sk-parallel-item:first-child::after {align-self: flex-end;width: 50%;}#sk-container-id-1 div.sk-parallel-item:last-child::after {align-self: flex-start;width: 50%;}#sk-container-id-1 div.sk-parallel-item:only-child::after {width: 0;}#sk-container-id-1 div.sk-dashed-wrapped {border: 1px dashed gray;margin: 0 0.4em 0.5em 0.4em;box-sizing: border-box;padding-bottom: 0.4em;background-color: white;}#sk-container-id-1 div.sk-label label {font-family: monospace;font-weight: bold;display: inline-block;line-height: 1.2em;}#sk-container-id-1 div.sk-label-container {text-align: center;}#sk-container-id-1 div.sk-container {/* jupyter's `normalize.less` sets `[hidden] { display: none; }` but bootstrap.min.css set `[hidden] { display: none !important; }` so we also need the `!important` here to be able to override the default hidden behavior on the sphinx rendered scikit-learn.org. See: https://github.com/scikit-learn/scikit-learn/issues/21755 */display: inline-block !important;position: relative;}#sk-container-id-1 div.sk-text-repr-fallback {display: none;}</style><div id=\"sk-container-id-1\" class=\"sk-top-container\"><div class=\"sk-text-repr-fallback\"><pre>StandardScaler()</pre><b>In a Jupyter environment, please rerun this cell to show the HTML representation or trust the notebook. <br />On GitHub, the HTML representation is unable to render, please try loading this page with nbviewer.org.</b></div><div class=\"sk-container\" hidden><div class=\"sk-item\"><div class=\"sk-estimator sk-toggleable\"><input class=\"sk-toggleable__control sk-hidden--visually\" id=\"sk-estimator-id-1\" type=\"checkbox\" checked><label for=\"sk-estimator-id-1\" class=\"sk-toggleable__label sk-toggleable__label-arrow\">StandardScaler</label><div class=\"sk-toggleable__content\"><pre>StandardScaler()</pre></div></div></div></div></div>"
      ],
      "text/plain": [
       "StandardScaler()"
      ]
     },
     "execution_count": 10,
     "metadata": {},
     "output_type": "execute_result"
    }
   ],
   "source": [
    "### 3-2 학습용 데이터셋으로 스케일러 생성\n",
    "#### 수치 피쳐값의 범위 차가 큼 >> Scaling진행\n",
    "\n",
    "ssScaler = StandardScaler()\n",
    "ssScaler.fit(x_train)"
   ]
  },
  {
   "cell_type": "code",
   "execution_count": 11,
   "metadata": {},
   "outputs": [],
   "source": [
    "x_train_scaled= ssScaler.transform(x_train)\n",
    "x_test_scaled= ssScaler.transform(x_test)"
   ]
  },
  {
   "cell_type": "code",
   "execution_count": 20,
   "metadata": {},
   "outputs": [
    {
     "data": {
      "text/plain": [
       "(379, 13)"
      ]
     },
     "execution_count": 20,
     "metadata": {},
     "output_type": "execute_result"
    }
   ],
   "source": [
    "x_train_scaled.shape"
   ]
  },
  {
   "cell_type": "markdown",
   "metadata": {},
   "source": [
    "##### 학습 진행 >> 교차검증으로 진행"
   ]
  },
  {
   "cell_type": "code",
   "execution_count": 12,
   "metadata": {},
   "outputs": [],
   "source": [
    "from sklearn.model_selection import cross_validate\n",
    "from sklearn.linear_model import Ridge, Lasso"
   ]
  },
  {
   "cell_type": "code",
   "execution_count": 13,
   "metadata": {},
   "outputs": [
    {
     "name": "stdout",
     "output_type": "stream",
     "text": [
      "[-1.41407793  1.56590993  0.15536906  0.65522098 -2.36200159  2.31948624\n",
      "  0.1173831  -3.59071105  2.71475429 -2.33252925 -1.88390034  1.04036915\n",
      " -3.50250877]\n",
      "[Ridge(alpha = 0.0)]\n",
      "    test_r2  train_r2      diff\n",
      "0  0.747022  0.755720 -0.008699\n",
      "1  0.756482  0.740082  0.016400\n",
      "2  0.680801  0.786156 -0.105355\n",
      "\n",
      "[-1.39035961  1.53043843  0.11109741  0.6621853  -2.29024619  2.34249774\n",
      "  0.10030677 -3.52062389  2.57481444 -2.20749462 -1.86406784  1.03607796\n",
      " -3.48102887]\n",
      "[Ridge(alpha = 1.0)]\n",
      "    test_r2  train_r2      diff\n",
      "0  0.748283  0.755663 -0.007380\n",
      "1  0.756292  0.740039  0.016253\n",
      "2  0.680991  0.786097 -0.105106\n",
      "\n",
      "[-1.23221033  1.29302258 -0.12737786  0.70280521 -1.80949922  2.48028701\n",
      " -0.00860666 -2.99831755  1.75466332 -1.51704375 -1.73434856  1.00368486\n",
      " -3.30809117]\n",
      "[Ridge(alpha = 10)]\n",
      "    test_r2  train_r2      diff\n",
      "0  0.753103  0.752474  0.000629\n",
      "1  0.755100  0.737457  0.017643\n",
      "2  0.677471  0.783225 -0.105755\n",
      "\n",
      "[-0.78141029  0.70910255 -0.46407849  0.72503917 -0.69294458  2.41757287\n",
      " -0.24148703 -1.21831206  0.28616643 -0.63423538 -1.31602563  0.78528977\n",
      " -2.39571659]\n",
      "[Ridge(alpha = 100)]\n",
      "    test_r2  train_r2      diff\n",
      "0  0.724036  0.708269  0.015767\n",
      "1  0.725993  0.686628  0.039365\n",
      "2  0.627335  0.744452 -0.117117\n",
      "\n"
     ]
    }
   ],
   "source": [
    "### 모델의 성능을 좌우 하는 Hyper-parameter 제어 > 튜닝\n",
    "alpha_values = [0., 1., 10, 100]\n",
    "\n",
    "# 모델 인스턴스 생성\n",
    "for value in alpha_values:\n",
    "    ridge_model = Ridge(alpha=value) # 기본값 : 1.0# 학습진행\n",
    "    # - cv : 3개\n",
    "    # - scoring: 'mean_squared_error, 'r2'\n",
    "    # - return_train_score\n",
    "    result = cross_validate(ridge_model, # ridge는 과대적합일때 적합\n",
    "                            x_train_scaled, y_train,\n",
    "                            cv=3,\n",
    "                            scoring=['neg_mean_squared_error','r2'],\n",
    "                            return_train_score=True,\n",
    "                            return_estimator = True)\n",
    "    \n",
    "\n",
    "    resultDF=pd.DataFrame(result)[['test_r2','train_r2']]\n",
    "    \n",
    "    resultDF['diff'] = abs(resultDF['test_r2'])- resultDF['train_r2']\n",
    "    \n",
    "    print(result['estimator'][0].coef_)\n",
    "    print(f'[Ridge(alpha = {value})]')\n",
    "    print(resultDF, end= '\\n\\n')"
   ]
  },
  {
   "cell_type": "code",
   "execution_count": 14,
   "metadata": {},
   "outputs": [
    {
     "name": "stdout",
     "output_type": "stream",
     "text": [
      "[-0.76918209  1.30798802 -1.3660128   0.70871821 -1.12810945  3.13078874\n",
      "  0.20140226 -3.18951128  0.40006951 -1.02796444 -1.33246342  1.05170534\n",
      " -2.85931196]\n",
      "[Ridge(alpha = 0.0)]\n",
      "    test_r2  train_r2      diff\n",
      "0  0.738730  0.732463  0.006267\n",
      "1  0.739309  0.717910  0.021399\n",
      "2  0.644353  0.759472 -0.115119\n",
      "\n",
      "[-0.12685525  0.         -0.68948499  0.         -0.35867851  3.50097227\n",
      " -0.         -0.         -0.02775436 -0.34045443 -1.07046702  0.47097032\n",
      " -2.11146537]\n",
      "[Ridge(alpha = 1.0)]\n",
      "    test_r2  train_r2      diff\n",
      "0  0.693598  0.664933  0.028665\n",
      "1  0.707063  0.661375  0.045689\n",
      "2  0.588074  0.722606 -0.134531\n",
      "\n",
      "[-0.  0. -0.  0. -0.  0. -0.  0. -0. -0. -0.  0. -0.]\n",
      "[Ridge(alpha = 10)]\n",
      "    test_r2  train_r2      diff\n",
      "0 -0.000010       0.0  0.000010\n",
      "1 -0.014817       0.0  0.014817\n",
      "2 -0.018473       0.0  0.018473\n",
      "\n",
      "[-0.  0. -0.  0. -0.  0. -0.  0. -0. -0. -0.  0. -0.]\n",
      "[Ridge(alpha = 100)]\n",
      "    test_r2  train_r2      diff\n",
      "0 -0.000010       0.0  0.000010\n",
      "1 -0.014817       0.0  0.014817\n",
      "2 -0.018473       0.0  0.018473\n",
      "\n"
     ]
    },
    {
     "name": "stderr",
     "output_type": "stream",
     "text": [
      "c:\\Users\\KDP-23\\anaconda3\\envs\\ML_38\\lib\\site-packages\\sklearn\\base.py:1151: UserWarning: With alpha=0, this algorithm does not converge well. You are advised to use the LinearRegression estimator\n",
      "  return fit_method(estimator, *args, **kwargs)\n",
      "c:\\Users\\KDP-23\\anaconda3\\envs\\ML_38\\lib\\site-packages\\sklearn\\linear_model\\_coordinate_descent.py:628: UserWarning: Coordinate descent with no regularization may lead to unexpected results and is discouraged.\n",
      "  model = cd_fast.enet_coordinate_descent(\n",
      "c:\\Users\\KDP-23\\anaconda3\\envs\\ML_38\\lib\\site-packages\\sklearn\\linear_model\\_coordinate_descent.py:628: ConvergenceWarning: Objective did not converge. You might want to increase the number of iterations, check the scale of the features or consider increasing regularisation. Duality gap: 2.779e+03, tolerance: 2.078e+00 Linear regression models with null weight for the l1 regularization term are more efficiently fitted using one of the solvers implemented in sklearn.linear_model.Ridge/RidgeCV instead.\n",
      "  model = cd_fast.enet_coordinate_descent(\n",
      "c:\\Users\\KDP-23\\anaconda3\\envs\\ML_38\\lib\\site-packages\\sklearn\\base.py:1151: UserWarning: With alpha=0, this algorithm does not converge well. You are advised to use the LinearRegression estimator\n",
      "  return fit_method(estimator, *args, **kwargs)\n",
      "c:\\Users\\KDP-23\\anaconda3\\envs\\ML_38\\lib\\site-packages\\sklearn\\linear_model\\_coordinate_descent.py:628: UserWarning: Coordinate descent with no regularization may lead to unexpected results and is discouraged.\n",
      "  model = cd_fast.enet_coordinate_descent(\n",
      "c:\\Users\\KDP-23\\anaconda3\\envs\\ML_38\\lib\\site-packages\\sklearn\\linear_model\\_coordinate_descent.py:628: ConvergenceWarning: Objective did not converge. You might want to increase the number of iterations, check the scale of the features or consider increasing regularisation. Duality gap: 2.500e+03, tolerance: 1.772e+00 Linear regression models with null weight for the l1 regularization term are more efficiently fitted using one of the solvers implemented in sklearn.linear_model.Ridge/RidgeCV instead.\n",
      "  model = cd_fast.enet_coordinate_descent(\n",
      "c:\\Users\\KDP-23\\anaconda3\\envs\\ML_38\\lib\\site-packages\\sklearn\\base.py:1151: UserWarning: With alpha=0, this algorithm does not converge well. You are advised to use the LinearRegression estimator\n",
      "  return fit_method(estimator, *args, **kwargs)\n",
      "c:\\Users\\KDP-23\\anaconda3\\envs\\ML_38\\lib\\site-packages\\sklearn\\linear_model\\_coordinate_descent.py:628: UserWarning: Coordinate descent with no regularization may lead to unexpected results and is discouraged.\n",
      "  model = cd_fast.enet_coordinate_descent(\n",
      "c:\\Users\\KDP-23\\anaconda3\\envs\\ML_38\\lib\\site-packages\\sklearn\\linear_model\\_coordinate_descent.py:628: ConvergenceWarning: Objective did not converge. You might want to increase the number of iterations, check the scale of the features or consider increasing regularisation. Duality gap: 2.460e+03, tolerance: 2.045e+00 Linear regression models with null weight for the l1 regularization term are more efficiently fitted using one of the solvers implemented in sklearn.linear_model.Ridge/RidgeCV instead.\n",
      "  model = cd_fast.enet_coordinate_descent(\n",
      "c:\\Users\\KDP-23\\anaconda3\\envs\\ML_38\\lib\\site-packages\\sklearn\\linear_model\\_coordinate_descent.py:628: ConvergenceWarning: Objective did not converge. You might want to increase the number of iterations, check the scale of the features or consider increasing regularisation. Duality gap: 8.691e+02, tolerance: 2.078e+00\n",
      "  model = cd_fast.enet_coordinate_descent(\n",
      "c:\\Users\\KDP-23\\anaconda3\\envs\\ML_38\\lib\\site-packages\\sklearn\\linear_model\\_coordinate_descent.py:628: ConvergenceWarning: Objective did not converge. You might want to increase the number of iterations, check the scale of the features or consider increasing regularisation. Duality gap: 6.640e+02, tolerance: 1.772e+00\n",
      "  model = cd_fast.enet_coordinate_descent(\n",
      "c:\\Users\\KDP-23\\anaconda3\\envs\\ML_38\\lib\\site-packages\\sklearn\\linear_model\\_coordinate_descent.py:628: ConvergenceWarning: Objective did not converge. You might want to increase the number of iterations, check the scale of the features or consider increasing regularisation. Duality gap: 1.011e+03, tolerance: 2.045e+00\n",
      "  model = cd_fast.enet_coordinate_descent(\n"
     ]
    }
   ],
   "source": [
    "\n",
    "### 모델의 성능을 좌우 하는 Hyper-parameter 제어 > 튜닝\n",
    "alpha_values = [0., 1., 10, 100]\n",
    "\n",
    "# 모델 인스턴스 생성\n",
    "for value in alpha_values:\n",
    "    ridge_model = Lasso(alpha=value, max_iter=3) \n",
    "    # - cv : 3개\n",
    "    # - scoring: 'mean_squared_error, 'r2'\n",
    "    # - return_train_score\n",
    "    result = cross_validate(ridge_model, # ridge는 과대적합일때 적합\n",
    "                            x_train_scaled, y_train,\n",
    "                            cv=3,\n",
    "                            scoring=['neg_mean_squared_error','r2'],\n",
    "                            return_train_score=True,\n",
    "                            return_estimator = True)\n",
    "    \n",
    "\n",
    "    resultDF=pd.DataFrame(result)[['test_r2','train_r2']]\n",
    "    \n",
    "    resultDF['diff'] = abs(resultDF['test_r2'])- resultDF['train_r2']\n",
    "    \n",
    "    print(result['estimator'][0].coef_)\n",
    "    print(f'[Lasso(alpha = {value})]')\n",
    "    print(resultDF, end= '\\n\\n')"
   ]
  },
  {
   "cell_type": "markdown",
   "metadata": {},
   "source": [
    "- 하이퍼 파아미터 튜닝과 교차 검증을 동시에 진행"
   ]
  },
  {
   "cell_type": "code",
   "execution_count": 15,
   "metadata": {},
   "outputs": [],
   "source": [
    "from sklearn.model_selection import GridSearchCV"
   ]
  },
  {
   "cell_type": "markdown",
   "metadata": {},
   "source": [
    "#### GridSearchCV \n",
    "    >> 위에 작업을 한번에 해주는 함수\n",
    "    '_' 언더바 있는 속성, 메서드는 작업 후 생기는 거"
   ]
  },
  {
   "cell_type": "code",
   "execution_count": 16,
   "metadata": {},
   "outputs": [],
   "source": [
    "# Ridge의 Hyper parameter 값 설정\n",
    "params = {'alpha':[0., 0.1, 0.5, 1.0],\n",
    "          'max_iter':[3,5]}\n",
    "\n",
    "#===> 0. , 3 => model         #===> 0. , 5 => model\n",
    "#===> 0.1, 3 => model         #===> 0.1, 5 => model\n",
    "#===> 0.5, 3 => model         #===> 0.5, 5 => model\n",
    "#===> 1.0, 3 => model         #===> 1.0, 5 => model\n",
    "# 총 8개의 Ridge 생성\n"
   ]
  },
  {
   "cell_type": "code",
   "execution_count": 21,
   "metadata": {},
   "outputs": [],
   "source": [
    "# 인스턴스 생성\n",
    "rModel = Ridge()\n",
    "# GridSearchCV 인스턴스 생성\n",
    "serchCV = GridSearchCV(rModel, params, cv=2, verbose=True, return_train_score=True)"
   ]
  },
  {
   "cell_type": "code",
   "execution_count": 22,
   "metadata": {},
   "outputs": [
    {
     "name": "stdout",
     "output_type": "stream",
     "text": [
      "Fitting 2 folds for each of 8 candidates, totalling 16 fits\n"
     ]
    },
    {
     "data": {
      "text/html": [
       "<style>#sk-container-id-2 {color: black;}#sk-container-id-2 pre{padding: 0;}#sk-container-id-2 div.sk-toggleable {background-color: white;}#sk-container-id-2 label.sk-toggleable__label {cursor: pointer;display: block;width: 100%;margin-bottom: 0;padding: 0.3em;box-sizing: border-box;text-align: center;}#sk-container-id-2 label.sk-toggleable__label-arrow:before {content: \"▸\";float: left;margin-right: 0.25em;color: #696969;}#sk-container-id-2 label.sk-toggleable__label-arrow:hover:before {color: black;}#sk-container-id-2 div.sk-estimator:hover label.sk-toggleable__label-arrow:before {color: black;}#sk-container-id-2 div.sk-toggleable__content {max-height: 0;max-width: 0;overflow: hidden;text-align: left;background-color: #f0f8ff;}#sk-container-id-2 div.sk-toggleable__content pre {margin: 0.2em;color: black;border-radius: 0.25em;background-color: #f0f8ff;}#sk-container-id-2 input.sk-toggleable__control:checked~div.sk-toggleable__content {max-height: 200px;max-width: 100%;overflow: auto;}#sk-container-id-2 input.sk-toggleable__control:checked~label.sk-toggleable__label-arrow:before {content: \"▾\";}#sk-container-id-2 div.sk-estimator input.sk-toggleable__control:checked~label.sk-toggleable__label {background-color: #d4ebff;}#sk-container-id-2 div.sk-label input.sk-toggleable__control:checked~label.sk-toggleable__label {background-color: #d4ebff;}#sk-container-id-2 input.sk-hidden--visually {border: 0;clip: rect(1px 1px 1px 1px);clip: rect(1px, 1px, 1px, 1px);height: 1px;margin: -1px;overflow: hidden;padding: 0;position: absolute;width: 1px;}#sk-container-id-2 div.sk-estimator {font-family: monospace;background-color: #f0f8ff;border: 1px dotted black;border-radius: 0.25em;box-sizing: border-box;margin-bottom: 0.5em;}#sk-container-id-2 div.sk-estimator:hover {background-color: #d4ebff;}#sk-container-id-2 div.sk-parallel-item::after {content: \"\";width: 100%;border-bottom: 1px solid gray;flex-grow: 1;}#sk-container-id-2 div.sk-label:hover label.sk-toggleable__label {background-color: #d4ebff;}#sk-container-id-2 div.sk-serial::before {content: \"\";position: absolute;border-left: 1px solid gray;box-sizing: border-box;top: 0;bottom: 0;left: 50%;z-index: 0;}#sk-container-id-2 div.sk-serial {display: flex;flex-direction: column;align-items: center;background-color: white;padding-right: 0.2em;padding-left: 0.2em;position: relative;}#sk-container-id-2 div.sk-item {position: relative;z-index: 1;}#sk-container-id-2 div.sk-parallel {display: flex;align-items: stretch;justify-content: center;background-color: white;position: relative;}#sk-container-id-2 div.sk-item::before, #sk-container-id-2 div.sk-parallel-item::before {content: \"\";position: absolute;border-left: 1px solid gray;box-sizing: border-box;top: 0;bottom: 0;left: 50%;z-index: -1;}#sk-container-id-2 div.sk-parallel-item {display: flex;flex-direction: column;z-index: 1;position: relative;background-color: white;}#sk-container-id-2 div.sk-parallel-item:first-child::after {align-self: flex-end;width: 50%;}#sk-container-id-2 div.sk-parallel-item:last-child::after {align-self: flex-start;width: 50%;}#sk-container-id-2 div.sk-parallel-item:only-child::after {width: 0;}#sk-container-id-2 div.sk-dashed-wrapped {border: 1px dashed gray;margin: 0 0.4em 0.5em 0.4em;box-sizing: border-box;padding-bottom: 0.4em;background-color: white;}#sk-container-id-2 div.sk-label label {font-family: monospace;font-weight: bold;display: inline-block;line-height: 1.2em;}#sk-container-id-2 div.sk-label-container {text-align: center;}#sk-container-id-2 div.sk-container {/* jupyter's `normalize.less` sets `[hidden] { display: none; }` but bootstrap.min.css set `[hidden] { display: none !important; }` so we also need the `!important` here to be able to override the default hidden behavior on the sphinx rendered scikit-learn.org. See: https://github.com/scikit-learn/scikit-learn/issues/21755 */display: inline-block !important;position: relative;}#sk-container-id-2 div.sk-text-repr-fallback {display: none;}</style><div id=\"sk-container-id-2\" class=\"sk-top-container\"><div class=\"sk-text-repr-fallback\"><pre>GridSearchCV(cv=2, estimator=Ridge(),\n",
       "             param_grid={&#x27;alpha&#x27;: [0.0, 0.1, 0.5, 1.0], &#x27;max_iter&#x27;: [3, 5]},\n",
       "             return_train_score=True, verbose=True)</pre><b>In a Jupyter environment, please rerun this cell to show the HTML representation or trust the notebook. <br />On GitHub, the HTML representation is unable to render, please try loading this page with nbviewer.org.</b></div><div class=\"sk-container\" hidden><div class=\"sk-item sk-dashed-wrapped\"><div class=\"sk-label-container\"><div class=\"sk-label sk-toggleable\"><input class=\"sk-toggleable__control sk-hidden--visually\" id=\"sk-estimator-id-2\" type=\"checkbox\" ><label for=\"sk-estimator-id-2\" class=\"sk-toggleable__label sk-toggleable__label-arrow\">GridSearchCV</label><div class=\"sk-toggleable__content\"><pre>GridSearchCV(cv=2, estimator=Ridge(),\n",
       "             param_grid={&#x27;alpha&#x27;: [0.0, 0.1, 0.5, 1.0], &#x27;max_iter&#x27;: [3, 5]},\n",
       "             return_train_score=True, verbose=True)</pre></div></div></div><div class=\"sk-parallel\"><div class=\"sk-parallel-item\"><div class=\"sk-item\"><div class=\"sk-label-container\"><div class=\"sk-label sk-toggleable\"><input class=\"sk-toggleable__control sk-hidden--visually\" id=\"sk-estimator-id-3\" type=\"checkbox\" ><label for=\"sk-estimator-id-3\" class=\"sk-toggleable__label sk-toggleable__label-arrow\">estimator: Ridge</label><div class=\"sk-toggleable__content\"><pre>Ridge()</pre></div></div></div><div class=\"sk-serial\"><div class=\"sk-item\"><div class=\"sk-estimator sk-toggleable\"><input class=\"sk-toggleable__control sk-hidden--visually\" id=\"sk-estimator-id-4\" type=\"checkbox\" ><label for=\"sk-estimator-id-4\" class=\"sk-toggleable__label sk-toggleable__label-arrow\">Ridge</label><div class=\"sk-toggleable__content\"><pre>Ridge()</pre></div></div></div></div></div></div></div></div></div></div>"
      ],
      "text/plain": [
       "GridSearchCV(cv=2, estimator=Ridge(),\n",
       "             param_grid={'alpha': [0.0, 0.1, 0.5, 1.0], 'max_iter': [3, 5]},\n",
       "             return_train_score=True, verbose=True)"
      ]
     },
     "execution_count": 22,
     "metadata": {},
     "output_type": "execute_result"
    }
   ],
   "source": [
    "# 학습 진행\n",
    "serchCV.fit(x_train_scaled,y_train)"
   ]
  },
  {
   "cell_type": "code",
   "execution_count": 23,
   "metadata": {},
   "outputs": [
    {
     "data": {
      "text/plain": [
       "{'alpha': 1.0, 'max_iter': 3}"
      ]
     },
     "execution_count": 23,
     "metadata": {},
     "output_type": "execute_result"
    }
   ],
   "source": [
    "# fit() 진행 후 모델 파라미터 확인\n",
    "serchCV.best_params_"
   ]
  },
  {
   "cell_type": "code",
   "execution_count": 24,
   "metadata": {},
   "outputs": [
    {
     "data": {
      "text/html": [
       "<style>#sk-container-id-3 {color: black;}#sk-container-id-3 pre{padding: 0;}#sk-container-id-3 div.sk-toggleable {background-color: white;}#sk-container-id-3 label.sk-toggleable__label {cursor: pointer;display: block;width: 100%;margin-bottom: 0;padding: 0.3em;box-sizing: border-box;text-align: center;}#sk-container-id-3 label.sk-toggleable__label-arrow:before {content: \"▸\";float: left;margin-right: 0.25em;color: #696969;}#sk-container-id-3 label.sk-toggleable__label-arrow:hover:before {color: black;}#sk-container-id-3 div.sk-estimator:hover label.sk-toggleable__label-arrow:before {color: black;}#sk-container-id-3 div.sk-toggleable__content {max-height: 0;max-width: 0;overflow: hidden;text-align: left;background-color: #f0f8ff;}#sk-container-id-3 div.sk-toggleable__content pre {margin: 0.2em;color: black;border-radius: 0.25em;background-color: #f0f8ff;}#sk-container-id-3 input.sk-toggleable__control:checked~div.sk-toggleable__content {max-height: 200px;max-width: 100%;overflow: auto;}#sk-container-id-3 input.sk-toggleable__control:checked~label.sk-toggleable__label-arrow:before {content: \"▾\";}#sk-container-id-3 div.sk-estimator input.sk-toggleable__control:checked~label.sk-toggleable__label {background-color: #d4ebff;}#sk-container-id-3 div.sk-label input.sk-toggleable__control:checked~label.sk-toggleable__label {background-color: #d4ebff;}#sk-container-id-3 input.sk-hidden--visually {border: 0;clip: rect(1px 1px 1px 1px);clip: rect(1px, 1px, 1px, 1px);height: 1px;margin: -1px;overflow: hidden;padding: 0;position: absolute;width: 1px;}#sk-container-id-3 div.sk-estimator {font-family: monospace;background-color: #f0f8ff;border: 1px dotted black;border-radius: 0.25em;box-sizing: border-box;margin-bottom: 0.5em;}#sk-container-id-3 div.sk-estimator:hover {background-color: #d4ebff;}#sk-container-id-3 div.sk-parallel-item::after {content: \"\";width: 100%;border-bottom: 1px solid gray;flex-grow: 1;}#sk-container-id-3 div.sk-label:hover label.sk-toggleable__label {background-color: #d4ebff;}#sk-container-id-3 div.sk-serial::before {content: \"\";position: absolute;border-left: 1px solid gray;box-sizing: border-box;top: 0;bottom: 0;left: 50%;z-index: 0;}#sk-container-id-3 div.sk-serial {display: flex;flex-direction: column;align-items: center;background-color: white;padding-right: 0.2em;padding-left: 0.2em;position: relative;}#sk-container-id-3 div.sk-item {position: relative;z-index: 1;}#sk-container-id-3 div.sk-parallel {display: flex;align-items: stretch;justify-content: center;background-color: white;position: relative;}#sk-container-id-3 div.sk-item::before, #sk-container-id-3 div.sk-parallel-item::before {content: \"\";position: absolute;border-left: 1px solid gray;box-sizing: border-box;top: 0;bottom: 0;left: 50%;z-index: -1;}#sk-container-id-3 div.sk-parallel-item {display: flex;flex-direction: column;z-index: 1;position: relative;background-color: white;}#sk-container-id-3 div.sk-parallel-item:first-child::after {align-self: flex-end;width: 50%;}#sk-container-id-3 div.sk-parallel-item:last-child::after {align-self: flex-start;width: 50%;}#sk-container-id-3 div.sk-parallel-item:only-child::after {width: 0;}#sk-container-id-3 div.sk-dashed-wrapped {border: 1px dashed gray;margin: 0 0.4em 0.5em 0.4em;box-sizing: border-box;padding-bottom: 0.4em;background-color: white;}#sk-container-id-3 div.sk-label label {font-family: monospace;font-weight: bold;display: inline-block;line-height: 1.2em;}#sk-container-id-3 div.sk-label-container {text-align: center;}#sk-container-id-3 div.sk-container {/* jupyter's `normalize.less` sets `[hidden] { display: none; }` but bootstrap.min.css set `[hidden] { display: none !important; }` so we also need the `!important` here to be able to override the default hidden behavior on the sphinx rendered scikit-learn.org. See: https://github.com/scikit-learn/scikit-learn/issues/21755 */display: inline-block !important;position: relative;}#sk-container-id-3 div.sk-text-repr-fallback {display: none;}</style><div id=\"sk-container-id-3\" class=\"sk-top-container\"><div class=\"sk-text-repr-fallback\"><pre>Ridge(max_iter=3)</pre><b>In a Jupyter environment, please rerun this cell to show the HTML representation or trust the notebook. <br />On GitHub, the HTML representation is unable to render, please try loading this page with nbviewer.org.</b></div><div class=\"sk-container\" hidden><div class=\"sk-item\"><div class=\"sk-estimator sk-toggleable\"><input class=\"sk-toggleable__control sk-hidden--visually\" id=\"sk-estimator-id-5\" type=\"checkbox\" checked><label for=\"sk-estimator-id-5\" class=\"sk-toggleable__label sk-toggleable__label-arrow\">Ridge</label><div class=\"sk-toggleable__content\"><pre>Ridge(max_iter=3)</pre></div></div></div></div></div>"
      ],
      "text/plain": [
       "Ridge(max_iter=3)"
      ]
     },
     "execution_count": 24,
     "metadata": {},
     "output_type": "execute_result"
    }
   ],
   "source": [
    "bestModel =serchCV.best_estimator_\n",
    "bestModel"
   ]
  },
  {
   "cell_type": "code",
   "execution_count": 28,
   "metadata": {},
   "outputs": [
    {
     "data": {
      "text/html": [
       "<div>\n",
       "<style scoped>\n",
       "    .dataframe tbody tr th:only-of-type {\n",
       "        vertical-align: middle;\n",
       "    }\n",
       "\n",
       "    .dataframe tbody tr th {\n",
       "        vertical-align: top;\n",
       "    }\n",
       "\n",
       "    .dataframe thead th {\n",
       "        text-align: right;\n",
       "    }\n",
       "</style>\n",
       "<table border=\"1\" class=\"dataframe\">\n",
       "  <thead>\n",
       "    <tr style=\"text-align: right;\">\n",
       "      <th></th>\n",
       "      <th>mean_fit_time</th>\n",
       "      <th>std_fit_time</th>\n",
       "      <th>mean_score_time</th>\n",
       "      <th>std_score_time</th>\n",
       "      <th>param_alpha</th>\n",
       "      <th>param_max_iter</th>\n",
       "      <th>params</th>\n",
       "      <th>split0_test_score</th>\n",
       "      <th>split1_test_score</th>\n",
       "      <th>mean_test_score</th>\n",
       "      <th>std_test_score</th>\n",
       "      <th>rank_test_score</th>\n",
       "      <th>split0_train_score</th>\n",
       "      <th>split1_train_score</th>\n",
       "      <th>mean_train_score</th>\n",
       "      <th>std_train_score</th>\n",
       "    </tr>\n",
       "  </thead>\n",
       "  <tbody>\n",
       "    <tr>\n",
       "      <th>0</th>\n",
       "      <td>0.001529</td>\n",
       "      <td>4.814863e-04</td>\n",
       "      <td>0.001175</td>\n",
       "      <td>0.000175</td>\n",
       "      <td>0.0</td>\n",
       "      <td>3</td>\n",
       "      <td>{'alpha': 0.0, 'max_iter': 3}</td>\n",
       "      <td>0.769027</td>\n",
       "      <td>0.695752</td>\n",
       "      <td>0.732390</td>\n",
       "      <td>0.036637</td>\n",
       "      <td>7</td>\n",
       "      <td>0.730359</td>\n",
       "      <td>0.795225</td>\n",
       "      <td>0.762792</td>\n",
       "      <td>0.032433</td>\n",
       "    </tr>\n",
       "    <tr>\n",
       "      <th>1</th>\n",
       "      <td>0.000996</td>\n",
       "      <td>3.576279e-07</td>\n",
       "      <td>0.000999</td>\n",
       "      <td>0.000002</td>\n",
       "      <td>0.0</td>\n",
       "      <td>5</td>\n",
       "      <td>{'alpha': 0.0, 'max_iter': 5}</td>\n",
       "      <td>0.769027</td>\n",
       "      <td>0.695752</td>\n",
       "      <td>0.732390</td>\n",
       "      <td>0.036637</td>\n",
       "      <td>7</td>\n",
       "      <td>0.730359</td>\n",
       "      <td>0.795225</td>\n",
       "      <td>0.762792</td>\n",
       "      <td>0.032433</td>\n",
       "    </tr>\n",
       "    <tr>\n",
       "      <th>2</th>\n",
       "      <td>0.000996</td>\n",
       "      <td>5.960464e-07</td>\n",
       "      <td>0.000000</td>\n",
       "      <td>0.000000</td>\n",
       "      <td>0.1</td>\n",
       "      <td>3</td>\n",
       "      <td>{'alpha': 0.1, 'max_iter': 3}</td>\n",
       "      <td>0.769083</td>\n",
       "      <td>0.695865</td>\n",
       "      <td>0.732474</td>\n",
       "      <td>0.036609</td>\n",
       "      <td>5</td>\n",
       "      <td>0.730357</td>\n",
       "      <td>0.795224</td>\n",
       "      <td>0.762791</td>\n",
       "      <td>0.032433</td>\n",
       "    </tr>\n",
       "    <tr>\n",
       "      <th>3</th>\n",
       "      <td>0.000995</td>\n",
       "      <td>2.026558e-06</td>\n",
       "      <td>0.000499</td>\n",
       "      <td>0.000499</td>\n",
       "      <td>0.1</td>\n",
       "      <td>5</td>\n",
       "      <td>{'alpha': 0.1, 'max_iter': 5}</td>\n",
       "      <td>0.769083</td>\n",
       "      <td>0.695865</td>\n",
       "      <td>0.732474</td>\n",
       "      <td>0.036609</td>\n",
       "      <td>5</td>\n",
       "      <td>0.730357</td>\n",
       "      <td>0.795224</td>\n",
       "      <td>0.762791</td>\n",
       "      <td>0.032433</td>\n",
       "    </tr>\n",
       "    <tr>\n",
       "      <th>4</th>\n",
       "      <td>0.000996</td>\n",
       "      <td>2.384186e-07</td>\n",
       "      <td>0.000999</td>\n",
       "      <td>0.000002</td>\n",
       "      <td>0.5</td>\n",
       "      <td>3</td>\n",
       "      <td>{'alpha': 0.5, 'max_iter': 3}</td>\n",
       "      <td>0.769283</td>\n",
       "      <td>0.696276</td>\n",
       "      <td>0.732780</td>\n",
       "      <td>0.036503</td>\n",
       "      <td>3</td>\n",
       "      <td>0.730333</td>\n",
       "      <td>0.795199</td>\n",
       "      <td>0.762766</td>\n",
       "      <td>0.032433</td>\n",
       "    </tr>\n",
       "    <tr>\n",
       "      <th>5</th>\n",
       "      <td>0.000996</td>\n",
       "      <td>1.907349e-06</td>\n",
       "      <td>0.000000</td>\n",
       "      <td>0.000000</td>\n",
       "      <td>0.5</td>\n",
       "      <td>5</td>\n",
       "      <td>{'alpha': 0.5, 'max_iter': 5}</td>\n",
       "      <td>0.769283</td>\n",
       "      <td>0.696276</td>\n",
       "      <td>0.732780</td>\n",
       "      <td>0.036503</td>\n",
       "      <td>3</td>\n",
       "      <td>0.730333</td>\n",
       "      <td>0.795199</td>\n",
       "      <td>0.762766</td>\n",
       "      <td>0.032433</td>\n",
       "    </tr>\n",
       "    <tr>\n",
       "      <th>6</th>\n",
       "      <td>0.000995</td>\n",
       "      <td>1.192093e-06</td>\n",
       "      <td>0.000000</td>\n",
       "      <td>0.000000</td>\n",
       "      <td>1.0</td>\n",
       "      <td>3</td>\n",
       "      <td>{'alpha': 1.0, 'max_iter': 3}</td>\n",
       "      <td>0.769482</td>\n",
       "      <td>0.696711</td>\n",
       "      <td>0.733097</td>\n",
       "      <td>0.036385</td>\n",
       "      <td>1</td>\n",
       "      <td>0.730260</td>\n",
       "      <td>0.795128</td>\n",
       "      <td>0.762694</td>\n",
       "      <td>0.032434</td>\n",
       "    </tr>\n",
       "    <tr>\n",
       "      <th>7</th>\n",
       "      <td>0.000995</td>\n",
       "      <td>1.192093e-07</td>\n",
       "      <td>0.000998</td>\n",
       "      <td>0.000002</td>\n",
       "      <td>1.0</td>\n",
       "      <td>5</td>\n",
       "      <td>{'alpha': 1.0, 'max_iter': 5}</td>\n",
       "      <td>0.769482</td>\n",
       "      <td>0.696711</td>\n",
       "      <td>0.733097</td>\n",
       "      <td>0.036385</td>\n",
       "      <td>1</td>\n",
       "      <td>0.730260</td>\n",
       "      <td>0.795128</td>\n",
       "      <td>0.762694</td>\n",
       "      <td>0.032434</td>\n",
       "    </tr>\n",
       "  </tbody>\n",
       "</table>\n",
       "</div>"
      ],
      "text/plain": [
       "   mean_fit_time  std_fit_time  mean_score_time  std_score_time param_alpha  \\\n",
       "0       0.001529  4.814863e-04         0.001175        0.000175         0.0   \n",
       "1       0.000996  3.576279e-07         0.000999        0.000002         0.0   \n",
       "2       0.000996  5.960464e-07         0.000000        0.000000         0.1   \n",
       "3       0.000995  2.026558e-06         0.000499        0.000499         0.1   \n",
       "4       0.000996  2.384186e-07         0.000999        0.000002         0.5   \n",
       "5       0.000996  1.907349e-06         0.000000        0.000000         0.5   \n",
       "6       0.000995  1.192093e-06         0.000000        0.000000         1.0   \n",
       "7       0.000995  1.192093e-07         0.000998        0.000002         1.0   \n",
       "\n",
       "  param_max_iter                         params  split0_test_score  \\\n",
       "0              3  {'alpha': 0.0, 'max_iter': 3}           0.769027   \n",
       "1              5  {'alpha': 0.0, 'max_iter': 5}           0.769027   \n",
       "2              3  {'alpha': 0.1, 'max_iter': 3}           0.769083   \n",
       "3              5  {'alpha': 0.1, 'max_iter': 5}           0.769083   \n",
       "4              3  {'alpha': 0.5, 'max_iter': 3}           0.769283   \n",
       "5              5  {'alpha': 0.5, 'max_iter': 5}           0.769283   \n",
       "6              3  {'alpha': 1.0, 'max_iter': 3}           0.769482   \n",
       "7              5  {'alpha': 1.0, 'max_iter': 5}           0.769482   \n",
       "\n",
       "   split1_test_score  mean_test_score  std_test_score  rank_test_score  \\\n",
       "0           0.695752         0.732390        0.036637                7   \n",
       "1           0.695752         0.732390        0.036637                7   \n",
       "2           0.695865         0.732474        0.036609                5   \n",
       "3           0.695865         0.732474        0.036609                5   \n",
       "4           0.696276         0.732780        0.036503                3   \n",
       "5           0.696276         0.732780        0.036503                3   \n",
       "6           0.696711         0.733097        0.036385                1   \n",
       "7           0.696711         0.733097        0.036385                1   \n",
       "\n",
       "   split0_train_score  split1_train_score  mean_train_score  std_train_score  \n",
       "0            0.730359            0.795225          0.762792         0.032433  \n",
       "1            0.730359            0.795225          0.762792         0.032433  \n",
       "2            0.730357            0.795224          0.762791         0.032433  \n",
       "3            0.730357            0.795224          0.762791         0.032433  \n",
       "4            0.730333            0.795199          0.762766         0.032433  \n",
       "5            0.730333            0.795199          0.762766         0.032433  \n",
       "6            0.730260            0.795128          0.762694         0.032434  \n",
       "7            0.730260            0.795128          0.762694         0.032434  "
      ]
     },
     "execution_count": 28,
     "metadata": {},
     "output_type": "execute_result"
    }
   ],
   "source": [
    "resultDF = pd.DataFrame(serchCV.cv_results_)\n",
    "resultDF"
   ]
  },
  {
   "cell_type": "code",
   "execution_count": null,
   "metadata": {},
   "outputs": [],
   "source": [
    "# 어떤거여?? "
   ]
  }
 ],
 "metadata": {
  "kernelspec": {
   "display_name": "ML_38",
   "language": "python",
   "name": "python3"
  },
  "language_info": {
   "codemirror_mode": {
    "name": "ipython",
    "version": 3
   },
   "file_extension": ".py",
   "mimetype": "text/x-python",
   "name": "python",
   "nbconvert_exporter": "python",
   "pygments_lexer": "ipython3",
   "version": "3.8.19"
  }
 },
 "nbformat": 4,
 "nbformat_minor": 2
}
