{
 "cells": [
  {
   "cell_type": "markdown",
   "metadata": {},
   "source": [
    "#### 성능지표 - 분류\n",
    "- 정확도(Accuracy) : 전체 정답에서 맞춘 정답의 수\n",
    "- 정밀도(Precision) : 모델(예측) 기준으로 모델이 True라고 한 것이 (정답)실제도 True인 것\n",
    "- 재현율(Recall) : 정답(실제) 기준으로 정답(실제)이 True라고 한 것이 모델(예측)도 True인 것\n",
    "- F1-Score : 정밀도와 재현율 2가지를 조합한 점수\n",
    "- 오차행렬(Confusion Matrix) : 정답과 예측값의 관계 나타내는 표"
   ]
  },
  {
   "cell_type": "markdown",
   "metadata": {},
   "source": [
    "[1] 모듈 로딩 및 데이터 준비"
   ]
  },
  {
   "cell_type": "code",
   "execution_count": 1,
   "metadata": {},
   "outputs": [],
   "source": [
    "# 모듈로딩\n",
    "from sklearn.datasets import load_digits\n",
    "from sklearn.model_selection import train_test_split\n",
    "from sklearn.metrics import accuracy_score  # sklearn에서 제공하는 모델 성능 평가 관련 모듈\n",
    "\n",
    "import pandas as pd\n",
    "import numpy as np"
   ]
  },
  {
   "cell_type": "code",
   "execution_count": 2,
   "metadata": {},
   "outputs": [],
   "source": [
    "# 데이터 로딩\n",
    "digitBunch = load_digits(as_frame=True)"
   ]
  },
  {
   "cell_type": "markdown",
   "metadata": {},
   "source": [
    "[2] 피쳐와 레이블 추출"
   ]
  },
  {
   "cell_type": "code",
   "execution_count": 3,
   "metadata": {},
   "outputs": [
    {
     "data": {
      "text/plain": [
       "array([0, 1, 2, 3, 4, 5, 6, 7, 8, 9])"
      ]
     },
     "execution_count": 3,
     "metadata": {},
     "output_type": "execute_result"
    }
   ],
   "source": [
    "# 0 ~ 9 숫자 이미지 데이터 값 : 피쳐\n",
    "imgDF = digitBunch['data']\n",
    "\n",
    "# 0 ~ 9 라벨\n",
    "labelSR = digitBunch['target']\n",
    "labelSR.unique()"
   ]
  },
  {
   "cell_type": "code",
   "execution_count": 4,
   "metadata": {},
   "outputs": [],
   "source": [
    "## ==> 2진분류를 위해서 7과 나머지 라벨 변경\n",
    "mask = (labelSR==7) # 7 찾기\n",
    "labelSR[~mask] = 0 # 7이 아닌 나머지 0으로 변경\n",
    "labelSR[mask] =1 # 7인건 1로 변경"
   ]
  },
  {
   "cell_type": "code",
   "execution_count": 5,
   "metadata": {},
   "outputs": [],
   "source": [
    "# labelSR2 = (labelSR==7).astype(int)\n",
    "# 이렇게도 가능"
   ]
  },
  {
   "cell_type": "code",
   "execution_count": 6,
   "metadata": {},
   "outputs": [
    {
     "data": {
      "text/plain": [
       "0       0\n",
       "1       0\n",
       "2       0\n",
       "3       0\n",
       "4       0\n",
       "       ..\n",
       "1792    0\n",
       "1793    0\n",
       "1794    0\n",
       "1795    0\n",
       "1796    0\n",
       "Name: target, Length: 1797, dtype: int32"
      ]
     },
     "execution_count": 6,
     "metadata": {},
     "output_type": "execute_result"
    }
   ],
   "source": [
    "labelSR"
   ]
  },
  {
   "cell_type": "code",
   "execution_count": 7,
   "metadata": {},
   "outputs": [
    {
     "data": {
      "text/plain": [
       "target\n",
       "0    1618\n",
       "1     179\n",
       "Name: count, dtype: int64"
      ]
     },
     "execution_count": 7,
     "metadata": {},
     "output_type": "execute_result"
    }
   ],
   "source": [
    "labelSR.value_counts()"
   ]
  },
  {
   "cell_type": "markdown",
   "metadata": {},
   "source": [
    "[3] 학습용 데이터셋 준비"
   ]
  },
  {
   "cell_type": "code",
   "execution_count": 8,
   "metadata": {},
   "outputs": [],
   "source": [
    "X_train, X_test, y_train, y_test = train_test_split(imgDF,\n",
    "                                                    labelSR,\n",
    "                                                    stratify=labelSR,\n",
    "                                                    random_state=1)"
   ]
  },
  {
   "cell_type": "code",
   "execution_count": 9,
   "metadata": {},
   "outputs": [
    {
     "name": "stdout",
     "output_type": "stream",
     "text": [
      "[Train] target\n",
      "0    0.90052\n",
      "1    0.09948\n",
      "Name: count, dtype: float64 (1347,)\n",
      "[Test] target\n",
      "0    0.9\n",
      "1    0.1\n",
      "Name: count, dtype: float64 (450,)\n"
     ]
    }
   ],
   "source": [
    "print('[Train]', y_train.value_counts()/y_train.shape[0], y_train.shape)\n",
    "print('[Test]', y_test.value_counts()/y_test.shape[0], y_test.shape)"
   ]
  },
  {
   "cell_type": "code",
   "execution_count": 10,
   "metadata": {},
   "outputs": [
    {
     "name": "stdout",
     "output_type": "stream",
     "text": [
      "[Train] target\n",
      "0    1213\n",
      "1     134\n",
      "Name: count, dtype: int64 (1347,)\n",
      "[Test] target\n",
      "0    405\n",
      "1     45\n",
      "Name: count, dtype: int64 (450,)\n"
     ]
    }
   ],
   "source": [
    "print('[Train]', y_train.value_counts(), y_train.shape)\n",
    "print('[Test]',  y_test.value_counts(), y_test.shape)"
   ]
  },
  {
   "cell_type": "code",
   "execution_count": 11,
   "metadata": {},
   "outputs": [
    {
     "data": {
      "text/plain": [
       "1158    0\n",
       "657     0\n",
       "1120    0\n",
       "1408    0\n",
       "680     0\n",
       "       ..\n",
       "1542    0\n",
       "518     0\n",
       "565     0\n",
       "1750    0\n",
       "909     0\n",
       "Name: target, Length: 1347, dtype: int32"
      ]
     },
     "execution_count": 11,
     "metadata": {},
     "output_type": "execute_result"
    }
   ],
   "source": [
    "y_train"
   ]
  },
  {
   "cell_type": "markdown",
   "metadata": {},
   "source": [
    "지금까지의 과정 [OvR 가능 - 다중분류]"
   ]
  },
  {
   "cell_type": "markdown",
   "metadata": {},
   "source": [
    "[4] 클래스 정의 "
   ]
  },
  {
   "cell_type": "code",
   "execution_count": 12,
   "metadata": {},
   "outputs": [],
   "source": [
    "# 사용자 정의 클래스  DummyClass : 아무것도 하지 않는 클래스, 단순 테스트용\n",
    "from sklearn.base import BaseEstimator\n",
    "\n",
    "class MyClassification(BaseEstimator):\n",
    "\n",
    "    def fit(self,X, y ) : pass\n",
    "\n",
    "    def predcit(self, X) : return np.zeros((len(X), 1), dtype=bool)\n",
    "\n",
    "    def predcit1(self, X) : return np.zeros((len(X), 1), dtype='int8')"
   ]
  },
  {
   "cell_type": "markdown",
   "metadata": {},
   "source": [
    "[5] 학습\n"
   ]
  },
  {
   "cell_type": "code",
   "execution_count": 13,
   "metadata": {},
   "outputs": [],
   "source": [
    "# 인스턴스 생성\n",
    "model = MyClassification()\n",
    "# 학습\n",
    "model.fit(X_train, y_train)"
   ]
  },
  {
   "cell_type": "markdown",
   "metadata": {},
   "source": [
    "[6] 예측 및 성능 평가"
   ]
  },
  {
   "cell_type": "code",
   "execution_count": 14,
   "metadata": {},
   "outputs": [
    {
     "data": {
      "text/plain": [
       "array([[0],\n",
       "       [0],\n",
       "       [0],\n",
       "       ...,\n",
       "       [0],\n",
       "       [0],\n",
       "       [0]], dtype=int8)"
      ]
     },
     "execution_count": 14,
     "metadata": {},
     "output_type": "execute_result"
    }
   ],
   "source": [
    "pre_1= model.predcit1(X_train)\n",
    "pre_1"
   ]
  },
  {
   "cell_type": "code",
   "execution_count": 15,
   "metadata": {},
   "outputs": [
    {
     "data": {
      "text/plain": [
       "array([[False],\n",
       "       [False],\n",
       "       [False],\n",
       "       ...,\n",
       "       [False],\n",
       "       [False],\n",
       "       [False]])"
      ]
     },
     "execution_count": 15,
     "metadata": {},
     "output_type": "execute_result"
    }
   ],
   "source": [
    "pre_ = model.predcit(X_train)\n",
    "pre_"
   ]
  },
  {
   "cell_type": "markdown",
   "metadata": {},
   "source": [
    "[6-1] 정확도=> 불균형 데이터 경우 신뢰 불가!!!!"
   ]
  },
  {
   "cell_type": "code",
   "execution_count": 16,
   "metadata": {},
   "outputs": [
    {
     "data": {
      "text/plain": [
       "0.9005196733481812"
      ]
     },
     "execution_count": 16,
     "metadata": {},
     "output_type": "execute_result"
    }
   ],
   "source": [
    "accuracy_score(y_train, pre_ )"
   ]
  },
  {
   "cell_type": "markdown",
   "metadata": {},
   "source": [
    "[6-2] 오차행렬  "
   ]
  },
  {
   "cell_type": "code",
   "execution_count": 17,
   "metadata": {},
   "outputs": [],
   "source": [
    "from sklearn.metrics import confusion_matrix, classification_report"
   ]
  },
  {
   "cell_type": "code",
   "execution_count": 18,
   "metadata": {},
   "outputs": [
    {
     "name": "stdout",
     "output_type": "stream",
     "text": [
      "1213 0 134 0\n"
     ]
    }
   ],
   "source": [
    "# 정답과 예측값 전달\n",
    "(tn, fp, fn, tp) = confusion_matrix(y_train, pre_).reshape(-1)\n",
    "print(tn, fp, fn, tp)"
   ]
  },
  {
   "cell_type": "code",
   "execution_count": 19,
   "metadata": {},
   "outputs": [
    {
     "data": {
      "text/plain": [
       "array([[1213,    0],\n",
       "       [ 134,    0]], dtype=int64)"
      ]
     },
     "execution_count": 19,
     "metadata": {},
     "output_type": "execute_result"
    }
   ],
   "source": [
    "confusion_matrix(y_train, pre_)"
   ]
  },
  {
   "cell_type": "code",
   "execution_count": 20,
   "metadata": {},
   "outputs": [],
   "source": [
    "y_test1 = [0,0,0,1,1,  1,0,0,0,1,  1,1,1,0,0,  0,0,0,0,0]\n",
    "y_pre = [1,1,1,1,1,  1,0,1,0,1,  1,1,1,0,0,  0,0,0,0,0]"
   ]
  },
  {
   "cell_type": "code",
   "execution_count": 21,
   "metadata": {},
   "outputs": [
    {
     "name": "stdout",
     "output_type": "stream",
     "text": [
      "9 4 0 7\n"
     ]
    }
   ],
   "source": [
    "# 정답과 예측값 전달\n",
    "(tn, fp, fn, tp) = confusion_matrix(y_test1, y_pre).reshape(-1)\n",
    "print(tn, fp, fn, tp)"
   ]
  },
  {
   "cell_type": "code",
   "execution_count": 22,
   "metadata": {},
   "outputs": [
    {
     "data": {
      "text/plain": [
       "array([[9, 4],\n",
       "       [0, 7]], dtype=int64)"
      ]
     },
     "execution_count": 22,
     "metadata": {},
     "output_type": "execute_result"
    }
   ],
   "source": [
    "confusion_matrix(y_test1, y_pre)"
   ]
  },
  {
   "cell_type": "markdown",
   "metadata": {},
   "source": [
    "- 정밀도 (Precision) : 모델(예측) 중심!!"
   ]
  },
  {
   "cell_type": "code",
   "execution_count": 23,
   "metadata": {},
   "outputs": [
    {
     "data": {
      "text/plain": [
       "0.0"
      ]
     },
     "execution_count": 23,
     "metadata": {},
     "output_type": "execute_result"
    }
   ],
   "source": [
    "from sklearn.metrics import precision_score\n",
    "precision_score(y_train, pre_, zero_division=0)"
   ]
  },
  {
   "cell_type": "code",
   "execution_count": 24,
   "metadata": {},
   "outputs": [
    {
     "data": {
      "text/plain": [
       "0.6363636363636364"
      ]
     },
     "execution_count": 24,
     "metadata": {},
     "output_type": "execute_result"
    }
   ],
   "source": [
    "precision_score(y_test1, y_pre, zero_division=0)"
   ]
  },
  {
   "cell_type": "markdown",
   "metadata": {},
   "source": [
    "- 재현율(Recall) : 정답(실제) 중심!!"
   ]
  },
  {
   "cell_type": "code",
   "execution_count": 25,
   "metadata": {},
   "outputs": [
    {
     "data": {
      "text/plain": [
       "0.0"
      ]
     },
     "execution_count": 25,
     "metadata": {},
     "output_type": "execute_result"
    }
   ],
   "source": [
    "from sklearn.metrics import recall_score\n",
    "recall_score(y_train, pre_)"
   ]
  },
  {
   "cell_type": "code",
   "execution_count": 26,
   "metadata": {},
   "outputs": [
    {
     "data": {
      "text/plain": [
       "1.0"
      ]
     },
     "execution_count": 26,
     "metadata": {},
     "output_type": "execute_result"
    }
   ],
   "source": [
    "recall_score(y_test1, y_pre)"
   ]
  },
  {
   "cell_type": "code",
   "execution_count": null,
   "metadata": {},
   "outputs": [],
   "source": []
  }
 ],
 "metadata": {
  "kernelspec": {
   "display_name": "ML_38",
   "language": "python",
   "name": "python3"
  },
  "language_info": {
   "codemirror_mode": {
    "name": "ipython",
    "version": 3
   },
   "file_extension": ".py",
   "mimetype": "text/x-python",
   "name": "python",
   "nbconvert_exporter": "python",
   "pygments_lexer": "ipython3",
   "version": "3.8.19"
  }
 },
 "nbformat": 4,
 "nbformat_minor": 2
}
