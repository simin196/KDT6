{
 "cells": [
  {
   "cell_type": "markdown",
   "metadata": {},
   "source": [
    "##### 임의의 숫자 즉, 난수 추출\n",
    " - random 모듈 존재\n",
    " - 0.0 ~ 1.0 실수 추출\n",
    " - n ~ m 정수 추출\n",
    " - random값 고정 ==> seed 기능 "
   ]
  },
  {
   "cell_type": "code",
   "execution_count": 8,
   "metadata": {},
   "outputs": [],
   "source": [
    "import random"
   ]
  },
  {
   "cell_type": "code",
   "execution_count": 9,
   "metadata": {},
   "outputs": [
    {
     "name": "stdout",
     "output_type": "stream",
     "text": [
      "0.24999667668640035\n",
      "0.9528169091459117\n",
      "0.9965569925394552\n",
      "0.04455638245043303\n",
      "0.860161037286291\n",
      "0.603190610968185\n",
      "0.3816059859191179\n",
      "0.28361821790671515\n",
      "0.674964847134956\n",
      "0.45683115105830563\n"
     ]
    }
   ],
   "source": [
    "# 실수 임의의 수 추출\n",
    "for _ in range (10):\n",
    "    print(random.random())\n",
    "    # >> 계속 돌릴때마다 달라진다"
   ]
  },
  {
   "cell_type": "code",
   "execution_count": 10,
   "metadata": {},
   "outputs": [
    {
     "name": "stdout",
     "output_type": "stream",
     "text": [
      "0.5714025946899135\n",
      "0.4288890546751146\n",
      "0.5780913011344704\n",
      "0.20609823213950174\n",
      "0.81332125135732\n",
      "0.8235888725334455\n",
      "0.6534725339011758\n",
      "0.16022955651881965\n",
      "0.5206693596399246\n",
      "0.32777281162209315\n"
     ]
    }
   ],
   "source": [
    "random.seed(10)\n",
    "for _ in range(10):\n",
    "    print(random.random())\n",
    "    # >> seed를 정하면 랜덤값을 고정할 수 있다"
   ]
  },
  {
   "cell_type": "markdown",
   "metadata": {},
   "source": [
    "--------------------------------------------------------------------------"
   ]
  },
  {
   "cell_type": "code",
   "execution_count": 11,
   "metadata": {},
   "outputs": [],
   "source": [
    "X = [[10],[3],[9],[5],[8],[7]\n",
    "     ,[12],[67],[91],[45],[2],[17]]\n",
    "\n",
    "y=[1,2,3,4,5,6,7,8,9,10,11,12]\n",
    "# X는 2D, y는 1D"
   ]
  },
  {
   "cell_type": "code",
   "execution_count": 12,
   "metadata": {},
   "outputs": [],
   "source": [
    "from sklearn.model_selection import train_test_split"
   ]
  },
  {
   "cell_type": "code",
   "execution_count": 29,
   "metadata": {},
   "outputs": [
    {
     "name": "stdout",
     "output_type": "stream",
     "text": [
      "X : [[10], [3], [9], [5], [8], [7], [12], [67], [91], [45], [2], [17]]\n",
      "X_train : [[45], [5], [3], [9], [91], [7], [17], [12], [67]]\n",
      "X_test : [[10], [2], [8]]\n"
     ]
    }
   ],
   "source": [
    "# 섞어서 학습용/테스트용 데이터셋 분리\n",
    "X_train,X_test,y_train,y_test = train_test_split(X, y , shuffle=True) # shuffle >>> 할당된 데이터를 섞어줌, 기본값 True\n",
    "\n",
    "print(f'X : {X}')\n",
    "print(f'X_train : {X_train}') \n",
    "print(f'X_test : {X_test}')"
   ]
  },
  {
   "cell_type": "code",
   "execution_count": 27,
   "metadata": {},
   "outputs": [
    {
     "name": "stdout",
     "output_type": "stream",
     "text": [
      "X : [[10], [3], [9], [5], [8], [7], [12], [67], [91], [45], [2], [17]]\n",
      "X_train : [[5], [9], [67], [7], [12], [8], [3], [17], [10]]\n",
      "X_test : [[2], [45], [91]]\n"
     ]
    }
   ],
   "source": [
    "# 섞지 않고 학습용/테스트용 데이터셋 분리\n",
    "# random에서 seed설정 역할 매개변수 => random_state\n",
    "X_train,X_test,y_train,y_test = train_test_split(X, y , random_state=50) # random_state엥 숫자를 넣어 랜덤한 한곳의 값을 임의로 잡아주는 것\n",
    "\n",
    "print(f'X : {X}')\n",
    "print(f'X_train : {X_train}')\n",
    "print(f'X_test : {X_test}')"
   ]
  },
  {
   "cell_type": "code",
   "execution_count": null,
   "metadata": {},
   "outputs": [],
   "source": []
  }
 ],
 "metadata": {
  "kernelspec": {
   "display_name": "ML_38",
   "language": "python",
   "name": "python3"
  },
  "language_info": {
   "codemirror_mode": {
    "name": "ipython",
    "version": 3
   },
   "file_extension": ".py",
   "mimetype": "text/x-python",
   "name": "python",
   "nbconvert_exporter": "python",
   "pygments_lexer": "ipython3",
   "version": "3.8.19"
  }
 },
 "nbformat": 4,
 "nbformat_minor": 2
}
