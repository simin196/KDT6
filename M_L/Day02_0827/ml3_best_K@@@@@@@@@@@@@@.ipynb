{
 "cells": [
  {
   "cell_type": "markdown",
   "metadata": {},
   "source": [
    "### 생선 분류 ==> 최적의 K 찾기 : 하이퍼파라미터\n",
    " - 데이터셋 : fish.csv.\n",
    " - 피쳐/특성 : Weight, Lenght\n",
    " - 타겟/ 라벨 : Species\n",
    " - 학습 방법 : 지도 학습 = > 분류\n",
    " - 학습 알고리즘 : 최근접이웃알고리즘\n",
    " - 하이퍼파라미터 튜닝 : 모델 성능 개선 >> 최적의 K를 찾기위해"
   ]
  },
  {
   "cell_type": "code",
   "execution_count": 1,
   "metadata": {},
   "outputs": [],
   "source": [
    "# [1] 데이터 준비\n",
    "import pandas as pd\n",
    "import matplotlib.pyplot as plt"
   ]
  },
  {
   "cell_type": "code",
   "execution_count": 2,
   "metadata": {},
   "outputs": [],
   "source": [
    "DATA_file = '../data/fish.csv'"
   ]
  },
  {
   "cell_type": "code",
   "execution_count": 3,
   "metadata": {},
   "outputs": [
    {
     "data": {
      "text/html": [
       "<div>\n",
       "<style scoped>\n",
       "    .dataframe tbody tr th:only-of-type {\n",
       "        vertical-align: middle;\n",
       "    }\n",
       "\n",
       "    .dataframe tbody tr th {\n",
       "        vertical-align: top;\n",
       "    }\n",
       "\n",
       "    .dataframe thead th {\n",
       "        text-align: right;\n",
       "    }\n",
       "</style>\n",
       "<table border=\"1\" class=\"dataframe\">\n",
       "  <thead>\n",
       "    <tr style=\"text-align: right;\">\n",
       "      <th></th>\n",
       "      <th>Species</th>\n",
       "      <th>Weight</th>\n",
       "      <th>Length</th>\n",
       "    </tr>\n",
       "  </thead>\n",
       "  <tbody>\n",
       "    <tr>\n",
       "      <th>0</th>\n",
       "      <td>Bream</td>\n",
       "      <td>242.0</td>\n",
       "      <td>25.4</td>\n",
       "    </tr>\n",
       "    <tr>\n",
       "      <th>1</th>\n",
       "      <td>Bream</td>\n",
       "      <td>290.0</td>\n",
       "      <td>26.3</td>\n",
       "    </tr>\n",
       "    <tr>\n",
       "      <th>2</th>\n",
       "      <td>Bream</td>\n",
       "      <td>340.0</td>\n",
       "      <td>26.5</td>\n",
       "    </tr>\n",
       "    <tr>\n",
       "      <th>3</th>\n",
       "      <td>Bream</td>\n",
       "      <td>363.0</td>\n",
       "      <td>29.0</td>\n",
       "    </tr>\n",
       "    <tr>\n",
       "      <th>4</th>\n",
       "      <td>Bream</td>\n",
       "      <td>430.0</td>\n",
       "      <td>29.0</td>\n",
       "    </tr>\n",
       "  </tbody>\n",
       "</table>\n",
       "</div>"
      ],
      "text/plain": [
       "  Species  Weight  Length\n",
       "0   Bream   242.0    25.4\n",
       "1   Bream   290.0    26.3\n",
       "2   Bream   340.0    26.5\n",
       "3   Bream   363.0    29.0\n",
       "4   Bream   430.0    29.0"
      ]
     },
     "execution_count": 3,
     "metadata": {},
     "output_type": "execute_result"
    }
   ],
   "source": [
    "# 행 : Bream, Smelt   컬럼 : Species, Weight, Lenght => 0,1,2 \n",
    "fishDF = pd.read_csv(DATA_file, usecols=[0,1,2])# 컬럼명도 가능\n",
    "fishDF.head()"
   ]
  },
  {
   "cell_type": "code",
   "execution_count": 4,
   "metadata": {},
   "outputs": [
    {
     "data": {
      "text/plain": [
       "RangeIndex(start=0, stop=49, step=1)"
      ]
     },
     "execution_count": 4,
     "metadata": {},
     "output_type": "execute_result"
    }
   ],
   "source": [
    "mask = (fishDF['Species'] == \"Bream\")| (fishDF['Species'] == \"Smelt\")\n",
    "twoDF = fishDF[mask]\n",
    "twoDF.reset_index(drop=True, inplace=True)\n",
    "twoDF.index"
   ]
  },
  {
   "cell_type": "code",
   "execution_count": 5,
   "metadata": {},
   "outputs": [
    {
     "name": "stderr",
     "output_type": "stream",
     "text": [
      "C:\\Users\\KDP-23\\AppData\\Local\\Temp\\ipykernel_19220\\3829503867.py:3: SettingWithCopyWarning: \n",
      "A value is trying to be set on a copy of a slice from a DataFrame.\n",
      "Try using .loc[row_indexer,col_indexer] = value instead\n",
      "\n",
      "See the caveats in the documentation: https://pandas.pydata.org/pandas-docs/stable/user_guide/indexing.html#returning-a-view-versus-a-copy\n",
      "  twoDF['FCode'] = new_cols\n"
     ]
    }
   ],
   "source": [
    "# Species 컬럼을 수치화 => Bream 0, Smelt 1\n",
    "new_cols = twoDF['Species'].replace({'Bream':0, 'Smelt':1})\n",
    "twoDF['FCode'] = new_cols"
   ]
  },
  {
   "cell_type": "code",
   "execution_count": 6,
   "metadata": {},
   "outputs": [
    {
     "data": {
      "text/html": [
       "<div>\n",
       "<style scoped>\n",
       "    .dataframe tbody tr th:only-of-type {\n",
       "        vertical-align: middle;\n",
       "    }\n",
       "\n",
       "    .dataframe tbody tr th {\n",
       "        vertical-align: top;\n",
       "    }\n",
       "\n",
       "    .dataframe thead th {\n",
       "        text-align: right;\n",
       "    }\n",
       "</style>\n",
       "<table border=\"1\" class=\"dataframe\">\n",
       "  <thead>\n",
       "    <tr style=\"text-align: right;\">\n",
       "      <th></th>\n",
       "      <th>Species</th>\n",
       "      <th>Weight</th>\n",
       "      <th>Length</th>\n",
       "      <th>FCode</th>\n",
       "    </tr>\n",
       "  </thead>\n",
       "  <tbody>\n",
       "    <tr>\n",
       "      <th>0</th>\n",
       "      <td>Bream</td>\n",
       "      <td>242.0</td>\n",
       "      <td>25.4</td>\n",
       "      <td>0</td>\n",
       "    </tr>\n",
       "  </tbody>\n",
       "</table>\n",
       "</div>"
      ],
      "text/plain": [
       "  Species  Weight  Length  FCode\n",
       "0   Bream   242.0    25.4      0"
      ]
     },
     "execution_count": 6,
     "metadata": {},
     "output_type": "execute_result"
    }
   ],
   "source": [
    "twoDF.head(1)"
   ]
  },
  {
   "cell_type": "markdown",
   "metadata": {},
   "source": [
    "### 2. 피쳐와 타겟 분리"
   ]
  },
  {
   "cell_type": "code",
   "execution_count": 7,
   "metadata": {},
   "outputs": [
    {
     "name": "stdout",
     "output_type": "stream",
     "text": [
      "features: (49, 2), 2D\n",
      "target: (49,), 1D\n"
     ]
    }
   ],
   "source": [
    "features = twoDF[['Weight','Length']]\n",
    "target = twoDF['FCode']\n",
    "print(f'features: {features.shape}, {features.ndim}D')\n",
    "print(f'target: {target.shape}, {target.ndim}D')"
   ]
  },
  {
   "cell_type": "markdown",
   "metadata": {},
   "source": [
    "### 3. 데이터셋 준비 --> 학습용, 테스트용"
   ]
  },
  {
   "cell_type": "code",
   "execution_count": 8,
   "metadata": {},
   "outputs": [],
   "source": [
    "from sklearn.model_selection import train_test_split"
   ]
  },
  {
   "cell_type": "code",
   "execution_count": 9,
   "metadata": {},
   "outputs": [],
   "source": [
    "# train: test = 80:20 ===> test_size=0.2  또는 train_size = 0.8\n",
    "# stratfy 메개변수 >> 분류인 경우 사용, 분류 타겟의 종류에 대한 비율을 고려\n",
    "x_train, x_test, y_train, y_test = train_test_split(features, \n",
    "                                                    target,\n",
    "                                                    test_size=0.2,\n",
    "                                                    stratify = target,\n",
    "                                                    random_state=10)"
   ]
  },
  {
   "cell_type": "code",
   "execution_count": 10,
   "metadata": {},
   "outputs": [
    {
     "name": "stdout",
     "output_type": "stream",
     "text": [
      "x_train : (39, 2), 2D\n",
      "y_train : (39,), 1D\n",
      "x_test : (10, 2), 2D\n",
      "y_test : (10,), 1D\n"
     ]
    }
   ],
   "source": [
    "# train : test 80:20체크\n",
    "print(f'x_train : {x_train.shape}, {x_train.ndim}D')\n",
    "print(f'y_train : {y_train.shape}, {y_train.ndim}D')\n",
    "\n",
    "print(f'x_test : {x_test.shape}, {x_test.ndim}D')\n",
    "print(f'y_test : {y_test.shape}, {y_test.ndim}D')"
   ]
  },
  {
   "cell_type": "code",
   "execution_count": 11,
   "metadata": {},
   "outputs": [
    {
     "data": {
      "text/plain": [
       "(0.717948717948718, 0.28205128205128205)"
      ]
     },
     "execution_count": 11,
     "metadata": {},
     "output_type": "execute_result"
    }
   ],
   "source": [
    "# # target 0(Bream), 1(Smelt)의 비율\n",
    "y_train.value_counts()[0]/y_train.shape[0], y_train.value_counts()[1]/y_train.shape[0]"
   ]
  },
  {
   "cell_type": "code",
   "execution_count": 12,
   "metadata": {},
   "outputs": [
    {
     "data": {
      "text/plain": [
       "(0.7, 0.3)"
      ]
     },
     "execution_count": 12,
     "metadata": {},
     "output_type": "execute_result"
    }
   ],
   "source": [
    "y_test.value_counts()[0]/y_test.shape[0], y_test.value_counts()[1]/y_test.shape[0]"
   ]
  },
  {
   "cell_type": "markdown",
   "metadata": {},
   "source": [
    "#### 3-1 피쳐 스케일링"
   ]
  },
  {
   "cell_type": "code",
   "execution_count": 13,
   "metadata": {},
   "outputs": [],
   "source": [
    "from sklearn.preprocessing import MinMaxScaler"
   ]
  },
  {
   "cell_type": "code",
   "execution_count": 14,
   "metadata": {},
   "outputs": [],
   "source": [
    "# 스케일러 인스턴스 생성\n",
    "mmScaler = MinMaxScaler()"
   ]
  },
  {
   "cell_type": "code",
   "execution_count": 15,
   "metadata": {},
   "outputs": [
    {
     "data": {
      "text/html": [
       "<style>#sk-container-id-1 {color: black;}#sk-container-id-1 pre{padding: 0;}#sk-container-id-1 div.sk-toggleable {background-color: white;}#sk-container-id-1 label.sk-toggleable__label {cursor: pointer;display: block;width: 100%;margin-bottom: 0;padding: 0.3em;box-sizing: border-box;text-align: center;}#sk-container-id-1 label.sk-toggleable__label-arrow:before {content: \"▸\";float: left;margin-right: 0.25em;color: #696969;}#sk-container-id-1 label.sk-toggleable__label-arrow:hover:before {color: black;}#sk-container-id-1 div.sk-estimator:hover label.sk-toggleable__label-arrow:before {color: black;}#sk-container-id-1 div.sk-toggleable__content {max-height: 0;max-width: 0;overflow: hidden;text-align: left;background-color: #f0f8ff;}#sk-container-id-1 div.sk-toggleable__content pre {margin: 0.2em;color: black;border-radius: 0.25em;background-color: #f0f8ff;}#sk-container-id-1 input.sk-toggleable__control:checked~div.sk-toggleable__content {max-height: 200px;max-width: 100%;overflow: auto;}#sk-container-id-1 input.sk-toggleable__control:checked~label.sk-toggleable__label-arrow:before {content: \"▾\";}#sk-container-id-1 div.sk-estimator input.sk-toggleable__control:checked~label.sk-toggleable__label {background-color: #d4ebff;}#sk-container-id-1 div.sk-label input.sk-toggleable__control:checked~label.sk-toggleable__label {background-color: #d4ebff;}#sk-container-id-1 input.sk-hidden--visually {border: 0;clip: rect(1px 1px 1px 1px);clip: rect(1px, 1px, 1px, 1px);height: 1px;margin: -1px;overflow: hidden;padding: 0;position: absolute;width: 1px;}#sk-container-id-1 div.sk-estimator {font-family: monospace;background-color: #f0f8ff;border: 1px dotted black;border-radius: 0.25em;box-sizing: border-box;margin-bottom: 0.5em;}#sk-container-id-1 div.sk-estimator:hover {background-color: #d4ebff;}#sk-container-id-1 div.sk-parallel-item::after {content: \"\";width: 100%;border-bottom: 1px solid gray;flex-grow: 1;}#sk-container-id-1 div.sk-label:hover label.sk-toggleable__label {background-color: #d4ebff;}#sk-container-id-1 div.sk-serial::before {content: \"\";position: absolute;border-left: 1px solid gray;box-sizing: border-box;top: 0;bottom: 0;left: 50%;z-index: 0;}#sk-container-id-1 div.sk-serial {display: flex;flex-direction: column;align-items: center;background-color: white;padding-right: 0.2em;padding-left: 0.2em;position: relative;}#sk-container-id-1 div.sk-item {position: relative;z-index: 1;}#sk-container-id-1 div.sk-parallel {display: flex;align-items: stretch;justify-content: center;background-color: white;position: relative;}#sk-container-id-1 div.sk-item::before, #sk-container-id-1 div.sk-parallel-item::before {content: \"\";position: absolute;border-left: 1px solid gray;box-sizing: border-box;top: 0;bottom: 0;left: 50%;z-index: -1;}#sk-container-id-1 div.sk-parallel-item {display: flex;flex-direction: column;z-index: 1;position: relative;background-color: white;}#sk-container-id-1 div.sk-parallel-item:first-child::after {align-self: flex-end;width: 50%;}#sk-container-id-1 div.sk-parallel-item:last-child::after {align-self: flex-start;width: 50%;}#sk-container-id-1 div.sk-parallel-item:only-child::after {width: 0;}#sk-container-id-1 div.sk-dashed-wrapped {border: 1px dashed gray;margin: 0 0.4em 0.5em 0.4em;box-sizing: border-box;padding-bottom: 0.4em;background-color: white;}#sk-container-id-1 div.sk-label label {font-family: monospace;font-weight: bold;display: inline-block;line-height: 1.2em;}#sk-container-id-1 div.sk-label-container {text-align: center;}#sk-container-id-1 div.sk-container {/* jupyter's `normalize.less` sets `[hidden] { display: none; }` but bootstrap.min.css set `[hidden] { display: none !important; }` so we also need the `!important` here to be able to override the default hidden behavior on the sphinx rendered scikit-learn.org. See: https://github.com/scikit-learn/scikit-learn/issues/21755 */display: inline-block !important;position: relative;}#sk-container-id-1 div.sk-text-repr-fallback {display: none;}</style><div id=\"sk-container-id-1\" class=\"sk-top-container\"><div class=\"sk-text-repr-fallback\"><pre>MinMaxScaler()</pre><b>In a Jupyter environment, please rerun this cell to show the HTML representation or trust the notebook. <br />On GitHub, the HTML representation is unable to render, please try loading this page with nbviewer.org.</b></div><div class=\"sk-container\" hidden><div class=\"sk-item\"><div class=\"sk-estimator sk-toggleable\"><input class=\"sk-toggleable__control sk-hidden--visually\" id=\"sk-estimator-id-1\" type=\"checkbox\" checked><label for=\"sk-estimator-id-1\" class=\"sk-toggleable__label sk-toggleable__label-arrow\">MinMaxScaler</label><div class=\"sk-toggleable__content\"><pre>MinMaxScaler()</pre></div></div></div></div></div>"
      ],
      "text/plain": [
       "MinMaxScaler()"
      ]
     },
     "execution_count": 15,
     "metadata": {},
     "output_type": "execute_result"
    }
   ],
   "source": [
    "# 데이터에 기반한 MinMaxScaler 동작을 위한 학습 진행\n",
    "mmScaler.fit(x_train)"
   ]
  },
  {
   "cell_type": "code",
   "execution_count": 17,
   "metadata": {},
   "outputs": [
    {
     "data": {
      "text/plain": [
       "(array([-0.00674519, -0.31410256]),\n",
       " array([6.7, 9.8]),\n",
       " array([0.00100675, 0.03205128]),\n",
       " array([1000.,   41.]))"
      ]
     },
     "execution_count": 17,
     "metadata": {},
     "output_type": "execute_result"
    }
   ],
   "source": [
    "mmScaler.min_, mmScaler.data_min_, mmScaler.scale_, mmScaler.data_max_ \n",
    "# min_은 변환된 스케일의 하한 값\n",
    "# data_min_과 data_max_는 원본 데이터의 최소 및 최대값\n",
    "# scale_은 이 값들을 변환하는 데 필요한 비율"
   ]
  },
  {
   "cell_type": "code",
   "execution_count": null,
   "metadata": {},
   "outputs": [
    {
     "data": {
      "text/plain": [
       "(39, 2)"
      ]
     },
     "execution_count": 17,
     "metadata": {},
     "output_type": "execute_result"
    }
   ],
   "source": [
    "# 학습용 데이터셋 ==> 스케일링 ==> ndarray 타입 변환\n",
    "x_train_Scaler = mmScaler.transform(x_train)\n",
    "x_train_Scaler.shape"
   ]
  },
  {
   "cell_type": "code",
   "execution_count": null,
   "metadata": {},
   "outputs": [
    {
     "data": {
      "text/plain": [
       "((10, 2), 0.0033222591362126247, 0.8489882210812445)"
      ]
     },
     "execution_count": 18,
     "metadata": {},
     "output_type": "execute_result"
    }
   ],
   "source": [
    "# 테스트용 데이터셋 ==> 스케일링 ==> ndarray 타입 변환\n",
    "x_test_Scaler = mmScaler.transform(x_test)\n",
    "x_test_Scaler.shape , x_test_Scaler.min(), x_test_Scaler.max()"
   ]
  },
  {
   "cell_type": "markdown",
   "metadata": {},
   "source": [
    "### 4 훈련학습 진행\n",
    "- 학습알고리즘 인스턴스 생성\n",
    "- 학습 진행  "
   ]
  },
  {
   "cell_type": "code",
   "execution_count": null,
   "metadata": {},
   "outputs": [],
   "source": [
    "from sklearn.neighbors import KNeighborsClassifier"
   ]
  },
  {
   "cell_type": "code",
   "execution_count": null,
   "metadata": {},
   "outputs": [],
   "source": [
    "# 인스턴스 생성\n",
    "model = KNeighborsClassifier()"
   ]
  },
  {
   "cell_type": "code",
   "execution_count": null,
   "metadata": {},
   "outputs": [
    {
     "data": {
      "text/html": [
       "<style>#sk-container-id-2 {color: black;}#sk-container-id-2 pre{padding: 0;}#sk-container-id-2 div.sk-toggleable {background-color: white;}#sk-container-id-2 label.sk-toggleable__label {cursor: pointer;display: block;width: 100%;margin-bottom: 0;padding: 0.3em;box-sizing: border-box;text-align: center;}#sk-container-id-2 label.sk-toggleable__label-arrow:before {content: \"▸\";float: left;margin-right: 0.25em;color: #696969;}#sk-container-id-2 label.sk-toggleable__label-arrow:hover:before {color: black;}#sk-container-id-2 div.sk-estimator:hover label.sk-toggleable__label-arrow:before {color: black;}#sk-container-id-2 div.sk-toggleable__content {max-height: 0;max-width: 0;overflow: hidden;text-align: left;background-color: #f0f8ff;}#sk-container-id-2 div.sk-toggleable__content pre {margin: 0.2em;color: black;border-radius: 0.25em;background-color: #f0f8ff;}#sk-container-id-2 input.sk-toggleable__control:checked~div.sk-toggleable__content {max-height: 200px;max-width: 100%;overflow: auto;}#sk-container-id-2 input.sk-toggleable__control:checked~label.sk-toggleable__label-arrow:before {content: \"▾\";}#sk-container-id-2 div.sk-estimator input.sk-toggleable__control:checked~label.sk-toggleable__label {background-color: #d4ebff;}#sk-container-id-2 div.sk-label input.sk-toggleable__control:checked~label.sk-toggleable__label {background-color: #d4ebff;}#sk-container-id-2 input.sk-hidden--visually {border: 0;clip: rect(1px 1px 1px 1px);clip: rect(1px, 1px, 1px, 1px);height: 1px;margin: -1px;overflow: hidden;padding: 0;position: absolute;width: 1px;}#sk-container-id-2 div.sk-estimator {font-family: monospace;background-color: #f0f8ff;border: 1px dotted black;border-radius: 0.25em;box-sizing: border-box;margin-bottom: 0.5em;}#sk-container-id-2 div.sk-estimator:hover {background-color: #d4ebff;}#sk-container-id-2 div.sk-parallel-item::after {content: \"\";width: 100%;border-bottom: 1px solid gray;flex-grow: 1;}#sk-container-id-2 div.sk-label:hover label.sk-toggleable__label {background-color: #d4ebff;}#sk-container-id-2 div.sk-serial::before {content: \"\";position: absolute;border-left: 1px solid gray;box-sizing: border-box;top: 0;bottom: 0;left: 50%;z-index: 0;}#sk-container-id-2 div.sk-serial {display: flex;flex-direction: column;align-items: center;background-color: white;padding-right: 0.2em;padding-left: 0.2em;position: relative;}#sk-container-id-2 div.sk-item {position: relative;z-index: 1;}#sk-container-id-2 div.sk-parallel {display: flex;align-items: stretch;justify-content: center;background-color: white;position: relative;}#sk-container-id-2 div.sk-item::before, #sk-container-id-2 div.sk-parallel-item::before {content: \"\";position: absolute;border-left: 1px solid gray;box-sizing: border-box;top: 0;bottom: 0;left: 50%;z-index: -1;}#sk-container-id-2 div.sk-parallel-item {display: flex;flex-direction: column;z-index: 1;position: relative;background-color: white;}#sk-container-id-2 div.sk-parallel-item:first-child::after {align-self: flex-end;width: 50%;}#sk-container-id-2 div.sk-parallel-item:last-child::after {align-self: flex-start;width: 50%;}#sk-container-id-2 div.sk-parallel-item:only-child::after {width: 0;}#sk-container-id-2 div.sk-dashed-wrapped {border: 1px dashed gray;margin: 0 0.4em 0.5em 0.4em;box-sizing: border-box;padding-bottom: 0.4em;background-color: white;}#sk-container-id-2 div.sk-label label {font-family: monospace;font-weight: bold;display: inline-block;line-height: 1.2em;}#sk-container-id-2 div.sk-label-container {text-align: center;}#sk-container-id-2 div.sk-container {/* jupyter's `normalize.less` sets `[hidden] { display: none; }` but bootstrap.min.css set `[hidden] { display: none !important; }` so we also need the `!important` here to be able to override the default hidden behavior on the sphinx rendered scikit-learn.org. See: https://github.com/scikit-learn/scikit-learn/issues/21755 */display: inline-block !important;position: relative;}#sk-container-id-2 div.sk-text-repr-fallback {display: none;}</style><div id=\"sk-container-id-2\" class=\"sk-top-container\"><div class=\"sk-text-repr-fallback\"><pre>KNeighborsClassifier()</pre><b>In a Jupyter environment, please rerun this cell to show the HTML representation or trust the notebook. <br />On GitHub, the HTML representation is unable to render, please try loading this page with nbviewer.org.</b></div><div class=\"sk-container\" hidden><div class=\"sk-item\"><div class=\"sk-estimator sk-toggleable\"><input class=\"sk-toggleable__control sk-hidden--visually\" id=\"sk-estimator-id-2\" type=\"checkbox\" checked><label for=\"sk-estimator-id-2\" class=\"sk-toggleable__label sk-toggleable__label-arrow\">KNeighborsClassifier</label><div class=\"sk-toggleable__content\"><pre>KNeighborsClassifier()</pre></div></div></div></div></div>"
      ],
      "text/plain": [
       "KNeighborsClassifier()"
      ]
     },
     "execution_count": 21,
     "metadata": {},
     "output_type": "execute_result"
    }
   ],
   "source": [
    "# 학습진행 ==>  학습용 데이터셋\n",
    "model.fit(x_train_Scaler, y_train)"
   ]
  },
  {
   "cell_type": "code",
   "execution_count": null,
   "metadata": {},
   "outputs": [
    {
     "data": {
      "text/plain": [
       "array([0, 1], dtype=int64)"
      ]
     },
     "execution_count": 22,
     "metadata": {},
     "output_type": "execute_result"
    }
   ],
   "source": [
    "# 학습 후 모델 파라미터\n",
    "model.classes_\n",
    "#  model.feature_names_in_,  <== ndarray일 경우 컬럼명 X"
   ]
  },
  {
   "cell_type": "code",
   "execution_count": null,
   "metadata": {},
   "outputs": [
    {
     "data": {
      "text/plain": [
       "39"
      ]
     },
     "execution_count": 23,
     "metadata": {},
     "output_type": "execute_result"
    }
   ],
   "source": [
    "model.n_samples_fit_"
   ]
  },
  {
   "cell_type": "markdown",
   "metadata": {},
   "source": [
    "#### 5. 성능 평가"
   ]
  },
  {
   "cell_type": "code",
   "execution_count": null,
   "metadata": {},
   "outputs": [
    {
     "data": {
      "text/plain": [
       "1.0"
      ]
     },
     "execution_count": 24,
     "metadata": {},
     "output_type": "execute_result"
    }
   ],
   "source": [
    "model.score(x_test_Scaler, y_test)"
   ]
  },
  {
   "cell_type": "markdown",
   "metadata": {},
   "source": [
    "#### 6. 최적의 K 개수 찾기 ==> 모델의 성능 영향 미치는 파리미터 \n",
    "- 하이퍼 파라미터"
   ]
  },
  {
   "cell_type": "code",
   "execution_count": null,
   "metadata": {},
   "outputs": [],
   "source": [
    "# K의 범위 : 1 ~ 전체 데이터 개수\n",
    "\n",
    "# scores = []\n",
    "# for k in range(1,40):\n",
    "#     # 최근접 이웃 데이터 수 설정\n",
    "#     # model = KNeighborsClassifier(n.n_neighbors= k) # >> 반복문 돌릴때마다 모델을 새로 만듬\n",
    "#     model.n_neighbors = k # 데이터 양이 많다면 이렇게는 버겁다\n",
    "                                \n",
    "#     # 모델 예측 값 추출\n",
    "#     model.fit(x_train_Scaler) # 변수 값만 바꾸는거면  y_train값을 넣어줘도 됨\n",
    "\n",
    "#     # 함수 계산\n",
    "#     jumsu = model.score(x_test_Scaler, y_test)"
   ]
  },
  {
   "cell_type": "code",
   "execution_count": null,
   "metadata": {},
   "outputs": [],
   "source": [
    "scores, point = [], []\n",
    "for k in range(1,40):\n",
    "    # 최근접 이웃 데이터 수 설정\n",
    "    model.n_neighbors = k # 위에 있는 model을 활용\n",
    "\n",
    "    # 모델 예측 값 추출\n",
    "    # model.fit(x_train_Scaler) # 변수 값만 바꾸는거면  y_train값을 넣어줘도 됨\n",
    "\n",
    "    # 함수 계산 및 저장\n",
    "    jumsu = model.score(x_test_Scaler, y_test)\n",
    "    # print(f'[{k}] jumeu => {jumsu}')\n",
    "    \n",
    "    if k>1: # >>>>>>>>>>>>>>>>>>>>>>>>>>>>>>>>>>>>>>>>>>>>>>>>>>>>>>>>>>>>>>>>>>???? 왜 조건문을 넣어준거지??\n",
    "        if jumsu != scores[-1]: point.append(k)\n",
    "    scores.append(jumsu)"
   ]
  },
  {
   "cell_type": "code",
   "execution_count": null,
   "metadata": {},
   "outputs": [
    {
     "data": {
      "text/plain": [
       "[22]"
      ]
     },
     "execution_count": 27,
     "metadata": {},
     "output_type": "execute_result"
    }
   ],
   "source": [
    "point"
   ]
  },
  {
   "cell_type": "code",
   "execution_count": null,
   "metadata": {},
   "outputs": [
    {
     "data": {
      "text/plain": [
       "[1.0,\n",
       " 1.0,\n",
       " 1.0,\n",
       " 1.0,\n",
       " 1.0,\n",
       " 1.0,\n",
       " 1.0,\n",
       " 1.0,\n",
       " 1.0,\n",
       " 1.0,\n",
       " 1.0,\n",
       " 1.0,\n",
       " 1.0,\n",
       " 1.0,\n",
       " 1.0,\n",
       " 1.0,\n",
       " 1.0,\n",
       " 1.0,\n",
       " 1.0,\n",
       " 1.0,\n",
       " 1.0,\n",
       " 0.7,\n",
       " 0.7,\n",
       " 0.7,\n",
       " 0.7,\n",
       " 0.7,\n",
       " 0.7,\n",
       " 0.7,\n",
       " 0.7,\n",
       " 0.7,\n",
       " 0.7,\n",
       " 0.7,\n",
       " 0.7,\n",
       " 0.7,\n",
       " 0.7,\n",
       " 0.7,\n",
       " 0.7,\n",
       " 0.7,\n",
       " 0.7]"
      ]
     },
     "execution_count": 28,
     "metadata": {},
     "output_type": "execute_result"
    }
   ],
   "source": [
    "scores"
   ]
  },
  {
   "cell_type": "code",
   "execution_count": null,
   "metadata": {},
   "outputs": [
    {
     "data": {
      "image/png": "[encoded data removed]",
      "text/plain": [
       "<Figure size 640x480 with 1 Axes>"
      ]
     },
     "metadata": {},
     "output_type": "display_data"
    }
   ],
   "source": [
    "# x축 K, y축 점수\n",
    "plt.plot(range(1,40), scores)\n",
    "plt.xlabel(\"k\")\n",
    "plt.ylabel('scores')\n",
    "plt.axvline(point[0]-1, 0.0, 1.0, color = 'red', linestyle= 'dashed') # 수직선\n",
    "plt.show()"
   ]
  },
  {
   "cell_type": "markdown",
   "metadata": {},
   "source": [
    "#### 6. 예측 하기  == > 학습/ 훈련과 테스트에 사용되지 않은 데이터 사용\n",
    " - 주의 : 입력 데이터 ==> 2D\n",
    " "
   ]
  },
  {
   "cell_type": "code",
   "execution_count": null,
   "metadata": {},
   "outputs": [
    {
     "data": {
      "text/html": [
       "<div>\n",
       "<style scoped>\n",
       "    .dataframe tbody tr th:only-of-type {\n",
       "        vertical-align: middle;\n",
       "    }\n",
       "\n",
       "    .dataframe tbody tr th {\n",
       "        vertical-align: top;\n",
       "    }\n",
       "\n",
       "    .dataframe thead th {\n",
       "        text-align: right;\n",
       "    }\n",
       "</style>\n",
       "<table border=\"1\" class=\"dataframe\">\n",
       "  <thead>\n",
       "    <tr style=\"text-align: right;\">\n",
       "      <th></th>\n",
       "      <th>Weight</th>\n",
       "      <th>Length</th>\n",
       "    </tr>\n",
       "  </thead>\n",
       "  <tbody>\n",
       "    <tr>\n",
       "      <th>0</th>\n",
       "      <td>413</td>\n",
       "      <td>27.8</td>\n",
       "    </tr>\n",
       "  </tbody>\n",
       "</table>\n",
       "</div>"
      ],
      "text/plain": [
       "   Weight  Length\n",
       "0     413    27.8"
      ]
     },
     "execution_count": 30,
     "metadata": {},
     "output_type": "execute_result"
    }
   ],
   "source": [
    "new_data =pd.DataFrame([[413,27.8]], columns=['Weight', 'Length'])\n",
    "new_data\n"
   ]
  },
  {
   "cell_type": "code",
   "execution_count": null,
   "metadata": {},
   "outputs": [
    {
     "data": {
      "text/plain": [
       "array([[0.40904057, 0.57692308]])"
      ]
     },
     "execution_count": 31,
     "metadata": {},
     "output_type": "execute_result"
    }
   ],
   "source": [
    "new_data_mmScaled = mmScaler.transform(new_data)\n",
    "new_data_mmScaled"
   ]
  },
  {
   "cell_type": "code",
   "execution_count": null,
   "metadata": {},
   "outputs": [
    {
     "data": {
      "text/plain": [
       "(1, 2)"
      ]
     },
     "execution_count": 32,
     "metadata": {},
     "output_type": "execute_result"
    }
   ],
   "source": [
    "new_data_mmScaled.shape"
   ]
  },
  {
   "cell_type": "code",
   "execution_count": null,
   "metadata": {},
   "outputs": [],
   "source": [
    "# 임의의 새로운 데이터의 예측\n",
    "### 최근접한 k개 데이터 찾기\n",
    "distance, idx = model.kneighbors(new_data_mmScaled)"
   ]
  },
  {
   "cell_type": "code",
   "execution_count": null,
   "metadata": {},
   "outputs": [
    {
     "data": {
      "text/plain": [
       "array([[0.04209753, 0.06334927, 0.07138647, 0.07421737, 0.07974703,\n",
       "        0.08448221, 0.10667685, 0.12006426, 0.13283514, 0.13487345,\n",
       "        0.14742788, 0.15337025, 0.23143819, 0.25707598, 0.26964939,\n",
       "        0.29923871, 0.3005092 , 0.33355916, 0.33834045, 0.35427164,\n",
       "        0.36978152, 0.38571904, 0.57002596, 0.61493269, 0.62276118,\n",
       "        0.63676715, 0.63743027, 0.64447977, 0.64901627, 0.65396783,\n",
       "        0.66044108, 0.66734496, 0.66921546, 0.67438368, 0.68627917,\n",
       "        0.68648846, 0.68855791, 0.70647952, 0.70721597]])"
      ]
     },
     "execution_count": 34,
     "metadata": {},
     "output_type": "execute_result"
    }
   ],
   "source": [
    "distance"
   ]
  },
  {
   "cell_type": "code",
   "execution_count": null,
   "metadata": {},
   "outputs": [
    {
     "data": {
      "text/plain": [
       "[25,\n",
       " 22,\n",
       " 21,\n",
       " 0,\n",
       " 6,\n",
       " 17,\n",
       " 29,\n",
       " 10,\n",
       " 2,\n",
       " 36,\n",
       " 12,\n",
       " 37,\n",
       " 33,\n",
       " 30,\n",
       " 23,\n",
       " 31,\n",
       " 11,\n",
       " 9,\n",
       " 14,\n",
       " 24,\n",
       " 26,\n",
       " 16,\n",
       " 5,\n",
       " 35,\n",
       " 3,\n",
       " 20,\n",
       " 18,\n",
       " 4,\n",
       " 1,\n",
       " 27,\n",
       " 7,\n",
       " 28,\n",
       " 15,\n",
       " 19,\n",
       " 13,\n",
       " 38,\n",
       " 32,\n",
       " 34,\n",
       " 8]"
      ]
     },
     "execution_count": 35,
     "metadata": {},
     "output_type": "execute_result"
    }
   ],
   "source": [
    "neighbors = idx.reshape(-1).tolist()\n",
    "neighbors"
   ]
  },
  {
   "cell_type": "code",
   "execution_count": null,
   "metadata": {},
   "outputs": [
    {
     "data": {
      "text/plain": [
       "array([[4.26155240e-01, 6.15384615e-01],\n",
       "       [3.58703312e-01, 6.15384615e-01],\n",
       "       [4.46290144e-01, 6.37820513e-01],\n",
       "       [3.85885432e-01, 6.47435897e-01],\n",
       "       [4.46290144e-01, 6.47435897e-01],\n",
       "       [3.35548173e-01, 5.35256410e-01],\n",
       "       [4.96627404e-01, 6.37820513e-01],\n",
       "       [4.71458774e-01, 6.79487179e-01],\n",
       "       [2.85210913e-01, 5.28846154e-01],\n",
       "       [4.96627404e-01, 6.79487179e-01],\n",
       "       [4.96627404e-01, 6.95512821e-01],\n",
       "       [3.35548173e-01, 7.11538462e-01],\n",
       "       [5.97301923e-01, 7.11538462e-01],\n",
       "       [5.72133293e-01, 7.75641026e-01],\n",
       "       [6.07369375e-01, 7.59615385e-01],\n",
       "       [6.17436827e-01, 7.91666667e-01],\n",
       "       [6.47639183e-01, 7.59615385e-01],\n",
       "       [6.97976442e-01, 7.43589744e-01],\n",
       "       [6.82875264e-01, 7.75641026e-01],\n",
       "       [6.77841538e-01, 8.07692308e-01],\n",
       "       [6.97976442e-01, 8.07692308e-01],\n",
       "       [7.18111346e-01, 8.07692308e-01],\n",
       "       [1.32890365e-02, 1.66666667e-01],\n",
       "       [9.19460385e-01, 9.19871795e-01],\n",
       "       [5.53709856e-03, 1.02564103e-01],\n",
       "       [6.74519279e-03, 8.33333333e-02],\n",
       "       [9.24494111e-01, 9.51923077e-01],\n",
       "       [9.54696466e-01, 9.19871795e-01],\n",
       "       [3.12091010e-03, 7.05128205e-02],\n",
       "       [3.22158462e-03, 6.41025641e-02],\n",
       "       [1.00000000e+00, 8.71794872e-01],\n",
       "       [2.01349039e-03, 4.80769231e-02],\n",
       "       [3.12091010e-03, 4.48717949e-02],\n",
       "       [3.02023558e-03, 3.84615385e-02],\n",
       "       [3.02023558e-04, 2.56410256e-02],\n",
       "       [9.49662740e-01, 1.00000000e+00],\n",
       "       [8.05396154e-04, 2.24358974e-02],\n",
       "       [9.74831370e-01, 1.00000000e+00],\n",
       "       [0.00000000e+00, 0.00000000e+00]])"
      ]
     },
     "execution_count": 36,
     "metadata": {},
     "output_type": "execute_result"
    }
   ],
   "source": [
    "x_train_Scaler[neighbors]"
   ]
  },
  {
   "cell_type": "code",
   "execution_count": null,
   "metadata": {},
   "outputs": [
    {
     "name": "stdout",
     "output_type": "stream",
     "text": [
      "[[0.40904057 0.57692308]]\n",
      "[4.26155240e-01 3.58703312e-01 4.46290144e-01 3.85885432e-01\n",
      " 4.46290144e-01 3.35548173e-01 4.96627404e-01 4.71458774e-01\n",
      " 2.85210913e-01 4.96627404e-01 4.96627404e-01 3.35548173e-01\n",
      " 5.97301923e-01 5.72133293e-01 6.07369375e-01 6.17436827e-01\n",
      " 6.47639183e-01 6.97976442e-01 6.82875264e-01 6.77841538e-01\n",
      " 6.97976442e-01 7.18111346e-01 1.32890365e-02 9.19460385e-01\n",
      " 5.53709856e-03 6.74519279e-03 9.24494111e-01 9.54696466e-01\n",
      " 3.12091010e-03 3.22158462e-03 1.00000000e+00 2.01349039e-03\n",
      " 3.12091010e-03 3.02023558e-03 3.02023558e-04 9.49662740e-01\n",
      " 8.05396154e-04 9.74831370e-01 0.00000000e+00]\n",
      "[0.61538462 0.61538462 0.63782051 0.6474359  0.6474359  0.53525641\n",
      " 0.63782051 0.67948718 0.52884615 0.67948718 0.69551282 0.71153846\n",
      " 0.71153846 0.77564103 0.75961538 0.79166667 0.75961538 0.74358974\n",
      " 0.77564103 0.80769231 0.80769231 0.80769231 0.16666667 0.91987179\n",
      " 0.1025641  0.08333333 0.95192308 0.91987179 0.07051282 0.06410256\n",
      " 0.87179487 0.04807692 0.04487179 0.03846154 0.02564103 1.\n",
      " 0.0224359  1.         0.        ]\n"
     ]
    }
   ],
   "source": [
    "# >>>>>>>>>>>>>>>>>>>>>>>>>>>>>>>>>>>>>>>>>>>>>>>>>>>>>>>>>>??????????????? 무슨 과정인거지?\n",
    "k_weight = x_train_Scaler[neighbors][:,0]\n",
    "k_length = x_train_Scaler[neighbors][:,1]\n",
    "print(new_data_mmScaled)\n",
    "print(k_weight, k_length, sep='\\n')"
   ]
  },
  {
   "cell_type": "code",
   "execution_count": null,
   "metadata": {},
   "outputs": [
    {
     "data": {
      "text/plain": [
       "(array([0.42615524, 0.61538462]), array([0.35870331, 0.61538462]))"
      ]
     },
     "execution_count": 38,
     "metadata": {},
     "output_type": "execute_result"
    }
   ],
   "source": [
    "x_train_Scaler[neighbors][0], x_train_Scaler[neighbors][1] "
   ]
  },
  {
   "cell_type": "code",
   "execution_count": null,
   "metadata": {},
   "outputs": [
    {
     "data": {
      "text/plain": [
       "(0.4090405718312696, 0.5769230769230771)"
      ]
     },
     "execution_count": 39,
     "metadata": {},
     "output_type": "execute_result"
    }
   ],
   "source": [
    "new_data_mmScaled[0,0], new_data_mmScaled[0,1]"
   ]
  },
  {
   "cell_type": "code",
   "execution_count": null,
   "metadata": {},
   "outputs": [
    {
     "data": {
      "text/plain": [
       "(array([3.85885432e-01, 3.12091010e-03, 2.85210913e-01, 5.53709856e-03,\n",
       "        9.54696466e-01, 1.32890365e-02, 4.46290144e-01, 1.00000000e+00,\n",
       "        0.00000000e+00, 6.97976442e-01, 4.71458774e-01, 6.47639183e-01,\n",
       "        4.96627404e-01, 3.02023558e-04, 6.82875264e-01, 3.12091010e-03,\n",
       "        7.18111346e-01, 3.35548173e-01, 9.24494111e-01, 3.02023558e-03,\n",
       "        6.74519279e-03, 4.46290144e-01, 3.58703312e-01, 6.07369375e-01,\n",
       "        6.77841538e-01, 4.26155240e-01, 6.97976442e-01, 3.22158462e-03,\n",
       "        2.01349039e-03, 4.96627404e-01, 5.72133293e-01, 6.17436827e-01,\n",
       "        8.05396154e-04, 5.97301923e-01, 9.74831370e-01, 9.19460385e-01,\n",
       "        4.96627404e-01, 3.35548173e-01, 9.49662740e-01]),\n",
       " array([0.6474359 , 0.07051282, 0.52884615, 0.1025641 , 0.91987179,\n",
       "        0.16666667, 0.6474359 , 0.87179487, 0.        , 0.74358974,\n",
       "        0.67948718, 0.75961538, 0.69551282, 0.02564103, 0.77564103,\n",
       "        0.04487179, 0.80769231, 0.53525641, 0.95192308, 0.03846154,\n",
       "        0.08333333, 0.63782051, 0.61538462, 0.75961538, 0.80769231,\n",
       "        0.61538462, 0.80769231, 0.06410256, 0.04807692, 0.63782051,\n",
       "        0.77564103, 0.79166667, 0.0224359 , 0.71153846, 1.        ,\n",
       "        0.91987179, 0.67948718, 0.71153846, 1.        ]))"
      ]
     },
     "execution_count": 40,
     "metadata": {},
     "output_type": "execute_result"
    }
   ],
   "source": [
    "x_train_Scaler[:,0], x_train_Scaler[:,1]"
   ]
  },
  {
   "cell_type": "code",
   "execution_count": null,
   "metadata": {},
   "outputs": [
    {
     "data": {
      "image/png": "[encoded data removed]",
      "text/plain": [
       "<Figure size 640x480 with 1 Axes>"
      ]
     },
     "metadata": {},
     "output_type": "display_data"
    }
   ],
   "source": [
    "### 시각화\n",
    "# 도미 빙어 에 대한 시각화 >> 2개 피쳐 weight, length로 도미 빙어 분류 가능함\n",
    "plt.scatter(x_train_Scaler[:,0], x_train_Scaler[:,1]) \n",
    "# plt.scatter(twoDF.loc[35: ,'Weight'], twoDF.loc[35: ,'Length'])\n",
    "plt.plot(new_data_mmScaled[0,0], new_data_mmScaled[0,1], 'c^')\n",
    "plt.scatter(k_weight,k_length)\n",
    "plt.show()"
   ]
  },
  {
   "cell_type": "code",
   "execution_count": null,
   "metadata": {},
   "outputs": [],
   "source": [
    "# 피쳐가 많다고 좋은건 아니다??\n",
    "# 피쳐 스케일링 무조건하는게 맞지않나? 알맞는 알고리즘을 찾던지 뭘하던지 할라면\n",
    "    # >>> 스케일링을 안했을때가 더 좋을때도 있다 >>> 어떤 스케일링인지 다 해봐야 한다. "
   ]
  }
 ],
 "metadata": {
  "kernelspec": {
   "display_name": "ML_38",
   "language": "python",
   "name": "python3"
  },
  "language_info": {
   "codemirror_mode": {
    "name": "ipython",
    "version": 3
   },
   "file_extension": ".py",
   "mimetype": "text/x-python",
   "name": "python",
   "nbconvert_exporter": "python",
   "pygments_lexer": "ipython3",
   "version": "3.8.19"
  }
 },
 "nbformat": 4,
 "nbformat_minor": 2
}
