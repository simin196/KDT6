{
 "cells": [
  {
   "cell_type": "markdown",
   "metadata": {},
   "source": [
    "### 알파벳 기반 언어 식별 모델\n",
    "- 데이터셋 : lang.zip사용해서 생성 > csv, json, ...\n",
    "    + 각 언어마다 train 10개씩\n",
    "    + 검증 >> 기사같은거 쭉 가져와 판별\n",
    "- 학습 방법 : 지도학습 > 분류 - 다중학습\n",
    "- 알고리즘 : 다양하게 그 중에서 점수 젤 높은걸로\n",
    "\n",
    "##### 언어\n",
    "- 알파벳을 사용하는 언어들은 사용하는 알파벳의 빈도가 다름\n",
    "- 언어별 알파벳 빈도에 따라서 언어 식별 가능\n",
    "\n",
    "##### 데이터셋 \n",
    "- 언어 : 영어(en), 프랑스어(fr), 인도네시아어(id), 타칼로그어(tr)\n",
    "- lang.zip \n",
    "- train => 나라명-숫자.txt ( en-1.txt ! en-5.txt )\n",
    "- test  => 나라명-숫자.txt ( en-1.txt ! en-5.txt )"
   ]
  },
  {
   "cell_type": "markdown",
   "metadata": {},
   "source": [
    "### \n",
    "- 파일 읽어오는것 os모듈을 사용\n",
    "- 텍스트 안에 알파벳의 빈도 수를 가지고와서   \n",
    "파일명이 라벨\n",
    "1. 안에 텍스트에 알파벳 빼고는 다 벼려야\n",
    "2. 대소문자 통일\n",
    "3. 알파벳 몇개 있는지 \n",
    "4. 피쳐 ㄱ"
   ]
  },
  {
   "cell_type": "markdown",
   "metadata": {},
   "source": [
    "[1] 모듈 로딩 및 데이터 준비"
   ]
  },
  {
   "cell_type": "code",
   "execution_count": 19,
   "metadata": {},
   "outputs": [],
   "source": [
    "# 모듈 로딩\n",
    "import pandas as pd\n",
    "import numpy as np\n",
    "import os"
   ]
  },
  {
   "cell_type": "code",
   "execution_count": 20,
   "metadata": {},
   "outputs": [
    {
     "data": {
      "text/plain": [
       "Counter({'a': 7, 'b': 5, 'c': 4})"
      ]
     },
     "execution_count": 20,
     "metadata": {},
     "output_type": "execute_result"
    }
   ],
   "source": [
    "from collections import Counter # 파이썬의 표준 패키지\n",
    "\n",
    "Counter('abcabcabaababcac')"
   ]
  },
  {
   "cell_type": "code",
   "execution_count": 21,
   "metadata": {},
   "outputs": [],
   "source": [
    "# 데이터 파일\n",
    "Train_Path = '../data/lang/train/'\n",
    "test_path = '../data/lang/test/'\n",
    "\n",
    "Train_CSV = '../data/lang_train.csv'\n",
    "test_CSV = '../data/lang_test.csv'"
   ]
  },
  {
   "cell_type": "code",
   "execution_count": 22,
   "metadata": {},
   "outputs": [
    {
     "name": "stdout",
     "output_type": "stream",
     "text": [
      "../data/lang_train.csv 파일이 없습니다.\n"
     ]
    }
   ],
   "source": [
    "# 파일 읽기 =>>> open() -> read()기본(그냥 읽기), readline()(한줄읽기), readlines()(전체읽기) => close()\n",
    "#           => with open()as 구문\n",
    "# 파일 읽을때는 있는지 없는지 먼저 판별\n",
    "\n",
    "if not os.path.exists(Train_CSV):     # os.path.exists(Train_CSV) > 있으면 True 없으면 False\n",
    "    print(f'{Train_CSV} 파일이 없습니다.')\n",
    "else:\n",
    "    with open(Train_CSV, mode='r') as f: # as하면 자동으로 close해준다\n",
    "        alldata =f.read()\n",
    "        print(f'[File Data] {alldata}')"
   ]
  },
  {
   "cell_type": "code",
   "execution_count": 47,
   "metadata": {},
   "outputs": [
    {
     "name": "stdout",
     "output_type": "stream",
     "text": [
      "en-1.txt ../data/lang/train/en-1.txt True\n",
      "Label => en\n",
      "alldata => 5358\n",
      "alldata => 4595\n",
      "count_data =>  Counter({'e': 484, 'o': 412, 't': 370, 'r': 357, 'n': 356, 'a': 349, 'i': 340, 's': 282, 'l': 247, 'd': 212, 'c': 210, 'h': 201, 'm': 121, 'u': 119, 'y': 92, 'g': 88, 'p': 76, 'f': 72, 'w': 65, 'b': 59, 'v': 45, 'k': 25, 'j': 8, 'x': 3, 'z': 2})\n"
     ]
    },
    {
     "ename": "TypeError",
     "evalue": "write() takes no keyword arguments",
     "output_type": "error",
     "traceback": [
      "\u001b[1;31m---------------------------------------------------------------------------\u001b[0m",
      "\u001b[1;31mTypeError\u001b[0m                                 Traceback (most recent call last)",
      "Cell \u001b[1;32mIn[47], line 41\u001b[0m\n\u001b[0;32m     38\u001b[0m \u001b[38;5;28;01mwith\u001b[39;00m \u001b[38;5;28mopen\u001b[39m(Train_CSV, mode\u001b[38;5;241m=\u001b[39m\u001b[38;5;124m'\u001b[39m\u001b[38;5;124ma\u001b[39m\u001b[38;5;124m'\u001b[39m) \u001b[38;5;28;01mas\u001b[39;00m f:\n\u001b[0;32m     39\u001b[0m     \u001b[38;5;66;03m# # a ~ z 개수 카운팅\u001b[39;00m\n\u001b[0;32m     40\u001b[0m     cc \u001b[38;5;241m=\u001b[39m \u001b[38;5;28mdict\u001b[39m(Counter(alldata))\n\u001b[1;32m---> 41\u001b[0m     \u001b[43mf\u001b[49m\u001b[38;5;241;43m.\u001b[39;49m\u001b[43mwrite\u001b[49m\u001b[43m(\u001b[49m\u001b[43mlabel\u001b[49m\u001b[43m \u001b[49m\u001b[38;5;241;43m=\u001b[39;49m\u001b[43m \u001b[49m\u001b[38;5;124;43m'\u001b[39;49m\u001b[38;5;124;43m,\u001b[39;49m\u001b[38;5;124;43m'\u001b[39;49m\u001b[43m)\u001b[49m\n\u001b[0;32m     42\u001b[0m     f\u001b[38;5;241m.\u001b[39mwrite(\u001b[38;5;124m'\u001b[39m\u001b[38;5;124m,\u001b[39m\u001b[38;5;124m'\u001b[39m\u001b[38;5;241m.\u001b[39mjoin([\u001b[38;5;28mstr\u001b[39m(value) \u001b[38;5;28;01mfor\u001b[39;00m value \u001b[38;5;129;01min\u001b[39;00m cc\u001b[38;5;241m.\u001b[39mvalues()])\u001b[38;5;241m+\u001b[39m \u001b[38;5;124m'\u001b[39m\u001b[38;5;130;01m\\n\u001b[39;00m\u001b[38;5;124m'\u001b[39m)\n\u001b[0;32m     44\u001b[0m \u001b[38;5;28;01mbreak\u001b[39;00m\n",
      "\u001b[1;31mTypeError\u001b[0m: write() takes no keyword arguments"
     ]
    }
   ],
   "source": [
    "# 폴더 안에 파일 및 폴더 가져오기\n",
    "files= os.listdir(Train_Path)\n",
    "\n",
    "for file in files:\n",
    "    print(file, Train_Path+file, os.path.exists(Train_Path+file))\n",
    "    label = file[:2]\n",
    "    print(f'Label => {label}')\n",
    "    \n",
    "    with open(Train_Path+file, mode='r') as f:\n",
    "        alldata = f.read() # 지금 alldata는 문자열\n",
    "    \n",
    "    # 대소문자 통일\n",
    "    alldata = alldata.lower()\n",
    "    # print(f'alldata => {alldata}')\n",
    "\n",
    "    # 알파벳 아닌 문자들 제거\n",
    "    alldata = alldata.replace('\\n', '')\n",
    "    print(f'alldata => {len(alldata)}')\n",
    "\n",
    "    for ch in alldata:\n",
    "        if ord('a') > ord(ch) or ord(ch) > ord('z'):\n",
    "            alldata = alldata.replace(ch, '')\n",
    "    print(f'alldata => {len(alldata)}')\n",
    "\n",
    "    # # a ~ z 개수 카운팅\n",
    "    count_data = Counter(alldata)\n",
    "    print('count_data => ', count_data)\n",
    "\n",
    "    # # Counter를 안 쓰면\n",
    "    # data = {}\n",
    "    # for ch in alldata:\n",
    "    #     if ch in data:\n",
    "    #         data[ch] = data[ch]+1\n",
    "    #     else:\n",
    "    #         data[ch] =1\n",
    "    # print(data)\n",
    "\n",
    "    with open(Train_CSV, mode='a') as f:\n",
    "        # # a ~ z 개수 카운팅\n",
    "        cc = dict(Counter(alldata))\n",
    "        f.write(label = ',')\n",
    "        f.write(','.join([str(value) for value in cc.values()])+ '\\n')\n",
    "\n",
    "    break\n"
   ]
  },
  {
   "cell_type": "code",
   "execution_count": 41,
   "metadata": {},
   "outputs": [],
   "source": [
    "# 파일 쓰기 => mode = 'w' : 파일이 존재하면 덮어쓰기, 파일이 없으면 생성 후 쓰기\n",
    "#             mode = 'a' : 파일이 존재하면 추가하기, 파일이 없으면 생성 후 쓰기\n",
    "with open('../data/lang_train_test.csv', mode='r') as f:\n",
    "    with open('kkk.csv', mode='a') as wf:\n",
    "        data =f.read()\n",
    "        wf.write(data)\n"
   ]
  },
  {
   "cell_type": "code",
   "execution_count": null,
   "metadata": {},
   "outputs": [],
   "source": [
    "# 함수로 제작\n",
    "\n",
    "def make_dataset(dir_path, file_path):\n",
    "\n",
    "    files= os.listdir(Train_Path)\n",
    "\n",
    "    for file in files:\n",
    "        print(file, Train_Path+file, os.path.exists(Train_Path+file))\n",
    "        label = file[:2]\n",
    "        print(f'Label => {label}')\n",
    "        \n",
    "        with open(Train_Path+file, mode='r') as f:\n",
    "            alldata = f.read() # 지금 alldata는 문자열\n",
    "        \n",
    "        # 대소문자 통일\n",
    "        alldata = alldata.lower()\n",
    "        # print(f'alldata => {alldata}')\n",
    "\n",
    "        # 알파벳 아닌 문자들 제거\n",
    "        alldata = alldata.replace('\\n', '')\n",
    "        print(f'alldata => {len(alldata)}')\n",
    "\n",
    "        for ch in alldata:\n",
    "            if ord('a') > ord(ch) or ord(ch) > ord('z'):\n",
    "                alldata = alldata.replace(ch, '')\n",
    "        print(f'alldata => {len(alldata)}')\n",
    "\n",
    "        # # a ~ z 개수 카운팅\n",
    "        count_data = Counter(alldata)\n",
    "        print('count_data => ', count_data)\n",
    "\n",
    "        # # Counter를 안 쓰면\n",
    "        # data = {}\n",
    "        # for ch in alldata:\n",
    "        #     if ch in data:\n",
    "        #         data[ch] = data[ch]+1\n",
    "        #     else:\n",
    "        #         data[ch] =1\n",
    "        # print(data)\n",
    "\n",
    "        with open(Train_CSV, mode='a') as f:\n",
    "            # # a ~ z 개수 카운팅 ==> 정렬, 전체 단어수 나누기\n",
    "            cc = dict(Counter(alldata))\n",
    "            f.write(label = ',')\n",
    "            f.write(','.join([str(value) for value in cc.values()])+ '\\n')\n",
    "\n",
    "        break"
   ]
  }
 ],
 "metadata": {
  "kernelspec": {
   "display_name": "ML_38",
   "language": "python",
   "name": "python3"
  },
  "language_info": {
   "codemirror_mode": {
    "name": "ipython",
    "version": 3
   },
   "file_extension": ".py",
   "mimetype": "text/x-python",
   "name": "python",
   "nbconvert_exporter": "python",
   "pygments_lexer": "ipython3",
   "version": "3.8.19"
  }
 },
 "nbformat": 4,
 "nbformat_minor": 2
}
