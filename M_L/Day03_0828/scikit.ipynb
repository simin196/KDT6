{
 "cells": [
  {
   "cell_type": "code",
   "execution_count": 1,
   "metadata": {},
   "outputs": [
    {
     "data": {
      "text/plain": [
       "'\\n<알고리즘>\\n객체 / 인스턴스  = 클래스명()\\nfit(2D, 1D정답[비지도는 이게 없음])                                                             <스케일러>\\nfit()(매서드) >> 학습 진행 > 알고리즘에 마다 학습 과정 다름                                 >>>> 스케일러도 같냐??\\n                                                                                            fit(2D 수치 피쳐)\\n                                                                                                    >> 수치 값 범위 설정을 위한 준비\\n                                                                                                        데이터 기반의 수치 계산 값\\n                                                                                            transform() >> 변환\\n'"
      ]
     },
     "execution_count": 1,
     "metadata": {},
     "output_type": "execute_result"
    }
   ],
   "source": [
    "# scikit-learn 패키지\n",
    "\n",
    "'''\n",
    "- 알고리즘 >> 학습 모델             (클래스)\n",
    "- 스케일러/인코딩 >> 전처리 기능    (클래스)\n",
    "'''\n",
    "\n",
    "# 객체 인스턴스로 만들어야하는데\n",
    "\n",
    "'''\n",
    "<알고리즘>                                                                                     \n",
    "객체 / 인스턴스  = 클래스명()\n",
    "fit(2D, 1D정답[비지도는 이게 없음])                                                             <스케일러>\n",
    "fit()(매서드) >> 학습 진행 > 알고리즘에 마다 학습 과정 다름                                 >>>> 스케일러도 같냐??\n",
    "                                                                                            fit(2D 수치 피쳐)\n",
    "                                                                                                >> 수치 값 범위 설정을 위한 준비\n",
    "                                                                                                   데이터 기반의 수치 계산 값\n",
    "                                                                                            transform() >> 변환\n",
    "'''"
   ]
  },
  {
   "cell_type": "markdown",
   "metadata": {},
   "source": [
    "fit()한건 식을 만든거고   \n",
    "transfrom()을 해야 적용"
   ]
  },
  {
   "cell_type": "code",
   "execution_count": null,
   "metadata": {},
   "outputs": [],
   "source": [
    "from sklearn.preprocessing import *\n",
    "\n",
    "# 이렇게 한 list에 스케일링 방법들을 담아서 for문으로 돌려 어떤 방법이 좋은지 봐야한다.\n",
    " # >> 추가적으로 스케일링 진행하지 않은 자료들도 진행해봐야한다 > 스케일했다고 무조건 정확도가 높은게 아님\n",
    "scalers = [StandardScaler(),MinMaxScaler(),RobustScaler(),MaxAbsScaler()]\n"
   ]
  }
 ],
 "metadata": {
  "kernelspec": {
   "display_name": "ML_38",
   "language": "python",
   "name": "python3"
  },
  "language_info": {
   "codemirror_mode": {
    "name": "ipython",
    "version": 3
   },
   "file_extension": ".py",
   "mimetype": "text/x-python",
   "name": "python",
   "nbconvert_exporter": "python",
   "pygments_lexer": "ipython3",
   "version": "3.8.19"
  }
 },
 "nbformat": 4,
 "nbformat_minor": 2
}
