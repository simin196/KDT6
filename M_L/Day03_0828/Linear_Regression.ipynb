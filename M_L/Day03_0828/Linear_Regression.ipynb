{
 "cells": [
  {
   "cell_type": "markdown",
   "metadata": {},
   "source": [
    "문제 : 공부 시간과 점수   \n",
    "{1H:5},{3H:15},{4H:20},{5H:25},{7H:35}"
   ]
  },
  {
   "cell_type": "markdown",
   "metadata": {},
   "source": [
    "- 데이터 : 전세계에 중고등학생 대상으로 추출 한 데이터 (이야~~)  \n",
    "- 규칙/패턴 >  시간당 5점 확보 ====> 컴터 >> 숫자 사용한 수치 공식"
   ]
  },
  {
   "cell_type": "markdown",
   "metadata": {},
   "source": [
    "예상 :   \n",
    "6시간 공부하면? - 아마 30점    \n",
    "2시간 공부하면? - 아마 10점    \n",
    "9시간 공부하면? - 아마 45점   "
   ]
  },
  {
   "cell_type": "markdown",
   "metadata": {},
   "source": [
    "- 근데 그래프를 그리면?(시각화)\n",
    "\n",
    "데이터가 선형을 이루고있고\n",
    "빈 값들을 규칙을 찾아 확인해볼수있다\n",
    "\n",
    " >> 우린 데이터들의 선형의 조건을 띄고있는 직선(1차함수)를 찾아야한다.   \n",
    "                                             y=ax+b    \n",
    " >> 많은 데이터 만족하는 직선을 찾고\n",
    " >>>> 선형 회귀\n"
   ]
  },
  {
   "cell_type": "markdown",
   "metadata": {},
   "source": [
    "잔차 - 모집단에서 표본을 뽑아 모집단에 적용했을시 발생한 차이   \n",
    "오차 - 표본에서 적용했을시 발생한 차이"
   ]
  },
  {
   "cell_type": "markdown",
   "metadata": {},
   "source": [
    "선형 회귀 \n",
    "\n",
    "- 최적의 a와 b를 찾아야한다.    \n",
    "a : 기울기가 작아도 오차가 늘어나고 늘어도 오차가 늘어난다.   \n",
    "b : 기울기가 작아도 오차가 늘어나고 늘어도 오차가 늘어난다.    \n",
    "적절한 ab를 찾아야한다. 찾는 과정  => '최적화' "
   ]
  },
  {
   "cell_type": "markdown",
   "metadata": {},
   "source": []
  }
 ],
 "metadata": {
  "kernelspec": {
   "display_name": "ML_38",
   "language": "python",
   "name": "python3"
  },
  "language_info": {
   "name": "python",
   "version": "3.8.19"
  }
 },
 "nbformat": 4,
 "nbformat_minor": 2
}
